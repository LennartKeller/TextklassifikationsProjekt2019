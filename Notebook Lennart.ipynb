{
 "cells": [
  {
   "cell_type": "markdown",
   "metadata": {},
   "source": [
    "# Einlesen der Daten"
   ]
  },
  {
   "cell_type": "code",
   "execution_count": 163,
   "metadata": {},
   "outputs": [
    {
     "data": {
      "text/plain": [
       "(629, 9)"
      ]
     },
     "execution_count": 163,
     "metadata": {},
     "output_type": "execute_result"
    }
   ],
   "source": [
    "import pandas as pd\n",
    "from sklearn.utils import shuffle\n",
    "\n",
    "df = pd.read_csv('tagged_dataset.csv', encoding='UTF-8').dropna()\n",
    "df = df[~df['genre'].isin(['NEWS-P4'])]  # remove invalid genre (only one document)\n",
    "df = shuffle(df, random_state=42)\n",
    "#df['n_chars'] = df.tokens.apply(lambda x: len(x.split())) \n",
    "df.shape"
   ]
  },
  {
   "cell_type": "code",
   "execution_count": 164,
   "metadata": {},
   "outputs": [
    {
     "data": {
      "text/html": [
       "<div>\n",
       "<style scoped>\n",
       "    .dataframe tbody tr th:only-of-type {\n",
       "        vertical-align: middle;\n",
       "    }\n",
       "\n",
       "    .dataframe tbody tr th {\n",
       "        vertical-align: top;\n",
       "    }\n",
       "\n",
       "    .dataframe thead th {\n",
       "        text-align: right;\n",
       "    }\n",
       "</style>\n",
       "<table border=\"1\" class=\"dataframe\">\n",
       "  <thead>\n",
       "    <tr style=\"text-align: right;\">\n",
       "      <th></th>\n",
       "      <th>Unnamed: 0</th>\n",
       "      <th>genre</th>\n",
       "      <th>lemmas</th>\n",
       "      <th>period</th>\n",
       "      <th>pos_tags</th>\n",
       "      <th>region</th>\n",
       "      <th>title</th>\n",
       "      <th>tokens</th>\n",
       "      <th>year</th>\n",
       "    </tr>\n",
       "  </thead>\n",
       "  <tbody>\n",
       "    <tr>\n",
       "      <th>500</th>\n",
       "      <td>500</td>\n",
       "      <td>NEWS</td>\n",
       "      <td>Aufforderung an die Herr Pfarrer und Schullehr...</td>\n",
       "      <td>P4</td>\n",
       "      <td>NN APPR ART NN NN KON NN $. PPER $, PRELS ART ...</td>\n",
       "      <td>OOD</td>\n",
       "      <td>Badisches</td>\n",
       "      <td>Aufforderung an die Herrn Pfarrer und Schulleh...</td>\n",
       "      <td>1832</td>\n",
       "    </tr>\n",
       "    <tr>\n",
       "      <th>248</th>\n",
       "      <td>248</td>\n",
       "      <td>SERM</td>\n",
       "      <td>so , mein Zuhörer , haben wir dies Augenblick ...</td>\n",
       "      <td>P5</td>\n",
       "      <td>ADV $, PPOSAT NN $, VAFIN PPER PDAT NN APPR AR...</td>\n",
       "      <td>NoD</td>\n",
       "      <td>Sonntag</td>\n",
       "      <td>So , meine Zuhörer , haben wir diesen Augenbli...</td>\n",
       "      <td>1861</td>\n",
       "    </tr>\n",
       "    <tr>\n",
       "      <th>557</th>\n",
       "      <td>557</td>\n",
       "      <td>NEWS</td>\n",
       "      <td>Breslau von+die @card@ . Januar . gestern sein...</td>\n",
       "      <td>P4</td>\n",
       "      <td>NE APPRART CARD $. NN $. ADV VAFIN APPRART NN ...</td>\n",
       "      <td>OMD</td>\n",
       "      <td>Neue</td>\n",
       "      <td>Breslau vom 19 . Januar . Gestern war zur Feie...</td>\n",
       "      <td>1821</td>\n",
       "    </tr>\n",
       "    <tr>\n",
       "      <th>217</th>\n",
       "      <td>217</td>\n",
       "      <td>SERM</td>\n",
       "      <td>eine höchst bedeutungsvoll Fest sein es , mein...</td>\n",
       "      <td>P5</td>\n",
       "      <td>ART ADV ADJA NN VAFIN PPER $, PPOSAT NN $, PRE...</td>\n",
       "      <td>NoD</td>\n",
       "      <td>Gegenwärtige</td>\n",
       "      <td>Ein höchst bedeutungsvolles Fest ist es , mein...</td>\n",
       "      <td>1853</td>\n",
       "    </tr>\n",
       "    <tr>\n",
       "      <th>538</th>\n",
       "      <td>538</td>\n",
       "      <td>LEGA</td>\n",
       "      <td>die Polizei = Verordnung für Berlin . systemat...</td>\n",
       "      <td>P4</td>\n",
       "      <td>ART NN $( NN APPR NE $. ADJD VVPP APPR NE NE $...</td>\n",
       "      <td>NoD</td>\n",
       "      <td>DiePolizei=VerordnungfürBerlin</td>\n",
       "      <td>Die Polizei = Verordnungen für Berlin . System...</td>\n",
       "      <td>1850</td>\n",
       "    </tr>\n",
       "  </tbody>\n",
       "</table>\n",
       "</div>"
      ],
      "text/plain": [
       "     Unnamed: 0 genre                                             lemmas  \\\n",
       "500         500  NEWS  Aufforderung an die Herr Pfarrer und Schullehr...   \n",
       "248         248  SERM  so , mein Zuhörer , haben wir dies Augenblick ...   \n",
       "557         557  NEWS  Breslau von+die @card@ . Januar . gestern sein...   \n",
       "217         217  SERM  eine höchst bedeutungsvoll Fest sein es , mein...   \n",
       "538         538  LEGA  die Polizei = Verordnung für Berlin . systemat...   \n",
       "\n",
       "    period                                           pos_tags region  \\\n",
       "500     P4  NN APPR ART NN NN KON NN $. PPER $, PRELS ART ...    OOD   \n",
       "248     P5  ADV $, PPOSAT NN $, VAFIN PPER PDAT NN APPR AR...    NoD   \n",
       "557     P4  NE APPRART CARD $. NN $. ADV VAFIN APPRART NN ...    OMD   \n",
       "217     P5  ART ADV ADJA NN VAFIN PPER $, PPOSAT NN $, PRE...    NoD   \n",
       "538     P4  ART NN $( NN APPR NE $. ADJD VVPP APPR NE NE $...    NoD   \n",
       "\n",
       "                               title  \\\n",
       "500                        Badisches   \n",
       "248                          Sonntag   \n",
       "557                             Neue   \n",
       "217                    Gegenwärtige   \n",
       "538  DiePolizei=VerordnungfürBerlin   \n",
       "\n",
       "                                                tokens  year  \n",
       "500  Aufforderung an die Herrn Pfarrer und Schulleh...  1832  \n",
       "248  So , meine Zuhörer , haben wir diesen Augenbli...  1861  \n",
       "557  Breslau vom 19 . Januar . Gestern war zur Feie...  1821  \n",
       "217  Ein höchst bedeutungsvolles Fest ist es , mein...  1853  \n",
       "538  Die Polizei = Verordnungen für Berlin . System...  1850  "
      ]
     },
     "execution_count": 164,
     "metadata": {},
     "output_type": "execute_result"
    }
   ],
   "source": [
    "df.head()"
   ]
  },
  {
   "cell_type": "markdown",
   "metadata": {},
   "source": [
    "# Trennen von Trainings- und Testdaten"
   ]
  },
  {
   "cell_type": "code",
   "execution_count": 165,
   "metadata": {},
   "outputs": [],
   "source": [
    "from sklearn.model_selection import train_test_split\n",
    "\n",
    "df_train, df_test = train_test_split(df, random_state=42, test_size=0.2)"
   ]
  },
  {
   "cell_type": "markdown",
   "metadata": {},
   "source": [
    "# Feature Extraction"
   ]
  },
  {
   "cell_type": "code",
   "execution_count": 209,
   "metadata": {},
   "outputs": [],
   "source": [
    "import numpy as np\n",
    "from sklearn.feature_extraction.text import CountVectorizer, TfidfVectorizer\n",
    "from scipy.sparse import hstack\n",
    "from stop_words import get_stop_words\n",
    "\n",
    "# tfidf values for tokens (n_grams)\n",
    "cv_token = TfidfVectorizer(max_features=6000, stop_words=get_stop_words('de'))\n",
    "X_token_train = cv_token.fit_transform(df_train.tokens)\n",
    "X_token_test = cv_token.transform(df_test.tokens)\n",
    "\n",
    "# tfidf values for lemmas (n_grams)\n",
    "cv_lemma = TfidfVectorizer(max_features=6000, stop_words=get_stop_words('de'))\n",
    "X_lemma_train = cv_lemma.fit_transform(df_train.lemmas)\n",
    "X_lemma_test = cv_lemma.transform(df_test.lemmas)\n",
    "\n",
    "# Only count pos tags\n",
    "cv_pos = CountVectorizer()\n",
    "X_pos_train = cv_pos.fit_transform(df_train.pos_tags)\n",
    "X_pos_test = cv_pos.transform(df_test.pos_tags)\n",
    "\n",
    "# Concatenate features horizontally\n",
    "features = np.hstack([\n",
    "    np.array(list(cv_token.vocabulary_.keys())),\n",
    "    #np.array(list(cv_lemma.vocabulary_.keys())),\n",
    "    #np.array(list(cv_pos.vocabulary_.keys()))\n",
    "])\n",
    "\n",
    "X_train = hstack([\n",
    "    X_token_train,\n",
    "    #X_lemma_train,\n",
    "    #X_pos_train\n",
    "])\n",
    "X_test = hstack([\n",
    "    X_token_test,\n",
    "    #X_lemma_test,\n",
    "    #X_pos_test\n",
    "])"
   ]
  },
  {
   "cell_type": "code",
   "execution_count": 210,
   "metadata": {},
   "outputs": [],
   "source": [
    "#train_lemma_pos = []\n",
    "#for index, row in df_train.iterrows():\n",
    "#    sample_lemma_pos = []\n",
    "#    for lemma, pos in zip(row.tokens, row.pos_tags):\n",
    "#        sample_lemma_pos.append(\"_\".join((lemma, pos)))\n",
    "#    train_lemma_pos.append(\" \".join(sample_lemma_pos))\n",
    "#\n",
    "#test_lemma_pos = []\n",
    "#for index, row in df_test.iterrows():\n",
    "#    sample_lemma_pos = []\n",
    "#    for lemma, pos in zip(row.tokens, row.pos_tags):\n",
    "#        sample_lemma_pos.append(\"_\".join((lemma, pos)))\n",
    "#    test_lemma_pos.append(\" \".join(sample_lemma_pos))\n",
    "#\n",
    "#merged_cv = TfidfVectorizer()\n",
    "#X_train = merged_cv.fit_transform(train_lemma_pos)\n",
    "#X_test = merged_cv.transform(test_lemma_pos)"
   ]
  },
  {
   "cell_type": "code",
   "execution_count": 211,
   "metadata": {},
   "outputs": [],
   "source": [
    "y_train = df_train.genre\n",
    "y_test = df_test.genre"
   ]
  },
  {
   "cell_type": "code",
   "execution_count": 212,
   "metadata": {},
   "outputs": [
    {
     "data": {
      "text/plain": [
       "(6000,)"
      ]
     },
     "execution_count": 212,
     "metadata": {},
     "output_type": "execute_result"
    }
   ],
   "source": [
    "features.shape"
   ]
  },
  {
   "cell_type": "code",
   "execution_count": 213,
   "metadata": {},
   "outputs": [
    {
     "data": {
      "text/plain": [
       "((503, 6000), (503,), (126, 6000), (126,))"
      ]
     },
     "execution_count": 213,
     "metadata": {},
     "output_type": "execute_result"
    }
   ],
   "source": [
    "X_train.shape, y_train.shape, X_test.shape, y_test.shape"
   ]
  },
  {
   "cell_type": "code",
   "execution_count": 214,
   "metadata": {},
   "outputs": [
    {
     "data": {
      "text/plain": [
       "<matplotlib.axes._subplots.AxesSubplot at 0x1a3f592e10>"
      ]
     },
     "execution_count": 214,
     "metadata": {},
     "output_type": "execute_result"
    },
    {
     "data": {
      "image/png": "[encoded data removed]",
      "text/plain": [
       "<Figure size 432x288 with 1 Axes>"
      ]
     },
     "metadata": {
      "needs_background": "light"
     },
     "output_type": "display_data"
    }
   ],
   "source": [
    "df.groupby('genre').genre.count().plot(kind='bar')"
   ]
  },
  {
   "cell_type": "code",
   "execution_count": 215,
   "metadata": {},
   "outputs": [
    {
     "data": {
      "text/plain": [
       "<matplotlib.axes._subplots.AxesSubplot at 0x1a3f5df1d0>"
      ]
     },
     "execution_count": 215,
     "metadata": {},
     "output_type": "execute_result"
    },
    {
     "data": {
      "image/png": "[encoded data removed]",
      "text/plain": [
       "<Figure size 432x288 with 1 Axes>"
      ]
     },
     "metadata": {
      "needs_background": "light"
     },
     "output_type": "display_data"
    }
   ],
   "source": [
    "df.groupby('period').period.count().plot(kind='bar')"
   ]
  },
  {
   "cell_type": "code",
   "execution_count": 216,
   "metadata": {},
   "outputs": [
    {
     "data": {
      "text/plain": [
       "<matplotlib.axes._subplots.AxesSubplot at 0x1a3eb0ced0>"
      ]
     },
     "execution_count": 216,
     "metadata": {},
     "output_type": "execute_result"
    },
    {
     "data": {
      "image/png": "[encoded data removed]",
      "text/plain": [
       "<Figure size 432x288 with 1 Axes>"
      ]
     },
     "metadata": {
      "needs_background": "light"
     },
     "output_type": "display_data"
    }
   ],
   "source": [
    "df.groupby('region').period.count().plot(kind='bar')"
   ]
  },
  {
   "cell_type": "code",
   "execution_count": 217,
   "metadata": {},
   "outputs": [
    {
     "data": {
      "text/plain": [
       "<matplotlib.axes._subplots.AxesSubplot at 0x1a3f542650>"
      ]
     },
     "execution_count": 217,
     "metadata": {},
     "output_type": "execute_result"
    },
    {
     "data": {
      "image/png": "[encoded data removed]",
      "text/plain": [
       "<Figure size 432x288 with 1 Axes>"
      ]
     },
     "metadata": {
      "needs_background": "light"
     },
     "output_type": "display_data"
    }
   ],
   "source": [
    "df.groupby('year').count().title.plot()"
   ]
  },
  {
   "cell_type": "code",
   "execution_count": null,
   "metadata": {},
   "outputs": [],
   "source": []
  },
  {
   "cell_type": "code",
   "execution_count": 221,
   "metadata": {},
   "outputs": [
    {
     "name": "stdout",
     "output_type": "stream",
     "text": [
      "              precision    recall  f1-score   support\n",
      "\n",
      "        DRAM       1.00      0.67      0.80         9\n",
      "        HUMA       1.00      0.39      0.56        18\n",
      "        LEGA       1.00      0.56      0.72        16\n",
      "        NARR       1.00      0.71      0.83         7\n",
      "        NEWS       0.69      1.00      0.82        53\n",
      "        SCIE       1.00      0.92      0.96        13\n",
      "        SERM       0.90      0.90      0.90        10\n",
      "\n",
      "    accuracy                           0.80       126\n",
      "   macro avg       0.94      0.74      0.80       126\n",
      "weighted avg       0.86      0.80      0.79       126\n",
      "\n"
     ]
    },
    {
     "name": "stderr",
     "output_type": "stream",
     "text": [
      "/Users/lennartkeller/anaconda3/envs/nlp/lib/python3.7/site-packages/sklearn/linear_model/logistic.py:432: FutureWarning: Default solver will be changed to 'lbfgs' in 0.22. Specify a solver to silence this warning.\n",
      "  FutureWarning)\n",
      "/Users/lennartkeller/anaconda3/envs/nlp/lib/python3.7/site-packages/sklearn/linear_model/logistic.py:469: FutureWarning: Default multi_class will be changed to 'auto' in 0.22. Specify the multi_class option to silence this warning.\n",
      "  \"this warning.\", FutureWarning)\n"
     ]
    }
   ],
   "source": [
    "from sklearn.linear_model import LogisticRegression\n",
    "\n",
    "logreg = LogisticRegression()\n",
    "logreg.fit(X_train, y_train)\n",
    "y_pred = logreg.predict(X_test)\n",
    "\n",
    "from sklearn.metrics import classification_report\n",
    "print(classification_report(y_test, y_pred))"
   ]
  },
  {
   "cell_type": "code",
   "execution_count": 222,
   "metadata": {},
   "outputs": [
    {
     "name": "stdout",
     "output_type": "stream",
     "text": [
      "              precision    recall  f1-score   support\n",
      "\n",
      "        DRAM       0.00      0.00      0.00         9\n",
      "        HUMA       1.00      0.22      0.36        18\n",
      "        LEGA       1.00      0.06      0.12        16\n",
      "        NARR       0.62      0.71      0.67         7\n",
      "        NEWS       0.58      1.00      0.74        53\n",
      "        SCIE       1.00      0.77      0.87        13\n",
      "        SERM       0.75      0.90      0.82        10\n",
      "\n",
      "    accuracy                           0.65       126\n",
      "   macro avg       0.71      0.52      0.51       126\n",
      "weighted avg       0.71      0.65      0.57       126\n",
      "\n"
     ]
    },
    {
     "name": "stderr",
     "output_type": "stream",
     "text": [
      "/Users/lennartkeller/anaconda3/envs/nlp/lib/python3.7/site-packages/sklearn/metrics/classification.py:1437: UndefinedMetricWarning: Precision and F-score are ill-defined and being set to 0.0 in labels with no predicted samples.\n",
      "  'precision', 'predicted', average, warn_for)\n"
     ]
    }
   ],
   "source": [
    "from sklearn.naive_bayes import MultinomialNB\n",
    "\n",
    "nb = MultinomialNB()\n",
    "nb.fit(X_train, y_train)\n",
    "y_pred = nb.predict(X_test)\n",
    "\n",
    "from sklearn.metrics import classification_report\n",
    "print(classification_report(y_test, y_pred))"
   ]
  },
  {
   "cell_type": "markdown",
   "metadata": {},
   "source": [
    "# Check feature weights of logreg model to get highly correlated features for each class"
   ]
  },
  {
   "cell_type": "code",
   "execution_count": 229,
   "metadata": {},
   "outputs": [
    {
     "name": "stdout",
     "output_type": "stream",
     "text": [
      "Class: DRAM\n",
      "\n",
      "Positive features:\n",
      "gegentheil 1.1168776229109407\n",
      "wohnenden 0.9755407962198327\n",
      "verkauft 0.9754816845430373\n",
      "gärten 0.9084166180292803\n",
      "deutlich 0.7557739263306165\n",
      "juni 0.6822308755795017\n",
      "glocken 0.678349680431095\n",
      "leeren 0.6697304519421372\n",
      "dgl 0.5965612969092163\n",
      "liefern 0.5920875772853826\n",
      "\n",
      "Negative features:\n",
      "erneuerung -0.9240917203850607\n",
      "adler -0.5069061117645597\n",
      "brückenmann -0.46855265554726083\n",
      "blind -0.46056152129935374\n",
      "ernste -0.44745846211374807\n",
      "einfluss -0.4441791436565297\n",
      "stadium -0.40166178375262873\n",
      "versäumt -0.39380103049899684\n",
      "regelmäßig -0.3765781712578054\n",
      "verbrennung -0.3479148362219842\n",
      "\n",
      "########################################\n",
      "\n",
      "Class: HUMA\n",
      "\n",
      "Positive features:\n",
      "pferde 1.2342384586317134\n",
      "thra 1.0511022305047109\n",
      "rz 0.9896629030787194\n",
      "segen 0.8640424184898223\n",
      "atmosphärischen 0.8506647600188473\n",
      "königreich 0.7103007153165192\n",
      "bewundern 0.6977310175785982\n",
      "albert 0.6514678642737588\n",
      "verursacht 0.60291458365507\n",
      "tochter 0.5693112082607985\n",
      "\n",
      "Negative features:\n",
      "bestand -0.5519954308753455\n",
      "stadium -0.48927331139210395\n",
      "treuen -0.43241667219080315\n",
      "blind -0.40165602118329224\n",
      "methode -0.39987516593655803\n",
      "übt -0.3230580079893069\n",
      "eisenbahn -0.295981360776538\n",
      "kohlenstoff -0.2897751056518444\n",
      "fühlt -0.2842769339218757\n",
      "erdbeben -0.2776522889899657\n",
      "\n",
      "########################################\n",
      "\n",
      "Class: LEGA\n",
      "\n",
      "Positive features:\n",
      "ernste 1.6692084047063493\n",
      "bekannten 1.5467211905498577\n",
      "gelegenheiten 1.086885439624567\n",
      "kurz 0.8800206156975946\n",
      "weisheit 0.8108265482885072\n",
      "zornig 0.773085998138937\n",
      "entstandenen 0.7716587492334231\n",
      "wendet 0.7403499246394639\n",
      "ersatz 0.6607615255303355\n",
      "gruß 0.6130644469007882\n",
      "\n",
      "Negative features:\n",
      "erneuerung -0.9045598176176766\n",
      "übt -0.5694289697168436\n",
      "treuen -0.5289016777174432\n",
      "bestand -0.5130809933194967\n",
      "wohnenden -0.45664842159390173\n",
      "regelmäßig -0.43694758219983004\n",
      "anerkannt -0.4258314335946866\n",
      "methode -0.3696939500317263\n",
      "wissenschaftliche -0.3612029778842143\n",
      "brüder -0.35546368898563446\n",
      "\n",
      "########################################\n",
      "\n",
      "Class: NARR\n",
      "\n",
      "Positive features:\n",
      "jezt 1.8441603158119364\n",
      "erdbeben 1.40300129517265\n",
      "erfahren 1.1055885676720534\n",
      "irgendwo 0.9268490060591935\n",
      "london 0.9104057680994428\n",
      "methode 0.9029288553232903\n",
      "anerkennen 0.8203212885995809\n",
      "gefahr 0.8006037774536898\n",
      "bedeutet 0.7509044549556937\n",
      "eisenbahn 0.7309370667669727\n",
      "\n",
      "Negative features:\n",
      "übt -0.40977888375855753\n",
      "treuen -0.39409933761401755\n",
      "blind -0.3213047014615097\n",
      "fühlt -0.32126240587087307\n",
      "stadium -0.31508253446744844\n",
      "gab -0.31046671788111413\n",
      "wohin -0.2961736185827846\n",
      "freilich -0.26691794563975274\n",
      "richtet -0.2651449570079822\n",
      "scharf -0.2624692160519196\n",
      "\n",
      "########################################\n",
      "\n",
      "Class: NEWS\n",
      "\n",
      "Positive features:\n",
      "erneuerung 1.9495786790615721\n",
      "treuen 1.6730382062773475\n",
      "blind 1.6145564789073863\n",
      "fühlt 1.1472747777364811\n",
      "richtet 1.0911533745095838\n",
      "wohin 0.9983243040697868\n",
      "ngt 0.8746181803623484\n",
      "hrt 0.822306532390505\n",
      "bewiesen 0.749620687411567\n",
      "gelegentlich 0.7317695391842005\n",
      "\n",
      "Negative features:\n",
      "übt -1.3784545729513042\n",
      "wohnenden -0.9890650337263183\n",
      "ernste -0.9692993147514259\n",
      "bekannten -0.771326318067021\n",
      "einfluss -0.7594049109928293\n",
      "erdbeben -0.726779364232744\n",
      "jezt -0.7109819179579253\n",
      "gebrauche -0.6792879547226157\n",
      "pra -0.6779244780485676\n",
      "abweichungen -0.6738213482476868\n",
      "\n",
      "########################################\n",
      "\n",
      "Class: SCIE\n",
      "\n",
      "Positive features:\n",
      "zogen 1.2680317771482563\n",
      "bekanntlich 1.1520966068675378\n",
      "begründen 1.055948256016273\n",
      "organe 0.9847247677462012\n",
      "spielte 0.8573190577802807\n",
      "lateinischen 0.8136339176600077\n",
      "sächsischen 0.7761831737731503\n",
      "unterstu 0.7599864688024562\n",
      "johanna 0.7174019497514096\n",
      "verträge 0.6765427218970627\n",
      "\n",
      "Negative features:\n",
      "übt -0.6774271259706446\n",
      "bestand -0.5292866854333688\n",
      "erneuerung -0.5200672015344753\n",
      "treuen -0.47606121563152926\n",
      "stadium -0.44451386291445855\n",
      "blind -0.4377180575840131\n",
      "einfluss -0.39510970565549536\n",
      "ten -0.3938493844171908\n",
      "regelmäßig -0.38322384602716614\n",
      "methode -0.368404904867612\n",
      "\n",
      "########################################\n",
      "\n",
      "Class: SERM\n",
      "\n",
      "Positive features:\n",
      "übt 2.886222623768859\n",
      "einfluss 1.9054381029567318\n",
      "stadium 1.2465688753888309\n",
      "wänden 0.8960644664251078\n",
      "letzte 0.8814217692054082\n",
      "gelehrte 0.8460098781924537\n",
      "wenigstens 0.8340027532640536\n",
      "brüder 0.815164268105326\n",
      "giebt 0.8106659915570863\n",
      "außen 0.79632319418233\n",
      "\n",
      "Negative features:\n",
      "erneuerung -0.5045749965612683\n",
      "methode -0.3955770745396292\n",
      "erdbeben -0.37708880335878764\n",
      "blind -0.3597149339659459\n",
      "treuen -0.3066804206416625\n",
      "dargestellt -0.274047323764623\n",
      "kohlenstoff -0.2472751635064308\n",
      "adler -0.23889262430599525\n",
      "befand -0.23484249473836347\n",
      "stumm -0.2136760940388008\n",
      "\n",
      "########################################\n",
      "\n"
     ]
    }
   ],
   "source": [
    "n = 10\n",
    "for class_ind, class_coef in enumerate(logreg.coef_):\n",
    "    print(f'Class: {logreg.classes_[class_ind]}\\n')\n",
    "    print('Positive features:')\n",
    "    positive_features = np.flip(np.argsort(class_coef)[-n:])\n",
    "    for ind in positive_features:\n",
    "        print(features[ind], class_coef[ind])\n",
    "    print()\n",
    "    print('Negative features:')\n",
    "    negative_features = np.argsort(class_coef)[:n]\n",
    "    for ind in negative_features:\n",
    "        print(features[ind], class_coef[ind])\n",
    "    print()\n",
    "    print(f'{\"#\"*40}\\n')"
   ]
  },
  {
   "cell_type": "code",
   "execution_count": 224,
   "metadata": {},
   "outputs": [
    {
     "ename": "KeyboardInterrupt",
     "evalue": "",
     "output_type": "error",
     "traceback": [
      "\u001b[0;31m---------------------------------------------------------------------------\u001b[0m",
      "\u001b[0;31mKeyboardInterrupt\u001b[0m                         Traceback (most recent call last)",
      "\u001b[0;32m<ipython-input-224-e84c1164b93c>\u001b[0m in \u001b[0;36m<module>\u001b[0;34m\u001b[0m\n\u001b[1;32m     13\u001b[0m )\n\u001b[1;32m     14\u001b[0m \u001b[0;34m\u001b[0m\u001b[0m\n\u001b[0;32m---> 15\u001b[0;31m \u001b[0mgridsearch_linsvm\u001b[0m\u001b[0;34m.\u001b[0m\u001b[0mfit\u001b[0m\u001b[0;34m(\u001b[0m\u001b[0mX_train\u001b[0m\u001b[0;34m,\u001b[0m \u001b[0my_train\u001b[0m\u001b[0;34m)\u001b[0m\u001b[0;34m\u001b[0m\u001b[0;34m\u001b[0m\u001b[0m\n\u001b[0m\u001b[1;32m     16\u001b[0m \u001b[0mgridsearch_linsvm\u001b[0m\u001b[0;34m.\u001b[0m\u001b[0mbest_params_\u001b[0m\u001b[0;34m,\u001b[0m \u001b[0mgridsearch_linsvm\u001b[0m\u001b[0;34m.\u001b[0m\u001b[0mbest_score_\u001b[0m\u001b[0;34m\u001b[0m\u001b[0;34m\u001b[0m\u001b[0m\n",
      "\u001b[0;32m~/anaconda3/envs/nlp/lib/python3.7/site-packages/sklearn/model_selection/_search.py\u001b[0m in \u001b[0;36mfit\u001b[0;34m(self, X, y, groups, **fit_params)\u001b[0m\n\u001b[1;32m    685\u001b[0m                 \u001b[0;32mreturn\u001b[0m \u001b[0mresults\u001b[0m\u001b[0;34m\u001b[0m\u001b[0;34m\u001b[0m\u001b[0m\n\u001b[1;32m    686\u001b[0m \u001b[0;34m\u001b[0m\u001b[0m\n\u001b[0;32m--> 687\u001b[0;31m             \u001b[0mself\u001b[0m\u001b[0;34m.\u001b[0m\u001b[0m_run_search\u001b[0m\u001b[0;34m(\u001b[0m\u001b[0mevaluate_candidates\u001b[0m\u001b[0;34m)\u001b[0m\u001b[0;34m\u001b[0m\u001b[0;34m\u001b[0m\u001b[0m\n\u001b[0m\u001b[1;32m    688\u001b[0m \u001b[0;34m\u001b[0m\u001b[0m\n\u001b[1;32m    689\u001b[0m         \u001b[0;31m# For multi-metric evaluation, store the best_index_, best_params_ and\u001b[0m\u001b[0;34m\u001b[0m\u001b[0;34m\u001b[0m\u001b[0;34m\u001b[0m\u001b[0m\n",
      "\u001b[0;32m~/anaconda3/envs/nlp/lib/python3.7/site-packages/sklearn/model_selection/_search.py\u001b[0m in \u001b[0;36m_run_search\u001b[0;34m(self, evaluate_candidates)\u001b[0m\n\u001b[1;32m   1146\u001b[0m     \u001b[0;32mdef\u001b[0m \u001b[0m_run_search\u001b[0m\u001b[0;34m(\u001b[0m\u001b[0mself\u001b[0m\u001b[0;34m,\u001b[0m \u001b[0mevaluate_candidates\u001b[0m\u001b[0;34m)\u001b[0m\u001b[0;34m:\u001b[0m\u001b[0;34m\u001b[0m\u001b[0;34m\u001b[0m\u001b[0m\n\u001b[1;32m   1147\u001b[0m         \u001b[0;34m\"\"\"Search all candidates in param_grid\"\"\"\u001b[0m\u001b[0;34m\u001b[0m\u001b[0;34m\u001b[0m\u001b[0m\n\u001b[0;32m-> 1148\u001b[0;31m         \u001b[0mevaluate_candidates\u001b[0m\u001b[0;34m(\u001b[0m\u001b[0mParameterGrid\u001b[0m\u001b[0;34m(\u001b[0m\u001b[0mself\u001b[0m\u001b[0;34m.\u001b[0m\u001b[0mparam_grid\u001b[0m\u001b[0;34m)\u001b[0m\u001b[0;34m)\u001b[0m\u001b[0;34m\u001b[0m\u001b[0;34m\u001b[0m\u001b[0m\n\u001b[0m\u001b[1;32m   1149\u001b[0m \u001b[0;34m\u001b[0m\u001b[0m\n\u001b[1;32m   1150\u001b[0m \u001b[0;34m\u001b[0m\u001b[0m\n",
      "\u001b[0;32m~/anaconda3/envs/nlp/lib/python3.7/site-packages/sklearn/model_selection/_search.py\u001b[0m in \u001b[0;36mevaluate_candidates\u001b[0;34m(candidate_params)\u001b[0m\n\u001b[1;32m    664\u001b[0m                                \u001b[0;32mfor\u001b[0m \u001b[0mparameters\u001b[0m\u001b[0;34m,\u001b[0m \u001b[0;34m(\u001b[0m\u001b[0mtrain\u001b[0m\u001b[0;34m,\u001b[0m \u001b[0mtest\u001b[0m\u001b[0;34m)\u001b[0m\u001b[0;34m\u001b[0m\u001b[0;34m\u001b[0m\u001b[0m\n\u001b[1;32m    665\u001b[0m                                in product(candidate_params,\n\u001b[0;32m--> 666\u001b[0;31m                                           cv.split(X, y, groups)))\n\u001b[0m\u001b[1;32m    667\u001b[0m \u001b[0;34m\u001b[0m\u001b[0m\n\u001b[1;32m    668\u001b[0m                 \u001b[0;32mif\u001b[0m \u001b[0mlen\u001b[0m\u001b[0;34m(\u001b[0m\u001b[0mout\u001b[0m\u001b[0;34m)\u001b[0m \u001b[0;34m<\u001b[0m \u001b[0;36m1\u001b[0m\u001b[0;34m:\u001b[0m\u001b[0;34m\u001b[0m\u001b[0;34m\u001b[0m\u001b[0m\n",
      "\u001b[0;32m~/anaconda3/envs/nlp/lib/python3.7/site-packages/joblib/parallel.py\u001b[0m in \u001b[0;36m__call__\u001b[0;34m(self, iterable)\u001b[0m\n\u001b[1;32m    932\u001b[0m \u001b[0;34m\u001b[0m\u001b[0m\n\u001b[1;32m    933\u001b[0m             \u001b[0;32mwith\u001b[0m \u001b[0mself\u001b[0m\u001b[0;34m.\u001b[0m\u001b[0m_backend\u001b[0m\u001b[0;34m.\u001b[0m\u001b[0mretrieval_context\u001b[0m\u001b[0;34m(\u001b[0m\u001b[0;34m)\u001b[0m\u001b[0;34m:\u001b[0m\u001b[0;34m\u001b[0m\u001b[0;34m\u001b[0m\u001b[0m\n\u001b[0;32m--> 934\u001b[0;31m                 \u001b[0mself\u001b[0m\u001b[0;34m.\u001b[0m\u001b[0mretrieve\u001b[0m\u001b[0;34m(\u001b[0m\u001b[0;34m)\u001b[0m\u001b[0;34m\u001b[0m\u001b[0;34m\u001b[0m\u001b[0m\n\u001b[0m\u001b[1;32m    935\u001b[0m             \u001b[0;31m# Make sure that we get a last message telling us we are done\u001b[0m\u001b[0;34m\u001b[0m\u001b[0;34m\u001b[0m\u001b[0;34m\u001b[0m\u001b[0m\n\u001b[1;32m    936\u001b[0m             \u001b[0melapsed_time\u001b[0m \u001b[0;34m=\u001b[0m \u001b[0mtime\u001b[0m\u001b[0;34m.\u001b[0m\u001b[0mtime\u001b[0m\u001b[0;34m(\u001b[0m\u001b[0;34m)\u001b[0m \u001b[0;34m-\u001b[0m \u001b[0mself\u001b[0m\u001b[0;34m.\u001b[0m\u001b[0m_start_time\u001b[0m\u001b[0;34m\u001b[0m\u001b[0;34m\u001b[0m\u001b[0m\n",
      "\u001b[0;32m~/anaconda3/envs/nlp/lib/python3.7/site-packages/joblib/parallel.py\u001b[0m in \u001b[0;36mretrieve\u001b[0;34m(self)\u001b[0m\n\u001b[1;32m    831\u001b[0m             \u001b[0;32mtry\u001b[0m\u001b[0;34m:\u001b[0m\u001b[0;34m\u001b[0m\u001b[0;34m\u001b[0m\u001b[0m\n\u001b[1;32m    832\u001b[0m                 \u001b[0;32mif\u001b[0m \u001b[0mgetattr\u001b[0m\u001b[0;34m(\u001b[0m\u001b[0mself\u001b[0m\u001b[0;34m.\u001b[0m\u001b[0m_backend\u001b[0m\u001b[0;34m,\u001b[0m \u001b[0;34m'supports_timeout'\u001b[0m\u001b[0;34m,\u001b[0m \u001b[0;32mFalse\u001b[0m\u001b[0;34m)\u001b[0m\u001b[0;34m:\u001b[0m\u001b[0;34m\u001b[0m\u001b[0;34m\u001b[0m\u001b[0m\n\u001b[0;32m--> 833\u001b[0;31m                     \u001b[0mself\u001b[0m\u001b[0;34m.\u001b[0m\u001b[0m_output\u001b[0m\u001b[0;34m.\u001b[0m\u001b[0mextend\u001b[0m\u001b[0;34m(\u001b[0m\u001b[0mjob\u001b[0m\u001b[0;34m.\u001b[0m\u001b[0mget\u001b[0m\u001b[0;34m(\u001b[0m\u001b[0mtimeout\u001b[0m\u001b[0;34m=\u001b[0m\u001b[0mself\u001b[0m\u001b[0;34m.\u001b[0m\u001b[0mtimeout\u001b[0m\u001b[0;34m)\u001b[0m\u001b[0;34m)\u001b[0m\u001b[0;34m\u001b[0m\u001b[0;34m\u001b[0m\u001b[0m\n\u001b[0m\u001b[1;32m    834\u001b[0m                 \u001b[0;32melse\u001b[0m\u001b[0;34m:\u001b[0m\u001b[0;34m\u001b[0m\u001b[0;34m\u001b[0m\u001b[0m\n\u001b[1;32m    835\u001b[0m                     \u001b[0mself\u001b[0m\u001b[0;34m.\u001b[0m\u001b[0m_output\u001b[0m\u001b[0;34m.\u001b[0m\u001b[0mextend\u001b[0m\u001b[0;34m(\u001b[0m\u001b[0mjob\u001b[0m\u001b[0;34m.\u001b[0m\u001b[0mget\u001b[0m\u001b[0;34m(\u001b[0m\u001b[0;34m)\u001b[0m\u001b[0;34m)\u001b[0m\u001b[0;34m\u001b[0m\u001b[0;34m\u001b[0m\u001b[0m\n",
      "\u001b[0;32m~/anaconda3/envs/nlp/lib/python3.7/site-packages/joblib/_parallel_backends.py\u001b[0m in \u001b[0;36mwrap_future_result\u001b[0;34m(future, timeout)\u001b[0m\n\u001b[1;32m    519\u001b[0m         AsyncResults.get from multiprocessing.\"\"\"\n\u001b[1;32m    520\u001b[0m         \u001b[0;32mtry\u001b[0m\u001b[0;34m:\u001b[0m\u001b[0;34m\u001b[0m\u001b[0;34m\u001b[0m\u001b[0m\n\u001b[0;32m--> 521\u001b[0;31m             \u001b[0;32mreturn\u001b[0m \u001b[0mfuture\u001b[0m\u001b[0;34m.\u001b[0m\u001b[0mresult\u001b[0m\u001b[0;34m(\u001b[0m\u001b[0mtimeout\u001b[0m\u001b[0;34m=\u001b[0m\u001b[0mtimeout\u001b[0m\u001b[0;34m)\u001b[0m\u001b[0;34m\u001b[0m\u001b[0;34m\u001b[0m\u001b[0m\n\u001b[0m\u001b[1;32m    522\u001b[0m         \u001b[0;32mexcept\u001b[0m \u001b[0mLokyTimeoutError\u001b[0m\u001b[0;34m:\u001b[0m\u001b[0;34m\u001b[0m\u001b[0;34m\u001b[0m\u001b[0m\n\u001b[1;32m    523\u001b[0m             \u001b[0;32mraise\u001b[0m \u001b[0mTimeoutError\u001b[0m\u001b[0;34m(\u001b[0m\u001b[0;34m)\u001b[0m\u001b[0;34m\u001b[0m\u001b[0;34m\u001b[0m\u001b[0m\n",
      "\u001b[0;32m~/anaconda3/envs/nlp/lib/python3.7/concurrent/futures/_base.py\u001b[0m in \u001b[0;36mresult\u001b[0;34m(self, timeout)\u001b[0m\n\u001b[1;32m    428\u001b[0m                 \u001b[0;32mreturn\u001b[0m \u001b[0mself\u001b[0m\u001b[0;34m.\u001b[0m\u001b[0m__get_result\u001b[0m\u001b[0;34m(\u001b[0m\u001b[0;34m)\u001b[0m\u001b[0;34m\u001b[0m\u001b[0;34m\u001b[0m\u001b[0m\n\u001b[1;32m    429\u001b[0m \u001b[0;34m\u001b[0m\u001b[0m\n\u001b[0;32m--> 430\u001b[0;31m             \u001b[0mself\u001b[0m\u001b[0;34m.\u001b[0m\u001b[0m_condition\u001b[0m\u001b[0;34m.\u001b[0m\u001b[0mwait\u001b[0m\u001b[0;34m(\u001b[0m\u001b[0mtimeout\u001b[0m\u001b[0;34m)\u001b[0m\u001b[0;34m\u001b[0m\u001b[0;34m\u001b[0m\u001b[0m\n\u001b[0m\u001b[1;32m    431\u001b[0m \u001b[0;34m\u001b[0m\u001b[0m\n\u001b[1;32m    432\u001b[0m             \u001b[0;32mif\u001b[0m \u001b[0mself\u001b[0m\u001b[0;34m.\u001b[0m\u001b[0m_state\u001b[0m \u001b[0;32min\u001b[0m \u001b[0;34m[\u001b[0m\u001b[0mCANCELLED\u001b[0m\u001b[0;34m,\u001b[0m \u001b[0mCANCELLED_AND_NOTIFIED\u001b[0m\u001b[0;34m]\u001b[0m\u001b[0;34m:\u001b[0m\u001b[0;34m\u001b[0m\u001b[0;34m\u001b[0m\u001b[0m\n",
      "\u001b[0;32m~/anaconda3/envs/nlp/lib/python3.7/threading.py\u001b[0m in \u001b[0;36mwait\u001b[0;34m(self, timeout)\u001b[0m\n\u001b[1;32m    294\u001b[0m         \u001b[0;32mtry\u001b[0m\u001b[0;34m:\u001b[0m    \u001b[0;31m# restore state no matter what (e.g., KeyboardInterrupt)\u001b[0m\u001b[0;34m\u001b[0m\u001b[0;34m\u001b[0m\u001b[0m\n\u001b[1;32m    295\u001b[0m             \u001b[0;32mif\u001b[0m \u001b[0mtimeout\u001b[0m \u001b[0;32mis\u001b[0m \u001b[0;32mNone\u001b[0m\u001b[0;34m:\u001b[0m\u001b[0;34m\u001b[0m\u001b[0;34m\u001b[0m\u001b[0m\n\u001b[0;32m--> 296\u001b[0;31m                 \u001b[0mwaiter\u001b[0m\u001b[0;34m.\u001b[0m\u001b[0macquire\u001b[0m\u001b[0;34m(\u001b[0m\u001b[0;34m)\u001b[0m\u001b[0;34m\u001b[0m\u001b[0;34m\u001b[0m\u001b[0m\n\u001b[0m\u001b[1;32m    297\u001b[0m                 \u001b[0mgotit\u001b[0m \u001b[0;34m=\u001b[0m \u001b[0;32mTrue\u001b[0m\u001b[0;34m\u001b[0m\u001b[0;34m\u001b[0m\u001b[0m\n\u001b[1;32m    298\u001b[0m             \u001b[0;32melse\u001b[0m\u001b[0;34m:\u001b[0m\u001b[0;34m\u001b[0m\u001b[0;34m\u001b[0m\u001b[0m\n",
      "\u001b[0;31mKeyboardInterrupt\u001b[0m: "
     ]
    }
   ],
   "source": [
    "from sklearn.model_selection import GridSearchCV\n",
    "\n",
    "linsvm_params = {\n",
    "    'C': [0.1, 0.5, 1, 1.5, 2, 3, 4]\n",
    "}\n",
    "\n",
    "gridsearch_linsvm = GridSearchCV(\n",
    "    LinearSVC(),\n",
    "    cv=5,\n",
    "    param_grid=linsvm_params,\n",
    "    scoring='f1_macro',\n",
    "    n_jobs=-1\n",
    ")\n",
    "\n",
    "gridsearch_linsvm.fit(X_train, y_train)\n",
    "gridsearch_linsvm.best_params_, gridsearch_linsvm.best_score_"
   ]
  },
  {
   "cell_type": "code",
   "execution_count": null,
   "metadata": {},
   "outputs": [],
   "source": [
    "from sklearn.svm import LinearSVC\n",
    "\n",
    "linsvm = LinearSVC()\n",
    "linsvm.fit(X_train, y_train)\n",
    "y_pred = linsvm.predict(X_test)\n",
    "\n",
    "from sklearn.metrics import classification_report\n",
    "print(classification_report(y_test, y_pred))"
   ]
  },
  {
   "cell_type": "code",
   "execution_count": null,
   "metadata": {},
   "outputs": [],
   "source": [
    "from sklearn.svm import SVC\n",
    "\n",
    "rbfsvm = SVC(kernel='poly')\n",
    "rbfsvm.fit(X_train, y_train)\n",
    "y_pred = rbfsvm.predict(X_test)\n",
    "\n",
    "from sklearn.metrics import classification_report\n",
    "print(classification_report(y_test, y_pred))"
   ]
  },
  {
   "cell_type": "code",
   "execution_count": null,
   "metadata": {},
   "outputs": [],
   "source": [
    "from sklearn.tree import DecisionTreeClassifier\n",
    "\n",
    "dectree = DecisionTreeClassifier()\n",
    "dectree.fit(X_train, y_train)\n",
    "y_pred = dectree.predict(X_test)\n",
    "\n",
    "from sklearn.metrics import classification_report\n",
    "print(classification_report(y_test, y_pred))"
   ]
  },
  {
   "cell_type": "code",
   "execution_count": null,
   "metadata": {},
   "outputs": [],
   "source": [
    "from sklearn.ensemble import RandomForestClassifier\n",
    "\n",
    "randforest = RandomForestClassifier()\n",
    "randforest.fit(X_train, y_train)\n",
    "y_pred = randforest.predict(X_test)\n",
    "\n",
    "from sklearn.metrics import classification_report\n",
    "print(classification_report(y_test, y_pred))"
   ]
  },
  {
   "cell_type": "code",
   "execution_count": null,
   "metadata": {},
   "outputs": [],
   "source": [
    "from sklearn.linear_model import SGDClassifier\n",
    "\n",
    "sgdsvm = SGDClassifier(loss='modified_huber', max_iter=15, random_state=42)\n",
    "\n",
    "sgdsvm.fit(X_train, y_train)\n",
    "y_pred = sgdsvm.predict(X_test)\n",
    "\n",
    "from sklearn.metrics import classification_report\n",
    "print(classification_report(y_test, y_pred))"
   ]
  },
  {
   "cell_type": "code",
   "execution_count": null,
   "metadata": {},
   "outputs": [],
   "source": [
    "from sklearn.ensemble import AdaBoostClassifier\n",
    "from sklearn.linear_model import SGDClassifier\n",
    "from sklearn.calibration import CalibratedClassifierCV\n",
    "\n",
    "adaboost = AdaBoostClassifier(\n",
    "    #base_estimator=SGDClassifier(loss='modified_huber', max_iter=5, random_state=42),\n",
    "    #algorithm='SAMME.R',\n",
    "    #n_estimators=100\n",
    ")\n",
    "\n",
    "adaboost.fit(X_train, y_train)\n",
    "y_pred = adaboost.predict(X_test)\n",
    "\n",
    "from sklearn.metrics import classification_report\n",
    "print(classification_report(y_test, y_pred))"
   ]
  },
  {
   "cell_type": "code",
   "execution_count": null,
   "metadata": {},
   "outputs": [],
   "source": [
    "from xgboost.sklearn import XGBClassifier\n",
    "\n",
    "grad_boost = XGBClassifier()\n",
    "grad_boost.fit(X_train, y_train)\n",
    "y_pred = grad_boost.predict(X_test)\n",
    "\n",
    "from sklearn.metrics import classification_report\n",
    "print(classification_report(y_test, y_pred))"
   ]
  },
  {
   "cell_type": "markdown",
   "metadata": {},
   "source": [
    "# Boostrap Validation"
   ]
  },
  {
   "cell_type": "code",
   "execution_count": 153,
   "metadata": {},
   "outputs": [],
   "source": [
    "from sklearn.metrics import f1_score\n",
    "from sklearn.utils import resample\n",
    "from sklearn.base import BaseEstimator\n",
    "from scipy.sparse import csr_matrix\n",
    "\n",
    "def bootstrap_validation(clf1: BaseEstimator, clf2: BaseEstimator,\n",
    "                         X: csr_matrix, y: csr_matrix,\n",
    "                         n_samples: int,\n",
    "                         sample_size: int,\n",
    "                         scorer: callable = lambda y_true, y_pred: f1_score(y_true, y_pred, average='macro')) -> float:\n",
    "    \n",
    "    \"\"\"\n",
    "    Implementation of bootstrapping test according to Jurafsky.\n",
    "    \"\"\"\n",
    "    \n",
    "    # Compute initial performance difference on complete test set\n",
    "    y_pred_1 = clf1.predict(X)\n",
    "    clf1_score = scorer(y, y_pred_1)\n",
    "    \n",
    "    y_pred_2 = clf2.predict(X)\n",
    "    clf2_score = scorer(y, y_pred_2)\n",
    "    \n",
    "    initial_difference = clf1_score - clf2_score\n",
    "    \n",
    "    # compute differences on n_samples different testsets\n",
    "    sample_differences = []\n",
    "    for _ in range(n_samples):\n",
    "        \n",
    "        # create boostrap sample\n",
    "        X_sample, y_sample = resample(X, y,\n",
    "                                      replace=True,\n",
    "                                      n_samples=sample_size)\n",
    "        \n",
    "        # calculate performance difference and store it\n",
    "        y_pred_1 = clf1.predict(X_sample)\n",
    "        clf1_score = scorer(y_sample, y_pred_1)\n",
    "    \n",
    "        y_pred_2 = clf2.predict(X_sample)\n",
    "        clf2_score = scorer(y_sample, y_pred_2)\n",
    "        sample_differences.append(clf1_score - clf2_score)\n",
    "    \n",
    "    # calculate p value based on performance differences\n",
    "    s_values = []\n",
    "    s = 0\n",
    "    for sample_difference in sample_differences:\n",
    "        if sample_difference > 2 * initial_difference:\n",
    "            s += 1\n",
    "    p_value = s / n_samples\n",
    "    \n",
    "    return p_value"
   ]
  },
  {
   "cell_type": "code",
   "execution_count": 161,
   "metadata": {},
   "outputs": [
    {
     "name": "stderr",
     "output_type": "stream",
     "text": [
      "/Users/lennartkeller/anaconda3/envs/nlp/lib/python3.7/site-packages/sklearn/linear_model/logistic.py:432: FutureWarning: Default solver will be changed to 'lbfgs' in 0.22. Specify a solver to silence this warning.\n",
      "  FutureWarning)\n",
      "/Users/lennartkeller/anaconda3/envs/nlp/lib/python3.7/site-packages/sklearn/linear_model/logistic.py:469: FutureWarning: Default multi_class will be changed to 'auto' in 0.22. Specify the multi_class option to silence this warning.\n",
      "  \"this warning.\", FutureWarning)\n"
     ]
    },
    {
     "name": "stdout",
     "output_type": "stream",
     "text": [
      "F1-Score Macro for Classifier 1: 0.8330271157857364\n",
      "F1-Score Macro for Classifier 2: 0.6495289083092743\n"
     ]
    },
    {
     "name": "stderr",
     "output_type": "stream",
     "text": [
      "/Users/lennartkeller/anaconda3/envs/nlp/lib/python3.7/site-packages/sklearn/metrics/classification.py:1437: UndefinedMetricWarning: F-score is ill-defined and being set to 0.0 in labels with no predicted samples.\n",
      "  'precision', 'predicted', average, warn_for)\n"
     ]
    },
    {
     "data": {
      "text/plain": [
       "0.0"
      ]
     },
     "execution_count": 161,
     "metadata": {},
     "output_type": "execute_result"
    }
   ],
   "source": [
    "from sklearn.linear_model import LogisticRegression\n",
    "from sklearn.naive_bayes import MultinomialNB\n",
    "\n",
    "\n",
    "clf1 = LogisticRegression().fit(X_train, y_train)\n",
    "clf2 = MultinomialNB().fit(X_train, y_train)\n",
    "\n",
    "\n",
    "print(f\"F1-Score Macro for Classifier 1: {f1_score(y_test, clf1.predict(X_test), average='macro')}\")\n",
    "print(f\"F1-Score Macro for Classifier 2: {f1_score(y_test, clf2.predict(X_test), average='macro')}\")\n",
    "\n",
    "bootstrap_validation(clf1, clf2,\n",
    "                     X_test, y_test,\n",
    "                     n_samples=20,\n",
    "                     sample_size=100)"
   ]
  },
  {
   "cell_type": "code",
   "execution_count": 162,
   "metadata": {},
   "outputs": [
    {
     "name": "stderr",
     "output_type": "stream",
     "text": [
      "/Users/lennartkeller/anaconda3/envs/nlp/lib/python3.7/site-packages/sklearn/svm/base.py:929: ConvergenceWarning: Liblinear failed to converge, increase the number of iterations.\n",
      "  \"the number of iterations.\", ConvergenceWarning)\n",
      "/Users/lennartkeller/anaconda3/envs/nlp/lib/python3.7/site-packages/sklearn/metrics/classification.py:1437: UndefinedMetricWarning: F-score is ill-defined and being set to 0.0 in labels with no predicted samples.\n",
      "  'precision', 'predicted', average, warn_for)\n"
     ]
    },
    {
     "name": "stdout",
     "output_type": "stream",
     "text": [
      "F1-Score Macro for Classifier 1: 0.721313086638164\n",
      "F1-Score Macro for Classifier 2: 0.6122093852517472\n"
     ]
    },
    {
     "name": "stderr",
     "output_type": "stream",
     "text": [
      "/Users/lennartkeller/anaconda3/envs/nlp/lib/python3.7/site-packages/sklearn/metrics/classification.py:1439: UndefinedMetricWarning: F-score is ill-defined and being set to 0.0 in labels with no true samples.\n",
      "  'recall', 'true', average, warn_for)\n"
     ]
    },
    {
     "data": {
      "text/plain": [
       "0.085"
      ]
     },
     "execution_count": 162,
     "metadata": {},
     "output_type": "execute_result"
    }
   ],
   "source": [
    "from sklearn.tree import DecisionTreeClassifier\n",
    "from sklearn.svm import LinearSVC\n",
    "\n",
    "\n",
    "clf1 = DecisionTreeClassifier().fit(X_train, y_train)\n",
    "clf2 = LinearSVC().fit(X_train, y_train)\n",
    "\n",
    "\n",
    "print(f\"F1-Score Macro for Classifier 1: {f1_score(y_test, clf1.predict(X_test), average='macro')}\")\n",
    "print(f\"F1-Score Macro for Classifier 2: {f1_score(y_test, clf2.predict(X_test), average='macro')}\")\n",
    "\n",
    "bootstrap_validation(clf1, clf2,\n",
    "                     X_test, y_test,\n",
    "                     n_samples=200,\n",
    "                     sample_size=100)"
   ]
  },
  {
   "cell_type": "code",
   "execution_count": null,
   "metadata": {},
   "outputs": [],
   "source": [
    "from sklearn.ensemble import GradientBoostingClassifier\n",
    "\n",
    "grad_boost_sklean = GradientBoostingClassifier()\n",
    "grad_boost_sklean.fit(X_train, y_train)\n",
    "y_pred = grad_boost_sklean.predict(X_test)\n",
    "\n",
    "from sklearn.metrics import classification_report\n",
    "print(classification_report(y_test, y_pred))"
   ]
  },
  {
   "cell_type": "code",
   "execution_count": null,
   "metadata": {},
   "outputs": [],
   "source": [
    "from keras.preprocessing.text import Tokenizer\n",
    "\n",
    "tok = Tokenizer(num_words=20000)\n",
    "tok.fit_on_texts(df_train.text)\n",
    "\n",
    "Xk_train = tok.texts_to_matrix(df_train.text)\n",
    "Xk_test = tok.texts_to_matrix(df_test.text)"
   ]
  },
  {
   "cell_type": "code",
   "execution_count": null,
   "metadata": {},
   "outputs": [],
   "source": [
    "from keras.utils import to_categorical\n",
    "from sklearn.preprocessing import LabelEncoder\n",
    "le = LabelEncoder()\n",
    "yk_train = le.fit_transform(y_train)\n",
    "yk_test = le.transform(y_test)\n",
    "\n",
    "yk_train = to_categorical(yk_train)\n",
    "\n",
    "from keras.models import Sequential\n",
    "from keras.layers import Input, Dense, Dropout, Reshape\n",
    "\n",
    "def build_model(num_words, n_classes, hiddenlayer_size=512, n_hiddenlayer=1):\n",
    "    model = Sequential()\n",
    "    model.add(Dense(hiddenlayer_size, input_shape=(num_words, ), activation='relu'))\n",
    "    model.add(Dropout(0.5))\n",
    "    for i in range(n_hiddenlayer):\n",
    "        model.add(Dense(hiddenlayer_size, activation='relu'))\n",
    "        model.add(Dropout(0.5))\n",
    "    model.add(Dense(n_classes, activation='softmax'))\n",
    "    model.compile(optimizer='rmsprop', loss='categorical_crossentropy', metrics=['accuracy'])\n",
    "    model.summary()\n",
    "    return model"
   ]
  },
  {
   "cell_type": "code",
   "execution_count": null,
   "metadata": {},
   "outputs": [],
   "source": [
    "import numpy as np\n",
    "\n",
    "model = build_model(20000,\n",
    "                    len(np.unique(y_train)),\n",
    "                    n_hiddenlayer=3,\n",
    "                    hiddenlayer_size=1024)"
   ]
  },
  {
   "cell_type": "code",
   "execution_count": null,
   "metadata": {},
   "outputs": [],
   "source": [
    "history = model.fit(Xk_train, yk_train,\n",
    "                    batch_size=128,\n",
    "                    validation_split=0.1,\n",
    "                    epochs=5)"
   ]
  },
  {
   "cell_type": "code",
   "execution_count": null,
   "metadata": {},
   "outputs": [],
   "source": [
    "yk_pred = model.predict_classes(X_test)\n",
    "print(classification_report(yk_test, yk_pred))"
   ]
  },
  {
   "cell_type": "code",
   "execution_count": null,
   "metadata": {},
   "outputs": [],
   "source": [
    "le.classes_"
   ]
  },
  {
   "cell_type": "code",
   "execution_count": null,
   "metadata": {},
   "outputs": [],
   "source": [
    "from keras.preprocessing.text import Tokenizer\n",
    "from keras.preprocessing.sequence import pad_sequences\n",
    "\n",
    "\n",
    "NUM_WORDS = 5000\n",
    "MAX_SEQ_LEN = 3000\n",
    "tokenizer = Tokenizer(num_words=20000)\n",
    "tokenizer.fit_on_texts(df_train.text)\n",
    "\n",
    "train_sequences = tokenizer.texts_to_sequences(df_train.text)\n",
    "test_sequences = tokenizer.texts_to_sequences(df_test.text)\n",
    "\n",
    "train_sequences = pad_sequences(train_sequences, maxlen=MAX_SEQ_LEN)\n",
    "test_sequences = pad_sequences(test_sequences, maxlen=MAX_SEQ_LEN)"
   ]
  },
  {
   "cell_type": "code",
   "execution_count": null,
   "metadata": {},
   "outputs": [],
   "source": [
    "train_sequences.shape"
   ]
  },
  {
   "cell_type": "code",
   "execution_count": null,
   "metadata": {},
   "outputs": [],
   "source": [
    "from flair.embeddings import WordEmbeddings\n",
    "from flair.data import Sentence\n",
    "from tqdm import tqdm_notebook\n",
    "\n",
    "def create_embedding_matrix(sequences, tokenizer: Tokenizer):\n",
    "    X = []\n",
    "    embedder = WordEmbeddings('de')\n",
    "    for sequence in train_sequences:\n",
    "        text = []\n",
    "        for entry in sequence:\n",
    "            text.append(tokenizer.index_word.get(entry, 'UNKOWN'))\n",
    "        text_mat = []\n",
    "        print(text[:4])\n",
    "        flair_data = Sentence(\" \".join(text))\n",
    "        embedder.embed(flair_data)\n",
    "        for token in flair_data:\n",
    "            text_mat.append(token.embedding.cpu().detach().numpy())\n",
    "        X.append(text_mat)\n",
    "    return X"
   ]
  },
  {
   "cell_type": "code",
   "execution_count": null,
   "metadata": {},
   "outputs": [],
   "source": [
    "df_train.iloc[0].text"
   ]
  },
  {
   "cell_type": "code",
   "execution_count": null,
   "metadata": {},
   "outputs": [],
   "source": [
    "X_train[0]"
   ]
  },
  {
   "cell_type": "code",
   "execution_count": null,
   "metadata": {},
   "outputs": [],
   "source": [
    "from keras.models import Model\n",
    "from keras.layers import *\n",
    "\n",
    "def build_multiinput_model(embedding_dim, pos_input_shape, char_input_shape, num_classes):\n",
    "    \n",
    "    \"\"\"\n",
    "    Conceptional draft\n",
    "    \"\"\"\n",
    "    \n",
    "    # 1. Input \n",
    "    embedding_input = Input(shape=(embedding_dim,))\n",
    "    emebedding_layer = Embedding(input_dim=embedding_dim, output_dim=100)(embedding_input)\n",
    "    embedding_conv_dropout = SpatialDropout1D(0.5)\n",
    "    embedding_conv = Conv1D(filters=128, kernel_size=(5,))(emebedding_layer)\n",
    "    \n",
    "    # 2. Input pos \n",
    "    pos_input = Input(shape=pos_input_shape)\n",
    "    pos_dense = Dense(512)(pos_input)\n",
    "    pos_dropout = Dropout(0.5)(pos_dense)\n",
    "    \n",
    "    # 3.Input char\n",
    "    char_input = Input(shape=char_input_shape)\n",
    "    char_embedding = Embedding(input_dim=embedding_dim, output_dim=100)(char_input) # meh\n",
    "    char_conv_dropout = SpatialDropout1D(0.5)\n",
    "    char_conv = Conv1D(filters=128, kernel_size=(5,))(char_embedding)\n",
    "\n",
    "    # 3. Concat input the three input layers\n",
    "    concat_layer = Concatenate()([embedding_conv, char_conv])\n",
    "    bi_lstm = Bidirectional(LSTM(16, return_sequences=True))(concat_layer)\n",
    "    flatten_layer = Flatten()(bi_lstm)\n",
    "    hidden_dense = Dense(512, activation='relu')(flatten_layer)\n",
    "    outpout_layer = Dense(num_classes, activation='softmax')\n",
    "    model = Model(inputs=[embedding_input, pos_input, char_input], outpouts=[outpout_layer])\n",
    "    mode.compile(optimizer='adam', loss='categorical_crossentropy', metrics=['accuracy'])\n",
    "    model.summary()\n",
    "    return model"
   ]
  },
  {
   "cell_type": "code",
   "execution_count": null,
   "metadata": {},
   "outputs": [],
   "source": [
    "model = build_multiinput_model(300, (5000,), (100,), 10)"
   ]
  },
  {
   "cell_type": "code",
   "execution_count": null,
   "metadata": {},
   "outputs": [],
   "source": []
  }
 ],
 "metadata": {
  "kernelspec": {
   "display_name": "Python 3",
   "language": "python",
   "name": "python3"
  },
  "language_info": {
   "codemirror_mode": {
    "name": "ipython",
    "version": 3
   },
   "file_extension": ".py",
   "mimetype": "text/x-python",
   "name": "python",
   "nbconvert_exporter": "python",
   "pygments_lexer": "ipython3",
   "version": "3.7.4"
  }
 },
 "nbformat": 4,
 "nbformat_minor": 2
}
