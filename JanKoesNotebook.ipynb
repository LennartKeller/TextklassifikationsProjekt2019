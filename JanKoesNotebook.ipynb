{
 "cells": [
  {
   "cell_type": "code",
   "execution_count": 14,
   "metadata": {},
   "outputs": [
    {
     "data": {
      "text/plain": [
       "(974, 8)"
      ]
     },
     "execution_count": 14,
     "metadata": {},
     "output_type": "execute_result"
    }
   ],
   "source": [
    "import pandas as pd\n",
    "import numpy as np\n",
    "#from sklearn.utils import shuffle\n",
    "\n",
    "df = pd.read_csv('full_dataset.csv')\n",
    "#df = shuffle(df, random_state=42)\n",
    "df.shape"
   ]
  },
  {
   "cell_type": "code",
   "execution_count": 15,
   "metadata": {},
   "outputs": [
    {
     "data": {
      "text/html": [
       "<div>\n",
       "<style scoped>\n",
       "    .dataframe tbody tr th:only-of-type {\n",
       "        vertical-align: middle;\n",
       "    }\n",
       "\n",
       "    .dataframe tbody tr th {\n",
       "        vertical-align: top;\n",
       "    }\n",
       "\n",
       "    .dataframe thead th {\n",
       "        text-align: right;\n",
       "    }\n",
       "</style>\n",
       "<table border=\"1\" class=\"dataframe\">\n",
       "  <thead>\n",
       "    <tr style=\"text-align: right;\">\n",
       "      <th></th>\n",
       "      <th>filename</th>\n",
       "      <th>corpus</th>\n",
       "      <th>genre</th>\n",
       "      <th>period</th>\n",
       "      <th>region</th>\n",
       "      <th>text</th>\n",
       "      <th>title</th>\n",
       "      <th>year</th>\n",
       "    </tr>\n",
       "  </thead>\n",
       "  <tbody>\n",
       "    <tr>\n",
       "      <td>0</td>\n",
       "      <td>HUMA_P3_WMD_1777_HomburgRAW.txt</td>\n",
       "      <td>manchester</td>\n",
       "      <td>HUMA</td>\n",
       "      <td>P3</td>\n",
       "      <td>WMD</td>\n",
       "      <td>Nachricht von den Alterthu&amp;#868;mern in dem Ge...</td>\n",
       "      <td>Homburg</td>\n",
       "      <td>1777</td>\n",
       "    </tr>\n",
       "    <tr>\n",
       "      <td>1</td>\n",
       "      <td>NEWS_P3_NoD_1786_wolfenbuettel1.txt</td>\n",
       "      <td>manchester</td>\n",
       "      <td>NEWS</td>\n",
       "      <td>P3</td>\n",
       "      <td>NoD</td>\n",
       "      <td>Zeitung\\r\\nfür\\r\\nStädte, Flecken und Dörfer,\\...</td>\n",
       "      <td>wolfenbuettel1</td>\n",
       "      <td>1786</td>\n",
       "    </tr>\n",
       "    <tr>\n",
       "      <td>2</td>\n",
       "      <td>NARR_P1_NoD_1658_MorgenlaendischRAW.txt</td>\n",
       "      <td>manchester</td>\n",
       "      <td>NARR</td>\n",
       "      <td>P1</td>\n",
       "      <td>NoD</td>\n",
       "      <td>Das zwey vnd dreysigste Capitel.\\n      Des Pr...</td>\n",
       "      <td>Morgenlaendisch</td>\n",
       "      <td>1658</td>\n",
       "    </tr>\n",
       "    <tr>\n",
       "      <td>3</td>\n",
       "      <td>SCIE_P1_WMD_1680_EpidemicaRAW.txt</td>\n",
       "      <td>manchester</td>\n",
       "      <td>SCIE</td>\n",
       "      <td>P1</td>\n",
       "      <td>WMD</td>\n",
       "      <td>Das XX. Capitel.\\n      Von den Schnecken.\\n  ...</td>\n",
       "      <td>Epidemica</td>\n",
       "      <td>1680</td>\n",
       "    </tr>\n",
       "    <tr>\n",
       "      <td>4</td>\n",
       "      <td>NEWS_P2_WMD_1701_hanau2.txt</td>\n",
       "      <td>manchester</td>\n",
       "      <td>NEWS</td>\n",
       "      <td>P2</td>\n",
       "      <td>WMD</td>\n",
       "      <td>Extraordinari Europæische Zeitung. 1701. Num. ...</td>\n",
       "      <td>hanau2</td>\n",
       "      <td>1701</td>\n",
       "    </tr>\n",
       "  </tbody>\n",
       "</table>\n",
       "</div>"
      ],
      "text/plain": [
       "                                  filename      corpus genre period region  \\\n",
       "0          HUMA_P3_WMD_1777_HomburgRAW.txt  manchester  HUMA     P3    WMD   \n",
       "1      NEWS_P3_NoD_1786_wolfenbuettel1.txt  manchester  NEWS     P3    NoD   \n",
       "2  NARR_P1_NoD_1658_MorgenlaendischRAW.txt  manchester  NARR     P1    NoD   \n",
       "3        SCIE_P1_WMD_1680_EpidemicaRAW.txt  manchester  SCIE     P1    WMD   \n",
       "4              NEWS_P2_WMD_1701_hanau2.txt  manchester  NEWS     P2    WMD   \n",
       "\n",
       "                                                text            title  year  \n",
       "0  Nachricht von den Alterthu&#868;mern in dem Ge...          Homburg  1777  \n",
       "1  Zeitung\\r\\nfür\\r\\nStädte, Flecken und Dörfer,\\...   wolfenbuettel1  1786  \n",
       "2  Das zwey vnd dreysigste Capitel.\\n      Des Pr...  Morgenlaendisch  1658  \n",
       "3  Das XX. Capitel.\\n      Von den Schnecken.\\n  ...        Epidemica  1680  \n",
       "4  Extraordinari Europæische Zeitung. 1701. Num. ...           hanau2  1701  "
      ]
     },
     "execution_count": 15,
     "metadata": {},
     "output_type": "execute_result"
    }
   ],
   "source": [
    "df.head()\n",
    "#kompletter Datensatz"
   ]
  },
  {
   "cell_type": "code",
   "execution_count": 20,
   "metadata": {},
   "outputs": [
    {
     "data": {
      "text/plain": [
       "(336, 8)"
      ]
     },
     "execution_count": 20,
     "metadata": {},
     "output_type": "execute_result"
    }
   ],
   "source": [
    "#Teilung in Manchester und Innsbruck Dataframe, sowie die einzelnen Perioden\n",
    "#Hierfür jeweils eine eigene Zelle, damit man via Shape nochmal die Größe prüfen kann\n",
    "df_man = df.loc[df['corpus'] == 'manchester']\n",
    "df_man.shape"
   ]
  },
  {
   "cell_type": "code",
   "execution_count": 24,
   "metadata": {},
   "outputs": [
    {
     "data": {
      "text/plain": [
       "(336, 8)"
      ]
     },
     "execution_count": 24,
     "metadata": {},
     "output_type": "execute_result"
    }
   ],
   "source": [
    "df_inn = df.loc[df['corpus'] == 'innsbruck']\n",
    "df_inn.shape "
   ]
  },
  {
   "cell_type": "code",
   "execution_count": 25,
   "metadata": {},
   "outputs": [
    {
     "data": {
      "text/plain": [
       "(115, 8)"
      ]
     },
     "execution_count": 25,
     "metadata": {},
     "output_type": "execute_result"
    }
   ],
   "source": [
    "#P1\n",
    "df_P1 = df.loc[df['period'] == 'P1']\n",
    "df_P1.shape"
   ]
  },
  {
   "cell_type": "code",
   "execution_count": 26,
   "metadata": {},
   "outputs": [
    {
     "data": {
      "text/plain": [
       "(113, 8)"
      ]
     },
     "execution_count": 26,
     "metadata": {},
     "output_type": "execute_result"
    }
   ],
   "source": [
    "#P2\n",
    "df_P2 = df.loc[df['period'] == 'P2']\n",
    "df_P2.shape"
   ]
  },
  {
   "cell_type": "code",
   "execution_count": 27,
   "metadata": {},
   "outputs": [
    {
     "data": {
      "text/plain": [
       "(108, 8)"
      ]
     },
     "execution_count": 27,
     "metadata": {},
     "output_type": "execute_result"
    }
   ],
   "source": [
    "#P3\n",
    "df_P3 = df.loc[df['period'] == 'P3']\n",
    "df_P3.shape"
   ]
  },
  {
   "cell_type": "code",
   "execution_count": 28,
   "metadata": {},
   "outputs": [
    {
     "data": {
      "text/plain": [
       "(247, 8)"
      ]
     },
     "execution_count": 28,
     "metadata": {},
     "output_type": "execute_result"
    }
   ],
   "source": [
    "#P4\n",
    "df_P4 = df.loc[df['period'] == 'P4']\n",
    "df_P4.shape"
   ]
  },
  {
   "cell_type": "code",
   "execution_count": 29,
   "metadata": {},
   "outputs": [
    {
     "data": {
      "text/plain": [
       "(208, 8)"
      ]
     },
     "execution_count": 29,
     "metadata": {},
     "output_type": "execute_result"
    }
   ],
   "source": [
    "#P5\n",
    "df_P5 = df.loc[df['period'] == 'P5']\n",
    "df_P5.shape"
   ]
  },
  {
   "cell_type": "code",
   "execution_count": 30,
   "metadata": {},
   "outputs": [
    {
     "data": {
      "text/plain": [
       "(182, 8)"
      ]
     },
     "execution_count": 30,
     "metadata": {},
     "output_type": "execute_result"
    }
   ],
   "source": [
    "#P6\n",
    "df_P6 = df.loc[df['period'] == 'P6']\n",
    "df_P6.shape"
   ]
  },
  {
   "cell_type": "code",
   "execution_count": 31,
   "metadata": {},
   "outputs": [
    {
     "name": "stdout",
     "output_type": "stream",
     "text": [
      "                                     filename      corpus genre period region  \\\n",
      "2     NARR_P1_NoD_1658_MorgenlaendischRAW.txt  manchester  NARR     P1    NoD   \n",
      "3           SCIE_P1_WMD_1680_EpidemicaRAW.txt  manchester  SCIE     P1    WMD   \n",
      "10          SERM_P1_WMD_1662_FuneraliaRAW.txt  manchester  SERM     P1    WMD   \n",
      "12          NARR_P1_OMD_1671_RuebezahlRAW.txt  manchester  NARR     P1    OMD   \n",
      "13           NEWS_P1_WOD_1662_strassburg1.txt  manchester  NEWS     P1    WOD   \n",
      "..                                        ...         ...   ...    ...    ...   \n",
      "326                NEWS_P1_WMD_1662_koeln.txt  manchester  NEWS     P1    WMD   \n",
      "332        LEGA_P1_WMD_1698_BergkRechtRAW.txt  manchester  LEGA     P1    WMD   \n",
      "333          DRAM_P1_NoD_1699_EuridiceRAW.txt  manchester  DRAM     P1    NoD   \n",
      "334              NEWS_P1_WOD_1681_zuerich.txt  manchester  NEWS     P1    WOD   \n",
      "335  DRAM_P1_WMD_1668_ChristRuehmendesRAW.txt  manchester  DRAM     P1    WMD   \n",
      "\n",
      "                                                  text             title  year  \n",
      "2    Das zwey vnd dreysigste Capitel.\\n      Des Pr...   Morgenlaendisch  1658  \n",
      "3    Das XX. Capitel.\\n      Von den Schnecken.\\n  ...         Epidemica  1680  \n",
      "10   Die acht und dreyssigste Leich-Predigt.\\n     ...         Funeralia  1662  \n",
      "12   Ru&#868;bezahl ist ein Schiffergra&#868;ber.\\n...         Ruebezahl  1671  \n",
      "13   NUM. 4. Anno 1662.\\r\\nZeitung auß Hamburg/ vom...       strassburg1  1662  \n",
      "..                                                 ...               ...   ...  \n",
      "326  Num. XXVII.\\r\\nOrdinari \\r\\nWochentliche Dinst...             koeln  1662  \n",
      "332  Das I. Capitel.\\n      De Jure Argenti Fodinar...        BergkRecht  1698  \n",
      "333  \\n\\nErste Handlung.\\nFu&#868;nfter Auftritt.\\n...          Euridice  1699  \n",
      "334  Continuation\\r\\nDer am Montag herauß kommenden...           zuerich  1681  \n",
      "335  \\n\\nDie fu&#868;nffte Abhandlung.\\nVon de&#223...  ChristRuehmendes  1668  \n",
      "\n",
      "[115 rows x 8 columns]\n"
     ]
    }
   ],
   "source": [
    "print(df_P1)"
   ]
  },
  {
   "cell_type": "code",
   "execution_count": null,
   "metadata": {},
   "outputs": [],
   "source": []
  }
 ],
 "metadata": {
  "kernelspec": {
   "display_name": "Python 3",
   "language": "python",
   "name": "python3"
  },
  "language_info": {
   "codemirror_mode": {
    "name": "ipython",
    "version": 3
   },
   "file_extension": ".py",
   "mimetype": "text/x-python",
   "name": "python",
   "nbconvert_exporter": "python",
   "pygments_lexer": "ipython3",
   "version": "3.7.4"
  }
 },
 "nbformat": 4,
 "nbformat_minor": 2
}
