{
 "cells": [
  {
   "cell_type": "code",
   "execution_count": 14,
   "metadata": {},
   "outputs": [
    {
     "data": {
      "text/plain": [
       "(974, 8)"
      ]
     },
     "execution_count": 14,
     "metadata": {},
     "output_type": "execute_result"
    }
   ],
   "source": [
    "import pandas as pd\n",
    "import numpy as np\n",
    "#from sklearn.utils import shuffle\n",
    "\n",
    "df = pd.read_csv('full_dataset.csv')\n",
    "#df = shuffle(df, random_state=42)\n",
    "df.shape"
   ]
  },
  {
   "cell_type": "code",
   "execution_count": 15,
   "metadata": {},
   "outputs": [
    {
     "data": {
      "text/html": [
       "<div>\n",
       "<style scoped>\n",
       "    .dataframe tbody tr th:only-of-type {\n",
       "        vertical-align: middle;\n",
       "    }\n",
       "\n",
       "    .dataframe tbody tr th {\n",
       "        vertical-align: top;\n",
       "    }\n",
       "\n",
       "    .dataframe thead th {\n",
       "        text-align: right;\n",
       "    }\n",
       "</style>\n",
       "<table border=\"1\" class=\"dataframe\">\n",
       "  <thead>\n",
       "    <tr style=\"text-align: right;\">\n",
       "      <th></th>\n",
       "      <th>filename</th>\n",
       "      <th>corpus</th>\n",
       "      <th>genre</th>\n",
       "      <th>period</th>\n",
       "      <th>region</th>\n",
       "      <th>text</th>\n",
       "      <th>title</th>\n",
       "      <th>year</th>\n",
       "    </tr>\n",
       "  </thead>\n",
       "  <tbody>\n",
       "    <tr>\n",
       "      <td>0</td>\n",
       "      <td>HUMA_P3_WMD_1777_HomburgRAW.txt</td>\n",
       "      <td>manchester</td>\n",
       "      <td>HUMA</td>\n",
       "      <td>P3</td>\n",
       "      <td>WMD</td>\n",
       "      <td>Nachricht von den Alterthu&amp;#868;mern in dem Ge...</td>\n",
       "      <td>Homburg</td>\n",
       "      <td>1777</td>\n",
       "    </tr>\n",
       "    <tr>\n",
       "      <td>1</td>\n",
       "      <td>NEWS_P3_NoD_1786_wolfenbuettel1.txt</td>\n",
       "      <td>manchester</td>\n",
       "      <td>NEWS</td>\n",
       "      <td>P3</td>\n",
       "      <td>NoD</td>\n",
       "      <td>Zeitung\\r\\nfür\\r\\nStädte, Flecken und Dörfer,\\...</td>\n",
       "      <td>wolfenbuettel1</td>\n",
       "      <td>1786</td>\n",
       "    </tr>\n",
       "    <tr>\n",
       "      <td>2</td>\n",
       "      <td>NARR_P1_NoD_1658_MorgenlaendischRAW.txt</td>\n",
       "      <td>manchester</td>\n",
       "      <td>NARR</td>\n",
       "      <td>P1</td>\n",
       "      <td>NoD</td>\n",
       "      <td>Das zwey vnd dreysigste Capitel.\\n      Des Pr...</td>\n",
       "      <td>Morgenlaendisch</td>\n",
       "      <td>1658</td>\n",
       "    </tr>\n",
       "    <tr>\n",
       "      <td>3</td>\n",
       "      <td>SCIE_P1_WMD_1680_EpidemicaRAW.txt</td>\n",
       "      <td>manchester</td>\n",
       "      <td>SCIE</td>\n",
       "      <td>P1</td>\n",
       "      <td>WMD</td>\n",
       "      <td>Das XX. Capitel.\\n      Von den Schnecken.\\n  ...</td>\n",
       "      <td>Epidemica</td>\n",
       "      <td>1680</td>\n",
       "    </tr>\n",
       "    <tr>\n",
       "      <td>4</td>\n",
       "      <td>NEWS_P2_WMD_1701_hanau2.txt</td>\n",
       "      <td>manchester</td>\n",
       "      <td>NEWS</td>\n",
       "      <td>P2</td>\n",
       "      <td>WMD</td>\n",
       "      <td>Extraordinari Europæische Zeitung. 1701. Num. ...</td>\n",
       "      <td>hanau2</td>\n",
       "      <td>1701</td>\n",
       "    </tr>\n",
       "  </tbody>\n",
       "</table>\n",
       "</div>"
      ],
      "text/plain": [
       "                                  filename      corpus genre period region  \\\n",
       "0          HUMA_P3_WMD_1777_HomburgRAW.txt  manchester  HUMA     P3    WMD   \n",
       "1      NEWS_P3_NoD_1786_wolfenbuettel1.txt  manchester  NEWS     P3    NoD   \n",
       "2  NARR_P1_NoD_1658_MorgenlaendischRAW.txt  manchester  NARR     P1    NoD   \n",
       "3        SCIE_P1_WMD_1680_EpidemicaRAW.txt  manchester  SCIE     P1    WMD   \n",
       "4              NEWS_P2_WMD_1701_hanau2.txt  manchester  NEWS     P2    WMD   \n",
       "\n",
       "                                                text            title  year  \n",
       "0  Nachricht von den Alterthu&#868;mern in dem Ge...          Homburg  1777  \n",
       "1  Zeitung\\r\\nfür\\r\\nStädte, Flecken und Dörfer,\\...   wolfenbuettel1  1786  \n",
       "2  Das zwey vnd dreysigste Capitel.\\n      Des Pr...  Morgenlaendisch  1658  \n",
       "3  Das XX. Capitel.\\n      Von den Schnecken.\\n  ...        Epidemica  1680  \n",
       "4  Extraordinari Europæische Zeitung. 1701. Num. ...           hanau2  1701  "
      ]
     },
     "execution_count": 15,
     "metadata": {},
     "output_type": "execute_result"
    }
   ],
   "source": [
    "df.head()\n",
    "#kompletter Datensatz"
   ]
  },
  {
   "cell_type": "code",
   "execution_count": 20,
   "metadata": {},
   "outputs": [
    {
     "data": {
      "text/plain": [
       "(336, 8)"
      ]
     },
     "execution_count": 20,
     "metadata": {},
     "output_type": "execute_result"
    }
   ],
   "source": [
    "#Teilung in Manchester und Innsbruck Dataframe\n",
    "df_man = df.loc[df['corpus'] == 'manchester']\n",
    "df_man.shape"
   ]
  },
  {
   "cell_type": "code",
   "execution_count": 21,
   "metadata": {},
   "outputs": [
    {
     "data": {
      "text/plain": [
       "(638, 8)"
      ]
     },
     "execution_count": 21,
     "metadata": {},
     "output_type": "execute_result"
    }
   ],
   "source": [
    "df_inn = df.loc[df['corpus'] == 'innsbruck']\n",
    "df_inn.shape"
   ]
  },
  {
   "cell_type": "code",
   "execution_count": 22,
   "metadata": {},
   "outputs": [
    {
     "name": "stdout",
     "output_type": "stream",
     "text": [
      "                                              filename     corpus genre  \\\n",
      "336   NEWS_P6_OOD_1915_Innsbrucker Nachrichten_RAW.txt  innsbruck  NEWS   \n",
      "337            NEWS_P6_OMD_1928_Arbeiterstimme_RAW.txt  innsbruck  NEWS   \n",
      "338  HUMA_P6_WMD_1920_Evangelischer Sozialismus_RAW...  innsbruck  HUMA   \n",
      "339                  DRAM_P6_WMD_1915_Heimkehr_RAW.txt  innsbruck  DRAM   \n",
      "340            NEWS_P6_OOD_1914_Wiener Zeitung_RAW.txt  innsbruck  NEWS   \n",
      "..                                                 ...        ...   ...   \n",
      "969             NARR_P4_OOD_1842_Meister GrÑth_RAW.txt  innsbruck  NARR   \n",
      "970               DRAM_P4_OMD_1814_Schutzgeist_RAW.txt  innsbruck  DRAM   \n",
      "971        NEWS_P4_WOD_1825_Carlsruher Zeitung_RAW.txt  innsbruck  NEWS   \n",
      "972           SCIE_P4_OOD_1811_Krankheitslehre_RAW.txt  innsbruck  SCIE   \n",
      "973  HUMA_P4_OOD_1808_Stadt Wienerisch-Neustadt_RAW...  innsbruck  HUMA   \n",
      "\n",
      "    period region                                               text  \\\n",
      "336     P6    OOD  Aus Stadt und Land.\\n\\n(Trauergottesdienst.) Z...   \n",
      "337     P6    OMD  Aus Dresdens Zigaretten Industrie\\r\\n\\tDresden...   \n",
      "338     P6    WMD        Einleitung.\\r\\n      § 1.\\r\\n      Glaub...   \n",
      "339     P6    WMD  Zimmer im Lenz'schen Hause.\\r\\n(Clara steht au...   \n",
      "340     P6    OOD  Lokales.\\n(Feuer im Allgemeinen Krankenhause.)...   \n",
      "..     ...    ...                                                ...   \n",
      "969     P4    OOD        Es war ein lieblicher Abend des Spätsomm...   \n",
      "970     P4    OMD  \\t\\t\\r\\n\\t\\tDas Vorspiel. \\r\\n(Die Straße nach...   \n",
      "971     P4    WOD  Ein Bauer von Niederweiler pfluͤgt in der vori...   \n",
      "972     P4    OOD  Einleitung \\r\\naus der\\r\\nNaturgeschichte der ...   \n",
      "973     P4    OOD  §. 3. \\r\\n\\r\\nZustand der Stadt Neustadt, zur ...   \n",
      "\n",
      "                         title  year  \n",
      "336    Innsbrucker Nachrichten  1915  \n",
      "337             Arbeiterstimme  1928  \n",
      "338  Evangelischer Sozialismus  1920  \n",
      "339                   Heimkehr  1915  \n",
      "340             Wiener Zeitung  1914  \n",
      "..                         ...   ...  \n",
      "969              Meister GrÑth  1842  \n",
      "970                Schutzgeist  1814  \n",
      "971         Carlsruher Zeitung  1825  \n",
      "972            Krankheitslehre  1811  \n",
      "973  Stadt Wienerisch-Neustadt  1808  \n",
      "\n",
      "[638 rows x 8 columns]\n"
     ]
    }
   ],
   "source": [
    "print(df_inn)"
   ]
  },
  {
   "cell_type": "code",
   "execution_count": null,
   "metadata": {},
   "outputs": [],
   "source": []
  }
 ],
 "metadata": {
  "kernelspec": {
   "display_name": "Python 3",
   "language": "python",
   "name": "python3"
  },
  "language_info": {
   "codemirror_mode": {
    "name": "ipython",
    "version": 3
   },
   "file_extension": ".py",
   "mimetype": "text/x-python",
   "name": "python",
   "nbconvert_exporter": "python",
   "pygments_lexer": "ipython3",
   "version": "3.7.4"
  }
 },
 "nbformat": 4,
 "nbformat_minor": 2
}
