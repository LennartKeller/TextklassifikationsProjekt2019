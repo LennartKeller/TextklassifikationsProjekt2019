{
 "cells": [
  {
   "cell_type": "code",
   "execution_count": 1,
   "metadata": {},
   "outputs": [],
   "source": [
    "import pandas as pd\n",
    "import numpy as np\n",
    "from sklearn.utils import shuffle\n",
    "\n",
    "df = pd.read_csv('dataset.csv')\n",
    "df = shuffle(df, random_state=42)"
   ]
  },
  {
   "cell_type": "code",
   "execution_count": 2,
   "metadata": {},
   "outputs": [
    {
     "data": {
      "text/html": [
       "<div>\n",
       "<style scoped>\n",
       "    .dataframe tbody tr th:only-of-type {\n",
       "        vertical-align: middle;\n",
       "    }\n",
       "\n",
       "    .dataframe tbody tr th {\n",
       "        vertical-align: top;\n",
       "    }\n",
       "\n",
       "    .dataframe thead th {\n",
       "        text-align: right;\n",
       "    }\n",
       "</style>\n",
       "<table border=\"1\" class=\"dataframe\">\n",
       "  <thead>\n",
       "    <tr style=\"text-align: right;\">\n",
       "      <th></th>\n",
       "      <th>Unnamed: 0</th>\n",
       "      <th>genre</th>\n",
       "      <th>period</th>\n",
       "      <th>region</th>\n",
       "      <th>text</th>\n",
       "      <th>title</th>\n",
       "      <th>year</th>\n",
       "    </tr>\n",
       "  </thead>\n",
       "  <tbody>\n",
       "    <tr>\n",
       "      <th>260</th>\n",
       "      <td>260</td>\n",
       "      <td>LEGA</td>\n",
       "      <td>P5</td>\n",
       "      <td>WMD</td>\n",
       "      <td>Neue Sammlung von Gesetzen, Statuten und Veror...</td>\n",
       "      <td>NeueSammlungvonGesetzenStatutenu.Verordnungenf...</td>\n",
       "      <td>1872</td>\n",
       "    </tr>\n",
       "    <tr>\n",
       "      <th>228</th>\n",
       "      <td>228</td>\n",
       "      <td>NEWS</td>\n",
       "      <td>P5</td>\n",
       "      <td>WOD</td>\n",
       "      <td>Bern. Die Unglücksstäte an der Stockern=Sandst...</td>\n",
       "      <td>Berner Intelligenzblatt</td>\n",
       "      <td>1869</td>\n",
       "    </tr>\n",
       "    <tr>\n",
       "      <th>31</th>\n",
       "      <td>31</td>\n",
       "      <td>LEGA</td>\n",
       "      <td>P6</td>\n",
       "      <td>OOD</td>\n",
       "      <td>Verordnungsblatt\\r\\nfür den Dienstbereich des\\...</td>\n",
       "      <td>VerordnungsblattMinisteriumCultus</td>\n",
       "      <td>1902</td>\n",
       "    </tr>\n",
       "    <tr>\n",
       "      <th>583</th>\n",
       "      <td>583</td>\n",
       "      <td>NARR</td>\n",
       "      <td>P4</td>\n",
       "      <td>OMD</td>\n",
       "      <td>Wer sich vorgenommen, Untergebene zu tadeln, w...</td>\n",
       "      <td>Blutrosen von Augsburg</td>\n",
       "      <td>1842</td>\n",
       "    </tr>\n",
       "    <tr>\n",
       "      <th>600</th>\n",
       "      <td>600</td>\n",
       "      <td>SCIE</td>\n",
       "      <td>P4</td>\n",
       "      <td>NoD</td>\n",
       "      <td>Einleitung\\r\\n\\r\\nDie Erscheinungen des Lebens...</td>\n",
       "      <td>physiologische Chemie</td>\n",
       "      <td>1844</td>\n",
       "    </tr>\n",
       "  </tbody>\n",
       "</table>\n",
       "</div>"
      ],
      "text/plain": [
       "     Unnamed: 0 genre period region  \\\n",
       "260         260  LEGA     P5    WMD   \n",
       "228         228  NEWS     P5    WOD   \n",
       "31           31  LEGA     P6    OOD   \n",
       "583         583  NARR     P4    OMD   \n",
       "600         600  SCIE     P4    NoD   \n",
       "\n",
       "                                                  text  \\\n",
       "260  Neue Sammlung von Gesetzen, Statuten und Veror...   \n",
       "228  Bern. Die Unglücksstäte an der Stockern=Sandst...   \n",
       "31   Verordnungsblatt\\r\\nfür den Dienstbereich des\\...   \n",
       "583  Wer sich vorgenommen, Untergebene zu tadeln, w...   \n",
       "600  Einleitung\\r\\n\\r\\nDie Erscheinungen des Lebens...   \n",
       "\n",
       "                                                 title  year  \n",
       "260  NeueSammlungvonGesetzenStatutenu.Verordnungenf...  1872  \n",
       "228                            Berner Intelligenzblatt  1869  \n",
       "31                   VerordnungsblattMinisteriumCultus  1902  \n",
       "583                             Blutrosen von Augsburg  1842  \n",
       "600                              physiologische Chemie  1844  "
      ]
     },
     "execution_count": 2,
     "metadata": {},
     "output_type": "execute_result"
    }
   ],
   "source": [
    "df.head()"
   ]
  },
  {
   "cell_type": "code",
   "execution_count": 3,
   "metadata": {},
   "outputs": [],
   "source": [
    "from sklearn.model_selection import train_test_split\n",
    "\n",
    "df_train, df_test = train_test_split(df, test_size=.2, random_state=42)"
   ]
  },
  {
   "cell_type": "code",
   "execution_count": 4,
   "metadata": {},
   "outputs": [],
   "source": [
    "from sklearn.feature_extraction.text import TfidfVectorizer\n",
    "from stop_words import get_stop_words\n",
    "\n",
    "tf = TfidfVectorizer(stop_words=get_stop_words('de'), max_features=20000)\n",
    "\n",
    "X_train = tf.fit_transform(df_train.text)\n",
    "X_test = tf.transform(df_test.text)"
   ]
  },
  {
   "cell_type": "code",
   "execution_count": 5,
   "metadata": {},
   "outputs": [],
   "source": [
    "y_train = df_train.genre.to_numpy()\n",
    "y_test = df_test.genre.to_numpy()"
   ]
  },
  {
   "cell_type": "code",
   "execution_count": 6,
   "metadata": {},
   "outputs": [
    {
     "name": "stdout",
     "output_type": "stream",
     "text": [
      "              precision    recall  f1-score   support\n",
      "\n",
      "        DRAM       0.00      0.00      0.00        14\n",
      "        HUMA       1.00      0.10      0.18        10\n",
      "        LEGA       0.00      0.00      0.00        20\n",
      "        NARR       1.00      0.12      0.22         8\n",
      "        NEWS       0.41      1.00      0.58        48\n",
      "        SCIE       1.00      0.14      0.24        22\n",
      "        SERM       0.83      0.83      0.83         6\n",
      "\n",
      "    accuracy                           0.45       128\n",
      "   macro avg       0.61      0.31      0.29       128\n",
      "weighted avg       0.51      0.45      0.33       128\n",
      "\n"
     ]
    },
    {
     "name": "stderr",
     "output_type": "stream",
     "text": [
      "/Users/lennartkeller/anaconda3/envs/nlp/lib/python3.7/site-packages/sklearn/metrics/classification.py:1437: UndefinedMetricWarning: Precision and F-score are ill-defined and being set to 0.0 in labels with no predicted samples.\n",
      "  'precision', 'predicted', average, warn_for)\n"
     ]
    }
   ],
   "source": [
    "from sklearn.naive_bayes import MultinomialNB\n",
    "from sklearn.metrics import classification_report\n",
    "\n",
    "naive_bayes = MultinomialNB().fit(X_train, y_train)\n",
    "\n",
    "y_pred = naive_bayes.predict(X_test)\n",
    "print(classification_report(y_test, y_pred))"
   ]
  },
  {
   "cell_type": "code",
   "execution_count": 7,
   "metadata": {},
   "outputs": [
    {
     "name": "stderr",
     "output_type": "stream",
     "text": [
      "/Users/lennartkeller/anaconda3/envs/nlp/lib/python3.7/site-packages/sklearn/linear_model/logistic.py:432: FutureWarning: Default solver will be changed to 'lbfgs' in 0.22. Specify a solver to silence this warning.\n",
      "  FutureWarning)\n",
      "/Users/lennartkeller/anaconda3/envs/nlp/lib/python3.7/site-packages/sklearn/linear_model/logistic.py:469: FutureWarning: Default multi_class will be changed to 'auto' in 0.22. Specify the multi_class option to silence this warning.\n",
      "  \"this warning.\", FutureWarning)\n"
     ]
    },
    {
     "name": "stdout",
     "output_type": "stream",
     "text": [
      "              precision    recall  f1-score   support\n",
      "\n",
      "        DRAM       1.00      0.07      0.13        14\n",
      "        HUMA       1.00      0.40      0.57        10\n",
      "        LEGA       1.00      0.20      0.33        20\n",
      "        NARR       0.50      0.38      0.43         8\n",
      "        NEWS       0.48      1.00      0.65        48\n",
      "        SCIE       1.00      0.32      0.48        22\n",
      "        SERM       0.71      0.83      0.77         6\n",
      "\n",
      "    accuracy                           0.56       128\n",
      "   macro avg       0.81      0.46      0.48       128\n",
      "weighted avg       0.76      0.56      0.50       128\n",
      "\n"
     ]
    }
   ],
   "source": [
    "from sklearn.linear_model import LogisticRegression\n",
    "from sklearn.metrics import classification_report\n",
    "\n",
    "log_reg = LogisticRegression().fit(X_train, y_train)\n",
    "\n",
    "y_pred = log_reg.predict(X_test)\n",
    "print(classification_report(y_test, y_pred))"
   ]
  },
  {
   "cell_type": "code",
   "execution_count": 8,
   "metadata": {},
   "outputs": [
    {
     "name": "stdout",
     "output_type": "stream",
     "text": [
      "              precision    recall  f1-score   support\n",
      "\n",
      "        DRAM       1.00      1.00      1.00        14\n",
      "        HUMA       0.90      0.90      0.90        10\n",
      "        LEGA       1.00      0.90      0.95        20\n",
      "        NARR       0.88      0.88      0.88         8\n",
      "        NEWS       0.92      1.00      0.96        48\n",
      "        SCIE       1.00      0.95      0.98        22\n",
      "        SERM       1.00      0.83      0.91         6\n",
      "\n",
      "    accuracy                           0.95       128\n",
      "   macro avg       0.96      0.92      0.94       128\n",
      "weighted avg       0.96      0.95      0.95       128\n",
      "\n"
     ]
    }
   ],
   "source": [
    "from sklearn.svm import LinearSVC\n",
    "from sklearn.metrics import classification_report\n",
    "\n",
    "lin_svm = LinearSVC(C=2, loss='hinge', penalty='l2').fit(X_train, y_train)\n",
    "\n",
    "y_pred = lin_svm.predict(X_test)\n",
    "print(classification_report(y_test, y_pred))"
   ]
  },
  {
   "cell_type": "code",
   "execution_count": 9,
   "metadata": {},
   "outputs": [
    {
     "name": "stdout",
     "output_type": "stream",
     "text": [
      "              precision    recall  f1-score   support\n",
      "\n",
      "        DRAM       1.00      0.93      0.96        14\n",
      "        HUMA       0.82      0.90      0.86        10\n",
      "        LEGA       1.00      0.90      0.95        20\n",
      "        NARR       0.78      0.88      0.82         8\n",
      "        NEWS       0.94      1.00      0.97        48\n",
      "        SCIE       1.00      0.95      0.98        22\n",
      "        SERM       1.00      0.83      0.91         6\n",
      "\n",
      "    accuracy                           0.95       128\n",
      "   macro avg       0.93      0.91      0.92       128\n",
      "weighted avg       0.95      0.95      0.95       128\n",
      "\n",
      "Needed 12 iterations for convergence\n"
     ]
    }
   ],
   "source": [
    "from sklearn.linear_model import SGDClassifier\n",
    "from sklearn.metrics import classification_report\n",
    "\n",
    "lin_svm_sgd = SGDClassifier(loss='hinge',\n",
    "                            penalty='l2').fit(X_train, y_train)\n",
    "\n",
    "y_pred = lin_svm_sgd.predict(X_test)\n",
    "print(classification_report(y_test, y_pred))\n",
    "print(f'Needed {lin_svm_sgd.n_iter_} iterations for convergence')"
   ]
  },
  {
   "cell_type": "code",
   "execution_count": 10,
   "metadata": {},
   "outputs": [
    {
     "name": "stderr",
     "output_type": "stream",
     "text": [
      "/Users/lennartkeller/anaconda3/envs/nlp/lib/python3.7/site-packages/sklearn/model_selection/_split.py:657: Warning: The least populated class in y has only 1 members, which is too few. The minimum number of members in any class cannot be less than n_splits=10.\n",
      "  % (min_groups, self.n_splits)), Warning)\n",
      "/Users/lennartkeller/anaconda3/envs/nlp/lib/python3.7/site-packages/sklearn/metrics/classification.py:1437: UndefinedMetricWarning: F-score is ill-defined and being set to 0.0 in labels with no predicted samples.\n",
      "  'precision', 'predicted', average, warn_for)\n"
     ]
    },
    {
     "data": {
      "text/plain": [
       "(array([0.80351593, 0.79154813, 0.9173559 , 0.89574315, 0.82892366,\n",
       "        0.90285374, 0.94076503, 0.82414966, 0.82121212, 0.83333333]),\n",
       " 0.8559400653193083)"
      ]
     },
     "execution_count": 10,
     "metadata": {},
     "output_type": "execute_result"
    }
   ],
   "source": [
    "from sklearn.model_selection import cross_val_score\n",
    "\n",
    "ten_fold_cv_results = cross_val_score(\n",
    "    \n",
    "    LinearSVC(),\n",
    "    X_train,\n",
    "    y_train,\n",
    "    cv=10,\n",
    "    scoring='f1_macro'\n",
    ")\n",
    "ten_fold_cv_results, np.mean(ten_fold_cv_results)"
   ]
  },
  {
   "cell_type": "code",
   "execution_count": 47,
   "metadata": {},
   "outputs": [
    {
     "name": "stderr",
     "output_type": "stream",
     "text": [
      "/Users/lennartkeller/anaconda3/envs/nlp/lib/python3.7/site-packages/sklearn/model_selection/_split.py:1978: FutureWarning: The default value of cv will change from 3 to 5 in version 0.22. Specify it explicitly to silence this warning.\n",
      "  warnings.warn(CV_WARNING, FutureWarning)\n",
      "/Users/lennartkeller/anaconda3/envs/nlp/lib/python3.7/site-packages/sklearn/model_selection/_split.py:657: Warning: The least populated class in y has only 1 members, which is too few. The minimum number of members in any class cannot be less than n_splits=3.\n",
      "  % (min_groups, self.n_splits)), Warning)\n",
      "[Parallel(n_jobs=-1)]: Using backend LokyBackend with 4 concurrent workers.\n"
     ]
    },
    {
     "name": "stdout",
     "output_type": "stream",
     "text": [
      "Fitting 3 folds for each of 336 candidates, totalling 1008 fits\n"
     ]
    },
    {
     "name": "stderr",
     "output_type": "stream",
     "text": [
      "[Parallel(n_jobs=-1)]: Done  42 tasks      | elapsed:   12.5s\n",
      "[Parallel(n_jobs=-1)]: Done 192 tasks      | elapsed:   42.3s\n",
      "[Parallel(n_jobs=-1)]: Done 442 tasks      | elapsed:  1.4min\n",
      "[Parallel(n_jobs=-1)]: Done 792 tasks      | elapsed:  2.6min\n",
      "[Parallel(n_jobs=-1)]: Done 1008 out of 1008 | elapsed:  3.2min finished\n"
     ]
    },
    {
     "data": {
      "text/plain": [
       "GridSearchCV(cv='warn', error_score='raise-deprecating',\n",
       "             estimator=SGDClassifier(alpha=0.0001, average=False,\n",
       "                                     class_weight=None, early_stopping=False,\n",
       "                                     epsilon=0.1, eta0=0.0, fit_intercept=True,\n",
       "                                     l1_ratio=0.15, learning_rate='optimal',\n",
       "                                     loss='hinge', max_iter=1000,\n",
       "                                     n_iter_no_change=5, n_jobs=None,\n",
       "                                     penalty='l2', power_t=0.5,\n",
       "                                     random_state=None, shuffle=True, tol=0.001,\n",
       "                                     val...ion_fraction=0.1, verbose=0,\n",
       "                                     warm_start=False),\n",
       "             iid='warn', n_jobs=-1,\n",
       "             param_grid={'alpha': [0.001, 0.0001, 1e-05, 1e-05],\n",
       "                         'eta0': [0.1, 0.01, 0.001, 0.0001, 1e-05, 1e-06,\n",
       "                                  1e-07],\n",
       "                         'learning_rate': ['constant', 'optimal', 'invscaling',\n",
       "                                           'adaptive'],\n",
       "                         'penalty': ['l1', 'l2', 'elasticnet']},\n",
       "             pre_dispatch='2*n_jobs', refit=True, return_train_score=False,\n",
       "             scoring='f1_macro', verbose=1)"
      ]
     },
     "execution_count": 47,
     "metadata": {},
     "output_type": "execute_result"
    }
   ],
   "source": [
    "from sklearn.model_selection import GridSearchCV\n",
    "\n",
    "lin_svm_sgd_params = {\n",
    "    'penalty': ['l1', 'l2', 'elasticnet'],\n",
    "    'alpha': [0.001, 0.0001, 0.00001, 0.00001],\n",
    "    'learning_rate': ['constant', 'optimal', 'invscaling', 'adaptive'],\n",
    "    'eta0': [0.1, 0.01, 0.001, 0.0001, 0.00001, 0.000001, 0.0000001]\n",
    "}\n",
    "\n",
    "lin_svm_sgd_gridseach = GridSearchCV(SGDClassifier(loss='hinge'),\n",
    "                                     param_grid=lin_svm_sgd_params,\n",
    "                                     scoring='f1_macro',\n",
    "                                     n_jobs=-1,\n",
    "                                     verbose=1)\n",
    "\n",
    "lin_svm_sgd_gridseach.fit(X_train, y_train)"
   ]
  },
  {
   "cell_type": "code",
   "execution_count": 48,
   "metadata": {},
   "outputs": [
    {
     "data": {
      "text/plain": [
       "({'alpha': 0.0001, 'eta0': 0.1, 'learning_rate': 'constant', 'penalty': 'l2'},\n",
       " 0.8734023325967687)"
      ]
     },
     "execution_count": 48,
     "metadata": {},
     "output_type": "execute_result"
    }
   ],
   "source": [
    "lin_svm_sgd_gridseach.best_params_, lin_svm_sgd_gridseach.best_score_"
   ]
  },
  {
   "cell_type": "code",
   "execution_count": 14,
   "metadata": {},
   "outputs": [
    {
     "name": "stdout",
     "output_type": "stream",
     "text": [
      "              precision    recall  f1-score   support\n",
      "\n",
      "        DRAM       0.67      0.46      0.55        13\n",
      "        HUMA       0.70      0.47      0.56        15\n",
      "        LEGA       0.67      0.62      0.64        13\n",
      "        NARR       0.62      0.50      0.55        16\n",
      "        NEWS       0.67      0.79      0.72        38\n",
      "        SCIE       0.44      0.39      0.41        18\n",
      "        SERM       0.61      0.93      0.74        15\n",
      "\n",
      "    accuracy                           0.62       128\n",
      "   macro avg       0.62      0.59      0.60       128\n",
      "weighted avg       0.63      0.62      0.61       128\n",
      "\n"
     ]
    }
   ],
   "source": [
    "from sklearn.tree import DecisionTreeClassifier\n",
    "from sklearn.metrics import classification_report\n",
    "\n",
    "dec_tree = DecisionTreeClassifier().fit(X_train, y_train)\n",
    "\n",
    "y_pred = dec_tree.predict(X_test)\n",
    "print(classification_report(y_test, y_pred))"
   ]
  },
  {
   "cell_type": "code",
   "execution_count": 15,
   "metadata": {},
   "outputs": [
    {
     "name": "stdout",
     "output_type": "stream",
     "text": [
      "              precision    recall  f1-score   support\n",
      "\n",
      "        DRAM       0.92      0.92      0.92        13\n",
      "        HUMA       0.50      0.20      0.29        15\n",
      "        LEGA       0.79      0.85      0.81        13\n",
      "        NARR       0.91      0.62      0.74        16\n",
      "        NEWS       0.58      1.00      0.73        38\n",
      "        SCIE       0.83      0.28      0.42        18\n",
      "        SERM       0.75      0.60      0.67        15\n",
      "\n",
      "    accuracy                           0.69       128\n",
      "   macro avg       0.75      0.64      0.65       128\n",
      "weighted avg       0.72      0.69      0.66       128\n",
      "\n"
     ]
    },
    {
     "name": "stderr",
     "output_type": "stream",
     "text": [
      "/Users/lennartkeller/anaconda3/envs/nlp/lib/python3.7/site-packages/sklearn/ensemble/forest.py:245: FutureWarning: The default value of n_estimators will change from 10 in version 0.20 to 100 in 0.22.\n",
      "  \"10 in version 0.20 to 100 in 0.22.\", FutureWarning)\n"
     ]
    }
   ],
   "source": [
    "from sklearn.ensemble import RandomForestClassifier\n",
    "from sklearn.metrics import classification_report\n",
    "\n",
    "rand_forest = RandomForestClassifier().fit(X_train, y_train)\n",
    "\n",
    "y_pred = rand_forest.predict(X_test)\n",
    "print(classification_report(y_test, y_pred))"
   ]
  },
  {
   "cell_type": "code",
   "execution_count": null,
   "metadata": {},
   "outputs": [],
   "source": [
    "from sklearn.ensemble import RandomForestClassifier\n",
    "from sklearn.metrics import classification_report\n",
    "\n",
    "rand_forest = RandomForestClassifier().fit(X_train, y_train)\n",
    "\n",
    "y_pred = rand_forest.predict(X_test)\n",
    "print(classification_report(y_test, y_pred))"
   ]
  }
 ],
 "metadata": {
  "kernelspec": {
   "display_name": "Python 3",
   "language": "python",
   "name": "python3"
  },
  "language_info": {
   "codemirror_mode": {
    "name": "ipython",
    "version": 3
   },
   "file_extension": ".py",
   "mimetype": "text/x-python",
   "name": "python",
   "nbconvert_exporter": "python",
   "pygments_lexer": "ipython3",
   "version": "3.7.4"
  }
 },
 "nbformat": 4,
 "nbformat_minor": 2
}
