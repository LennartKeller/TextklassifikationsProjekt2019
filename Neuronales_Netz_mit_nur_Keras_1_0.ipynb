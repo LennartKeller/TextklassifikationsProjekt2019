{
  "nbformat": 4,
  "nbformat_minor": 0,
  "metadata": {
    "colab": {
      "name": "Neuronales Netz mit nur Keras 1.0",
      "provenance": [],
      "collapsed_sections": [],
      "machine_shape": "hm",
      "authorship_tag": "ABX9TyNrHNl/g+VqGzM3vmlZ7aVu",
      "include_colab_link": true
    },
    "kernelspec": {
      "name": "python3",
      "display_name": "Python 3"
    }
  },
  "cells": [
    {
      "cell_type": "markdown",
      "metadata": {
        "id": "view-in-github",
        "colab_type": "text"
      },
      "source": [
        "<a href=\"https://colab.research.google.com/github/LennartKeller/TextklassifikationsProjekt2019/blob/master/Neuronales_Netz_mit_nur_Keras_1_0.ipynb\" target=\"_parent\"><img src=\"https://colab.research.google.com/assets/colab-badge.svg\" alt=\"Open In Colab\"/></a>"
      ]
    },
    {
      "cell_type": "code",
      "metadata": {
        "id": "h_ep5-mrwT3d",
        "colab_type": "code",
        "outputId": "bdf38b5d-7caa-49fe-9ca4-402cb51bdbd4",
        "colab": {
          "base_uri": "https://localhost:8080/",
          "height": 35
        }
      },
      "source": [
        "from keras import backend as K\n",
        "K.tensorflow_backend._get_available_gpus()"
      ],
      "execution_count": 0,
      "outputs": [
        {
          "output_type": "execute_result",
          "data": {
            "text/plain": [
              "[]"
            ]
          },
          "metadata": {
            "tags": []
          },
          "execution_count": 14
        }
      ]
    },
    {
      "cell_type": "code",
      "metadata": {
        "id": "73sF6wjwx0zv",
        "colab_type": "code",
        "colab": {}
      },
      "source": [
        "from keras import models\n",
        "from keras import layers\n",
        "from keras.layers import Flatten\n",
        "from keras.utils.np_utils import to_categorical\n",
        "\n",
        "from sklearn.feature_extraction.text import CountVectorizer, TfidfVectorizer\n",
        "from sklearn.preprocessing import LabelEncoder, OneHotEncoder\n",
        "from sklearn.model_selection import train_test_split\n",
        "from keras.layers import Embedding\n",
        "\n",
        "import pandas as pd\n",
        "import numpy as np\n",
        "import matplotlib.pyplot as plt"
      ],
      "execution_count": 0,
      "outputs": []
    },
    {
      "cell_type": "code",
      "metadata": {
        "id": "HPRmNmaG0KkE",
        "colab_type": "code",
        "outputId": "c69431f0-9025-4a3f-8fa0-10228f44dfda",
        "colab": {
          "base_uri": "https://localhost:8080/",
          "height": 35
        }
      },
      "source": [
        "from google.colab import drive\n",
        "\n",
        "drive.mount('/content/gdrive')"
      ],
      "execution_count": 0,
      "outputs": [
        {
          "output_type": "stream",
          "text": [
            "Drive already mounted at /content/gdrive; to attempt to forcibly remount, call drive.mount(\"/content/gdrive\", force_remount=True).\n"
          ],
          "name": "stdout"
        }
      ]
    },
    {
      "cell_type": "code",
      "metadata": {
        "id": "LnBoGhHtymIM",
        "colab_type": "code",
        "colab": {}
      },
      "source": [
        "df = pd.read_csv('/content/gdrive/My Drive/full_taggeddataset.csv')"
      ],
      "execution_count": 0,
      "outputs": []
    },
    {
      "cell_type": "code",
      "metadata": {
        "id": "RfGGN-8T_NtT",
        "colab_type": "code",
        "colab": {}
      },
      "source": [
        ""
      ],
      "execution_count": 0,
      "outputs": []
    },
    {
      "cell_type": "code",
      "metadata": {
        "id": "DeJ42E8B-tny",
        "colab_type": "code",
        "colab": {}
      },
      "source": [
        "from sklearn.model_selection import train_test_split\n",
        "\n",
        "#df_train, df_test = train_test_split(df[df.period == 'P1'], random_state=42, test_size=0.1)\n",
        "\n",
        "df_train = df[df.period == 'P1']\n",
        "df_test = df[df.period != 'P1']"
      ],
      "execution_count": 0,
      "outputs": []
    },
    {
      "cell_type": "code",
      "metadata": {
        "id": "PVezeF5rnR03",
        "colab_type": "code",
        "outputId": "1326e00a-798e-486f-ebdb-940e44faaf0c",
        "colab": {
          "base_uri": "https://localhost:8080/",
          "height": 615
        }
      },
      "source": [
        "df_test"
      ],
      "execution_count": 0,
      "outputs": [
        {
          "output_type": "execute_result",
          "data": {
            "text/html": [
              "<div>\n",
              "<style scoped>\n",
              "    .dataframe tbody tr th:only-of-type {\n",
              "        vertical-align: middle;\n",
              "    }\n",
              "\n",
              "    .dataframe tbody tr th {\n",
              "        vertical-align: top;\n",
              "    }\n",
              "\n",
              "    .dataframe thead th {\n",
              "        text-align: right;\n",
              "    }\n",
              "</style>\n",
              "<table border=\"1\" class=\"dataframe\">\n",
              "  <thead>\n",
              "    <tr style=\"text-align: right;\">\n",
              "      <th></th>\n",
              "      <th>Unnamed: 0</th>\n",
              "      <th>Unnamed: 0.1</th>\n",
              "      <th>Unnamed: 0.1.1</th>\n",
              "      <th>tokens</th>\n",
              "      <th>pos_tags</th>\n",
              "      <th>lemmas</th>\n",
              "      <th>title</th>\n",
              "      <th>genre</th>\n",
              "      <th>period</th>\n",
              "      <th>region</th>\n",
              "      <th>year</th>\n",
              "      <th>corpus</th>\n",
              "    </tr>\n",
              "  </thead>\n",
              "  <tbody>\n",
              "    <tr>\n",
              "      <th>15</th>\n",
              "      <td>15</td>\n",
              "      <td>15</td>\n",
              "      <td>15</td>\n",
              "      <td>WEnn ich die Hoffnung frage / So sagt sie imme...</td>\n",
              "      <td>KOUS PPER ART NN VVFIN $, ADV VVFIN PPER ADV A...</td>\n",
              "      <td>wenn ich die Hoffnung fragen / so sagen Sie im...</td>\n",
              "      <td>SchaeferSpiel.txt</td>\n",
              "      <td>DRAM</td>\n",
              "      <td>P2</td>\n",
              "      <td>NOD</td>\n",
              "      <td>1707</td>\n",
              "      <td>manchester</td>\n",
              "    </tr>\n",
              "    <tr>\n",
              "      <th>16</th>\n",
              "      <td>16</td>\n",
              "      <td>16</td>\n",
              "      <td>16</td>\n",
              "      <td>Hoert / wie die Eulen Fuͤr lauter Liebe heulen...</td>\n",
              "      <td>VVIMP $, KOUS ART NN APPR PIAT NN VVINF SENT A...</td>\n",
              "      <td>hören / wie die Eulen für lauter Liebe heulen ...</td>\n",
              "      <td>Croesus.txt</td>\n",
              "      <td>DRAM</td>\n",
              "      <td>P2</td>\n",
              "      <td>NOD</td>\n",
              "      <td>1711</td>\n",
              "      <td>manchester</td>\n",
              "    </tr>\n",
              "    <tr>\n",
              "      <th>17</th>\n",
              "      <td>17</td>\n",
              "      <td>17</td>\n",
              "      <td>17</td>\n",
              "      <td>Sorgen Sie nicht . Ich glaube gewiß , daß unsr...</td>\n",
              "      <td>VVIMP PPER PTKNEG SENT PPER VVFIN ADJD $, KOUS...</td>\n",
              "      <td>sorgen Sie nicht . ich glauben gewiß , daß uns...</td>\n",
              "      <td>AlteJungfer.txt</td>\n",
              "      <td>DRAM</td>\n",
              "      <td>P2</td>\n",
              "      <td>NOD</td>\n",
              "      <td>1749</td>\n",
              "      <td>manchester</td>\n",
              "    </tr>\n",
              "    <tr>\n",
              "      <th>18</th>\n",
              "      <td>18</td>\n",
              "      <td>18</td>\n",
              "      <td>18</td>\n",
              "      <td>Ein andrer wuͤrde itzt in tausend Aengsten sey...</td>\n",
              "      <td>ART PIS VAFIN ADV APPR CARD NN VAINF $, ADV AD...</td>\n",
              "      <td>ein ander werden jetzt in tausend Aengsten sei...</td>\n",
              "      <td>Cato.txt</td>\n",
              "      <td>DRAM</td>\n",
              "      <td>P2</td>\n",
              "      <td>OMD</td>\n",
              "      <td>1732</td>\n",
              "      <td>manchester</td>\n",
              "    </tr>\n",
              "    <tr>\n",
              "      <th>19</th>\n",
              "      <td>19</td>\n",
              "      <td>19</td>\n",
              "      <td>19</td>\n",
              "      <td>Ich hoͤre , daß meine Tochter Dorchen etwas kr...</td>\n",
              "      <td>PPER VVFIN $, KOUS PPOSAT NN NE ADV ADJD VAFIN...</td>\n",
              "      <td>ich hören , daß mein Tochter Dorchen etwas kra...</td>\n",
              "      <td>Fischbein.txt</td>\n",
              "      <td>DRAM</td>\n",
              "      <td>P2</td>\n",
              "      <td>OMD</td>\n",
              "      <td>1736</td>\n",
              "      <td>manchester</td>\n",
              "    </tr>\n",
              "    <tr>\n",
              "      <th>...</th>\n",
              "      <td>...</td>\n",
              "      <td>...</td>\n",
              "      <td>...</td>\n",
              "      <td>...</td>\n",
              "      <td>...</td>\n",
              "      <td>...</td>\n",
              "      <td>...</td>\n",
              "      <td>...</td>\n",
              "      <td>...</td>\n",
              "      <td>...</td>\n",
              "      <td>...</td>\n",
              "      <td>...</td>\n",
              "    </tr>\n",
              "    <tr>\n",
              "      <th>655</th>\n",
              "      <td>967</td>\n",
              "      <td>969</td>\n",
              "      <td>633</td>\n",
              "      <td>Kameraden ! Daheim in den Silvester = Gottesdi...</td>\n",
              "      <td>NN $. ADV APPR ART NN $( NN VVFIN PPER ADV NN ...</td>\n",
              "      <td>Kamerad ! daheim in die Silvester = Gottesdien...</td>\n",
              "      <td>Zwölf</td>\n",
              "      <td>SERM</td>\n",
              "      <td>P6</td>\n",
              "      <td>WMD</td>\n",
              "      <td>1917</td>\n",
              "      <td>innsbruck</td>\n",
              "    </tr>\n",
              "    <tr>\n",
              "      <th>656</th>\n",
              "      <td>968</td>\n",
              "      <td>970</td>\n",
              "      <td>634</td>\n",
              "      <td>Ein jeder Uebergang im Leben hat seine besonde...</td>\n",
              "      <td>ART PIAT NN APPRART NN VAFIN PPOSAT ADJA $, AD...</td>\n",
              "      <td>eine jede Uebergang in die Leben haben sein be...</td>\n",
              "      <td>Hochzeits-Predigt</td>\n",
              "      <td>SERM</td>\n",
              "      <td>P6</td>\n",
              "      <td>WOD</td>\n",
              "      <td>1906</td>\n",
              "      <td>innsbruck</td>\n",
              "    </tr>\n",
              "    <tr>\n",
              "      <th>657</th>\n",
              "      <td>969</td>\n",
              "      <td>971</td>\n",
              "      <td>635</td>\n",
              "      <td>Andächtige Christen , Geliebte im Herrn ! Als ...</td>\n",
              "      <td>ADJA NN $, NN APPRART NN $. KOUS ART ADJA NE P...</td>\n",
              "      <td>andächtig Christ , Geliebte in die Herr ! als ...</td>\n",
              "      <td>Der</td>\n",
              "      <td>SERM</td>\n",
              "      <td>P6</td>\n",
              "      <td>WOD</td>\n",
              "      <td>1914</td>\n",
              "      <td>innsbruck</td>\n",
              "    </tr>\n",
              "    <tr>\n",
              "      <th>658</th>\n",
              "      <td>970</td>\n",
              "      <td>972</td>\n",
              "      <td>636</td>\n",
              "      <td>Darum wollen wir mit getroster Zuversicht ihn ...</td>\n",
              "      <td>PAV VMFIN PPER APPR ADJA NN PPER VVINF $, KOUS...</td>\n",
              "      <td>darum wollen wir mit getroster Zuversicht er b...</td>\n",
              "      <td>Zur</td>\n",
              "      <td>SERM</td>\n",
              "      <td>P6</td>\n",
              "      <td>WOD</td>\n",
              "      <td>1916</td>\n",
              "      <td>innsbruck</td>\n",
              "    </tr>\n",
              "    <tr>\n",
              "      <th>659</th>\n",
              "      <td>971</td>\n",
              "      <td>973</td>\n",
              "      <td>637</td>\n",
              "      <td>Die Eingliederung unserer evang. Jugendvereine...</td>\n",
              "      <td>ART NN PPOSAT ADJA NN APPR ART NN VAFIN PPOSAT...</td>\n",
              "      <td>die Eingliederung unser evang. Jugendverein in...</td>\n",
              "      <td>Unsere</td>\n",
              "      <td>SERM</td>\n",
              "      <td>P6</td>\n",
              "      <td>WOD</td>\n",
              "      <td>1934</td>\n",
              "      <td>innsbruck</td>\n",
              "    </tr>\n",
              "  </tbody>\n",
              "</table>\n",
              "<p>570 rows × 12 columns</p>\n",
              "</div>"
            ],
            "text/plain": [
              "     Unnamed: 0  Unnamed: 0.1  Unnamed: 0.1.1  ... region  year      corpus\n",
              "15           15            15              15  ...    NOD  1707  manchester\n",
              "16           16            16              16  ...    NOD  1711  manchester\n",
              "17           17            17              17  ...    NOD  1749  manchester\n",
              "18           18            18              18  ...    OMD  1732  manchester\n",
              "19           19            19              19  ...    OMD  1736  manchester\n",
              "..          ...           ...             ...  ...    ...   ...         ...\n",
              "655         967           969             633  ...    WMD  1917   innsbruck\n",
              "656         968           970             634  ...    WOD  1906   innsbruck\n",
              "657         969           971             635  ...    WOD  1914   innsbruck\n",
              "658         970           972             636  ...    WOD  1916   innsbruck\n",
              "659         971           973             637  ...    WOD  1934   innsbruck\n",
              "\n",
              "[570 rows x 12 columns]"
            ]
          },
          "metadata": {
            "tags": []
          },
          "execution_count": 19
        }
      ]
    },
    {
      "cell_type": "code",
      "metadata": {
        "id": "v6v_7ipsz1yj",
        "colab_type": "code",
        "colab": {}
      },
      "source": [
        "from keras.preprocessing.text import Tokenizer\n",
        "\n",
        "tok = Tokenizer (num_words=20000)\n",
        "tok.fit_on_texts(df_train.lemmas)\n",
        "\n",
        "Xk_train = tok.texts_to_matrix(df_train.lemmas)\n",
        "Xk_test = tok.texts_to_matrix(df_test.lemmas)"
      ],
      "execution_count": 0,
      "outputs": []
    },
    {
      "cell_type": "code",
      "metadata": {
        "id": "cN1sUGN_-66f",
        "colab_type": "code",
        "outputId": "ee72db08-b734-43c0-a5fa-ad600ef6ae62",
        "colab": {
          "base_uri": "https://localhost:8080/",
          "height": 35
        }
      },
      "source": [
        "\n",
        "Xk_train.shape"
      ],
      "execution_count": 0,
      "outputs": [
        {
          "output_type": "execute_result",
          "data": {
            "text/plain": [
              "(90, 20000)"
            ]
          },
          "metadata": {
            "tags": []
          },
          "execution_count": 21
        }
      ]
    },
    {
      "cell_type": "code",
      "metadata": {
        "id": "Wor_3rfFJ0Tb",
        "colab_type": "code",
        "colab": {}
      },
      "source": [
        ""
      ],
      "execution_count": 0,
      "outputs": []
    },
    {
      "cell_type": "code",
      "metadata": {
        "id": "WN9BfCJwK4PD",
        "colab_type": "code",
        "colab": {}
      },
      "source": [
        "y_train = df_train.genre\n",
        "y_test = df_test.genre"
      ],
      "execution_count": 0,
      "outputs": []
    },
    {
      "cell_type": "code",
      "metadata": {
        "id": "ynSjpr7Immla",
        "colab_type": "code",
        "outputId": "9235a671-4b35-4d87-b5ef-aae524f43bbe",
        "colab": {
          "base_uri": "https://localhost:8080/",
          "height": 237
        }
      },
      "source": [
        "y_train"
      ],
      "execution_count": 34,
      "outputs": [
        {
          "output_type": "execute_result",
          "data": {
            "text/plain": [
              "0      DRAM\n",
              "1      DRAM\n",
              "2      DRAM\n",
              "3      DRAM\n",
              "4      DRAM\n",
              "       ... \n",
              "235    SERM\n",
              "236    SERM\n",
              "237    SERM\n",
              "238    SERM\n",
              "239    SERM\n",
              "Name: genre, Length: 90, dtype: object"
            ]
          },
          "metadata": {
            "tags": []
          },
          "execution_count": 34
        }
      ]
    },
    {
      "cell_type": "code",
      "metadata": {
        "id": "3AKWEtPAJ6Fk",
        "colab_type": "code",
        "colab": {}
      },
      "source": [
        "import keras\n",
        "from keras import optimizers\n",
        "from keras.utils import to_categorical\n",
        "from sklearn.preprocessing import LabelEncoder\n",
        "le = LabelEncoder()\n",
        "yk_train = le.fit_transform(y_train)\n",
        "yk_test = le.transform(y_test)\n",
        "\n",
        "yk_train = to_categorical(yk_train)\n",
        "\n",
        "from keras.models import Sequential\n",
        "from keras.layers import Input, Dense, Dropout, Reshape\n",
        "\n",
        "def build_model(num_words, n_classes, hiddenlayer_size=512, n_hiddenlayer=1):\n",
        "    model = Sequential()\n",
        "    model.add(Dense(hiddenlayer_size, input_shape=(num_words, ), activation='relu'))\n",
        "    model.add(Dropout(0.5))\n",
        "    for i in range(n_hiddenlayer):\n",
        "        model.add(Dense(hiddenlayer_size, activation='relu'))\n",
        "        model.add(Dropout(0.5))\n",
        "    model.add(Dense(n_classes, activation='softmax'))\n",
        "    model.compile(optimizer='rmsprop', loss='categorical_crossentropy', metrics=['accuracy'])\n",
        "    model.summary()\n",
        "    return model"
      ],
      "execution_count": 0,
      "outputs": []
    },
    {
      "cell_type": "code",
      "metadata": {
        "id": "NcGmPlMjLFJj",
        "colab_type": "code",
        "outputId": "b7dcbe0c-4ebd-4809-a8b2-594e621b7c30",
        "colab": {
          "base_uri": "https://localhost:8080/",
          "height": 495
        }
      },
      "source": [
        "import numpy as np\n",
        "\n",
        "model = build_model(20000,\n",
        "                    len(np.unique(y_train)),\n",
        "                    n_hiddenlayer=3,\n",
        "                    hiddenlayer_size=1024)\n",
        "                    "
      ],
      "execution_count": 0,
      "outputs": [
        {
          "output_type": "stream",
          "text": [
            "Model: \"sequential_2\"\n",
            "_________________________________________________________________\n",
            "Layer (type)                 Output Shape              Param #   \n",
            "=================================================================\n",
            "dense_6 (Dense)              (None, 1024)              20481024  \n",
            "_________________________________________________________________\n",
            "dropout_5 (Dropout)          (None, 1024)              0         \n",
            "_________________________________________________________________\n",
            "dense_7 (Dense)              (None, 1024)              1049600   \n",
            "_________________________________________________________________\n",
            "dropout_6 (Dropout)          (None, 1024)              0         \n",
            "_________________________________________________________________\n",
            "dense_8 (Dense)              (None, 1024)              1049600   \n",
            "_________________________________________________________________\n",
            "dropout_7 (Dropout)          (None, 1024)              0         \n",
            "_________________________________________________________________\n",
            "dense_9 (Dense)              (None, 1024)              1049600   \n",
            "_________________________________________________________________\n",
            "dropout_8 (Dropout)          (None, 1024)              0         \n",
            "_________________________________________________________________\n",
            "dense_10 (Dense)             (None, 6)                 6150      \n",
            "=================================================================\n",
            "Total params: 23,635,974\n",
            "Trainable params: 23,635,974\n",
            "Non-trainable params: 0\n",
            "_________________________________________________________________\n"
          ],
          "name": "stdout"
        }
      ]
    },
    {
      "cell_type": "code",
      "metadata": {
        "id": "9D7NuyHtLn27",
        "colab_type": "code",
        "outputId": "228343a2-e39b-40a4-95f3-eac1ad779905",
        "colab": {
          "base_uri": "https://localhost:8080/",
          "height": 1000
        }
      },
      "source": [
        "history = model.fit(Xk_train, yk_train,\n",
        "                    batch_size=25,\n",
        "                    validation_split=0.2,\n",
        "                    epochs=40)"
      ],
      "execution_count": 0,
      "outputs": [
        {
          "output_type": "stream",
          "text": [
            "WARNING:tensorflow:From /usr/local/lib/python3.6/dist-packages/tensorflow_core/python/ops/math_grad.py:1424: where (from tensorflow.python.ops.array_ops) is deprecated and will be removed in a future version.\n",
            "Instructions for updating:\n",
            "Use tf.where in 2.0, which has the same broadcast rule as np.where\n",
            "WARNING:tensorflow:From /usr/local/lib/python3.6/dist-packages/keras/backend/tensorflow_backend.py:1033: The name tf.assign_add is deprecated. Please use tf.compat.v1.assign_add instead.\n",
            "\n",
            "WARNING:tensorflow:From /usr/local/lib/python3.6/dist-packages/keras/backend/tensorflow_backend.py:1020: The name tf.assign is deprecated. Please use tf.compat.v1.assign instead.\n",
            "\n",
            "Train on 72 samples, validate on 18 samples\n",
            "Epoch 1/40\n",
            "WARNING:tensorflow:From /usr/local/lib/python3.6/dist-packages/keras/backend/tensorflow_backend.py:216: The name tf.is_variable_initialized is deprecated. Please use tf.compat.v1.is_variable_initialized instead.\n",
            "\n",
            "WARNING:tensorflow:From /usr/local/lib/python3.6/dist-packages/keras/backend/tensorflow_backend.py:223: The name tf.variables_initializer is deprecated. Please use tf.compat.v1.variables_initializer instead.\n",
            "\n",
            "72/72 [==============================] - 2s 25ms/step - loss: 3.9113 - acc: 0.1250 - val_loss: 3.5153 - val_acc: 0.0000e+00\n",
            "Epoch 2/40\n",
            "72/72 [==============================] - 1s 7ms/step - loss: 2.6849 - acc: 0.2778 - val_loss: 2.3820 - val_acc: 0.0000e+00\n",
            "Epoch 3/40\n",
            "72/72 [==============================] - 1s 8ms/step - loss: 1.5565 - acc: 0.3472 - val_loss: 2.7243 - val_acc: 0.0000e+00\n",
            "Epoch 4/40\n",
            "72/72 [==============================] - 1s 7ms/step - loss: 1.3426 - acc: 0.5000 - val_loss: 2.6427 - val_acc: 0.1667\n",
            "Epoch 5/40\n",
            "72/72 [==============================] - 1s 7ms/step - loss: 1.4617 - acc: 0.5972 - val_loss: 2.5603 - val_acc: 0.0000e+00\n",
            "Epoch 6/40\n",
            "72/72 [==============================] - 1s 7ms/step - loss: 0.9483 - acc: 0.6389 - val_loss: 2.7249 - val_acc: 0.0000e+00\n",
            "Epoch 7/40\n",
            "72/72 [==============================] - 1s 7ms/step - loss: 0.7239 - acc: 0.6806 - val_loss: 2.5503 - val_acc: 0.0556\n",
            "Epoch 8/40\n",
            "72/72 [==============================] - 1s 7ms/step - loss: 0.2263 - acc: 0.9306 - val_loss: 2.5041 - val_acc: 0.1111\n",
            "Epoch 9/40\n",
            "72/72 [==============================] - 1s 7ms/step - loss: 0.1541 - acc: 0.9722 - val_loss: 2.7285 - val_acc: 0.0556\n",
            "Epoch 10/40\n",
            "72/72 [==============================] - 1s 7ms/step - loss: 0.1843 - acc: 0.9444 - val_loss: 2.7551 - val_acc: 0.1111\n",
            "Epoch 11/40\n",
            "72/72 [==============================] - 1s 7ms/step - loss: 0.1149 - acc: 0.9583 - val_loss: 2.9394 - val_acc: 0.1111\n",
            "Epoch 12/40\n",
            "72/72 [==============================] - 1s 7ms/step - loss: 0.0551 - acc: 1.0000 - val_loss: 3.3535 - val_acc: 0.1111\n",
            "Epoch 13/40\n",
            "72/72 [==============================] - 1s 7ms/step - loss: 0.0651 - acc: 0.9722 - val_loss: 3.5803 - val_acc: 0.0556\n",
            "Epoch 14/40\n",
            "72/72 [==============================] - 1s 7ms/step - loss: 0.0784 - acc: 0.9722 - val_loss: 3.9105 - val_acc: 0.1667\n",
            "Epoch 15/40\n",
            "72/72 [==============================] - 1s 7ms/step - loss: 0.0090 - acc: 1.0000 - val_loss: 3.6576 - val_acc: 0.1667\n",
            "Epoch 16/40\n",
            "72/72 [==============================] - 1s 7ms/step - loss: 0.0195 - acc: 1.0000 - val_loss: 3.5184 - val_acc: 0.1667\n",
            "Epoch 17/40\n",
            "72/72 [==============================] - 1s 7ms/step - loss: 0.0029 - acc: 1.0000 - val_loss: 3.4543 - val_acc: 0.1667\n",
            "Epoch 18/40\n",
            "72/72 [==============================] - 1s 7ms/step - loss: 0.0179 - acc: 1.0000 - val_loss: 3.3245 - val_acc: 0.1111\n",
            "Epoch 19/40\n",
            "72/72 [==============================] - 1s 7ms/step - loss: 0.0016 - acc: 1.0000 - val_loss: 3.5023 - val_acc: 0.1111\n",
            "Epoch 20/40\n",
            "72/72 [==============================] - 1s 7ms/step - loss: 0.0034 - acc: 1.0000 - val_loss: 4.3317 - val_acc: 0.1111\n",
            "Epoch 21/40\n",
            "72/72 [==============================] - 1s 7ms/step - loss: 0.0035 - acc: 1.0000 - val_loss: 4.5452 - val_acc: 0.1111\n",
            "Epoch 22/40\n",
            "72/72 [==============================] - 1s 7ms/step - loss: 7.4916e-04 - acc: 1.0000 - val_loss: 4.6110 - val_acc: 0.0556\n",
            "Epoch 23/40\n",
            "72/72 [==============================] - 1s 7ms/step - loss: 0.0026 - acc: 1.0000 - val_loss: 4.5667 - val_acc: 0.1111\n",
            "Epoch 24/40\n",
            "72/72 [==============================] - 1s 7ms/step - loss: 7.8754e-04 - acc: 1.0000 - val_loss: 4.3032 - val_acc: 0.1667\n",
            "Epoch 25/40\n",
            "72/72 [==============================] - 1s 7ms/step - loss: 0.0033 - acc: 1.0000 - val_loss: 5.1812 - val_acc: 0.1111\n",
            "Epoch 26/40\n",
            "72/72 [==============================] - 1s 7ms/step - loss: 0.0040 - acc: 1.0000 - val_loss: 3.5914 - val_acc: 0.1111\n",
            "Epoch 27/40\n",
            "72/72 [==============================] - 1s 7ms/step - loss: 0.0075 - acc: 1.0000 - val_loss: 3.9680 - val_acc: 0.0556\n",
            "Epoch 28/40\n",
            "72/72 [==============================] - 1s 7ms/step - loss: 0.0424 - acc: 0.9861 - val_loss: 4.2899 - val_acc: 0.0000e+00\n",
            "Epoch 29/40\n",
            "72/72 [==============================] - 1s 7ms/step - loss: 0.0020 - acc: 1.0000 - val_loss: 3.9675 - val_acc: 0.1667\n",
            "Epoch 30/40\n",
            "72/72 [==============================] - 1s 7ms/step - loss: 0.0359 - acc: 0.9861 - val_loss: 4.4756 - val_acc: 0.0556\n",
            "Epoch 31/40\n",
            "72/72 [==============================] - 1s 7ms/step - loss: 1.3718e-04 - acc: 1.0000 - val_loss: 4.4136 - val_acc: 0.1111\n",
            "Epoch 32/40\n",
            "72/72 [==============================] - 1s 7ms/step - loss: 5.1286e-04 - acc: 1.0000 - val_loss: 5.3867 - val_acc: 0.0556\n",
            "Epoch 33/40\n",
            "72/72 [==============================] - 1s 7ms/step - loss: 1.7943e-04 - acc: 1.0000 - val_loss: 5.1060 - val_acc: 0.1111\n",
            "Epoch 34/40\n",
            "72/72 [==============================] - 1s 7ms/step - loss: 2.8889e-04 - acc: 1.0000 - val_loss: 5.1219 - val_acc: 0.1111\n",
            "Epoch 35/40\n",
            "72/72 [==============================] - 1s 7ms/step - loss: 5.4633e-06 - acc: 1.0000 - val_loss: 5.1288 - val_acc: 0.1111\n",
            "Epoch 36/40\n",
            "72/72 [==============================] - 1s 7ms/step - loss: 2.7543e-06 - acc: 1.0000 - val_loss: 5.1280 - val_acc: 0.1111\n",
            "Epoch 37/40\n",
            "72/72 [==============================] - 1s 7ms/step - loss: 2.7609e-05 - acc: 1.0000 - val_loss: 5.1150 - val_acc: 0.1111\n",
            "Epoch 38/40\n",
            "72/72 [==============================] - 1s 7ms/step - loss: 1.8068e-04 - acc: 1.0000 - val_loss: 5.6515 - val_acc: 0.1111\n",
            "Epoch 39/40\n",
            "72/72 [==============================] - 0s 7ms/step - loss: 0.0070 - acc: 1.0000 - val_loss: 7.5248 - val_acc: 0.0000e+00\n",
            "Epoch 40/40\n",
            "72/72 [==============================] - 1s 7ms/step - loss: 0.0027 - acc: 1.0000 - val_loss: 7.2023 - val_acc: 0.1111\n"
          ],
          "name": "stdout"
        }
      ]
    },
    {
      "cell_type": "code",
      "metadata": {
        "id": "P6wmzALfMBai",
        "colab_type": "code",
        "colab": {}
      },
      "source": [
        "from sklearn.feature_extraction.text import CountVectorizer, TfidfVectorizer\n",
        "from scipy.sparse import hstack\n",
        "from sklearn.metrics import classification_report\n",
        "#from stop_words import get_stop_words\n",
        "\n",
        "cv_token = TfidfVectorizer(max_features=20000)\n",
        "X_token_train = cv_token.fit_transform(df_train.tokens)\n",
        "X_token_test = cv_token.transform(df_test.tokens)\n",
        "\n",
        "X_train = hstack([\n",
        "    X_token_train,\n",
        "    #X_lemma_train,\n",
        "    #X_pos_train\n",
        "])\n",
        "X_test = hstack([\n",
        "    X_token_test,\n",
        "    #X_lemma_test,\n",
        "    #X_pos_test\n",
        "])"
      ],
      "execution_count": 0,
      "outputs": []
    },
    {
      "cell_type": "code",
      "metadata": {
        "id": "rqQowX_4LyU1",
        "colab_type": "code",
        "outputId": "92473aac-f9e2-4520-facf-561d5bbf3e83",
        "colab": {
          "base_uri": "https://localhost:8080/",
          "height": 331
        }
      },
      "source": [
        "yk_pred = model.predict_classes(Xk_test)\n",
        "print(classification_report(yk_test, yk_pred))\n",
        "print(le.classes_)"
      ],
      "execution_count": 0,
      "outputs": [
        {
          "output_type": "stream",
          "text": [
            "              precision    recall  f1-score   support\n",
            "\n",
            "           0       0.22      1.00      0.36        89\n",
            "           1       0.26      0.05      0.09        97\n",
            "           2       1.00      0.70      0.82        96\n",
            "           3       0.83      0.05      0.10        97\n",
            "           4       0.67      0.51      0.58        97\n",
            "           5       0.00      0.00      0.00        94\n",
            "\n",
            "    accuracy                           0.38       570\n",
            "   macro avg       0.50      0.38      0.32       570\n",
            "weighted avg       0.50      0.38      0.32       570\n",
            "\n",
            "['DRAM' 'HUMA' 'LEGA' 'NARR' 'SCIE' 'SERM']\n"
          ],
          "name": "stdout"
        },
        {
          "output_type": "stream",
          "text": [
            "/usr/local/lib/python3.6/dist-packages/sklearn/metrics/_classification.py:1272: UndefinedMetricWarning: Precision and F-score are ill-defined and being set to 0.0 in labels with no predicted samples. Use `zero_division` parameter to control this behavior.\n",
            "  _warn_prf(average, modifier, msg_start, len(result))\n"
          ],
          "name": "stderr"
        }
      ]
    },
    {
      "cell_type": "code",
      "metadata": {
        "id": "h8xbS2fVOL53",
        "colab_type": "code",
        "outputId": "819501bd-3053-4d84-b3cd-bb627c6ee9a3",
        "colab": {
          "base_uri": "https://localhost:8080/",
          "height": 35
        }
      },
      "source": [
        "le.classes_"
      ],
      "execution_count": 0,
      "outputs": [
        {
          "output_type": "execute_result",
          "data": {
            "text/plain": [
              "array(['DRAM', 'HUMA', 'LEGA', 'NARR', 'SCIE', 'SERM'], dtype=object)"
            ]
          },
          "metadata": {
            "tags": []
          },
          "execution_count": 29
        }
      ]
    },
    {
      "cell_type": "code",
      "metadata": {
        "id": "u8aPdMVHiTWa",
        "colab_type": "code",
        "colab": {}
      },
      "source": [
        "def plot_results(history):\n",
        "    loss = history.history[\"loss\"]\n",
        "    val_loss = history.history[\"val_loss\"]\n",
        "\n",
        "    epochs = range(1, len(loss) + 1)\n",
        "\n",
        "    plt.plot(epochs, loss, \"b\", label=\"Training loss\")\n",
        "    plt.plot(epochs, val_loss, \"ro\", label=\"Validation loss\")\n",
        "    plt.title(\"Training and validation loss\")\n",
        "    plt.xlabel(\"Epochs\")\n",
        "    plt.ylabel(\"Loss\")\n",
        "    plt.legend()\n",
        "\n",
        "    plt.show()\n",
        "\n",
        "    plt.clf() #clears the figure\n",
        "\n",
        "    acc = history.history[\"acc\"]\n",
        "    val_acc = history.history[\"val_acc\"]\n",
        "\n",
        "    plt.plot(epochs, acc, \"b\", label=\"Training acc\")\n",
        "    plt.plot(epochs, val_acc, \"ro\", label=\"Validation acc\")\n",
        "    plt.title(\"Training and validation accuracy\")\n",
        "    plt.xlabel(\"Epochs\")\n",
        "    plt.ylabel(\"Acc\")\n",
        "    plt.legend()\n",
        "\n",
        "    plt.show()"
      ],
      "execution_count": 0,
      "outputs": []
    },
    {
      "cell_type": "code",
      "metadata": {
        "id": "N2jaP0zaip0Q",
        "colab_type": "code",
        "outputId": "08a133c6-d7e1-4ef3-f73e-749dd90b934e",
        "colab": {
          "base_uri": "https://localhost:8080/",
          "height": 573
        }
      },
      "source": [
        "plot_results(history)"
      ],
      "execution_count": 0,
      "outputs": [
        {
          "output_type": "display_data",
          "data": {
            "image/png": "[encoded data removed]",
            "text/plain": [
              "<Figure size 432x288 with 1 Axes>"
            ]
          },
          "metadata": {
            "tags": []
          }
        },
        {
          "output_type": "display_data",
          "data": {
            "image/png": "[encoded data removed]",
            "text/plain": [
              "<Figure size 432x288 with 1 Axes>"
            ]
          },
          "metadata": {
            "tags": []
          }
        }
      ]
    }
  ]
}