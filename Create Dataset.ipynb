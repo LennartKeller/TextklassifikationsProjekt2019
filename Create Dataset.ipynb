{
 "cells": [
  {
   "cell_type": "code",
   "execution_count": 1,
   "metadata": {},
   "outputs": [],
   "source": [
    "import glob\n",
    "\n",
    "files = glob.glob('GermInnC/**/*.txt')"
   ]
  },
  {
   "cell_type": "code",
   "execution_count": 25,
   "metadata": {},
   "outputs": [],
   "source": [
    "import os\n",
    "\n",
    "data = []\n",
    "error = 0\n",
    "for file in files:\n",
    "    genre, period, region, year, title = os.path.basename(file).split('_')[:5]\n",
    "    try: \n",
    "        with open(file, 'rb') as f:\n",
    "            text = f.read().decode('unicode-escape')\n",
    "    except Exception as e:\n",
    "        error += 1\n",
    "        print(e)\n",
    "        continue\n",
    "\n",
    "    entry = {\n",
    "        'text': text,\n",
    "        'title':title,\n",
    "        'genre': genre,\n",
    "        'period': period,\n",
    "        'region': region,\n",
    "        'year': year\n",
    "    }\n",
    "    \n",
    "    data.append(entry)\n"
   ]
  },
  {
   "cell_type": "code",
   "execution_count": 26,
   "metadata": {},
   "outputs": [],
   "source": [
    "import pandas as pd\n",
    "\n",
    "df = pd.DataFrame.from_dict(data)\n",
    "df.to_csv('dataset.csv')"
   ]
  },
  {
   "cell_type": "code",
   "execution_count": 27,
   "metadata": {},
   "outputs": [
    {
     "data": {
      "text/plain": [
       "'A. \\r\\nGesetz über die Bauernkammern.\\r\\nDer Landtag des Freistaates Bayern hat folgendes Gesetz beschlossen:\\r\\nI. Abschnitt.\\r\\nAllgemeines.\\r\\n      Art. 1. \\r\\n      I Für die Landwirtschaft wird eine Berufsvertretung eingerichtet.\\r\\n      II Zur Landwirtschaft im Sinne dieses Gesetzes gehören auch die Forstwirtschaft in den Privat=, Gemeinde=, Stiftungs= und Körperschaftswaldungen und der Gartenbau. \\r\\n      III Auf die im Eigentume des Staates und des Reichs stehenden forstwirtschaftlichen Grundstücke findet dieses Gesetz keine Anwendung.\\r\\n      Art. 2.\\r\\n      Die Vertretungskörper des landwirtschaftlichen Berufsstandes sind\\r\\n      1. die Landesbauernkammern für das ganze Land,\\r\\n      2. die Kreisbauernkammern für jeden Kreis,\\r\\n      3. die Bezirksbauernkammern für jeden Bezirk und jede unmittelbare Stadt.\\r\\n      Art. 3.\\r\\n      Die Bauernkammern sind Körperschaften des öffentlichen Rechtes mit dem Rechte der Selbstverwaltung nach Maßgabe der Gesetze.\\r\\n      Art. 4.\\r\\n      I Die Bauernkammern müssen mindestens einen Vorsitzenden und einen Schriftführer haben. Sie werden durch den Vorsitzenden vertreten.\\r\\n      II Über ihre Beschlüsse ist eine Niederschrift zu führen, die von dem Vorsitzenden und dem Schriftführer zu unterzeichnen ist. Die Beschlüsse werden durch die Niederschrift beurkundet.\\r\\n      III Die Bauernkammern können zur Vorberatung oder zur entgültigen Erledigung bestimmter Angelegenheiten Ausschüsse aus ihrer Mitte einsetzen und zur Erörterung einzelner Angelegenheiten Sachverständige mit beratender Stimme beiziehen.\\r\\n      IV Die Bauernkammern verhandeln öffentlich, können aber die Öffentlichkeit aus besonderen Gründen für einzelne Beratungsgegenstände ausschließen.\\r\\n      V Die Tätigkeit ihrer Mitglieder ist ehrenamtlich; die Mitglieder können jedoch den Ersatz ihrer Barauslagen beanspruchen.\\r\\n      VI Jm übrigen regeln die Bauernkammern ihre Verfassung selbst durch eine Satzung. Die Satzung der Bezirksbauernkammern bedarf der Genehmigung der Kreisbauernkammern, die Satzung der Kreisbauernkammern der Genehmigung der Landesbauernkammer; die Landesbauernkammer setzt ihre Satzung selbst fest.\\r\\n      Art. 5.\\r\\n      Den Bauernkammern kommt die Wahrnehmung und Vertretung der Angelegenheiten der Landwirtschaft in wirtschaftlicher und fachlicher Beziehung zu. Sie haben daher vor allem folgende Aufgaben:\\r\\n      1. Schutz und Vertretung der landwirtschaftlichen Jnteressen in allen Fragen der Wirtschafts=, Handels= und Steuerpolitik,\\r\\n      2. Förderung der landwirtschaftlichen Erzeugung auf allen Gebieten (insbesondere Acker= und Pflanzenbau, Futtermittelbau, Saatzucht, Bodenverbesserung, Tierzucht, Milchwirtschaft, landwirtschaftliche Gewerbe, Versorgung der Landwirtschaft mit Kraft, Regelung des Ausstellungswesens für landwirtschaftliche Erzeugnisse usw.),\\r\\n      3. Mitwirkung bei den von der Staatsregierung für landwirtschaftliche Zwecke geschaffenen Einrichtungen, insbesondere beim landwirtschaftlichen Versicherungs= und Ansiedelungswesen,\\r\\n      4. Mitwirkung in Fragen des ländlichen Wohnungs= und Schätzungswesens,\\r\\n      5. Erhaltung und Förderung bestehender sowie Schaffung und Verwaltung neuer ständischer Einrichtungen zur Verbesserung der Lage des landwirtschaftlichen Berufsstandes,\\r\\n      6. Förderung wirtschaftlich zweckmäßiger Verwertung der landwirtschaftlichen Erzeugnisse und Mitwirkung bei den Preisfestsetzungen, insbesondere auf den Märkten,\\r\\n      7. Mitwirkung bei der Vermittlung landwirtschaftlicher Arbeitskräfte sowie bei der Ordnung der Arbeits=, Gehalts= und Lohnverhältnisse der landwirtschaftlichen Arbeitnehmer im Benehmen mit den freien Vertretungen der landwirtschaftlichen Arbeitgeber und Arbeitnehmer,\\r\\n      8. Ausbau und Förderung des landwirtschaftlichen Unterrichts=, Versuchs= und Forschungswesens,\\r\\n      9. Mitwirkung bei der Sicherung der Volksernährung und bei der Überwachung des Verkehrs mit Lebensmitteln.\\r\\n      Art. 6.\\r\\n      I Mehrere Bauernkammern können sich zur Erfüllung einzelner gemeinsamer Aufgaben zu einem Verbande zusammenschließen. Das Staatsministerium für Landwirtschaft kann einem solchen Verband auf Antrag die Eigenschaft einer Körperschaft des öffentlichen Rechtes verleihen.\\r\\n      II Ein solcher Verband regelt seine Verfassung durch eine Satzung, die der Genehmigung der übergeordneten Bauernkammer bedarf.\\r\\nII. Abschnitt.\\r\\nWahlen.\\r\\n      Art. 7.\\r\\n      I Wahlberechtigt sind ohne Unterschied des Geschlechts:\\r\\n      1. Eigentümer, Nutznießer und Pächter landwirtschaftlich benutzter, in Bayern gelegener Grundstücke, soferne sie auf diesen Grundstücken die Landwirtschaft im Hauptberuf ausüben,\\r\\n      2. Eigentümer, Nutznießer und Pächter, die auf solchen Grundstücken die Landwirtschaft im Nebenberuf ausüben, soweit ihre Grundstücke mindestens die Steuerverhältniszahl 40 erreichen,\\r\\n      3. Verwalter, die im Hauptberuf landwirtschaftliche Betriebe leiten,\\r\\n      4. Personen, welche die Voraussetzungen in Ziffer 1 mindestens 15 Jahre lang erfüllt haben, soferne sie einen anderen Beruf als Hauptberuf nicht mehr ergriffen haben,\\r\\n      5. je ein Vorstandsmitglied oder Geschäftsführer der landwirtschaftlichen Körperschaften, soweit diese Rechtspersönlichkeit besitzen.\\r\\n      6. die Lehrkräfte landwirtschaftlicher Schulen, soweit sie an der Schule im Hauptberufe tätig sind und landwirtschaftliche Fächer lehren.\\r\\n      II Wahlberechtigt ist nur, wer die deutsche Reichsangehörigkeit besitzt. Die Personen unter Ziffer 1 bis 3 üben ihr Wahlrecht am Sitze ihres Betriebes aus, die Personen unter Ziffer 4 bis 6 an ihrem ständigen Aufenthaltsorte.\\r\\n      III Auch juristische Personen sind wahlberechtigt. \\r\\n      IV Niemand hat mehr als eine Stimme.\\r\\n      Art. 8.\\r\\n      Nicht wahlberechtigt sind:\\r\\n      1. Personen, die entmündigt sind oder unter vorläufiger Vormundschaft oder wegen geistigen Gebrechens unter Pflegschaft stehen,\\r\\n      2. Personen, die wegen Geisteskrankheit oder Geistesschwäche ihre Angelegenheiten nicht zu besorgen vermögen,\\r\\n      3. Personen, deren Vermögen dem Konkursverfahren unterliegt,\\r\\n      4. Personen, deren Grundstücke der Zwangsversteigerung oder Zwangsverwaltung unterliegen,\\r\\n      5. Personen, denen die bürgerlichen Ehrenrechte aberkannt sind.\\r\\n      Art. 9.\\r\\n      Von mehreren Mieteigentümern, Nutznießern oder Pächtern desselben Grundstücks kann nur einer das Wahlrecht ausüben; er bedarf dazu, soweit er nicht gesetzlich zur Vertretung der anderen berufen ist, einer Vollmacht der übrigen.\\r\\n      Art. 10.\\r\\n      Wahlberechtigte Personen können nur persönlich wählen. Für Personen, die das 20. Lebensjahr nicht vollendet haben, und für juristische Personen wird das Wahlrecht durch den gesetzlichen Vertreter oder durch einen Bevollmächtigten ausgeübt.\\r\\n      Art. 11.\\r\\n      I Die Ausübung des Wahlrechts ist durch den Eintrag in die Wählerliste bedingt, die von den Gemeinden aufzustellen und vor dem Wahltag eine Woche lang öffentlich auszulegen ist.\\r\\n      II Einsprüche gegen die Wählerlisten sind bei Meidung des Ausschlusses in der gleichen Frist einzulegen.\\r\\n      Art. 12.\\r\\n      I Wählbar sind alle über 25 Jahre alten Personen, die entweder nach Art. 7 bis 9 wahlberechtigt oder selbständig im Dienste der Landwirtschaft tätig sind. \\r\\n      II Die gleichen Voraussetzungen gelten auch für die Zuwahlen.\\r\\n      Art. 13.\\r\\n      Die Bauernkammern werden auf fünf Jahre gewählt. Sie führen die Geschäfte, bis die bei den nächsten Wahlen gewählten Bauernkammern zusammentreten.\\r\\n      Art. 14.\\r\\n      I Die Wahlen zu den Bezirks= und Kreisbauernkammern erfolgen durch unmittelbare und geheime Abgabe der Stimmzettel nach dem Grundsatze der Verhältniswahl mit freien Listen.\\r\\n      II Die Landesbauernkammer wird durch die Kreisbauernkammern gewählt.\\r\\n      III Von den auf den Wahlvorschlägen aufgeführten Personen müssen mindestens drei Viertel ausübende Landwirte sein.\\r\\n      IV Für die Mitglieder der Bauernkammern sind Ersatzleute in mindestens gleicher Zahl zu wählen.\\r\\n      V Die Staatsministerien des Jnnern und für Landwirtschaft regeln die Einzelheiten der Wahl durch eine Wahlordnung und bestimmen den Zeitpunkt der Wahl.\\r\\n      Art. 15.\\r\\n      I Die Kosten der Wahl treffen bei den Wahlen zu den Bezirks und Kreisbauernkammern, soweit sie auf die Bereitstellung des Wahlraums und der für die Wahl sonst noch nötigen Gegenstände entfallen, die Gemeinden, im übrigen die Bezirks= und Kreisbauernkammern.\\r\\n      II Die zum Vollzug der Wahl vorgesehenen Ämter sind Ehrenämter, wofür keine Vergütung beansprucht werden kann.\\r\\n      Art. 16.\\r\\n      Niemand ist verpflichtet, die Wahl oder Zuwahl anzunehmen. Der Austritt aus der Bauernkammer ist jederzeit zulässig.\\r\\n      Art. 17.\\r\\n      Der Verlust der Wählbarkeit hat den Verlust der Mitgliedschaft zur Folge.\\r\\nIII. Abschnitt.\\r\\nZusammensetzung der Bauernkammern.\\r\\n1. Bezirksbauernkammern.\\r\\n      Art. 18.\\r\\n      I Die Bezirksbauernkammer besteht in Bezirken bis zu 10 000 Wahlberechtigten aus 15 Mitgliedern, in Bezirken mit mehr Wahlberechtigten aus 20 Mitgliedern. Die Zahl der Wahlberechtigten bemißt sich nach den letzten Wahlen zur Bezirksbauernkammer auf Grund dieses Gesetzes.\\r\\n      II Die Bezirksbauernkammer kann sich durch Zuwahlen um höchstens ein Fünftel der Zahl der gewählten Mitglieder verstärken.\\r\\n      Art. 19.\\r\\n      Die Bezirksbauernkammer kann bei Angelegenheiten, welche einzelne Gemeinden ausschließlich oder vorwiegend berühren, die Zuziehung von Vertrauensleuten dieser Gemeinden mit beratender Stimme beschließen. Die Stadt= oder Gemeinderäte bestimmen die Vertrauensleute. Die Gemeinden tragen die Kosten ihrer Tätigkeit. Art. 4 Abs. V findet entsprechende Anwendung.\\r\\n2. Kreisbauernkammern.\\r\\n      Art. 20.\\r\\n      I Die Kreisbauernkammer besteht aus 30 Mitgliedern.\\r\\n      II Sie kann sich durch Zuwahlen um höchstens ein Fünftel der Zahl der gewählten Mitglieder verstärken.\\r\\n3. Landesbauernkammer.\\r\\n      Art. 21.\\r\\n      I Die Landesbauernkammer besteht aus je sechs von den Kreisbauernkammern gewählten Mitgliedern. Davon müssen mindestens je fünf ausübende Landwirte sein.\\r\\n      II Die Landesbauernkammer kann sich durch Zuwahlen um höchstens ein Fünftel der Zahl der gewählten Mitglieder verstärken.\\r\\n      Art. 22.\\r\\n      Die Landesbauernkammer hat ihren Sitz am Sitze der Staatsregierung.\\r\\nIV. Abschnitt.\\r\\nVerhältnis der Bauernkammern zum Landtag, zur Staatsregierung und zu den Selbstverwaltungskörpern.\\r\\n      Art. 23.\\r\\n      I Die Bauernkammern sind berechtigt, Anträge an die Staatsregierung zu stellen.\\r\\n      II Die Staatsregierung ist verpflichtet, solche Anträge zu verbescheiden, sowie vor der Regelung wichtiger, die Landwirtschaft berührender Angelegenheiten die Bauernkammern zu hören.\\r\\n      III Die Staatsregierung hat die Anträge der Landesbauernkammer, soweit sie zu ihrer Erledigung nicht selbst zuständig ist, dem Landtag zur Beratung und Verbescheidung vorzulegen.\\r\\n      Art. 24.\\r\\n      I Die Staatsregierung ist zu allen Sitzungen der Bauernkammern rechtzeitig unter Mitteilung der Tagesordnung einzuladen. Die Staatsregierung kann Vertreter zu den Sitzungen abordnen, die auf ihr Verlangen jederzeit gehört werden müssen.\\r\\n      II Dasselbe gilt bei den Bezirks= und Kreisbauernkammern für die Vorsitzenden der Bezirks= und Kreistage.\\r\\n      Art. 25.\\r\\n      Die Rechte und Pflichten der Staatsregierung (Art. 23, 24) werden gegenüber den Bezirksbauernkammern von der Bezirksverwaltungsbehörde, gegenüber den Kreisbauernkammern von den Regierungen, Kammern des Jnnern, und gegenüber der Landesbauernkammer von den zuständigen Staatsministerien wahrgenommen.\\r\\nV. Abschnitt.\\r\\nZusammenarbeit der Bauernkammern mit den Vertretungen der landwirtschaftlichen Arbeitnehmer.\\r\\n      Art. 26.\\r\\n      Bis zur reichsgesetzlichen Regelung der Berufsvertretung der landwirtschaftlichen Arbeitnehmer wird bei den Bauernkammern eine Vertretung der landwirtschaftlichen Arbeitnehmer eingerichtet.\\r\\n      Art. 27.\\r\\n      I Als Vertretung der landwirtschaftlichen Arbeitnehmer gelten die von den Berufsvereinigungen der landwirtschaftlichen Arbeitnehmer abgeordneten Vertreter.\\r\\n      II Das Staatsministerium für Landwirtschaft bestimmt die Berufsvereinigungen, welche Vertreter abordnen können, und die Zahl der Vertreter. Jhre Zahl darf die Zahl der Mitglieder der Bauernkammern nicht übersteigen.\\r\\n      Art. 28.\\r\\n      I Die Vertretung der landwirtschaftlichen Arbeitnehmer bildet mit der Bauernkammer zusammen eine Arbeitsgemeinschaft.\\r\\n      II Die Aufgabe der Arbeitsgemeinschaft ist die gemeinsame Beratung und Beschlußfassung in Fragen, die gemeinsame Angelegenheiten der Arbeitgeber und Arbeitnehmer berühren.\\r\\n      III Vorsitzender der Arbeitsgemeinschaft ist der Vorsitzende der Bauernkammer.\\r\\n      IV Jn der Arbeitsgemeinschaft stimmen die Bauernkammer und die Vertretung der landwirtschaftlichen Arbeitnehmer gesondert ab. Ein Beschluß der Arbeitsgemeinschaft setzt übereinstimmende Beschlüsse beider Gruppen voraus.\\r\\n      V Die Art. 23 bis 25 finden entsprechende Anwendung auf die Beschlüsse der Arbeitsgemeinschaft und auf die gesonderten Beschlüsse der Vertretung der landwirtschaftlichen Arbeitnehmer.\\r\\nVI. Abschnitt.\\r\\nRechnungswesen und Kostendeckung.\\r\\n      Art. 29.\\r\\n      Die Ausgaben der Bauernkammern werden bestritten:\\r\\n      1. durch die Einnahmen aus den eigenen Einrichtungen,\\r\\n      2. durch freiwillige Zuschüsse der Gemeinden, der Bezirke, der Kreise und des Staates,\\r\\n      3. durch Umlagen.\\r\\n      Art. 30.\\r\\n      I Das Rechnungsjahr beginnt mit dem 1. April und endet mit dem 31. März.\\r\\n      II Die Bauernkammern stellen jährlich bis zum 1. März den Voranschlag für das nächste Rechnungsjahr auf und haben ihn bis 15. März der übergeordneten Bauernkammer vorzulegen. Die Voranschläge der Bezirks= und Kreisbauernkammern bedürfen der Genehmigung der übergeordneten Bauernkammer.\\r\\n      III Die Landesbauernkammer verteilt ihren ungedeckten Bedarf nach dem Verhältnis der Grundsteuer auf die Kreisbauernkammern. Die Kreisbauernkammern verteilen ihren Bedarf einschließlich des Bedarfsanteils der Landesbauernkammer nach dem gleichen Verhältnis auf die Bezirksbauernkammern. Die Bezirksbauernkammern verteilen ihren Bedarf einschließlich des Bedarfsanteils der Kreisbauernkammern nach dem Maßstabe der Grundsteuer in gleicher Weise, wie dies für die Beiträge zur landwirtschaftlichen Unfallversicherung in den Art. 23 und 24 des Ausführungsgesetzes vom 2. November 1912 zur Reichsversicherungsordnung (GVBl. Seite 1135) vorgeschrieben ist.\\r\\n      Art. 31.\\r\\n      I Zur Zahlung der Umlagen (Art. 30 Abs. III) ist verpflichtet, wer gesetzlich zur Grundsteuer für die Grundstücke veranlagt ist. Die Umlagen werden mit der Grundsteuer fällig und mit ihr erhoben. Sie werden nach den Vorschriften über die Einhebung und Beitreibung von Staatssteuern durch die hierzu berufenen Behörden eingezogen. Für die Verjährung gelten die Art. 124 und 125 des Ausführungsgesetzes zum bürgerlichen Gesetzbuch entsprechend.\\r\\n      II Die Bezirksbauernkammern haben für die Einhebung und Beitreibung der Umlagen eine angemessene Vergütung zu leisten; diese wird von den Staatsministerien der Finanzen und für Landwirtschaft im Einvernehmen mit der Landesbauernkammer festgesetzt.\\r\\n      Art. 32.\\r\\n      Die in Art. 31 Abs. I bezeichneten Behörden liefern die Umlagen an die Bezirksbauernkammern ab. Die Bezirksbauernkammern haben die Bedarfsanteile der Kreisbauernkammern an diese, die Kreisbauernkammern haben die Bedarfsanteile der Landesbauernkammer an diese abzuführen.\\r\\n      Art. 33.\\r\\n      Die Kassenführer der Bauernkammern haben nach Ablauf des Rechnungsjahres über die Einnahmen und Ausgaben schriftlich Rechnung zu stellen. Die Jahresrechnungen der Bezirksbauernkammern sind von den Kreisbauernkammern, die der Kreisbauernkammern von der Landesbauernkammer zu prüfen. Die Hauptabschlüsse sind zu veröffentlichen.\\r\\nVII. Abschnitt.\\r\\nSchluß= und Übergangsvorschriften.\\r\\n      Art. 34.\\r\\n      I Streitigkeiten für die Berechtigung zum Eintritt in die Bauernkammern und über das Erlöschen der Mitgliedschaft entscheidet endgültig die übergeordnete Bauernkammer. Die Landesbauernkammer entscheidet solche Streitigkeiten selbst.\\r\\n      II Streitigkeiten über die Umlagenpflicht (Art. 30, 31) sind Verwaltungsrechtssachen; im ersten Rechtszug entscheidet die Bezirksverwaltungsbehörde, im zweiten Rechtszuge der Verwaltungsgerichtshof.\\r\\n      Art. 35.\\r\\n      Die Bezirke, die Kreise und der Staat sind verpflichtet, den Bezirksbauernkammern, den Kreisbauernkammern und der Landesbauernkammer auf Verlangen angemessene unverzinsliche Vorschüsse zur Bestreitung der Kosten bis zur erstmaligen Ablieferung der Umlagen zu leisten. Die Vorschüsse sind nach der erstmaligen Ablieferung der Umlagen zurückzuzahlen.\\r\\n      Art. 36.\\r\\n      Die Staatsministerien des Jnnern und für Landwirtschaft erlassen die Vollzugsvorschriften zu diesem Gesetze.\\r\\n      Art. 37.\\r\\n      I Dieses Gesetz wird als dringend im Sinne des § 77 Abs. 1 der Verfassungsurkunde bezeichnet und tritt mit seiner Verkündung in Kraft.\\r\\n      II Die Umlagenpflicht (Art. 29 bis 32) beginnt mit dem 1. April 1920, das erste Rechnungsjahr (Art. 30 Abs. 1) umfaßt den Zeitraum vom Jnkrafttreten des Gesetzes bis 31. März 1921.\\r\\n      III Solange die Durchführung dieses Gesetzes in der Pfalz nicht möglich ist, besteht die Landesbauernkammer aus den von den rechtsrheinischen Kreisbauernkammern gewählten und den zugewählten Vertretern.\\r\\n      IV Mit dem Amtsantritt der nach diesem Gesetze gewählten Bauernkammern gelten die bestehenden Bauernräte als aufgehoben.\\r\\n      V Das Staatsministerium für Landwirtschaft bestimmt für den ersten Wahlzeitraum die Zahl der Mitglieder der Bezirksbauernkammern (Art. 18 Abs. 1 Satz 2).\\r\\n      Art. 38. Das Staatsministerium für Landwirtschaft bestimmt, wann und wie die koburgischen Landesteile nach ihrer Einverleibung in die landwirtschaftliche Berufsvertretung eingegliedert werden, und erläßt hierwegen die erforderlichen Anordnungen.\\r\\n      München, den 20. März 1920.\\r\\n'"
      ]
     },
     "execution_count": 27,
     "metadata": {},
     "output_type": "execute_result"
    }
   ],
   "source": [
    "df.iloc[10].text"
   ]
  },
  {
   "cell_type": "code",
   "execution_count": null,
   "metadata": {},
   "outputs": [],
   "source": []
  }
 ],
 "metadata": {
  "kernelspec": {
   "display_name": "Python [conda env:nlp]",
   "language": "python",
   "name": "conda-env-nlp-py"
  },
  "language_info": {
   "codemirror_mode": {
    "name": "ipython",
    "version": 3
   },
   "file_extension": ".py",
   "mimetype": "text/x-python",
   "name": "python",
   "nbconvert_exporter": "python",
   "pygments_lexer": "ipython3",
   "version": "3.7.5"
  }
 },
 "nbformat": 4,
 "nbformat_minor": 2
}
