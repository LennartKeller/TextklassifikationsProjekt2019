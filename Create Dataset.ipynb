{
 "cells": [
  {
   "cell_type": "code",
   "execution_count": 1,
   "metadata": {},
   "outputs": [],
   "source": [
    "import glob\n",
    "\n",
    "files = glob.glob('GermInnC/**/*.txt')"
   ]
  },
  {
   "cell_type": "code",
   "execution_count": 38,
   "metadata": {},
   "outputs": [],
   "source": [
    "import os\n",
    "\n",
    "data = []\n",
    "error = 0\n",
    "for file in files:\n",
    "    genre, period, region, year, title = os.path.basename(file).split('_')[:5]\n",
    "    try: \n",
    "        with open(file, 'rb') as f:\n",
    "            text = f.read().decode('UTF-8', 'replace')\n",
    "    except Exception as e:\n",
    "        error += 1\n",
    "        print(e)\n",
    "        continue\n",
    "\n",
    "    entry = {\n",
    "        'text': text,\n",
    "        'title':title,\n",
    "        'genre': genre,\n",
    "        'period': period,\n",
    "        'region': region,\n",
    "        'year': year\n",
    "    }\n",
    "    \n",
    "    data.append(entry)\n"
   ]
  },
  {
   "cell_type": "code",
   "execution_count": 39,
   "metadata": {},
   "outputs": [
    {
     "name": "stdout",
     "output_type": "stream",
     "text": [
      "{'text': 'Aus Stadt und Land.\\n\\n(Trauergottesdienst.) Zur Erinnerung an den Todestag Gr. Majestät des Kaisers Ferdinand I., sowie aus Anlaß der ersten Jahreswende seit dem Ableben Gr. k. u. k· Hoheit des durchlauchtigsten Herrn Erzherzogs Franz Ferdinand von Oesterreich-Este und Höchstdessen Gemahlin wird am Montag, dem 28. Juni, um 9 Uhr vormittags ein Trauergottesdienst in der St. Jakob Pfarrkirche abgehalten werden.\\n(Zum Thronfolgerbesuch.) Vom Besuche des Erzherzogs Thronfolger in unserer Stadt sind bei Formator Stainer in der Maria Theresienstraße einige vorzüglich gelungene Photographiekarten zu haben, welche sich als hübsche Erinnerung an den schönen Tag von selbst empfehlen. — Dem Innsbrucker Friseur Matthias Müller ist anläßlich der Anwesenheit des Erzherzog\\'s-Thronfolgers eine besondere Ehre zuteil geworden. Müller\\' erhielt den Auftrag, den Thronfolger rasieren und frisieren zu dürfen, da es dem Thronfolger aber infolge seines kurz bemessen und vollständig aufgeteilten Aufenthaltes hier an Zeit gebrach, mußte Müller diesen Auftrag auf der Fahrt von Innsbruck nach Wörgl im Salonwagen des Herrn Erzherzogs ausführen.\\n\\n(Spenden.) An Stelle eines Kranzes auf das Grab des Herrn Obersten Dedekind spendete Frl. Anna Shönbeck, Lehrerin in Bozen, 20 Kronen für die an der Südfront stehenden Krieger. — Dem Andenken ihre lieben Kollegen Herrn Paul Rauchengschwendner widmeten die Postadjunkten und Postoffizianten des Bahnhofpostamtes Innsbruck 2 den Betrag von 34 Kronen für den Witwen- und Waisenfonds nach gefallenen Tiroler Kriegern. — Thomas Jordan in Dannöben (Sellrain) spendete für die verwundeten Soldaten am Südtiroler Kriegsschauplatze den namhaften Betrag von 540 Kronen. Hiefür wird dem edlen Spender der wärmste Dank des Landes- und Frauenhilfsvereines vom Roten Kreuz ausgesprochen.\\n(Tiroler Hausfrauen-Verein.) Hiemit wird bekanntgegeben, daß die Generalversammlung des Tiroler Hausfrauen-Vereines nicht, wie bereits verlautbart, am 1. Juli, sondern Donnerstag, 8. Juli, um 5 Uhr stattfindet.\\n\\n(Kriegsvorträge für Frauen.) Samstag den 26. Juni findet um 5 Uhr im Apollosaale der 13. Vortrag statt. ,,Gemüse als Kriegskost\" und ,,Die Sommerferien im Kriegsjahre\" sollen Gegenstand der Besprechung sein. Ein Rückblick über die Marktverhältnisse und Lebensmittelpreise der letzten Wochen werden nicht verfehlen, großes Interesse hervorzurufen. Auch diesmal werden Kostproben verteilt. Der Vortrag ist allgemein und frei zugänglich.\\n\\n(Eine Desinfektions-Kolonne in Innsbruck.) Von zuständiger Seite wird uns mitgeteilt: Das Rote Kreuz rüstet für Innsbruck und Umgebung eine Desinfektions-Kolonne aus, welche mit zwei Dampfdesinfektionsapparaten und dem erforderlichen sonstigen Material ausgestattet werden wird. Für diese Desinfektions-Kolonne wird Bedienungsmannschaft benötigt, welche in einem theoretischen und praktischen Kurs ausgebildet werden soll. Die Anmeldungen für diese Kurse finden am 28. und 30. Juni zwischen 8 und 12 Uhr und 3 und 6 Uhr im pharmakologischen Universitätsinstitute, Anatomiestraße 1, statt. Es wollen sich dort in erster Linie kräftige Männer oder Frauen melden, welche den Dienst freiwillig und unentgeltlich übernehmen wollen. Die Leitung der Desinfektions-Kolonne obliegt Herrn Universitätsprofessor Dr. Nevinny. Der theoretische Kurs beginnt am 2. Juli und dauert zehn Tage. Die Vorträge werden täglich von 5 bis 6 Uhr Nachmittag abgehalten, danach werden dann praktische Uebungen stattfinden.\\n\\n', 'title': 'Innsbrucker Nachrichten', 'genre': 'NEWS', 'period': 'P6', 'region': 'OOD', 'year': '1915'}\n"
     ]
    }
   ],
   "source": [
    "print(data[0])"
   ]
  },
  {
   "cell_type": "code",
   "execution_count": 26,
   "metadata": {},
   "outputs": [],
   "source": [
    "import pandas as pd\n",
    "\n",
    "df = pd.DataFrame.from_dict(data)\n",
    "df.to_csv('dataset.csv')"
   ]
  }
 ],
 "metadata": {
  "kernelspec": {
   "display_name": "Python [conda env:nlp]",
   "language": "python",
   "name": "conda-env-nlp-py"
  },
  "language_info": {
   "codemirror_mode": {
    "name": "ipython",
    "version": 3
   },
   "file_extension": ".py",
   "mimetype": "text/x-python",
   "name": "python",
   "nbconvert_exporter": "python",
   "pygments_lexer": "ipython3",
   "version": "3.7.5"
  }
 },
 "nbformat": 4,
 "nbformat_minor": 2
}
