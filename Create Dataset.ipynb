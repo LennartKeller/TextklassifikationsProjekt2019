{
 "cells": [
  {
   "cell_type": "code",
   "execution_count": 1,
   "metadata": {},
   "outputs": [],
   "source": [
    "import glob\n",
    "\n",
    "files = glob.glob('GermInnC/**/*.txt')"
   ]
  },
  {
   "cell_type": "code",
   "execution_count": 20,
   "metadata": {},
   "outputs": [],
   "source": [
    "import os\n",
    "\n",
    "data = []\n",
    "error = 0\n",
    "for file in files:\n",
    "    genre, period, region, year, title = os.path.basename(file).split('_')[:5]\n",
    "    try: \n",
    "        with open(file, 'rb') as f:\n",
    "            text = f.read().decode('UTF-8', errors='ignore')\n",
    "    except Exception as e:\n",
    "        error += 1\n",
    "        print(e)\n",
    "        continue\n",
    "\n",
    "    entry = {\n",
    "        'text': text,\n",
    "        'title':title,\n",
    "        'genre': genre,\n",
    "        'period': period,\n",
    "        'region': region,\n",
    "        'year': year\n",
    "    }\n",
    "    data.append(entry)\n"
   ]
  },
  {
   "cell_type": "code",
   "execution_count": 24,
   "metadata": {},
   "outputs": [],
   "source": [
    "import pandas as pd\n",
    "\n",
    "df = pd.DataFrame.from_dict(data)\n",
    "df.to_csv('dataset.csv')"
   ]
  },
  {
   "cell_type": "code",
   "execution_count": 22,
   "metadata": {},
   "outputs": [
    {
     "data": {
      "text/plain": [
       "'A. \\r\\nGesetz ber die Bauernkammern.\\r\\nDer Landtag des Freistaates Bayern hat folgendes Gesetz beschlossen:\\r\\nI. Abschnitt.\\r\\nAllgemeines.\\r\\n      Art. 1. \\r\\n      I Fr die Landwirtschaft wird eine Berufsvertretung eingerichtet.\\r\\n      II Zur Landwirtschaft im Sinne dieses Gesetzes gehren auch die Forstwirtschaft in den Privat=, Gemeinde=, Stiftungs= und Krperschaftswaldungen und der Gartenbau. \\r\\n      III Auf die im Eigentume des Staates und des Reichs stehenden forstwirtschaftlichen Grundstcke findet dieses Gesetz keine Anwendung.\\r\\n      Art. 2.\\r\\n      Die Vertretungskrper des landwirtschaftlichen Berufsstandes sind\\r\\n      1. die Landesbauernkammern fr das ganze Land,\\r\\n      2. die Kreisbauernkammern fr jeden Kreis,\\r\\n      3. die Bezirksbauernkammern fr jeden Bezirk und jede unmittelbare Stadt.\\r\\n      Art. 3.\\r\\n      Die Bauernkammern sind Krperschaften des ffentlichen Rechtes mit dem Rechte der Selbstverwaltung nach Magabe der Gesetze.\\r\\n      Art. 4.\\r\\n      I Die Bauernkammern mssen mindestens einen Vorsitzenden und einen Schriftfhrer haben. Sie werden durch den Vorsitzenden vertreten.\\r\\n      II ber ihre Beschlsse ist eine Niederschrift zu fhren, die von dem Vorsitzenden und dem Schriftfhrer zu unterzeichnen ist. Die Beschlsse werden durch die Niederschrift beurkundet.\\r\\n      III Die Bauernkammern knnen zur Vorberatung oder zur entgltigen Erledigung bestimmter Angelegenheiten Ausschsse aus ihrer Mitte einsetzen und zur Errterung einzelner Angelegenheiten Sachverstndige mit beratender Stimme beiziehen.\\r\\n      IV Die Bauernkammern verhandeln ffentlich, knnen aber die ffentlichkeit aus besonderen Grnden fr einzelne Beratungsgegenstnde ausschlieen.\\r\\n      V Die Ttigkeit ihrer Mitglieder ist ehrenamtlich; die Mitglieder knnen jedoch den Ersatz ihrer Barauslagen beanspruchen.\\r\\n      VI Jm brigen regeln die Bauernkammern ihre Verfassung selbst durch eine Satzung. Die Satzung der Bezirksbauernkammern bedarf der Genehmigung der Kreisbauernkammern, die Satzung der Kreisbauernkammern der Genehmigung der Landesbauernkammer; die Landesbauernkammer setzt ihre Satzung selbst fest.\\r\\n      Art. 5.\\r\\n      Den Bauernkammern kommt die Wahrnehmung und Vertretung der Angelegenheiten der Landwirtschaft in wirtschaftlicher und fachlicher Beziehung zu. Sie haben daher vor allem folgende Aufgaben:\\r\\n      1. Schutz und Vertretung der landwirtschaftlichen Jnteressen in allen Fragen der Wirtschafts=, Handels= und Steuerpolitik,\\r\\n      2. Frderung der landwirtschaftlichen Erzeugung auf allen Gebieten (insbesondere Acker= und Pflanzenbau, Futtermittelbau, Saatzucht, Bodenverbesserung, Tierzucht, Milchwirtschaft, landwirtschaftliche Gewerbe, Versorgung der Landwirtschaft mit Kraft, Regelung des Ausstellungswesens fr landwirtschaftliche Erzeugnisse usw.),\\r\\n      3. Mitwirkung bei den von der Staatsregierung fr landwirtschaftliche Zwecke geschaffenen Einrichtungen, insbesondere beim landwirtschaftlichen Versicherungs= und Ansiedelungswesen,\\r\\n      4. Mitwirkung in Fragen des lndlichen Wohnungs= und Schtzungswesens,\\r\\n      5. Erhaltung und Frderung bestehender sowie Schaffung und Verwaltung neuer stndischer Einrichtungen zur Verbesserung der Lage des landwirtschaftlichen Berufsstandes,\\r\\n      6. Frderung wirtschaftlich zweckmiger Verwertung der landwirtschaftlichen Erzeugnisse und Mitwirkung bei den Preisfestsetzungen, insbesondere auf den Mrkten,\\r\\n      7. Mitwirkung bei der Vermittlung landwirtschaftlicher Arbeitskrfte sowie bei der Ordnung der Arbeits=, Gehalts= und Lohnverhltnisse der landwirtschaftlichen Arbeitnehmer im Benehmen mit den freien Vertretungen der landwirtschaftlichen Arbeitgeber und Arbeitnehmer,\\r\\n      8. Ausbau und Frderung des landwirtschaftlichen Unterrichts=, Versuchs= und Forschungswesens,\\r\\n      9. Mitwirkung bei der Sicherung der Volksernhrung und bei der berwachung des Verkehrs mit Lebensmitteln.\\r\\n      Art. 6.\\r\\n      I Mehrere Bauernkammern knnen sich zur Erfllung einzelner gemeinsamer Aufgaben zu einem Verbande zusammenschlieen. Das Staatsministerium fr Landwirtschaft kann einem solchen Verband auf Antrag die Eigenschaft einer Krperschaft des ffentlichen Rechtes verleihen.\\r\\n      II Ein solcher Verband regelt seine Verfassung durch eine Satzung, die der Genehmigung der bergeordneten Bauernkammer bedarf.\\r\\nII. Abschnitt.\\r\\nWahlen.\\r\\n      Art. 7.\\r\\n      I Wahlberechtigt sind ohne Unterschied des Geschlechts:\\r\\n      1. Eigentmer, Nutznieer und Pchter landwirtschaftlich benutzter, in Bayern gelegener Grundstcke, soferne sie auf diesen Grundstcken die Landwirtschaft im Hauptberuf ausben,\\r\\n      2. Eigentmer, Nutznieer und Pchter, die auf solchen Grundstcken die Landwirtschaft im Nebenberuf ausben, soweit ihre Grundstcke mindestens die Steuerverhltniszahl 40 erreichen,\\r\\n      3. Verwalter, die im Hauptberuf landwirtschaftliche Betriebe leiten,\\r\\n      4. Personen, welche die Voraussetzungen in Ziffer 1 mindestens 15 Jahre lang erfllt haben, soferne sie einen anderen Beruf als Hauptberuf nicht mehr ergriffen haben,\\r\\n      5. je ein Vorstandsmitglied oder Geschftsfhrer der landwirtschaftlichen Krperschaften, soweit diese Rechtspersnlichkeit besitzen.\\r\\n      6. die Lehrkrfte landwirtschaftlicher Schulen, soweit sie an der Schule im Hauptberufe ttig sind und landwirtschaftliche Fcher lehren.\\r\\n      II Wahlberechtigt ist nur, wer die deutsche Reichsangehrigkeit besitzt. Die Personen unter Ziffer 1 bis 3 ben ihr Wahlrecht am Sitze ihres Betriebes aus, die Personen unter Ziffer 4 bis 6 an ihrem stndigen Aufenthaltsorte.\\r\\n      III Auch juristische Personen sind wahlberechtigt. \\r\\n      IV Niemand hat mehr als eine Stimme.\\r\\n      Art. 8.\\r\\n      Nicht wahlberechtigt sind:\\r\\n      1. Personen, die entmndigt sind oder unter vorlufiger Vormundschaft oder wegen geistigen Gebrechens unter Pflegschaft stehen,\\r\\n      2. Personen, die wegen Geisteskrankheit oder Geistesschwche ihre Angelegenheiten nicht zu besorgen vermgen,\\r\\n      3. Personen, deren Vermgen dem Konkursverfahren unterliegt,\\r\\n      4. Personen, deren Grundstcke der Zwangsversteigerung oder Zwangsverwaltung unterliegen,\\r\\n      5. Personen, denen die brgerlichen Ehrenrechte aberkannt sind.\\r\\n      Art. 9.\\r\\n      Von mehreren Mieteigentmern, Nutznieern oder Pchtern desselben Grundstcks kann nur einer das Wahlrecht ausben; er bedarf dazu, soweit er nicht gesetzlich zur Vertretung der anderen berufen ist, einer Vollmacht der brigen.\\r\\n      Art. 10.\\r\\n      Wahlberechtigte Personen knnen nur persnlich whlen. Fr Personen, die das 20. Lebensjahr nicht vollendet haben, und fr juristische Personen wird das Wahlrecht durch den gesetzlichen Vertreter oder durch einen Bevollmchtigten ausgebt.\\r\\n      Art. 11.\\r\\n      I Die Ausbung des Wahlrechts ist durch den Eintrag in die Whlerliste bedingt, die von den Gemeinden aufzustellen und vor dem Wahltag eine Woche lang ffentlich auszulegen ist.\\r\\n      II Einsprche gegen die Whlerlisten sind bei Meidung des Ausschlusses in der gleichen Frist einzulegen.\\r\\n      Art. 12.\\r\\n      I Whlbar sind alle ber 25 Jahre alten Personen, die entweder nach Art. 7 bis 9 wahlberechtigt oder selbstndig im Dienste der Landwirtschaft ttig sind. \\r\\n      II Die gleichen Voraussetzungen gelten auch fr die Zuwahlen.\\r\\n      Art. 13.\\r\\n      Die Bauernkammern werden auf fnf Jahre gewhlt. Sie fhren die Geschfte, bis die bei den nchsten Wahlen gewhlten Bauernkammern zusammentreten.\\r\\n      Art. 14.\\r\\n      I Die Wahlen zu den Bezirks= und Kreisbauernkammern erfolgen durch unmittelbare und geheime Abgabe der Stimmzettel nach dem Grundsatze der Verhltniswahl mit freien Listen.\\r\\n      II Die Landesbauernkammer wird durch die Kreisbauernkammern gewhlt.\\r\\n      III Von den auf den Wahlvorschlgen aufgefhrten Personen mssen mindestens drei Viertel ausbende Landwirte sein.\\r\\n      IV Fr die Mitglieder der Bauernkammern sind Ersatzleute in mindestens gleicher Zahl zu whlen.\\r\\n      V Die Staatsministerien des Jnnern und fr Landwirtschaft regeln die Einzelheiten der Wahl durch eine Wahlordnung und bestimmen den Zeitpunkt der Wahl.\\r\\n      Art. 15.\\r\\n      I Die Kosten der Wahl treffen bei den Wahlen zu den Bezirks und Kreisbauernkammern, soweit sie auf die Bereitstellung des Wahlraums und der fr die Wahl sonst noch ntigen Gegenstnde entfallen, die Gemeinden, im brigen die Bezirks= und Kreisbauernkammern.\\r\\n      II Die zum Vollzug der Wahl vorgesehenen mter sind Ehrenmter, wofr keine Vergtung beansprucht werden kann.\\r\\n      Art. 16.\\r\\n      Niemand ist verpflichtet, die Wahl oder Zuwahl anzunehmen. Der Austritt aus der Bauernkammer ist jederzeit zulssig.\\r\\n      Art. 17.\\r\\n      Der Verlust der Whlbarkeit hat den Verlust der Mitgliedschaft zur Folge.\\r\\nIII. Abschnitt.\\r\\nZusammensetzung der Bauernkammern.\\r\\n1. Bezirksbauernkammern.\\r\\n      Art. 18.\\r\\n      I Die Bezirksbauernkammer besteht in Bezirken bis zu 10 000 Wahlberechtigten aus 15 Mitgliedern, in Bezirken mit mehr Wahlberechtigten aus 20 Mitgliedern. Die Zahl der Wahlberechtigten bemit sich nach den letzten Wahlen zur Bezirksbauernkammer auf Grund dieses Gesetzes.\\r\\n      II Die Bezirksbauernkammer kann sich durch Zuwahlen um hchstens ein Fnftel der Zahl der gewhlten Mitglieder verstrken.\\r\\n      Art. 19.\\r\\n      Die Bezirksbauernkammer kann bei Angelegenheiten, welche einzelne Gemeinden ausschlielich oder vorwiegend berhren, die Zuziehung von Vertrauensleuten dieser Gemeinden mit beratender Stimme beschlieen. Die Stadt= oder Gemeinderte bestimmen die Vertrauensleute. Die Gemeinden tragen die Kosten ihrer Ttigkeit. Art. 4 Abs. V findet entsprechende Anwendung.\\r\\n2. Kreisbauernkammern.\\r\\n      Art. 20.\\r\\n      I Die Kreisbauernkammer besteht aus 30 Mitgliedern.\\r\\n      II Sie kann sich durch Zuwahlen um hchstens ein Fnftel der Zahl der gewhlten Mitglieder verstrken.\\r\\n3. Landesbauernkammer.\\r\\n      Art. 21.\\r\\n      I Die Landesbauernkammer besteht aus je sechs von den Kreisbauernkammern gewhlten Mitgliedern. Davon mssen mindestens je fnf ausbende Landwirte sein.\\r\\n      II Die Landesbauernkammer kann sich durch Zuwahlen um hchstens ein Fnftel der Zahl der gewhlten Mitglieder verstrken.\\r\\n      Art. 22.\\r\\n      Die Landesbauernkammer hat ihren Sitz am Sitze der Staatsregierung.\\r\\nIV. Abschnitt.\\r\\nVerhltnis der Bauernkammern zum Landtag, zur Staatsregierung und zu den Selbstverwaltungskrpern.\\r\\n      Art. 23.\\r\\n      I Die Bauernkammern sind berechtigt, Antrge an die Staatsregierung zu stellen.\\r\\n      II Die Staatsregierung ist verpflichtet, solche Antrge zu verbescheiden, sowie vor der Regelung wichtiger, die Landwirtschaft berhrender Angelegenheiten die Bauernkammern zu hren.\\r\\n      III Die Staatsregierung hat die Antrge der Landesbauernkammer, soweit sie zu ihrer Erledigung nicht selbst zustndig ist, dem Landtag zur Beratung und Verbescheidung vorzulegen.\\r\\n      Art. 24.\\r\\n      I Die Staatsregierung ist zu allen Sitzungen der Bauernkammern rechtzeitig unter Mitteilung der Tagesordnung einzuladen. Die Staatsregierung kann Vertreter zu den Sitzungen abordnen, die auf ihr Verlangen jederzeit gehrt werden mssen.\\r\\n      II Dasselbe gilt bei den Bezirks= und Kreisbauernkammern fr die Vorsitzenden der Bezirks= und Kreistage.\\r\\n      Art. 25.\\r\\n      Die Rechte und Pflichten der Staatsregierung (Art. 23, 24) werden gegenber den Bezirksbauernkammern von der Bezirksverwaltungsbehrde, gegenber den Kreisbauernkammern von den Regierungen, Kammern des Jnnern, und gegenber der Landesbauernkammer von den zustndigen Staatsministerien wahrgenommen.\\r\\nV. Abschnitt.\\r\\nZusammenarbeit der Bauernkammern mit den Vertretungen der landwirtschaftlichen Arbeitnehmer.\\r\\n      Art. 26.\\r\\n      Bis zur reichsgesetzlichen Regelung der Berufsvertretung der landwirtschaftlichen Arbeitnehmer wird bei den Bauernkammern eine Vertretung der landwirtschaftlichen Arbeitnehmer eingerichtet.\\r\\n      Art. 27.\\r\\n      I Als Vertretung der landwirtschaftlichen Arbeitnehmer gelten die von den Berufsvereinigungen der landwirtschaftlichen Arbeitnehmer abgeordneten Vertreter.\\r\\n      II Das Staatsministerium fr Landwirtschaft bestimmt die Berufsvereinigungen, welche Vertreter abordnen knnen, und die Zahl der Vertreter. Jhre Zahl darf die Zahl der Mitglieder der Bauernkammern nicht bersteigen.\\r\\n      Art. 28.\\r\\n      I Die Vertretung der landwirtschaftlichen Arbeitnehmer bildet mit der Bauernkammer zusammen eine Arbeitsgemeinschaft.\\r\\n      II Die Aufgabe der Arbeitsgemeinschaft ist die gemeinsame Beratung und Beschlufassung in Fragen, die gemeinsame Angelegenheiten der Arbeitgeber und Arbeitnehmer berhren.\\r\\n      III Vorsitzender der Arbeitsgemeinschaft ist der Vorsitzende der Bauernkammer.\\r\\n      IV Jn der Arbeitsgemeinschaft stimmen die Bauernkammer und die Vertretung der landwirtschaftlichen Arbeitnehmer gesondert ab. Ein Beschlu der Arbeitsgemeinschaft setzt bereinstimmende Beschlsse beider Gruppen voraus.\\r\\n      V Die Art. 23 bis 25 finden entsprechende Anwendung auf die Beschlsse der Arbeitsgemeinschaft und auf die gesonderten Beschlsse der Vertretung der landwirtschaftlichen Arbeitnehmer.\\r\\nVI. Abschnitt.\\r\\nRechnungswesen und Kostendeckung.\\r\\n      Art. 29.\\r\\n      Die Ausgaben der Bauernkammern werden bestritten:\\r\\n      1. durch die Einnahmen aus den eigenen Einrichtungen,\\r\\n      2. durch freiwillige Zuschsse der Gemeinden, der Bezirke, der Kreise und des Staates,\\r\\n      3. durch Umlagen.\\r\\n      Art. 30.\\r\\n      I Das Rechnungsjahr beginnt mit dem 1. April und endet mit dem 31. Mrz.\\r\\n      II Die Bauernkammern stellen jhrlich bis zum 1. Mrz den Voranschlag fr das nchste Rechnungsjahr auf und haben ihn bis 15. Mrz der bergeordneten Bauernkammer vorzulegen. Die Voranschlge der Bezirks= und Kreisbauernkammern bedrfen der Genehmigung der bergeordneten Bauernkammer.\\r\\n      III Die Landesbauernkammer verteilt ihren ungedeckten Bedarf nach dem Verhltnis der Grundsteuer auf die Kreisbauernkammern. Die Kreisbauernkammern verteilen ihren Bedarf einschlielich des Bedarfsanteils der Landesbauernkammer nach dem gleichen Verhltnis auf die Bezirksbauernkammern. Die Bezirksbauernkammern verteilen ihren Bedarf einschlielich des Bedarfsanteils der Kreisbauernkammern nach dem Mastabe der Grundsteuer in gleicher Weise, wie dies fr die Beitrge zur landwirtschaftlichen Unfallversicherung in den Art. 23 und 24 des Ausfhrungsgesetzes vom 2. November 1912 zur Reichsversicherungsordnung (GVBl. Seite 1135) vorgeschrieben ist.\\r\\n      Art. 31.\\r\\n      I Zur Zahlung der Umlagen (Art. 30 Abs. III) ist verpflichtet, wer gesetzlich zur Grundsteuer fr die Grundstcke veranlagt ist. Die Umlagen werden mit der Grundsteuer fllig und mit ihr erhoben. Sie werden nach den Vorschriften ber die Einhebung und Beitreibung von Staatssteuern durch die hierzu berufenen Behrden eingezogen. Fr die Verjhrung gelten die Art. 124 und 125 des Ausfhrungsgesetzes zum brgerlichen Gesetzbuch entsprechend.\\r\\n      II Die Bezirksbauernkammern haben fr die Einhebung und Beitreibung der Umlagen eine angemessene Vergtung zu leisten; diese wird von den Staatsministerien der Finanzen und fr Landwirtschaft im Einvernehmen mit der Landesbauernkammer festgesetzt.\\r\\n      Art. 32.\\r\\n      Die in Art. 31 Abs. I bezeichneten Behrden liefern die Umlagen an die Bezirksbauernkammern ab. Die Bezirksbauernkammern haben die Bedarfsanteile der Kreisbauernkammern an diese, die Kreisbauernkammern haben die Bedarfsanteile der Landesbauernkammer an diese abzufhren.\\r\\n      Art. 33.\\r\\n      Die Kassenfhrer der Bauernkammern haben nach Ablauf des Rechnungsjahres ber die Einnahmen und Ausgaben schriftlich Rechnung zu stellen. Die Jahresrechnungen der Bezirksbauernkammern sind von den Kreisbauernkammern, die der Kreisbauernkammern von der Landesbauernkammer zu prfen. Die Hauptabschlsse sind zu verffentlichen.\\r\\nVII. Abschnitt.\\r\\nSchlu= und bergangsvorschriften.\\r\\n      Art. 34.\\r\\n      I Streitigkeiten fr die Berechtigung zum Eintritt in die Bauernkammern und ber das Erlschen der Mitgliedschaft entscheidet endgltig die bergeordnete Bauernkammer. Die Landesbauernkammer entscheidet solche Streitigkeiten selbst.\\r\\n      II Streitigkeiten ber die Umlagenpflicht (Art. 30, 31) sind Verwaltungsrechtssachen; im ersten Rechtszug entscheidet die Bezirksverwaltungsbehrde, im zweiten Rechtszuge der Verwaltungsgerichtshof.\\r\\n      Art. 35.\\r\\n      Die Bezirke, die Kreise und der Staat sind verpflichtet, den Bezirksbauernkammern, den Kreisbauernkammern und der Landesbauernkammer auf Verlangen angemessene unverzinsliche Vorschsse zur Bestreitung der Kosten bis zur erstmaligen Ablieferung der Umlagen zu leisten. Die Vorschsse sind nach der erstmaligen Ablieferung der Umlagen zurckzuzahlen.\\r\\n      Art. 36.\\r\\n      Die Staatsministerien des Jnnern und fr Landwirtschaft erlassen die Vollzugsvorschriften zu diesem Gesetze.\\r\\n      Art. 37.\\r\\n      I Dieses Gesetz wird als dringend im Sinne des  77 Abs. 1 der Verfassungsurkunde bezeichnet und tritt mit seiner Verkndung in Kraft.\\r\\n      II Die Umlagenpflicht (Art. 29 bis 32) beginnt mit dem 1. April 1920, das erste Rechnungsjahr (Art. 30 Abs. 1) umfat den Zeitraum vom Jnkrafttreten des Gesetzes bis 31. Mrz 1921.\\r\\n      III Solange die Durchfhrung dieses Gesetzes in der Pfalz nicht mglich ist, besteht die Landesbauernkammer aus den von den rechtsrheinischen Kreisbauernkammern gewhlten und den zugewhlten Vertretern.\\r\\n      IV Mit dem Amtsantritt der nach diesem Gesetze gewhlten Bauernkammern gelten die bestehenden Bauernrte als aufgehoben.\\r\\n      V Das Staatsministerium fr Landwirtschaft bestimmt fr den ersten Wahlzeitraum die Zahl der Mitglieder der Bezirksbauernkammern (Art. 18 Abs. 1 Satz 2).\\r\\n      Art. 38. Das Staatsministerium fr Landwirtschaft bestimmt, wann und wie die koburgischen Landesteile nach ihrer Einverleibung in die landwirtschaftliche Berufsvertretung eingegliedert werden, und erlt hierwegen die erforderlichen Anordnungen.\\r\\n      Mnchen, den 20. Mrz 1920.\\r\\n'"
      ]
     },
     "execution_count": 22,
     "metadata": {},
     "output_type": "execute_result"
    }
   ],
   "source": [
    "df.iloc[10].text"
   ]
  },
  {
   "cell_type": "code",
   "execution_count": null,
   "metadata": {},
   "outputs": [],
   "source": []
  }
 ],
 "metadata": {
  "kernelspec": {
   "display_name": "Python [conda env:nlp]",
   "language": "python",
   "name": "conda-env-nlp-py"
  },
  "language_info": {
   "codemirror_mode": {
    "name": "ipython",
    "version": 3
   },
   "file_extension": ".py",
   "mimetype": "text/x-python",
   "name": "python",
   "nbconvert_exporter": "python",
   "pygments_lexer": "ipython3",
   "version": "3.7.5"
  }
 },
 "nbformat": 4,
 "nbformat_minor": 2
}
