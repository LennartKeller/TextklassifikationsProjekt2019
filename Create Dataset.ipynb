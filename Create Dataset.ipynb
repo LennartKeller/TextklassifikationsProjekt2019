{
 "cells": [
  {
   "cell_type": "markdown",
   "metadata": {},
   "source": [
    "# Read raw text corpora"
   ]
  },
  {
   "cell_type": "code",
   "execution_count": 1,
   "metadata": {},
   "outputs": [
    {
     "ename": "ModuleNotFoundError",
     "evalue": "No module named 'magic'",
     "output_type": "error",
     "traceback": [
      "\u001b[1;31m---------------------------------------------------------------------------\u001b[0m",
      "\u001b[1;31mModuleNotFoundError\u001b[0m                       Traceback (most recent call last)",
      "\u001b[1;32m<ipython-input-1-de527948ee58>\u001b[0m in \u001b[0;36m<module>\u001b[1;34m\u001b[0m\n\u001b[0;32m      1\u001b[0m \u001b[1;32mimport\u001b[0m \u001b[0mos\u001b[0m\u001b[1;33m\u001b[0m\u001b[1;33m\u001b[0m\u001b[0m\n\u001b[0;32m      2\u001b[0m \u001b[1;32mimport\u001b[0m \u001b[0mchardet\u001b[0m\u001b[1;33m\u001b[0m\u001b[1;33m\u001b[0m\u001b[0m\n\u001b[1;32m----> 3\u001b[1;33m \u001b[1;32mimport\u001b[0m \u001b[0mmagic\u001b[0m\u001b[1;33m\u001b[0m\u001b[1;33m\u001b[0m\u001b[0m\n\u001b[0m\u001b[0;32m      4\u001b[0m \u001b[1;32mimport\u001b[0m \u001b[0mpandas\u001b[0m \u001b[1;32mas\u001b[0m \u001b[0mpd\u001b[0m\u001b[1;33m\u001b[0m\u001b[1;33m\u001b[0m\u001b[0m\n\u001b[0;32m      5\u001b[0m \u001b[1;32mfrom\u001b[0m \u001b[0mtyping\u001b[0m \u001b[1;32mimport\u001b[0m \u001b[0mTuple\u001b[0m\u001b[1;33m,\u001b[0m \u001b[0mList\u001b[0m\u001b[1;33m,\u001b[0m \u001b[0mIterable\u001b[0m\u001b[1;33m\u001b[0m\u001b[1;33m\u001b[0m\u001b[0m\n",
      "\u001b[1;31mModuleNotFoundError\u001b[0m: No module named 'magic'"
     ]
    }
   ],
   "source": [
    "import os\n",
    "import chardet\n",
    "import magic \n",
    "import pandas as pd\n",
    "from typing import Tuple, List, Iterable\n",
    "\n",
    "def read_raw_corpus(files: Iterable[str], corpus: str) -> Tuple[pd.DataFrame, List[str]]:\n",
    "    \"\"\"\n",
    "    Reads all files from file and creates a dataframe containing:\n",
    "        * Raw text\n",
    "        * title\n",
    "        * year of publication\n",
    "        * period label\n",
    "        * genre label\n",
    "        * region label\n",
    "        * corpus label (has to set as param)\n",
    "    \n",
    "    NOTE: The Corpus label must be either 'innsbruck' or 'manchester'.\n",
    "    If it is 'manchester' another split is used to read the metadata from the filenames.\n",
    "    \n",
    "    Also a list of tuples containing the files which could not be processed \n",
    "    and the error which was thrown while trying to do so is returned.\n",
    "    \n",
    "    :param file Liste of filepaths\n",
    "    :param corpus corpus label string\n",
    "    :return a dataframe + a list files which could not be processed\n",
    "    \"\"\"\n",
    "    \n",
    "    data = []\n",
    "    errors = []\n",
    "    for file in files:\n",
    "    \n",
    "        m_file = magic.Magic(mime_encoding=True)\n",
    "        file_encoding = m_file.from_buffer(file)\n",
    "        file = file.encode(file_encoding).decode('UTF-8')\n",
    "        filename = os.path.basename(file)\n",
    "        genre, period, region, year, title = filename.split('_')[:5]\n",
    "        if corpus.lower() == 'manchester':\n",
    "            if title.endswith('RAW.txt'):\n",
    "                title = title.replace('RAW.txt', '')\n",
    "            else:\n",
    "                title = title.replace('.txt', '')\n",
    "\n",
    "        with open(file, 'rb') as f:\n",
    "            text_bytes = f.read()\n",
    "            try:\n",
    "                encoding_info = chardet.detect(text_bytes)\n",
    "                text = text_bytes.decode(encoding_info['encoding'])\n",
    "            except Exception as e:\n",
    "                errors.append((file, str(e)))\n",
    "                continue\n",
    "\n",
    "        data.append({\n",
    "            'filename': file,\n",
    "            'text': text,\n",
    "            'title': title,\n",
    "            'genre': genre,\n",
    "            'period': period,\n",
    "            'region': region,\n",
    "            'year': year,\n",
    "            'filename': filename,\n",
    "            'corpus': corpus\n",
    "        })\n",
    "        \n",
    "    df = pd.DataFrame.from_dict(data)\n",
    "    df = df.set_index('filename')\n",
    "    return df, errors\n",
    "\n"
   ]
  },
  {
   "cell_type": "markdown",
   "metadata": {},
   "source": [
    "# Read raw innsbruck corpus files into a dataframe"
   ]
  },
  {
   "cell_type": "code",
   "execution_count": 3,
   "metadata": {},
   "outputs": [
    {
     "name": "stdout",
     "output_type": "stream",
     "text": [
      "638\n"
     ]
    }
   ],
   "source": [
    "import glob\n",
    "\n",
    "innsbruck_raw_files = glob.glob('GermInnC/**/*.txt')\n",
    "print(len(innsbruck_raw_files))"
   ]
  },
  {
   "cell_type": "code",
   "execution_count": null,
   "metadata": {},
   "outputs": [],
   "source": [
    "innsbruck_raw_df, errors = read_raw_corpus(innsbruck_raw_files, 'innsbruck')\n",
    "print(errors)\n",
    "print(innsbruck_raw_df.shape)\n",
    "innsbruck_raw_df.head()"
   ]
  },
  {
   "cell_type": "code",
   "execution_count": null,
   "metadata": {},
   "outputs": [],
   "source": [
    "innsbruck_raw_df.to_csv('innsbruck_dataset.csv', encoding='UTF-8')"
   ]
  },
  {
   "cell_type": "markdown",
   "metadata": {},
   "source": [
    "# Read raw manchester corpus files into a dataframe"
   ]
  },
  {
   "cell_type": "code",
   "execution_count": null,
   "metadata": {},
   "outputs": [],
   "source": [
    "manchester_raw_files = glob.glob('Manchester/RAW/*.txt')"
   ]
  },
  {
   "cell_type": "code",
   "execution_count": null,
   "metadata": {},
   "outputs": [],
   "source": [
    "manchester_raw_df, errors = read_raw_corpus(manchester_raw_files, 'manchester')\n",
    "print(errors)\n",
    "print(manchester_raw_df.shape)\n",
    "manchester_raw_df.head()"
   ]
  },
  {
   "cell_type": "code",
   "execution_count": null,
   "metadata": {},
   "outputs": [],
   "source": [
    "manchester_raw_df.to_csv('manchester_dataset.csv', encoding='UTF-8')"
   ]
  },
  {
   "cell_type": "markdown",
   "metadata": {},
   "source": [
    "# Concat raw dataframes"
   ]
  },
  {
   "cell_type": "code",
   "execution_count": null,
   "metadata": {},
   "outputs": [],
   "source": [
    "full_raw_df = pd.concat((manchester_raw_df, innsbruck_raw_df))\n",
    "print(full_raw_df.shape)\n",
    "df.head()"
   ]
  },
  {
   "cell_type": "code",
   "execution_count": null,
   "metadata": {},
   "outputs": [],
   "source": [
    "full_raw_df.to_csv('full_dataset.csv', encoding='UTF-8')"
   ]
  },
  {
   "cell_type": "markdown",
   "metadata": {},
   "source": [
    "# Read tagged corpora"
   ]
  },
  {
   "cell_type": "code",
   "execution_count": 4,
   "metadata": {},
   "outputs": [],
   "source": [
    "tagged_files = glob.glob('GermInnC Tagged/**/*.txt')"
   ]
  },
  {
   "cell_type": "code",
   "execution_count": 6,
   "metadata": {},
   "outputs": [],
   "source": [
    "import os\n",
    "from typing import Iterable\n",
    "tagged_data = []\n",
    "for file in tagged_files:\n",
    "    genre, period, region, year, title = os.path.basename(file).split('_')[:5]\n",
    "    tokens = []\n",
    "    pos_tags = []\n",
    "    lemmas = []\n",
    "    with open(file, 'r', encoding='UTF-8') as f:\n",
    "        for line in f:\n",
    "            line = line.rstrip()\n",
    "            try:\n",
    "                token, pos_tag, lemma = line.split('\\t')\n",
    "            except ValueError:\n",
    "                continue\n",
    "            tokens.append(token)\n",
    "            pos_tags.append(pos_tag)\n",
    "            lemmas.append(lemma)\n",
    "\n",
    "    tagged_data.append({\n",
    "        'tokens': \" \".join(tokens),\n",
    "        'pos_tags': \" \".join(pos_tags),\n",
    "        'lemmas': \" \".join(lemmas),\n",
    "        'title': title,\n",
    "        'genre': genre,\n",
    "        'period': period,\n",
    "        'region': region,\n",
    "        'year': year,\n",
    "        'corpus': None # TODO\n",
    "    })"
   ]
  },
  {
   "cell_type": "code",
   "execution_count": 7,
   "metadata": {},
   "outputs": [
    {
     "data": {
      "text/plain": [
       "{'tokens': 'Erster Aufzug . Erster Auftritt . Ion . Sieh , schon bepurpurt des Parnassus Gipfel Der Frühe Schein , der goldne Sonnenwagen Erhebt sich glorreich in die blaue Bahn ; Und kaum noch scheuchte den gesunden Schlaf Des Morgens frischer Hauch mir von den Wimpern : Drum eifrig an mein Werk , den heil ’ gen Dienst ! Vor allem aber muss ich dich begrüssen , Apollo , heitrer Gott ! der du von droben Das milde Licht herab zur Erde sendest , Und hier im Tempel mit der Weisheit Sprüchen Die dunkle Brust den Sterblichen erleuchtest . O küsse meine Stirn mit reinem Strahl , Du , den Gebieter ich und Vater nenne , Weil du im Heiligthum mich auferzogst , Auf dass ich , von der Menschen wüstem Treiben Ganz unberührt , der Jugend regen Trieb , Das frohe Leben deinem Dienste weihte . Hier saug ‘ ich deinen Athem in der Luft , Und es umfängt mich dieser Haine Schatten So zärtlich wie dein väterlicher Arm . Mir schweifen irr und unbestimmt die Wünsche Nicht in die Ferne : lass nur stets mich weilen Bey dir , und sey mir wohlgefällig nah , So hast du mir das schönste Loos gewährt . Ein jeder Tag erneut mir Lieb ‘ und Lust , Wie täglich frisch gepflückte Zweig ‘ und Kränze Von deinem ewig grünen Lorbeerbaum Hier diese Säulen , dieses Thor umwinden . Schon legten sie die Diener mir bereit . Wohlauf ! Er nimmt aus einem vor dem Tempel stehenden Korbe Lorbeerkränze und Guirlanden , hängt jene an die Thürpfosten , und umschlingt mit diesen die Säulen . So ! Nun hat Phöbus Haus den blüh’nden Schmuck , Der ihm gebührt : denn , liebt er schon die Pracht Des Goldes , und die weissen Marmorwände , An denen weiser Künstler Hand Gestalten Der Götter kühn und gross herausgebildet , Ist Daphne’s Haar ihm doch vor allem werth . Nun soll Kastaliens silberklarer Thau , Von priesterlichen Mägden mit der Dämmrung Am Felsenborn geschöpft in diesen Krug , Der Schwelle Zugang reinigend benetzen , Wie der Gebrauch es fodert , und mein Amt . Er sprengt aus einem vor dem Tempel stehenden Gefässe . Auch das geschah . Jezt kommt , ihr leichten Waffen , Die nach Apollo’s Bild ich tragen darf ! Er hängt einen Köcher um , und nimmt den Bogen in die Hand . Mit euch durchwandl ‘ ich ringsum den Bezirk , Und wo nur freches lärmendes Gefieder , Sein Nest zu baun an unerlaubter Stelle , Die schönen Zierden zu verschänden , naht , Da trifft sie mein befiedertes Geschoss . Doch wenn Zeus Adler aus den Wolken fährt , Wenn Phöbus tönender Genoss , der Schwan , Mit Purpurfüssen durch die Lüfte rudert , Scheuch ‘ ich nur mit Geräusch sie : denn ich mag Des Himmels Abgesandte nicht ermorden , Die vorbedeutend lenken ihren Flug . Zweyter Auftritt . Ion . Pythia . Pythia . Sey mir gegrüsst , mein Ion . Ion . Mir noch schöner , Du mütterliches Haupt . So früh schon wach ? Pythia . Mich weckten die Gedanken , die das Alter Kaum schlummern lassen , wenn der müde Leib Des tiefen ungestörten Schlafs bedürfte . Der Tag , der eben lächelnd aufgegangen , Bewegt für dich mit Rührung mein Gemüth . Ion . Was bringt der Tag so ahndungsvolles mit ? Pythia . Heut sind es grade sechzehn Jahr , dass dich Dein Schicksal meiner Sorge hat vertraut . Ion . Ich werd ‘ es dankbar preisen immerfort . Pythia . Ich trat wie eben jetzt vor diese Pforte , Frühmorgens in das Heiligthum zu gehn . Da fand ich dich hier auf der Schwelle liegend , Den neugebohrnen Säugling ; zwar in Windeln Gehüllt , in einem Körbchen wóhl verwahrt , Doch hatte kalter Nachtwind dich durchschauert , Auch mochtest du wohl manche Stunde lang Schon nach dem süssen Mutterbusen schmachten : Du zitterst und weintest . Ion . Ach ich Armer ! Pythia . Wie ? dacht ‘ ich , hat der Dienerinnen eine Den jungfräulichen Stand entehrt , und schiebt Die Frucht des üpp ’ gen Betts , geheimer Lust , Dem Gotte zu ? Und wolle schon gebieten , Man solle vom geweihten Umkreis dich Entfernen , und der Wildniss überlassen . Ion . So wär ‘ ich , wie ein Traumbild nur vom Leben , Bewusstlos in die Schattenwelt gewandert . Pythia . Betrachtend hob ich aus dem Korbe dich , Du zappeltest zu meiner Brust hinan , Die niemals mütterliche Regung kannte . Wir Seherinnen müssen einsam leben , Wir sehn im Alter nicht ein jung Geschlecht Um uns emporblühn : Göttersprüche nur , Durch unser Haupt empfangen und gebohren , Sind unsre Söhne , die , wenn wir gestorben , Noch mächtig , unsichtbar , die Welt durchziehn , Eingreifend in der Menschen Thun und Wollen . Wehmuth befiel mich , und sie gab mir ein , Vielleicht vergönne mir für meine Treue Apoll die süsse Zärtlichkeit zu fühlen , Die eine Mutter an den Säugling knüpft . Ist doch ein leiblich Kind nur auch geschenkt , Und in dem Schoosse der es trägt , entfaltet Geheimnissvoll es eine höh’re Macht , Wie du vom Himmel in den Arm mir fielest . So siegte Mitleid über meine Strenge , Und ich beschloss , als Sohn dich zu erziehn . Ion . O dass es nimmer dich gereuen möge ! Pythia . Noch hat es nicht . Als Kind umspieltest du Holdselig , voller Unschuld , die Altäre , Und wurdest mit dem Heiligsten vertraut . Nun da du schlank empor zum Jüngling sprossest , Seh ‘ ich in dir ein muthig frey Gemüth , Doch still und klar , nicht ungestüm verworren . So bleib und wachse fort , dass man einst sage : Zwar keinen Eltern , die zu grosser That Ihn rühmlich spornten , hatt ‘ er nachzueifern , Bey der Geburt schon Waise ; doch statt dessen Hat er an kühner Kraft gehaltnem Maass Zum hohen Vorbild sich den Gott erwählt , Als dessen Eigenthum er aufgewachsen : Den Gott , der bald mit Pfeil und Bogen spielt , Bald mit der Leyer allgewaltig trifft . Ion . Was du ermahnest , wird mir zum Gebet . Doch wirst du zürnen , theure Pythia ? Ich kanns nicht bergen , dass mir deine Rede Ein unruhvolles Sehnen hat erregt . Pythia . Sie sollte nur dich zur Betrachtung leiten . Ion . Mir gnügte sonst , in Delphi stets zu wohnen ; Nun drängt mein Wunsch mich in die Welt hinaus . Pythia . Was hoffst du bessres jenseit dieser Haine ? Ion . Die mir das Leben gaben , möcht ‘ ich kennen . Pythia . Wie weckt ‘ ich solch Verlangen deinem Sinn ? Ion . Der Mutter Liebe liessest du mich ahnden . Unnennbar muss es seyn , was sie empfindet , Wenn an ihr Herz sie den als Jüngling drückt , Den sie gehegt hat unter ihre . n Herzen , Bevor er Luft und Licht des Himmels trank ; Unnenbar auch des Sohnes Zug zu ihr , Wenn er der Mutter theuren Leib umfasst , Der seiner Kindheit süsse Heimath war , Der Stamm , auf dem er wuchs als blüh’nder Zweig Und der mit eignem Leben ihn genährt . Pythia . Und diese Freude hast du nie gefühlt . Ion . Vergieb dem undankbaren Ion , Mutter , Der ausser dir noch eine Mutter sucht . Pythia . Ich tadle nicht das kindliche Begehren , War sie nur dessen werth , die dich gebahr . Versiegt war ihrer Liebe Quelle , wie Sie dir den Trank aus ihrer Brust versagt , In bittern Tod hat sie dich ausgestossen . Ion . O schilt sie nicht ! Wer weiss , welch ein Verhängniss Die Widerstrebende mit hartem Zwang Umstrickt , dass sie sich heimlich mir entriss , Und überstandnes Weh mit neuem häufte . Doch streb ‘ ich nach der Mutter nicht allein , An meinem Vater möcht ‘ ich auch hinaufsehn . Oft hört ‘ ich Fremden mit Entzücken zu , Die das Orakel zu besuchen kamen , Wenn sie mir rühmend ihr Geschlecht berichtet . Sie sprachen stolz der Väter Namen aus , Beym Angedenken ihrer Thaten wallte Das edle Blut , das sie von jenen erbten , In ihren Wangen auf . So führten sie Den Ursprung bis in alte Zeit zurück , Aus deren Nebel nur Heroen-Bilder Mit wunderbarem Glanz der Nachwelt leuchten . Nicht selten schloss ein Halbgott oder Gott , Als erster grosser Ahnherr ihres Stamms Sich an die schöne Reihe krönend an . Wie glücklich muss der seyn , der sich verwandt Dem Würdigsten mit gleichem Anspruch weiss ! Pythia . So manches Gut verliehen dir die Götter , Vielleicht diess Eine sollst du nicht geniessen . Ion . Sag , hast du keine Spur von meiner Abkunft ? Pythia . Nein , keine die uns näher führen könnte . Nur so viel glaub ‘ ich sicher einzusehn , Du kamst auf Delphi ’ s Boden nicht zur Welt . Denn , wenn die Nachbarstadt sie in sich fasste ; In sechzehn Jahren hätte deine Eltern Doch irgend wohl ein Zeichen mir verrathen . Ion . So ward ich aus der Fremde hergebracht . Pythia . Von einer Hand , die ganz verborgen blieb . Ion . Warum befragen wir Apollen nicht ? Pythia . Du könntest hören , was dir nicht gefiele . Ion . Wem kanns missfallen , sein Geschlecht zu wissen ? Pythia . Wenn knechtische Geburt dich nun beschämte ? Ion . Sehn denn wie ich der Sklaven Kinder aus ? Pythia . Die Pflege kann des Blutes Art veredeln . Jetzt bist du einzig deiner Thaten Sohn , Und darfst so mit den Edelsten dich messen . Doch nicht der Eltern Dienstbarkeit besorg ‘ ich Und dein Erröthen : noch weit unwillkommner Könnt ‘ ein Orakel deinen Ursprung melden . Der Sterblichen verworrne Leidenschaften Kennst du noch nicht , mein Sohn ; sie trennen und vereinen , Was nicht getrennt , was nicht vereint soll seyn : Im Ehbett lagert sich die Buhlerey , Und üppig Blut vermischt sich mit sich selber . Was Wunder , wenn sie solchen Bundes Frucht Und ihrer finstern Heimlichkeit Verräther , Gewaltsam , fühllos auszusetzen eilen ? Ion . Doch sollte , wer verbrecherisch ein Kind Erzeugt , dem Gott es darzubieten wagen ? Pythia . Mit dem Verbrechen stirbt die Scham vor Göttern , So wie die Furcht vor Menschen erst erwacht . Ion . Weh ! welchen Zweifel wirfst du mir entgegen , Woher vielleicht mein Leben sich entsponnen ! Pythia . Was deine That nicht war , darf dich nicht kümmern , Bewahrst du um so reiner nur dich selbst . Ion . Allein bis dieser Nachtgewebte Schleyer Von meiner Herkunft weggehoben wird , Muss ich als Fremdling fern von Menschen stehn , Und kann mich nicht in ihre Kreise traulich Verschlingen : ich vernahm mit Schaudern wohl , Wie sich Unwissenheit des eignen Stamms In Hass und Liebe schrecklich hat verirrt . Es kann ein Sohn den nicht erkannten Vater In raschem Zorn erschlagen , und als Braut Bey Hymens Fackeln heim die Schwester führen . Was sichert mich , den Fündling ohne Namen , Vor unfreywill’gem Frevel gleicher Art ? Pythia . Apollo ’ s Lieb ‘ und seines Tempels Dienst . Erwart ‘ in Ruh , bis die bestimmte Zeit Die Knoten deines Schicksals lösen wird . Denn Vorwitz könnte sie noch fester schürzen . Dritter Auftritt . Die Vorigen , Phorbas mit Gefolge von Sklaven , die kostbare Gefässe , Teppiche u. s. w. tragen . Phorbas . Seh ‘ ich allhier die Delphische Prophetin ? Pythia . So ist es . Was von ihr begehrend kommst du ? Phorbas . Zuvörderst Heil dem Gott , der dich begeistert , Dann ehrerbiet’ger Gruss dir , grosse Pythia ! Mich sandten die Gebieter mit Geschenken Voraus , ob Phöbus günstig sie empfinge . Denn ihn um Rath zu fragen , machten sie Sich auf den Weg , um Dinge von Gewicht . Pythia . Nach dieser Zeug ‘ und edlen Erzes Pracht Muss deine Herrschaft hochbegütert seyn . Sag ihré Heimath an und ihren Namen . Phorbas . Ihr Wohnsitz prangt im herrlichen Athen . Kreusa , Erichthonius Enkelin , Ist meine Fürstin ; Xuthus , ihr Gemahl , Führt jetzo dort das königliche Scepter . Pythia . Nicht unbekannt ist Xuthus Name mir , Wenn du vom Sohne des Thessal’schen Hellen , Und Aeolus und Dorus Bruder sprichst . Phorbas . Derselbe ists . Pythia . Er kam vor manchen Jahren , Von seinen Brüdern ausgetrieben , her , Und trug hier in den Pyth ’ schen Wettespielen Den Preis davon . Froh des errungenen Siegs Befragt ‘ er den Apoll um sein Geschlecht .',\n",
       " 'pos_tags': 'ADJA NN $. ADJA NN $. NN $. VVIMP $, ADV NN ART NN NN ART ADJA NN $, ART ADJA NN VVFIN PRF ADJD APPR ART ADJA NN $. KON ADV ADV VVFIN ART ADJA NN NN NN ADJA NN PRF APPR ART NN $. PAV ADJD APPR PPOSAT NN $, PRELS ADJD ADJD APPR NN $. APPR PIS ADV VMFIN PPER PPER VVINF $, NN $, ADJA NN $. PRELS PPER APPR ADV ART ADJA NN ADV APPRART NN VVFIN $, KON ADV APPRART NN APPR ART NN NN ART ADJA NN ART ADJA NN $. ITJ VVFIN PPOSAT NN APPR ADJA NN $, PPER $, ART NN PPER KON NN VVFIN $, KOUS PPER APPRART NN PRF VVFIN $, APPR KOUS PPER $, APPR ART NN ADJA NN ADV ADJD $, ART NN ADJA NN $, ART ADJA NN PPOSAT NN VVFIN $. ADV NN $( PPER PPOSAT NN APPR ART NN $, KON PPER VVFIN PRF PDAT NN NN ADV ADJD KOKOM PPOSAT ADJA NN $. PPER VVFIN VVIMP KON ADJD ART NN PTKNEG APPR ART NN $. VVIMP ADV ADV PPER VVFIN NE PPER $, KON NE PRF ADJD ADJD $, ADV VAFIN PPER PRF ART ADJA NE VVPP $. ART PIAT NN VVFIN PPER NN $( KON NN $, KOKOM ADJD ADJD ADJA NN $( KON NN APPR PPOSAT ADJD ADJA NN ADV PDAT NN $, PDAT NE VVFIN $. ADV VVFIN PPER ART NN PPER PTKVZ $. ADV $. PPER VVFIN APPR ART APPR ART NN ADJA NN NN KON NN $, VVFIN PDS APPR ART NN $, KON VVFIN APPR PDAT ART NN $. ADV $. ADV VAFIN NN NN ART ADJA NN $, PRELS PPER VVFIN $. ADV $, VVFIN PPER ADV ART NN NN NN $, KON ART ADJA NN $, APPR PRELS ADJA NN NN NN ART NN ADJD KON ADJD VVPP $, VAFIN NE NN PPER ADV APPR PIS ADJD $. ADV VMFIN NE ADJA NN $, APPR ADJA NN APPR ART NN APPRART NE VVPP APPR PDAT NN $, ART NN NN ADJD VVFIN $, KOUS ART NN PPER VVFIN $, KON PPOSAT NN $. PPER VVFIN APPR ART APPR ART NN ADJA NN $. ADV PDS VVFIN $. NE VVFIN $, PPOSAT ADJA NN $, PRELS APPR NN NN PPER VVINF VMFIN $. PPER VVFIN ART NN PTKVZ $, KON VVFIN ART NN APPR ART NN $. APPR PPER NN $( PPER ADV ART NN $, KON PWAV ADV ADJA ADJA NN $, NN NN APPR NE APPR ADJA NN $, ART ADJA NN APPR NN $, VVFIN $, ADV VVFIN PPER PPOSAT ADJA NN $. KON KOUS NE NE APPR ART NN VVFIN $, KOUS NN ADJD VVFIN $, ART NN $, APPR NN APPR ART NN VVFIN $, NN $( PPER ADV APPR NN PPER $. KON PPER VMFIN NN NN NN PTKNEG VVINF $, PRELS ADJD VVFIN PPOSAT NN $. ADJA NN $. NN $. NE $. NE $. NE PRF VVPP $, PPOSAT NN $. NN $. PPER ADV ADJD $, PPER ADJA NN $. ADV ADJD ADV ADJD $. NE $. PPER VVFIN ART NN $, PRELS ART NN ADV VVINF VVFIN $, KOUS ART ADJA NN NN ADJA ADJA NN VVFIN $. ART NN $, PRELS ADV ADJD VVPP $, VVFIN APPR PPER APPR NN PPOSAT NN $. NN $. PWS VVFIN ART NN ADV NN PTKVZ $. NE $. VVIMP VAFIN PPER PTKVZ CARD NN $, KOUS PPER PPOSAT NN PPOSAT NN VAFIN ADJD $. NN $. PPER NE $( PPER ADJD VVFIN ADV $. NE $. PPER VVFIN KOKOM ADV ADV APPR PDAT NN $, ADV APPR ART NN PTKZU VVINF $. ADV VVFIN PPER PPER ADV APPR ART NN ADJD $, ART ADJA NN $. ADV APPR NN VVPP $, APPR ART NN ADJD VVPP $, KON VAFIN ADJA NN PPER VVFIN $, ADV VVFIN PPER ADV PIAT NN ADJD ADV APPR ART ADJA NN VVINF $. PPER VVFIN KON VVFIN $. NN $. ITJ PPER NN $. NE $. KOUS $. VVFIN $( PPER $, VAFIN ART NN PIS ART ADJA NN VVPP $, KON VVFIN ART NN ART ADJA NN APPR NN $, ADJA NN $, ART NN PTKVZ $. KON VMFIN ADV VVINF $, PIS VMFIN APPRART ADJA NN PPER NN $, KON ART NN VVPP $. NN $. ADV ADJD $( PPER $, KOUS ART NN ADV APPRART NN $, ADJD APPR ART NN VVPP $. NE $. ADJD VVFIN PPER APPR ART NN PPER $, PPER VVFIN APPR PPOSAT NN ADV $, PRELS ADV ADJA NN VVFIN $. PPER NN VMFIN ADJD VVINF $, PPER VVFIN APPRART NN PTKNEG ART ADJD NN APPR PPER VVFIN $. NN ADV $, APPR PPOSAT NN VVPP KON VVPP $, VAFIN PPOSAT NN $, PRELS $, KOUS PPER VVPP $, ADV ADJD $, ADJD $, ART NN VVFIN $, ADJD APPR ART NN NN KON NN $. NE VVFIN PRF $, KON PPER VVFIN PPER PTKVZ $, ADV VVFIN PPER APPR PPOSAT NN NN ART ADJA NN PTKZU VVINF $, PRELS ART NN APPR ART NN VVFIN $. VAFIN ADV ART ADJD NN ADV ADV VVPP $, KON APPR ART NN ART PPER VVFIN $, VVFIN NN PPER ART ADJA NN $, KOUS PPER APPRART NN APPR ART NN PPER VVFIN $. ADV VVFIN NN APPR PPOSAT NN $, KON PPER VVFIN $, KOKOM NN PPER PTKZU VVINF $. NN $. ITJ KOUS PPER ADV PPER VVINF VMFIN $. NE $. ADV VAFIN PPER PTKNEG $. KOKOM NN VVFIN PPER ADJD $, ADJA NN $, ART NN $, KON VAFIN APPR ART NN VVPP $. ADV KOUS PPER ADJD ADV APPRART NN VVFIN $, FM $( PPER APPR PPER ART ADJD ADJA NN $, KON ADJD KON ADJD $, PTKNEG ADJD ADJD $. ADV VVIMP KON VVFIN PTKVZ $, KOUS PIS ADV VVFIN $. ADV PIAT NN $, PRELS APPR ADJA NE PPER ADJD VVFIN $, NN $( PPER VVIZU $, NE ART NN ADV NN $. ADV APPR PDS VAFIN PPER APPR ADJA NN ADJA NN APPRART ADJA NN PRF ART NN VVPP $, KOUS PDAT NN PPER VVPP $. ART NN $, PRELS ADV APPR NN KON NN VVFIN $, ADV APPR ART NE ADJD VVFIN $. NN $. PWS PPER VVFIN $, VAFIN PPER APPRART NN $. ADV VAFIN PPER VVINF $, ADJA NE $. PPER VVFIN PTKNEG VVINF $, KOUS PPER PPOSAT NN ART ADJA NN VAFIN VVPP $. NE $. PPER VMFIN ADV PPER APPRART NN VVINF $. NN $. PPER ADJD ADV $, APPR NE ADV PTKZU VVINF $. ADV VVFIN PPOSAT NN PRF APPR ART NN PTKVZ $. NE $. PWS VVFIN PPER ADJD ADJD PDAT NN $. NN $. PRELS PPER ART NN VVFIN $, VVFIN $( PPER VVINF $. NE $. KOUS VVFIN $( PPER PIAT NN PPOSAT NN $. NN $. ART NN NN VVFIN PPER PRF VVINF $. ADJD VMFIN PPER ADJD $, PWS PPER VVFIN $, KOUS APPR PPOSAT NN PPER ART KOKOM NN VVFIN $, PRELS PPER VVPP VAFIN APPR PPOSAT $. ADJA NN $, KOUS PPER NN KON NN ART NN VVFIN $. NN ADV ART NN NN APPR PPER $, KOUS PPER ART NN ADJA NN VVPP $, PRELS PPOSAT NN ADJA NN VAFIN $, ART NN $, APPR PRELS PPER VVFIN KOKOM ADJA NN KON ART APPR ADJA NN PPER VVPP $. NE $. KON PDAT NN VAFIN PPER ADV VVPP $. NN $. NN ART ADJA NN $, NN $, PRELS APPR PPER ADV ART NN VVFIN $. NE $. PPER VVFIN PTKNEG ART ADJA NN $, VAFIN PPER ADV PDAT NE $, PRELS PPER NN $. VVFIN VAFIN PPOSAT NN NN $, KOUS PPER PRF ART NN APPR PPOSAT NN VVPP $, APPR ADJA NN VAFIN PPER PPER VVPP $. NN $. ITJ VVFIN PPER PTKNEG $. PWS VVFIN $, PIAT ART NN ART ADJA APPR ADJA NN VVPP $, KOUS PPER PRF ADJD PPER VVFIN $, KON ADJA NN APPR ADJA VVFIN $. KON VVIMP $( PPER APPR ART NN PTKNEG ADV $, APPR PPOSAT NN VVFIN $( PPER ADV VVFIN $. ADV VVFIN $( PPER NN APPR NN PTKVZ $, PRELS ART NN PTKZU VVINF VVFIN $, KOUS PPER PPER ADJD PPOSAT NN VVPP $. PPER VVFIN ADJD ART NN NN PTKVZ $, NN NN PPOSAT NN VVFIN ART ADJA NN $, PRELS PPER APPR PDAT VVFIN $, APPR PPOSAT NN PTKVZ $. ADV VVFIN PPER ART NN KON APPR ADJA NN PTKVZ $, NN PDAT NN ADV NN APPR ADJA NN ART NN VVINF $. PTKNEG ADV VVFIN ART NN KON NN $, KOKOM ADJA ADJA NN PPOSAT NN PRF APPR ART ADJA NN ADJD PTKVZ $. KOUS ADJD VMFIN ART NE $, PRELS PRF ADJD ART NN APPR ADJA NN PTKVZ $. NE $. ADV PIAT NN VVFIN PRF ART NN $, ADV ADJA NN VMFIN PPER PTKNEG VVINF $. NN $. VVIMP $, VAFIN PPER PIAT NN APPR PPOSAT NN $. NE $. PTKANT $, PIAT PRELS PRF ADJD VVINF VMFIN $. ADV ADV PIAT VVIMP $( PPER ADJD VVIZU $, PPER VVFIN APPR NE ADJA NN NN PTKNEG APPRART NN $. ADV $, KOUS ART NN PPER APPR PRF VVFIN $. APPR CARD NN VAFIN PPOSAT NN KON ADV ADV ART NN PPER NN $. NN $. ADV VVFIN PPER APPR ART NN VVPP $. NE $. APPR ART NN $, PRELS ADV VVINF VVFIN $. NN $. PWAV VVFIN PPER NN PTKNEG $. NE $. PPER VMFIN VVINF $, PRELS PRF PTKNEG VVFIN $. NN $. PWS NE VVPP $, PPOSAT NN PTKZU VVINF $. NE $. KOUS ADJA NN PPER ADV VVFIN $. NN $. VVIMP KON KOUS PPER ART NN NN PTKVZ $. NE $. ART NN VMFIN ART NN NN VVINF $. ADV VAFIN PPER ADJD PPOSAT NN NN $, KON VMFIN ADV APPR ART NN PPER VVINF $. KON PTKNEG ART NN NN VVIMP $( PPER KON PPOSAT NN $. ADV ADJD ADJD VMFIN $( ART NN PPOSAT NN VVINF $. ART ADJA ADJA NN VVFIN PPER ADV PTKNEG $, PPOSAT NN $. PPER VVFIN KON VVINF $, PRELS PTKNEG VVPP $, PWS PTKNEG VVPP VMFIN NE $. APPRART NN VVFIN PRF ART NE $, KON ADJD NN VVFIN PRF APPR PRF ADV $. PWAT NN $, KOUS PPER PIAT NN NN KON PPOSAT ADJA NN NN $, ADJD $, ADJD VVIZU VVFIN $. NN $. ADV VMFIN $, PWS ADJD ART NN VVPP $, ART NN PPER VVIZU VVFIN $. NE $. APPR ART NN VVFIN ART NN APPR NN $, ADV KOKOM ART NN APPR NN ADV VVPP $. NN $. ADJD $. PWAT NN VVFIN PPER PPER PTKVZ $, PWAV ADV PPOSAT NN PRF VVPP $. NE $. PWS PPOSAT NE PTKNEG VAFIN $, VMFIN PPER PTKNEG VVINF $, VVFIN PPER APPR ADV ADJD ADV PPER ADV $. NN $. ADV APPR PDAT NN NE APPR PPOSAT NN VVPP VAFIN $, NN PPER KOKOM NN APPR APPR NN VVFIN $, KON VMFIN PPER PTKNEG APPR PPOSAT NN ADJD NN $. PPER VVFIN APPR NN ADV $, KOUS PRF NN ART ADJA NN APPR NN KON NN ADJD VAFIN VVPP $. PPER VMFIN ART NN ART PTKNEG ADJA NN APPR ADJA NN VVPP $, KON KOKOM NN NE NN NN ADV ART NN VVFIN $. PWS VVFIN PRF $, ART NN APPR NN $, APPR ADJA NN ADJA NN $. NE $. NE ADJA NN NN $( KON PPOSAT NN NN $. NN $( APPR VVIMP $, KOUS ART ADJA NN ART NN PPOSAT NN VVINF VAFIN $. KON NN VMFIN PPER ADV ADJD VVINF $. ADJA NN $. ART NN $, NN APPR NN APPR NN $, ART ADJA NN $, NN KON ADV APPR VVFIN $. NE $. NE $( PPER ADJA ART NN NN $. NE $. ADV VAFIN PPER $. PWS APPR PPOSAT ADJD VVFIN PPER $. NE $. ADV NN ART NN $, PRELS PPER VVFIN $, ADV ADJA NN PPER $, ADJA NE $. PPER VVFIN ART NN APPR NN NN $, KOUS NN ADJD PPER VVFIN $. KON PPER APPR NE PTKZU VVINF $, VVFIN PPER PRF APPR ART NN $, KOUI NN APPR NN $. NE $. APPR PDAT NN $( KON ADJA NN NN NN PPOSAT NN VVFIN NE $. VVIMP ADV NN PTKVZ KON PPOSAT NN $. NE $. PPOSAT NN VVFIN APPRART ADJA NE $. NE $, NE NN $, VAFIN PPOSAT NN $. NE $, PPOSAT NN $, VVFIN ADJD ADV ART ADJA NN $. NE $. PTKNEG ADJD VAFIN NE NN PPER $, KOUS PPER APPRART NN ART NN NN $, KON NE KON NE NN VVFIN $. NE $. PDS VVFIN $. NE $. PPER VVFIN APPR PIAT NN $, APPR PPOSAT NN VVPP $, PTKVZ $, KON VVFIN ADV APPR ART NE ADJA ADJA NN ART NN PTKVZ $. ADJD ART ADJA NN VVPP $( PPER ART NN APPR PPOSAT NN $.',\n",
       " 'lemmas': 'erst Aufzug . erst Auftritt . Ion . sehen , schon bepurpurt die Parnassus Gipfel die früh Schein , die goldne Sonnenwagen erheben sich glorreich in die blau Bahn ; und kaum noch scheuchen die gesund Schlaf Des Morgen frisch Hauch ich von die Wimper : drum eifrig an mein Werk , die heil ’ gen Dienst ! vor alle aber müssen ich du begrüßen , Apollo , heitrer Gott ! die du von droben die mild Licht herab zu+die Erde sendest , und hier in+die Tempel mit die Weisheit Spruch die dunkel Brust die sterblich erleuchtest . O küssen mein Stirn mit rein Strahl , du , die Gebieter ich und Vater nennen , weil du in+die Heiligthum ich auferzogst , auf dass ich , von die Mensch wüst Treiben ganz unberührt , die Jugend rege Trieb , die froh Leben dein Dienst weihen . hier saug ‘ ich dein Athem in die Luft , und es umfangen ich dies Hain Schatten so zärtlich wie dein väterlich Arm . ich schweifen irren und unbestimmt die Wunsch nicht in die Ferne : lassen nur stets ich weilen Bey du , und sey ich wohlgefällig nah , so haben du ich die schön Loos gewähren|währen . eine jede Tag erneuen ich Lieb ‘ und Lust , wie täglich frisch gepflückt Zweig ‘ und Kranz von dein ewig grün Lorbeerbaum hier dies Säule , dies Thor umwinden . schon legen sie die Diener ich bereit . wohlauf ! er nehmen aus eine vor die Tempel stehend Korbe Lorbeerkranz und Guirlanden , hängen jen an die Thürpfosten , und umschlingen mit dies die Säule . so ! nun haben Phöbus Haus die blüh’nden Schmuck , die er gebühren : denn , lieben er schon die Pracht Des Gold , und die weiß Marmorwand , an die weise Künstler Hand Gestalt|Gestalten die Gott kühn und groß herausbilden , sein Daphne’s Haar er doch vor alle werth . nun sollen Kastaliens silberklarer Thau , von priesterlich Magd mit die Dämmrung an+die Felsenborn schöpfen in dies Krug , die Schwelle Zugang reinigend benetzen , wie die Gebrauch es fodert , und mein Amt . er sprengen aus eine vor die Tempel stehend Gefäß . auch die geschehen . Jezt kommen , ihr leicht Waffe , die nach Apollo’s Bild ich tragen dürfen ! er hängen eine Köcher um , und nehmen die Bogen in die Hand . mit ihr durchwandl ‘ ich ringsum die Bezirk , und wo nur frech lärmend Gefieder , Sein Nest zu baun an unerlaubt Stelle , die schön Zierde zu verschänden , nahen , da treffen sie mein befiedertes Geschoss . doch wenn Zeus Adler aus die Wolke fahren , wenn Phöbus tönend genießen , die Schwan , mit Purpurfüssen durch die Luft rudern , Scheuch ‘ ich nur mit Geräusch sie : denn ich mögen Des Himmel Abgesandte nicht ermorden , die vorbedeutend lenken ihr Flug . Zweyter Auftritt . Ion . Pythia . Pythia . Sey ich grüßen , mein Ion . Ion . ich noch schön , du mütterlich Haupt . so früh schon wach ? Pythia . ich wecken die Gedanke , die die Alter kaum schlummern lassen , wenn die müde Leib Des tief ungestört Schlaf bedürfte . die Tag , die eben lächelnd aufgehen , bewegen für du mit Rührung mein Gemüth . Ion . was bringen die Tag so ahndungsvolles mit ? Pythia . heuen sein es grade sechzehn Jahr , dass du dein Schicksal mein Sorge haben vertraut . Ion . ich werd ‘ es dankbar preisen immerfort . Pythia . ich treten wie eben jetzt vor dies Pforte , frühmorgens in die Heiligthum zu gehen . da finden ich du hier auf die Schwelle liegend , die neugebohrnen Säugling ; zwar in Windel hüllen , in eine Körbchen wóhl verwahren , doch haben kalt Nachtwind du durchschauert , auch mochtest du wohl manche Stunde lang schon nach die süß Mutterbusen schmachten : du zittern und weintest . Ion . ach ich Arme ! Pythia . wie ? dachen ‘ ich , haben die Dienerin eine die jungfräulich Stand entehren , und schieben die Frucht die üpp ’ gen Bett , geheim Lust , die Gott zu ? und wollen schon gebieten , man sollen von+die geweiht Umkreis du Entfernen , und die Wildniss überlassen . Ion . so wär ‘ ich , wie eine Traumbild nur von+die Leben , bewusstlos in die Schattenwelt wandern . Pythia . betrachtend heben ich aus die Korbe du , du zappeltest zu mein Brust hinan , die niemals mütterlich Regung kennen . wir Seherin müssen einsam leben , wir sehnen|sehen in+die Alter nicht eine jung Geschlecht um wir emporblühn : Göttersprüche nur , durch unser Haupt empfangen und gebohren , sein unser Sohn , die , wenn wir sterben , noch mächtig , unsichtbar , die Welt durchziehn , eingreifend in die Mensch Thun und Wollen . Wehmuth befallen ich , und sie geben ich ein , vielleicht vergönne ich für mein Treue Apoll die süß Zärtlichkeit zu fühlen , die eine Mutter an die Säugling knüpfen . sein doch eine leiblich Kind nur auch schenken , und in die Schoosse die es tragen , entfalten Geheimnissvoll es eine höh’re Macht , wie du von+die Himmel in die Arm ich fielest . so siegen Mitleid über mein Strenge , und ich beschließen , als Sohn du zu erziehn . Ion . O dass es nimmer du gereuen mögen ! Pythia . noch haben es nicht . als Kind umspieltest du Holdselig , voll Unschuld , die Altar , und werden mit die Heiligste vertrauen . nun da du schlank empor zu+die Jüngling sprossest , seh ‘ ich in du eine muthig frey Gemüth , doch still und klar , nicht ungestüm verworren . so bleiben und wachsen fort , dass man einst sagen : zwar keine Eltern , die zu groß That er rühmlich spornen , hatt ‘ er nacheifern , Bey die Geburt schon Waise ; doch statt die haben er an kühn Kraft gehaltnem Maass zu+die hoch Vorbild sich die Gott erwählen , als die Eigenthum er aufwachsen : die Gott , die bald mit Pfeil und Bogen spielen , bald mit die Leyer allgewaltig treffen . Ion . was du ermahnest , werden ich zu+die Gebet . doch werden du zürnen , theure Pythia ? ich kanns nicht bergen , dass ich dein Rede eine unruhvolles Sehne|Sehnen haben erregen . Pythia . Sie sollen nur du zu+die Betrachtung leiten . Ion . ich gnügte sonst , in Delphi stets zu wohnen ; nun drängen mein Wunsch ich in die Welt hinaus . Pythia . was hoffen du bessres jenseit dies Hain ? Ion . die ich die Leben geben , möcht ‘ ich kennen . Pythia . wie wecken ‘ ich solche Verlangen dein Sinn ? Ion . die Mutter Liebe liessest du ich ahnden . Unnennbar müssen es seyn , was sie empfinden , wenn an ihr Herz sie die als Jüngling drücken , die sie hegen haben unter ihr . n Herz , bevor er Luft und Licht die Himmel trinken ; Unnenbar auch die Sohn Zug zu ihr , wenn er die Mutter theuren Leib umfassen , die sein Kindheit süß Heimath sein , die Stamm , auf die er wachsen als blüh’nder Zweig und die mit eigen Leben er nähren . Pythia . und dies Freude haben du nie fühlen . Ion . Vergieb die undankbar Ion , Mutter , die außer du noch eine Mutter suchen . Pythia . ich tadeln nicht die kindlich Begehren , sein sie nur die werth , die du gebahr . versiegen sein ihr Liebe Quelle , wie Sie du die Trank aus ihr Brust versagen , in bitter Tod haben sie du ausstoßen . Ion . O schelten sie nicht ! wer wissen , welche eine Verhängniss die widerstrebend mit hart Zwang umstricken , dass sie sich heimlich ich entreißen , und überstandnes Weh mit neu häufen . doch streben ‘ ich nach die Mutter nicht allein , an mein Vater möcht ‘ ich auch hinaufsehn . oft hören ‘ ich Fremde mit Entzücken zu , die die Orakel zu besuchen kommen , wenn sie ich rühmend ihr Geschlecht berichten . Sie sprechen stolz die Vater Name aus , Beym Angedenken ihr Thaten wallen die edel Blut , die sie von jen erben , in ihr Wange auf . so führen sie die Ursprung bis in alt Zeit zurück , Aus die Nebel nur Heroen-Bilder mit wunderbar Glanz die Nachwelt leuchten . nicht selten schließen eine Halbgott oder Gott , als erst groß Ahnherr ihr Stamm sich an die schön Reihe krönend an . wie glücklich müssen die seyn , die sich verwandt die Würdigste mit gleich Anspruch weiß ! Pythia . so manche Gut verleihen du die Gott , vielleicht diess Eine sollen du nicht genießen . Ion . sagen , haben du keine Spur von mein Abkunft ? Pythia . nein , keine die wir nah führen können . nur so viele glauben ‘ ich sicher einzusehn , du kommen auf Delphi ’ s Boden nicht zu+die Welt . denn , wenn die Nachbarstadt sie in sich fassen ; in sechzehn Jahr haben dein Eltern doch irgend wohl eine Zeichen ich verrathen . Ion . so werd ich aus die Fremde herbringen . Pythia . von eine Hand , die ganz verborgen bleiben . Ion . warum befragen wir Apollen nicht ? Pythia . du können hören , was du nicht gefallen . Ion . wer kanns missfallen , sein Geschlecht zu wissen ? Pythia . wenn knechtische Geburt du nun beschämen ? Ion . sehnen denn wie ich die Sklave Kind aus ? Pythia . die Pflege können die Blut Art veredeln . jetzt sein du einzig dein Thaten Sohn , und dürfen so mit die Edelste du messen . doch nicht die Eltern Dienstbarkeit besorgen ‘ ich und dein Erröthen : noch weit unwillkommner können ‘ eine Orakel dein Ursprung melden . die sterblich verworrne Leidenschaft kennen du noch nicht , mein Sohn ; sie trennen und vereinen , was nicht trennen , was nicht vereinen sollen seyn : in+die Ehbett lagern sich die Buhlerey , und üppig Blut vermischen sich mit sich selber . was Wunder , wenn sie solche Bund Frucht und ihr finster Heimlichkeit Verräther , gewaltsam , fühllos aussetzen eilen ? Ion . doch sollen , wer verbrecherisch eine Kind erzeugen , die Gott es darbieten wagen ? Pythia . mit die Verbrechen sterben die Scham vor Gott , so wie die Furcht vor Mensch erst erwachen . Ion . weh ! welche Zweifel werfen du ich entgegen , woher vielleicht mein Leben sich entspinnen ! Pythia . was dein That nicht sein , dürfen du nicht kümmern , bewahren du um so rein nur du selbst . Ion . allein bis dies Nachtgewebte Schleyer von mein Herkunft weggehoben werden , Muss ich als Fremdling fern von Mensch stehn , und können ich nicht in ihr Kreis traulich Verschlingen : ich vernehmen mit Schauder|Schaudern wohl , wie sich Unwissenheit die eigen Stamm in Hass und Liebe schrecklich haben verirren . es können eine Sohn die nicht erkannt Vater in rasch Zorn erschlagen , und als Braut Bey Hymen Fackel heim die Schwester führen . was sichern ich , die Fündling ohne Name , vor unfreywill’gem Frevel gleich Art ? Pythia . Apollo ’ s Lieb ‘ und sein Tempel Dienst . Erwart ‘ in ruhen , bis die bestimmt Zeit die Knoten dein Schicksal lösen werden . denn Vorwitz können sie noch fest schürzen . dritt Auftritt . die Vorige , Phorbas mit Gefolge von Sklave , die kostbar Gefäß , Teppich und s. w. tragen . Phorbas . seh ‘ ich allhier die Delphische Prophetin ? Pythia . so sein es . was von ihr begehrend kommen du ? Phorbas . zuvörderst Heil die Gott , die du begeistern , dann ehrerbiet’ger Gruß du , groß Pythia ! ich senden die Gebieter mit Geschenk Voraus , ob Phöbus günstig sie empfangen . denn er um Rath zu fragen , machen sie sich auf die Weg , um Ding von Gewicht . Pythia . nach dies Zeug ‘ und edel Erz Pracht Muss dein Herrschaft hochbegütert seyn . sagen ihré Heimath an und ihr Name . Phorbas . ihr Wohnsitz prangen in+die herrlich Athen . Kreusa , Erichthonius Enkelin , sein mein Fürstin ; Xuthus , ihr Gemahl , führen jetzo dort die königlich Scepter . Pythia . nicht unbekannt sein Xuthus Name ich , wenn du von+die Sohn die Thessal’schen Helle , und Aeolus und Dorus Bruder sprechen . Phorbas . derselbe ists . Pythia . er kommen vor manche Jahr , von sein Bruder austreiben , her , und tragen hier in die Pyth ’ schen Wettespielen die Preis davon . froh die errungen Sieg befragen ‘ er die Apoll um sein Geschlecht .',\n",
       " 'title': 'Ion',\n",
       " 'genre': 'DRAM',\n",
       " 'period': 'P4',\n",
       " 'region': 'NoD',\n",
       " 'year': '1803',\n",
       " 'corpus': None}"
      ]
     },
     "execution_count": 7,
     "metadata": {},
     "output_type": "execute_result"
    }
   ],
   "source": [
    "tagged_data[0]"
   ]
  },
  {
   "cell_type": "code",
   "execution_count": 8,
   "metadata": {},
   "outputs": [],
   "source": [
    "import pandas as pd\n",
    "\n",
    "df = pd.DataFrame.from_dict(tagged_data)\n",
    "df.to_csv('tagged_dataset.csv', encoding='UTF-8')"
   ]
  },
  {
   "cell_type": "markdown",
   "metadata": {},
   "source": [
    "# Tagged Manchester"
   ]
  },
  {
   "cell_type": "code",
   "execution_count": 9,
   "metadata": {},
   "outputs": [],
   "source": [
    "tagged_files_2 = glob.glob('Manchester/LING-COL/*.txt')"
   ]
  },
  {
   "cell_type": "code",
   "execution_count": 10,
   "metadata": {},
   "outputs": [],
   "source": [
    "import os\n",
    "from typing import Iterable\n",
    "tagged_data_2 = []\n",
    "for file in tagged_files_2:\n",
    "    genre, period, region, year, title = os.path.basename(file).split('_')[:5]\n",
    "    tokens = []\n",
    "    norms = []\n",
    "    pos_tags = []\n",
    "    lemmas = []\n",
    "    with open(file, 'r', encoding='UTF-8') as f:\n",
    "        for line in f:\n",
    "            line = line.rstrip()\n",
    "            try:\n",
    "                pID, token, norm, pos_tag, lemma, moph, p, rest = line.split('\\t')\n",
    "                #token, pos_tag, lemma = line.split('\\t')\n",
    "            except ValueError:\n",
    "                continue\n",
    "            \n",
    "            tokens.append(token)\n",
    "            norms.append(norm)\n",
    "            pos_tags.append(pos_tag)\n",
    "            lemmas.append(lemma)\n",
    "\n",
    "    tagged_data_2.append({\n",
    "        'tokens': \" \".join(tokens),\n",
    "        #'norm': \" \".join(norms),\n",
    "        'pos_tags': \" \".join(pos_tags),\n",
    "        'lemmas': \" \".join(lemmas),\n",
    "        'title': title,\n",
    "        'genre': genre,\n",
    "        'period': period,\n",
    "        'region': region,\n",
    "        'year': year\n",
    "    })"
   ]
  },
  {
   "cell_type": "code",
   "execution_count": 11,
   "metadata": {},
   "outputs": [
    {
     "data": {
      "text/plain": [
       "{'tokens': 'So koͤmmet euch der LoͤwRitter schwermuͤtig vor ? Ja ich kan nicht anders schliessen / weil er stets in tieffen Gedancken sitzet . Vielleicht ist er noch ermuͤdet von den vielen beschwerlichen Reisen und Abentheurlichen begebenheiten . Lasset ihn wol pflegen / damit er sich wieder erhole . Daran mangelt ihm nichts . Vielleicht ist er verliebet . Davor halte ich ihn gaͤntzlich : Den̄ er klaget immer / die schoͤnste Sonne der Welt habe ihren Glantz bißhero vor ihm verdeckt / und wenn er derselben nicht geniessen koͤnnen / so můsse er vor Leid vergehen . Habet ihr dann nicht mercken koͤnnen / was er durch seine Sonne verstehe ? Davon habe ich eigentlich nichts erfahren koͤnnen ; Aber in seinem Gemache henget eine guͤldene Sonne / in deren mitte ein kůnstliches L. von denen koͤstlichsten Diamanten versetzet ist . Das wird wol sein Ritterzeichen seyn . Davor halte ich es nicht ; denn ich zu mehrenmahlen ihn vor der Sonne auff den Knien sitzend und dieselbe anbetend gefunden . Kan man denn nicht erfahren / wes Standes dieser Ritter sey ? Solches habe ich bißhero nicht erfahren koͤnnen / denn er redet wenig ; daß er aber hohes Adels seyn muͤsse / ist aus allen seinen thun gnug zuschliessen . Habet ihr auch an mein kuͤnstliches Gemaͤhlde gedacht ? Ach ja ! gnaͤd. Großkoͤnigin / dieser Ritter ist dem Bilde gantz gleich / ohne / daß seine schwermuͤtige Gedancken sein Gesicht etwas verdunckeln . In den Gedancken bin ich auch . Aber erkundiget euch doch mit fleiß nach seinem Stande und herkommen / weil denselben zuwissen ich groß verlangen trage . Das sol mit fleiß geschehen . Wo treffe ich doch nun wohl meinen Liebsten Leches an / daß ich ihm die Großkoͤnigl . Gnade verkuͤndige ? O mein Schatz / was vor ein Bothenbrodt werdet ihr mir geben / wenn ich euch eine froͤliche Zeitung bringe ? Was vor eine froͤliche Zeitung habet ihr dann ? Ich habe bey unserer Großkoͤnigin erhalten / daß ihr allhier bleiben sollet . Das habe ich von H. Hermann schon erfahren ; Aber es ist mir mehr zu wieder / als angenehm . Warum denn mein Schatz ? Es ist ja besser / daß ihr bey mir in meinem Zimmer der Liebe und guter Ruhe geniesset / als wann ihr euch von den wuͤtigen Saracenen lasset niedersebeln . Damit ihr an meiner Liebe nicht zweiffelt / muß ich euch ja folgen . Aber / was haͤlt unsere Großkoͤnigin von dem LoͤwRitter . Sie haͤlt ihn sehr werth / fast uͤber ihre Gewohnheit : An schoͤner gestalt so wol / als tapfern Muths giebet er dem maͤchtigstē Rit-elt nichts nach . Aber / wan die Großkoͤnigin solte erfahren / wer er waͤre / sie wuͤrde ihn von ihrem Hofe verbannen . Wie so / mein Schatz / ist er etwa der Sicambrischen Koͤnig / Marcomir ? Denn vor denselben haͤlt ihn die Großkoͤnigin ; Und wenn dem so waͤre / so hoffete ich bald einen newen Rock zuverdienen . Womit wollet ihr denn den verdienen ? Wann die Großkoͤnigin den Sicambrischen Koͤnig zum Braͤutigam annehme . Ist sie dann das Willens ? Dazu hat unsere Teutsche Großkoͤnigin nicht geringe Lust . So hat die Großkoͤnigin ihren Sinn so bald veraͤndert ? Aber dieser LoͤwRitter ist mit nichten der Sicambrische Koͤnig . Woher wisset ihr denn das ? Er hat mir vertraulich seinen stand geoffenbahret ; und ich halte ihn hoͤher / als den Marcomir . Ach mein allerwerthester Schatz / koͤnnet ihr denn wohl uͤber euer Hertz bringen / daß ihr mir soltet einige Heimligkeit verschweigen ? Ich bin ja eure vertraute / und ihr seyd meine Seele / darum offenbahret mir doch / was ihr wisset . Damit ihr nicht wieder Ursach habet an meiner Liebe zu zweiffeln / so wisset / daß dieser Ritter der CronRitter ist / welcher unserer Großkoͤnigin das bewuste Bild durch mich gesand . Aber / mein Schatz / behaltet es bey euch . Ich muß hingehen diesem trefflichen Ritter Gesellschafft zu leisten . Von mir soll niemand etwas erfahren / Du nennest dich den LoͤwRitter / un̄ hast ein hohes schoͤnes Fraͤwlein in Thracien verachtet . Bis tu der Sicamber Koͤnig / warum nennes tu dich nicht ? Und laͤst die elende Leonilda immer zwischen Furcht und Hofnung stecken . Wie treffe ich E. Mayst. so schwermuͤthig an ? Was solte ich schwermuͤthig sein ? Aber wie stehets mit den Voͤlckern / ist Hermann fort ? Ja H. Hermann ist mit den Voͤlckern fortgangen . Gn. Großkoͤnigin / der LoͤwRitter bittet um gnaͤdigste Audientz . Verziehet doch / mein getrewer / biß ich Allemann abgefertiget habe Leches aber ist hier geblieben ? Leches ist ja hier geblieben ; Und die Voͤlcker haͤtten wohl alle moͤgen hier bleiben . Wie so dann ? Man saget ja vor gewiß / es haben E. Mayst. durch den ReichsFeldherrn mit dem Feinde tractrien lassen / und solte der Friede allbereits geschlossen sein ; Und auff diese Weise waͤren die grossen Gelder vergeblich angewendet / und die Voͤlcker nur beschwerlich / da man doch mit denselben auff das wenigste die jenigen Oerter / welche der Feind bey diesem Kriege einbekommen / wieder erobern sollen . Unsere Gewissens-Raͤthe hielten vor rathsamer einen schaͤdlichen Frieden mit den Saracenen zuschliessen / als des OstSaxen Koͤniges kaͤtzerische Huͤlfsvoͤlcker uns allzunahe kommen zu lassen . So sind E. Mayst. Gewissens-Raͤthe auch Krieges-Raͤthe ? Und herschen den̄ dieselben uͤber E. Mayst. und den ReichsRath ? Ob sie zwar nicht ůber uns herrschen / so folgen wir ihnen doch billig . Ja billig in denen Dingen / wozu sie bestellet sind . Pater Sang ist E. Mayst. Beicht-Vater / und weiter nichts . Pater Levog ist E. Mayst. Lehrer / und weiter nichts ; Mit der Großkoͤniglichen Regierung und mit KriegesSachen haben sie nichts zuschaffen . Sie sind doch fromme gelehrte Maͤnner / und haben die H. Schrifft zu ihrem Grunde . Die H. Schrifft muß allezeit ihrer Schalckheit Deckel sein . Und wissen E. Mayst. nicht mehr / daß sie eben diese beyden wohl eher vor zwey leichtfertige Voͤgel gescholten ? Ich habe es dazumahl nicht verstanden . Wann E. Mayst. diesen Gewissenlosen Leuthen so viel einraͤumen wollen / so moͤgen sie nur in der Zeit einen hoͤhern Thron / als der ihrige ist / bauen / und darauff die Ehrgeitzigen Pfaffen setzen / damit nicht E. Mayst. aus ihrem Thron verstossen werde . Unsere GewissensRaͤthe sind Geistliche Leute / und begehren nicht zu herrschen . Sie sagens nicht . Im̄ittelst aber sind sie Meister im gantzē Großkoͤnigreich . Und E. Mayst. gedencken zuruͤck / was zu Rom geschehen . Eben dieses Spiel wird noch taͤglich gespielet / wiewohl mit verwechselten Personen / auch bey den Kaͤtzern . E. Mayst. wissen auch selbsten / das neulich ein heilloser Muͤnch oͤffentlich gesaget / wenn Retelus noch 30. Jahr waͤre aussen blieben / so haͤtten die Bauren sollen Heu fressen / und den Geistlichen die gebratene Huͤner auff den Knien zu tragen ; Und die weltliche Herrn hetten den Geistlichen sollen die Schuh putzen . Unser Geheimer Rath Rat . Status hielt den Vorschlag der Gewissens-Raͤthe auch vor gut . Rat . Status ist ein meineidiger Betrieger . Nun wir muͤssen ja Leute umb uns haben / deren Rath wir uns gebrauchen koͤnnen . Darum thun E. Mayst. am besten / wann sie den Boͤmischen Koͤnig zu ihrem Ehegemahl belieben . Ob ich mich gleich verheyrathen werde / so begehre ich doch den Koͤnig in Boͤhmen nicht . Kein ander Koͤnig aber ist E. Mayst. werth . Sind nicht viel andere maͤchtige Koͤnige ? Warum der Sicamber und Vesuten Koͤnige nicht anzunehmen / ist E. Mayst. selbst bekant . Lescus aber ist in der Warheit kein Koͤnig . Warum ? traͤget er doch eine Krone . Die Regenten und Koͤnige muͤssen drey R. wol verstehen / nehmlich / Sie muͤssen koͤnnen Regieren / Reden / und Reiten ; und aus diesen kan Lescus keines recht / weil er unter Weibern und Pfaffen erzogen ist . So muͤste ich nach eurer Meinung nothwendig den Boͤhmischen Koͤnig zur Ehe nehmen . Ja : dann derselbe ist klug / und regieret weißlich / und an Maͤnnlichen tapffern Muthe und gluͤcklichen Waffen ist er unvergleichlich . Dazu ist er von Gebluͤt ein Teutscher / und traͤget also groͤssere Liebe zu den Teutschen / als alle außwaͤrtige Koͤnige . Saget mir von dem Boͤhmen bey hoͤchster Ungnade nichts mehr . Und ich wolte lieber das Großkoͤnigreich verlauffen / als den Boͤhmen zum Manne haben . Nun . so wird Teutschland ein Raub der Frembden . Was haltet ihr von diesem Menschen ? Er ist ein unhoͤfflicher grober Gesell / und schicket sich zu Hofe nicht . Wie gefallen euch aber seine Anschlaͤge ? Man hoͤret wol / daß er ein Weltlicher ist / denn er suchet die Geistlichen zu seinem Fußschemel zu legen . Ich werde seinem Rahte nicht folgen . Dazu wolte ich Ew. Mayst. auch nicht rathen . Aber sol ich den LoͤwRitter her fodern ? Ja . Meine Reichs-Raͤthe wollen mich zu der unangenehmen Heyrath mit dem Boͤhmischen Koͤnige fast zwingen . Aber Sie muͤssen wissen / daß ich ůber sie herrsche / und nicht Sie uͤber mich . Und wo sie allzu hart in mich dringen / wil ich heimlich davon fliehen / und an des Sicambrischen Koͤniges Hofe mich eine Zeitlang auffhalten / da werde ich schon Gelegenheit suchen die Heyrath mit dem Sicambrer zu vollnziehen . Gn. Großkoͤnigin / die Gnade / welche E. Mayst. mir / als einem herumschweiffenden Ritter erwiesen / ist so groß / daß dieselbe in einige Wege zuvergelten ich mich unbestand bekennen muß . Aber wolte der Himmel / daß auch bey Offenbahrung meines rechten Nahmens / Standes und Herkommens ich solcher Gnade bey E. Mayst. theilhafftig sein koͤnte . Aber ach / die Sonne ist mir zu hoch / darum kan ich weiter nichts / als daß ich dieselbe anbethe . Tugendhaffter Ritter / aus ewrem Wesen und aͤusserlichen Bezeigungen schliesset ein jeder an unsern Großkoͤnigl . Hofe / daß ihr nicht schlechten Adels seyd . Aber warum gebet ihr euch nicht kund / damit man euch der Gebuͤhr bedienen koͤnte . Ach Gnaͤd . Großkoͤnigin / meinen gantzen Zustand zu offenbahren verbeut mich annoch eine sonderbahre Angelegenheit . Sonsten aber / ob E. Mayst. Hochheit und Macht ich zwar nicht in allen gleich bin / so bin ich dennoch dem Stande und Herkommen nach E. Mayst. nicht in allen ungleich . Und weil ja das Gemaͤlde / welcher E. Mayst. ich zugesand / vor ihren Augen Gnade gefunden / so hoffe ich auch noch Gnade zu erlangen . So seyd ihr der CronRitter ? Also hat man mich in dem Saracenischen Kriege von wegen meines Schildes genennet . Eure uͤbermenschliche und vortrefliche Thaten sind in der gantzen Welt beruͤhmt ; Und wir sind euch hoch verpflichtet . Nicht E. Mayst. mir / sondern Ich Ihr/ und ist mein Wunsch vor E. Mayst. Wohlfarth mein Leben zu lassen . Wehrtester Ritter / gleich wie Ihr an Tapfferkeit unvergleichlich seyd / also gebet ihr auch an Hoͤffligkeit niemande ichtwas nach . Und wolte der Himmel / daß ihr der jenige waͤret / vor welchen ich euch halte . Wovor E. Mayst. mich halten / kan ich nicht wissen ; Aber wolte der Himmel / daß Sie mich vor den jenigen halten moͤchte / vor welchen ich verlange gehalten zu werden . Tapffer Ritter / wollet ihr mich einer Bitte gewaͤren ? E. Mayst. Befehl zu gehorsamen bin ich allezeit schuldig . Mein groͤssester Feind / welchen ich auff dieser Welt habe / ist der Boͤmische Koͤnig Bolesla ; Und ob gleich ich ihn Zeit meines Lebens nicht gesehen / so ist er mir doch so beschrieben / daß ich Ihm unmuͤglich goͤnstig seyn kan ; und ihn lieber todt als lebendig sehen wolte . Wollet ihr nun denselben meinem Nahmen zum Kampf außfordern / so sollet ihr / wann ihr ihn erlegen werdet / der nechste nach mir in meinem Großkoͤnigreiche seyn . Ach gnaͤdigste Großkoͤnigin / solte ich denn meine Hand an einen Koͤnig legen / und zwar an einen solchen / zu welchen ich keine Feindschafft tragen kan . Vielleicht haben ihn seine Feinde bey E. Mayst. unschuldiger Weise . Nun / nun / folget mir / ich will euch den Fehde-Brieff ausfertigen . E. Mayst. wil ich in allen folgen / was mir muͤglich sein wird . Fa la la la la etc. Da habe ich prave gefastet . Hoͤret / ich muß euch doch sagen / wie ich so prave gefastet habe . Als ich wieder aus dem Kriege kahm / da kam ich in ein Kloster / da sassen ein hauffen Bruͤder Muͤnche ; die armen Schelme durfften kein Fleisch essen / weil es in der Fasten war ; Aber was hatten sie schoͤne Fische ? Da waren Kaͤlberfische / Hasenfische / Rehfische / Trauthanenfische / Kramsvogelfische / und noch andere mehr / O die schmeckten gar zu wol . Sie hatten auch noch andere Bruͤderchen bey sich ; da waren Bruder Urselchen / Bruder Catharinichen / Bruder Margaretchen / Bruder Lisichen / Bruder Marie Magdalenichen ; Ach das waren doch gar zu feine liebliche Bruͤderchen . Ich haͤtter gerne ein paar mit mir zu Bette genommen ; Aber sie sagten / der Abt nehme ein Paar / und der Probst auch ein Paar mit / und die andern muͤsten horas halten . Je hoͤret doch ihr alberne Kaͤtzerische DorffPriester / seyd ihr nicht Narren / daß ihr da lieget unter den groben Bauren / und plaget euch mit den Pferden und Ochsen / und habet kaum das liebe Leben dabey . Werdet doch BruͤderMuͤnche / und ziehet ins Kloster / da habet ihr ja liebe Gesellschafft / und koͤnnet lustige Fasten halten . Siehe da Bolesla du Koͤnig in Boͤhmea / numehr ist dir dein letztes Urthel gesprochen / du solt sterben / weil die Großkoͤnigin der Teutschen dich nicht lieben kan . O ich armseeliger / als ein fremder unbekanter Ritter / werde ich vor den werthesten der Welt geschaͤtzet und hoch gehalten . Aber als ein Boͤmischer Koͤnig werde ich zum Tode verurtheilet . Was fange ich nun an ? Soll ich dem Befehl nachkommen / so muß ich mich selbst um das Leben bringen . Lege ich die Mordhand an mich selbst / so handele ich wieder die Liebe und erzuͤrne den Himmel . Ertoͤdte ich aber den Koͤnig in Boͤhmen nicht / so beleidige ich die Großkoͤnigin der Teutschen . O mich armseeligen ! Ach ich elende ! der Großkoͤnigin Geheimes Zimmer ist offen / die besten Kleinod sind weg / die Großkoͤnigin ist an keinem Orte anzutreffen / und keine Nachricht zufinden ohne dieses einige Briefflein . Ach ihr unvergleichlicher Großmuͤtiger Ritter / ich bitte euch durch die Pflicht / welche die Ritter verbindet / bedrengten Weibesbildern zu Huͤlffe zukommen / daß ihr unserer Großkoͤnigin nachfolget / und da sie etwa von Raͤubern auffgefangen / sie wieder erloͤset . Wo ist dan die GrosKoͤnigin ? Sie ist davon geflohen . Wohin dann ? Ach ich weiß nicht . Wo suche ich sie dann ? Ach dieser Brieff wird euch Nachricht davon geben . Meine getreue Charite / weil ich die ungestuͤmen Bedraͤngnissen der ReichsRaͤthe wegen der Heirath mit dem Boͤmischen Koͤnige nicht laͤnger erdulden koͤnnen / so habe ich benebenst meinem geheimen Rath un̄ Hofmeister Ratio Status die Flucht ergriffen / mich zu Schiffe begeben / und bin willens durch einen Umschweiff zu Wasser in das Koͤnigreich Sicambern mich zu wenden / und zu Sapir mich eine Zeitlang auffzuhalten . Wann der LoͤwRitter wieder aus Boͤhmen koͤmmet / und mir folgen wil / sol er mir sehr lieb seyn . Dieser Bissen sol vor den Sicamber nicht kommen / er muß mir dann denselben zuvor theuer bezahlen . Ich wil meine Ruͤstung anlegen / und mich eiligst zu Schiffe begeben . Ach theurer Ritter / durch diesen Zug werdet ihr die hoͤchste Ehre erwerben . Aber ich muß hingehen / und den ReichsRaͤthen dieses Ungluͤck auch eroͤffnen .',\n",
       " 'pos_tags': 'ADV VVFIN PPER ART NE ADJD PTKVZ SENT ITJ PPER VMFIN PTKNEG ADV VVINF $, KOUS PPER ADV APPR ADJA NN VVFIN SENT ADV VAFIN PPER ADV VVPP APPR ART PIAT ADJA NN KON ADJA NN SENT VVIMP PPER ADV VVINF $, KOUS PPER PRF ADV VVFIN SENT PAV VVFIN PPER PIS SENT ADV VAFIN PPER VVPP SENT PAV VVFIN PPER PPER ADJD SENT KON PPER VVFIN ADV $, ART ADJA NN ART NN VAFIN PPOSAT NN ADV APPR PPER VVPP $, KON KOUS PPER PDS PTKNEG VVINF VMINF $, ADV VMFIN PPER APPR NN VVINF SENT VAFIN PPER ADV PTKNEG VVINF VMINF $, PWREL PPER APPR PPOSAT NN VVFIN SENT PAV VAFIN PPER ADV PIS VVINF VMFIN SENT KON APPR PPOSAT NN VVFIN ART ADJA NN $, APPR PDAT NN ART ADJA NN APPR ART ADJA NN VVPP VAFIN SENT PDS VAFIN ADV PPOSAT NN VAINF SENT PAV VVFIN PPER PPER PTKNEG SENT KON PPER APPR NN PPER APPR ART NN APPR ART NN ADJD KON PDS ADJD VVPP SENT VMFIN PIS ADV PTKNEG VVINF $, PWAT NN PDAT NN VAFIN SENT PIS VAFIN PPER ADV PTKNEG VVINF VMINF $, KON PPER VVFIN PIS SENT KOUS PPER ADV ADJA NN VAINF VMFIN $, VAFIN APPR PIAT PPOSAT NN ADJD VVFIN SENT VAFIN PPER ADV APPR PPOSAT ADJA NN VVPP SENT ITJ PTKANT SENT ADJA NN $, PDAT NN VAFIN ART NN ADV ADJD $, KOUI $, KOUS PPOSAT ADJA NN PPOSAT NN ADV VVINF SENT APPR ART NN VAFIN PPER ADV SENT KON VVIMP PPER ADV APPR NN APPR PPOSAT NN KON NN $, KOUS PDS VVFIN PPER ADJD VVINF VVFIN SENT PDS VMFIN APPR NN VVINF SENT PWAV VVFIN PPER ADV ADV ADV PPOSAT ADJA NE PTKVZ $, KOUS PPER PPER ART NN SENT NN VVFIN SENT ITJ PPOSAT NN $, PWREL APPR ART NN VAFIN PPER PPER VVINF $, KOUS PPER PPER ART ADJA NN VVFIN SENT PWS APPR ART ADJA NN VAFIN PPER ADV SENT PPER VAFIN APPR PPOSAT NN VVPP $, KOUS PPER ADV VVINF VMFIN SENT PDS VAFIN PPER APPR NN NE ADV VVINF SENT KON PPER VAFIN PPER ADV APPR ADV $, KOKOM ADJD SENT PWAV ADV PPOSAT NN SENT PPER VAFIN ADV ADJD $, KOUS PPER APPR PPER APPR PPOSAT NN ART NN KON ADJA NN VVFIN $, KOKOM KOUS PPER PPER APPR ART ADJA NN VVFIN VVINF SENT KOUS PPER APPR PPOSAT NN PTKNEG VVFIN $, VMFIN PPER PPER ADV VVINF SENT KON $, PWREL VVFIN PPOSAT NN APPR ART NE SENT PPER VVFIN PPER ADV ADJD $, ADV APPR PPOSAT NN SENT APPR ADJA NN ADV ADV $, KOKOM ADJA NE VVFIN PPER ART ADJA NN PIS PTKVZ SENT KON $, KOUS ART NN VMFIN VVINF $, PWS PPER VAFIN $, PPER VAFIN PPER APPR PPOSAT NN VVINF SENT PWAV ADV $, PPOSAT NN $, VAFIN PPER ADV ART ADJA NN $, NE SENT KON APPR PDS VVFIN PPER ART NN SENT KON KOUS PDS ADV VAFIN $, ADV VVFIN PPER ADV ART ADJA NN VVINF SENT PWAV VMFIN PPER ADV ART VVFIN SENT KOUS ART NN ART ADJA NN APPRART NN VVFIN SENT VAFIN PPER ADV ART NN SENT PAV VAFIN PPOSAT ADJA NN PTKNEG ADJA NN SENT ADV VAFIN ART NN PPOSAT NN ADV ADV VVPP SENT KON PDAT NE VAFIN APPR ADV ART ADJA NN SENT PWAV VVFIN PPER ADV PDS SENT PPER VAFIN PPER ADJD PPOSAT NN VVPP SENT KON PPER VVFIN PPER ADJD $, KOKOM ART NE SENT ITJ PPOSAT ADJA NN $, VMFIN PPER ADV ADV APPR PPOSAT NN VVINF $, KOUS PPER PPER VMFIN PIAT NN VVINF SENT PPER VAFIN ADV PPOSAT NA $, KON PPER VAFIN PPOSAT NN $, PAV VVFIN PPER ADV $, PWREL PPER VVFIN SENT KOUS PPER PTKNEG ADV NN VAFIN APPR PPOSAT NN PTKZU VVINF $, ADV VVFIN $, KOUS PDAT NN ART NN VAFIN $, PRELS PPOSAT NN ART ADJA NN APPR PPER VVPP SENT KON $, PPOSAT NN $, VVIMP PPER APPR PPER SENT PPER VMFIN VVINF PDAT ADJA NN NN PTKZU VVINF SENT APPR PPER VMFIN PIS ADV VVINF $, PPER VVFIN PPER ART NE $, KON VAFIN ART ADJA ADJA NN APPR NE VVPP SENT KOUS PPER ART NN NN $, PWAV VVFIN PPER PPER PTKNEG SENT KON VVFIN ART ADJA NE ADV APPR NN KON NN VVINF SENT PWAV VVFIN PPER PPOSAT NN ADV ADJD PTKVZ SENT PWS VMFIN PPER ADJD VAINF SENT KON PWAV VVFIN APPR ART NN $, VAFIN NE PTKVZ SENT ITJ NN NE VAFIN APPR ART NN VVPP SENT ADJA NN $, ART NE VVFIN APPR ADJA NN SENT VVIMP ADV $, PPOSAT NN $, KOUS PPER NE VVPP VAFIN NE ADV VAFIN ADV VVPP SENT NE VAFIN ADV ADV VVPP SENT KON ART NN VAFIN ADV PIS VMFIN ADV VVINF SENT PWAV ADV ADV SENT PIS VVFIN ADV APPR ADJD $, PPER VAFIN PPOSAT NN APPR ART NN APPR ART NN VVINF VVINF $, KON VMFIN ART NN ADV VVPP VAINF SENT KON APPR PDAT NN VAFIN ART ADJA NN ADJD VVPP $, KON ART NN ADV ADJD $, KOUS PIS ADV APPR PDS APPR ART NA ART ADJA NN $, PRELS ART NN APPR PDAT NN VVPP $, ADV VVINF VMFIN SENT PPOSAT NN VVFIN APPR ADJD ART ADJA NN APPR ART NN VVFIN $, KOKOM ART NE NN ADJA NN PRF ADV VVINF PTKZU VVINF SENT ADV VAFIN PPOSAT NN NN ADV NN SENT KON VVFIN ART PDS APPR PPOSAT NN KON ART NN SENT KOUS PPER ADV PTKNEG APPR PPER VVINF $, ADV VVFIN PPER PPER ADV ADJD SENT ADV ADJD APPR ART NN $, PWAVREL PPER VVPP VAFIN SENT NN NE VAFIN PPOSAT NN NN $, KON ADV PIS SENT NN NE VAFIN PPOSAT NN NN $, KON ADV PIS SENT APPR ART ADJA NN KON APPR NN VAFIN PPER PIS VVFIN SENT PPER VAFIN ADV ADJA ADJA NN $, KON VAFIN ART NN NN APPR PPOSAT NN SENT ART NN NN VMFIN ADV PPOSAT NN NN VAINF SENT KON VVFIN PPOSAT NN PTKNEG ADV $, KOUS PPER ADV PDAT PIAT ADV ADV APPR CARD ADJA NN VVPP SENT PPER VAFIN PPER ADV PTKNEG VVPP SENT KOUS PPOSAT NN PDAT ADJA NN ADV ADV VVINF VMFIN $, ADV VMFIN PPER ADV APPR ART NN ART ADJA NN $, KOKOM ART PPOSAT VAFIN $, VVINF $, KON PAV ART ADJA NN VVINF $, KOUS PTKNEG PPOSAT NN APPR PPOSAT NN VVPP VAFIN SENT PPOSAT NN VAFIN ADJA NN $, KON VVFIN PTKNEG PTKZU VVINF SENT PPER NE PTKNEG SENT ADV ADV VAFIN PPER NN APPRART ADJA NN SENT KON PPOSAT NN VVFIN PTKVZ $, PWREL APPR NE VVPP SENT ADV PDAT NN VAFIN ADV ADJD VVPP $, KOUS APPR ADJA NN $, ADV APPR ART NN SENT PPOSAT NN VVFIN ADV ADV $, PRELS ADV ART ADJA NN ADJD VVPP $, KOUS NE ADV CARD NN VAFIN ADV VVPP $, ADV VAFIN ART NN VMFIN NN VVINF $, KON ART NN ART ADJA NN APPR ART NN PTKZU VVINF SENT KON ART ADJA NN VVFIN ART NA VMFIN ART NN VVINF SENT PPOSAT ADJA NN NE SENT NE VVFIN ART NN ART NN ADV APPR ADJD SENT NE SENT NE VAFIN ART ADJA NN SENT ADV PPER VMFIN ADV NN APPR PPER VAINF $, PRELAT NN PPER PRF VVINF VMFIN SENT PAV VVFIN PPOSAT NN PTKA ADJD $, KOUS PPER ART ADJA NN APPR PPOSAT NN VVFIN SENT KOUS PPER PPER ADV VVINF VAFIN $, ADV VVFIN PPER ADV ART NN APPR NE PTKNEG SENT PIAT ADJA NN ADV VAFIN PPOSAT NN ADJD SENT VAFIN PTKNEG PIAT ADJA ADJA NN SENT PWAV ART NN KON NN NN PTKNEG VVIZU $, VAFIN PPOSAT NN PRF ADJD SENT NE ADV VAFIN APPR ART NN PIAT NN SENT PWAV SENT VVFIN PPER ADV ART NN SENT ART NN KON NN VMFIN CARD NN ADV VVINF $, ADV $, PPER VMFIN VMINF VVINF $, VVINF $, KON VVINF SENT KON APPR PDS VMFIN NE PIS ADJD $, KOUS PPER APPR NN KON NN VVPP VAFIN SENT ADV VMFIN PPER APPR PPOSAT NN ADJD ART ADJA NN APPRART NN VVINF SENT ITJ SENT ADV PDS VAFIN ADJD $, KON VVFIN ADJD $, KON APPR ADJA ADJA ADJA KON ADJA NN VAFIN PPER ADJD SENT PAV VAFIN PPER APPR NN ART NN $, KON VVFIN ADV ADJA NN APPR ART NN $, KOKOM PIAT ADJA NN SENT VVIMP PPER APPR ART NE APPR ADJA NN PIS ADV SENT KON PPER VMFIN ADV ART NN VVINF $, KOKOM ART NE APPRART NN VAINF SENT ADV SENT ADV VAFIN NE ART NN ART NN SENT PWS VVFIN PPER APPR PDAT NN SENT PPER VAFIN ART ADJA ADJA NN $, KON VVFIN PRF APPR NN PTKNEG SENT PWAV VVFIN PPER ADV PPOSAT NN SENT PIS VVFIN ADV $, KOUS PPER ART NA VAFIN $, KON PPER VVFIN ART NN APPR PPOSAT NN PTKZU VVINF SENT PPER VAFIN PPOSAT NN PTKNEG VVINF SENT PAV VMFIN PPER PPOSAT NN ADV PTKNEG VVINF SENT ADV VMFIN PPER ART NE PTKVZ VVINF SENT ITJ SENT PPOSAT NN VMFIN PPER APPR ART ADJA NN APPR ART ADJA NN ADV VVINF SENT KON PPER VMFIN VVINF $, KOUS PPER APPR PPER VVFIN $, KON PTKNEG PPER APPR PPER SENT KON PWAV PPER PTKA ADJD APPR PPER VVINF $, VMFIN PPER ADJD PAV VVINF $, KON APPR ART ADJA NN NN PRF ART NN VVINF $, ADV VAFIN PPER ADV NN VVFIN ART NN APPR ART NN PTKZU VVINF SENT ADJA NN $, ART NN $, PRELS PPOSAT NN PPER $, KOKOM ART ADJA NN VVPP $, VAFIN ADV ADJD $, KOUS PDS APPR PIAT NN VVINF PPER PPER ADV VVINF VMFIN SENT ADV VMFIN ART NN $, KOUS ADV APPR NN PPOSAT ADJA NN $, NN KON NN PPER PIAT NN APPR PPOSAT NN ADJD VAINF VMFIN SENT KON ITJ $, ART NN VAFIN PPER PTKA ADJD $, PAV VMFIN PPER ADV PIS $, KOKOM KOUS PPER PDS VVFIN SENT ADJA NN $, APPR PPOSAT NN KON ADJA NN VVFIN ART PIS APPR PPOSAT NN SENT NN $, KOUS PPER PTKNEG ADJA NN VAFIN SENT KON PWAV VVFIN PPER PPER PTKNEG PTKVZ $, KOUS PIS PPER ART NN VVINF VMFIN SENT ITJ NE SENT NN $, PPOSAT ADJA NN PTKZU VVINF VVFIN PPER ADV ART ADJA NN SENT ADV ADV $, KOUS PPOSAT NN NN KON NN PPER ADV PTKNEG APPR PIAT ADJD VAFIN $, ADV VAFIN PPER ADV ART NN KON NN APPR PPOSAT NN PTKNEG APPR PIAT ADJD SENT KON KOUS ADV ART NN $, PRELS PPOSAT NN PPER VVPP $, APPR PPOSAT NN NN VVPP $, ADV VVFIN PPER ADV ADV NN PTKZU VVINF SENT ADV VAFIN PPER ART NN SENT ADV VAFIN PIS PPER APPR ART ADJA NN APPR APPR PPOSAT NN VVPP SENT PPOSAT ADJA KON ADJA NN VAFIN APPR ART ADJA NN ADJD SENT KON PPER VAFIN PPER ADJD VVPP SENT PTKNEG PPOSAT NN PPER $, KON PPER PPER KON VAFIN PPOSAT NN APPR PPOSAT NN NN PPOSAT NN PTKZU VVINF SENT ADJA NN $, ADV KOUS PPER APPR NN ADJD VAFIN $, ADV VVFIN PPER ADV APPR NN PIS PIS PTKVZ SENT KON VMFIN ART NN $, KOUS PPER ART PIS VAFIN $, APPR PRELS PPER PPER VVFIN SENT PWAV PPOSAT NN PRF VVINF $, VMFIN PPER PTKNEG VVINF SENT KON VMFIN ART NN $, KOUS PPER PPER APPR ART PIS VVINF VMFIN $, APPR PRELS PPER VVFIN VVPP PTKZU VAINF SENT ADJA NN $, VMFIN PPER PRF ART NN VVINF SENT PPOSAT NN NN PTKZU VVINF VAFIN PPER ADV ADJD SENT PPOSAT ADJA NN $, PRELS PPER APPR PDAT NN VAFIN $, VAFIN ART ADJA NN NE SENT KON KOUS ADV PPER PPER NN PPOSAT NN PTKNEG VVPP $, ADV VAFIN PPER PPER ADV ADV VVPP $, KOUS PPER PPER ADJD ADJD VAINF VMFIN SENT KON PPER ADV ADJD KOKOM ADJD VVINF VMFIN SENT VMFIN PPER ADV PDS PPOSAT NN APPRART NN VVINF $, ADV VMFIN PPER $, KOUS PPER PPER VVINF VAFIN $, ART NA APPR PPER APPR PPOSAT NN VAINF SENT ITJ ADJA NN $, VMFIN PPER ADV PPOSAT NN APPR ART NN VVINF $, KON ADV APPR ART PIS $, APPR PRELS PPER PIAT NN VVINF VMFIN SENT ADV VAFIN PPER PPOSAT NN APPR PPOSAT NN ADJA NN SENT ADV $, ADV $, VVIMP PPER $, PPER VMFIN PPER ART NN VVINF SENT PPOSAT NN VMFIN PPER APPR PIAT VVINF $, PWREL PPER ADJD VAINF VAFIN SENT ITJ ITJ ITJ ITJ ITJ ADV ADV VAFIN PPER ADJA VVPP SENT VVIMP $, PPER VMFIN PPER ADV VVINF $, KOUS PPER ADV ADJA VVPP VAFIN SENT KOUS PPER ADV APPR ART NN VVFIN $, ADV VVFIN PPER APPR ART NN $, ADV VVFIN ART NN NN NN SENT ART ADJA NN VMFIN PIAT NN VVINF $, KOUS PPER APPR ART NN VAFIN SENT KON PWS VAFIN PPER ADJA NN SENT ADV VAFIN NN $, NN $, NN $, NN $, NN $, KON ADV PIS ADV $, ITJ ART VVFIN ADV APPR ADV SENT PPER VAFIN ADV ADV ADJA NN APPR PRF SENT ADV VAFIN NN NE $, NN NE $, NN NE $, NN NE $, NN NE NE SENT ITJ PDS VAFIN ADV ADV APPR ADJA ADJA NN SENT PPER VAFIN ADV ART PIS APPR PPER APPR NN VVPP SENT KON PPER VVFIN $, ART NN VVFIN ART PIS $, KON ART NN ADV ART PIS PTKVZ $, KON ART PIS VMFIN NE VVINF SENT ADV VVFIN ADV PPOSAT ADJA ADJA NN $, VAFIN PPER PTKNEG NN $, KOUS PPER ADV VVFIN APPR ART ADJA NN $, KON VVFIN PPER APPR ART NN KON NN $, KON VAFIN ADV ART ADJA NN PAV SENT VAFIN ADV NN $, KON VVFIN APPRART NN $, ADV VAFIN PPER ADV ADJA NN $, KON VMFIN ADJA NN VVINF SENT VVIMP KOUS NE PPER NN APPR NE $, ADV VAFIN PPER PPOSAT ADJA NN VVPP $, PPER VMFIN VVINF $, KOUS ART NN ART NA PPER PTKNEG VVINF VMFIN SENT ITJ PPER NA $, KOKOM ART ADJA ADJA NN $, VAFIN PPER APPR ART NA ART NN VVPP KON ADJD VVPP SENT KON KOKOM ART ADJA NN VAFIN PPER APPRART NN VVPP SENT PWS VVFIN PPER ADV PTKVZ SENT VMFIN PPER ART NN VVINF $, ADV VMFIN PPER PPER PRF APPR ART NN VVINF SENT VVFIN PPER ART NN APPR PPER PRF $, ADV VVFIN PPER ADV ART NN KON VVFIN ART NN SENT VVFIN PPER ADV ART NN APPR NE PTKNEG $, ADV VVFIN PPER ART NN ART NN SENT ITJ PPER NA SENT ITJ PPER NA SENT ART NN ADJA NN VAFIN ADJD $, ART ADJA NN VAFIN PTKVZ $, ART NN VAFIN APPR PIAT NN VVIZU $, KON PIAT NN VVINF APPR PDAT PIAT NN SENT ITJ PPOSAT ADJA ADJA NN $, PPER VVFIN PPER APPR ART NN $, PRELS ART NN VVFIN $, ADJA NN APPR NN VVINF $, KOUS PPER PPOSAT NN VVFIN $, KON KOUS PPER ADV APPR NN VVPP $, PPER ADV VVPP SENT PWAV VAFIN ADV ART NN SENT PPER VAFIN PAV VVPP SENT PWAV ADV SENT ITJ PPER VVFIN PTKNEG SENT PWAV VVFIN PPER PPER ADV SENT ITJ PDAT NN VAFIN PPER NN PAV VVINF SENT PPOSAT ADJA NE $, KOUS PPER ART ADJA NN ART NN APPR ART NN APPR ART ADJA NN PTKNEG ADJD VVINF VMINF $, ADV VAFIN PPER APPR PPOSAT ADJA NN KON NN NE NE ART NN VVPP $, PRF APPR NN VVPP $, KON VAFIN ADV APPR ART NN APPR NN APPR ART NN NN PRF PTKZU VVINF $, KON APPR NE PRF ART NN VVIZU SENT KOUS ART NE ADV APPR NE VVFIN $, KON PPER VVINF VMFIN $, VMFIN PPER PPER ADV ADJD VAINF SENT PDAT NN VMFIN APPR ART NN PTKNEG VVINF $, PPER VMFIN PPER ADV PDS ADV ADJD VVINF SENT PPER VMFIN PPOSAT NN VVINF $, KON PPER ADJD APPR NN VVPP SENT ITJ ADJA NN $, APPR PDAT NN VAFIN PPER ART ADJA NN VVINF SENT KON PPER VMFIN VVINF $, KON ART NN PDAT NN ADV VVINF SENT',\n",
       " 'lemmas': 'so kommen ihr d Löwritter schwermütig vor ? ja ich können nicht ander schließen / weil er stets in tief Gedanke sitzen . vielleicht sein er noch ermüden von d viel beschwerlich Reise und abenteuerlich Begebenheit . lassen er wohl pflegen / damit er er|es|sie wieder erholen . daran mangeln er nichts . vielleicht sein er verlieben . davor halten ich er gänzlich : denn er klagen immer / d schön Sonne d Welt haben ihr Glanz bisher vor er verdecken / und wenn er derselbe nicht genießen können / so müssen er vor Leid vergehen . haben Ihr dann nicht merken können / was er durch sein Sonne verstehen ? davon haben ich eigentlich nichts erfahren können ; aber in sein Gemach henget ein gülden Sonne / in d Mitte ein künstlich L. von d köstlich Diamant versetzen sein . d werden wohl sein Ritterzeichen sein . davor halten ich es nicht ; denn ich zu mehrenmal er vor d Sonne auf d Knie sitzend und derselbe anbetend finden . können man denn nicht erfahren / wessen Stand dies Ritter sein ? solch haben ich bisher nicht erfahren können / denn er reden wenig ; daß er aber hoch Adel sein müssen / sein aus all sein tun gnug zuschließen . haben Ihr auch an mein künstlich Gemälde denken ? ach ja ! gnädig Großkönigin / dies Ritter sein d Bild ganz gleich / ohne / daß sein schwermütig Gedanke sein Gesicht etwas verdunkeln . in d Gedanke sein ich auch . aber erkundigen ihr doch mit Fleiß nach sein Stand und Herkommen / weil derselbe zuwissen ich groß verlangen tragen . d sollen mit Fleiß geschehen . wo treffen ich doch nun wohl mein lieb Leche an / daß ich er d Großkönigl . Gnade verkündige ? O mein Schatz / was vor ein Botenbrot werden Ihr ich geben / wenn ich ihr ein fröhlich Zeitung bringen ? was vor ein fröhlich Zeitung haben Ihr dann ? ich haben bei unser Großkönigin erhalten / daß Ihr allhier bleiben sollen . d haben ich von H. Hermann schon erfahren ; aber es sein ich mehr zu wieder / als angenehm . warum denn mein Schatz ? es sein ja gut / daß Ihr bei ich in mein Zimmer d Liebe und gut Ruhe genießen / als wann Ihr ihr von d wütig Saracenen lassen niedersäbeln . damit Ihr an mein Liebe nicht zweifeln / müssen ich ihr ja folgen . aber / was halten unser Großkönigin von d Löwritter . Sie halten er sehr wert / fast über ihr Gewohnheit : an schön Gestalt so wohl / als tapfer Muths geben er d mächtig Rit-elt nichts nach . aber / wann d Großkönigin sollen erfahren / wer er sein / Sie werden er von ihr Hof verbannen . wie so / mein Schatz / sein er etwa d Sicambrisch König / Marcomir ? denn vor derselbe halten er d Großkönigin ; und wenn d so sein / so hoffen ich bald ein neu Rock zuverdienen . womit wollen Ihr denn d verdienen ? wann d Großkönigin d Sicambrisch König zum Bräutigam annehmen . sein Sie dann d Willen ? dazu haben unser deutsch Großkönigin nicht gering Lust . so haben d Großkönigin ihr Sinn so bald verändern ? aber dies Löwritter sein mit nichten d Sicambrisch König . woher wissen Ihr denn d ? Er haben ich vertraulich sein Stand offenbaren ; und ich halten er hoch / als d Marcomir . ach mein allerwertest Schatz / können Ihr denn wohl über euer Herz bringen / daß Ihr ich sollen einig Heimlichkeit verschweigen ? ich sein ja euer Vertraute / und Ihr sein mein Seele / darum offenbaren ich doch / was Ihr wissen . damit Ihr nicht wieder Ursache haben an mein Liebe zu zweifeln / so wissen / daß dies Ritter d Kronritter sein / welch unser Großkönigin d bewußt Bild durch ich senden . aber / mein Schatz / behalten es bei ihr . ich müssen hingehen dies trefflich Ritter Gesellschaft zu leisten . von ich sollen niemand etwas erfahren / du nennen du d Löwritter / und haben ein hoch schön Fräulein in Thrazien verachten . bis du d Sicamber König / warum nennen du du nicht ? und lassen d elend Leonilda immer zwischen Furcht und Hoffnung stecken . wie treffen ich euer Majestät so schwermütig an ? was sollen ich schwermütig sein ? aber wie stehets mit d Volk / sein Hermann fort ? ja H. Hermann sein mit d Volk fortgehen . gnädig Großkönigin / d Löwritter bitten um gnädig Audienz . verzeihen|verziehen doch / mein Getreue / bis ich Allemann abfertigen haben Leche aber sein hier bleiben ? Leche sein ja hier bleiben ; und d Volk haben wohl all mögen hier bleiben . wie so dann ? man sagen ja vor gewiß / es haben euer Majestät durch d Reichsfeldherr mit d Feind traktieren lassen / und sollen d Friede allbereits schließen sein ; und auf dies Weise sein d groß Geld vergeblich anwenden / und d Volk nur beschwerlich / da man doch mit derselbe auf d wenigst d jenig Ort / welch d Feind bei dies Krieg einbekommen / wieder erobern sollen . unser Gewissensrat halten vor ratsam ein schädlich Frieden mit d Saracenen zuschließen / als d Ostsachsen König ketzerisch Hilfsvolk wir allzunahe kommen zu lassen . so sein euer Majestät Gewissensrat auch Kriegsrat ? und herrschen d derselbe über euer Majestät und d Reichsrat ? ob Sie zwar nicht über wir herrschen / so folgen wir sie doch billig . ja billig in d Ding / wozu Sie bestellen sein . Pater Sang sein euer Majestät Beichtvater / und weit nichts . Pater Levog sein euer Majestät Lehrer / und weit nichts ; mit d Großköniglich Regierung und mit Kriegessachen haben Sie nichts zuschaffen . Sie sein doch fromm gelehrt Mann / und haben d H. Schrift zu ihr Grund . d H. Schrift müssen allezeit ihr Schalkheit Deckel sein . und wissen euer Majestät nicht mehr / daß Sie eben dies beide wohl eher vor zwei leichtfertig Vogel schelten ? ich haben es dazumal nicht verstehen . wann euer Majestät dies gewissenlos Leute so viel einräumen wollen / so mögen Sie nur in d Zeit ein hoch Thron / als d ihrige sein / bauen / und darauff d ehrgeizig Pfaffe setzen / damit nicht euer Majestät aus ihr Thron verstoßen werden . unser Gewissensräte sein geistlich Leute / und begehren nicht zu herrschen . Sie Sagens nicht . inmittelst aber sein Sie Meister im ganz Großkönigreich . und euer Majestät gedenken zurück / was zu Rom geschehen . eben dies Spiel werden noch täglich spielen / wiewohl mit verwechselt Person / auch bei d Ketzer . euer Majestät wissen auch selbst / d neulich ein heillos Mönch öffentlich sagen / wenn Retelus noch @ord@ Jahr sein außen bleiben / so haben d Bauer sollen Heu fressen / und d Geistliche d gebraten Hüner auf d Knie zu tragen ; und d weltlich Herr hetten d Geistliche sollen d Schuh putzen . unser geheim Rat Rath . Status halten d Vorschlag d Gewissensrat auch vor gut . Rath . Status sein ein meineidig Betrüger . nun wir müssen ja Leute um wir haben / d Rat wir wir gebrauchen können . darum tun euer Majestät am gut / wann Sie d Böhmisch König zu ihr Ehegemahl belieben . ob ich ich gleich verheiraten werden / so begehren ich doch d König in Böhme nicht . kein ander König aber sein euer Majestät wert . sein nicht viel ander mächtig König ? warum d Sicamber und Vesuten König nicht annehmen / sein euer Majestät selbst bekannt . Lescus aber sein in d Wahrheit kein König . warum ? träget er doch ein Krone . d Regent und König müssen drei R. wohl verstehen / nämlich / Sie müssen können regieren / reden / und reiten ; und aus dies können Lescus kein recht / weil er unter Weib und Pfaffe erziehen sein . so müssen ich nach euer Meinung notwendig d Böhmisch König zur Ehe nehmen . ja : dann derselbe sein klug / und regieren weislich / und an männlich tapfer Mute und glücklich Waffe sein er unvergleichlich . dazu sein er von Geblüt ein Deutsche / und träget also groß Liebe zu d Deutsche / als all auswärtig König . sagen ich von d Böhme bei hoch Ungnade nichts mehr . und ich wollen gern d Großkönigreich verlaufen / als d Böhme zum Mann haben . nun . so werden Deutschland ein Raub d Fremde . was halten Ihr von dies Mensch ? Er sein ein unhöflich grob Geselle / und schicken er|es|sie zu Hof nicht . wie gefallen ihr aber sein Anschlag ? man hören wohl / daß er ein Weltliche sein / denn er suchen d Geistliche zu sein Fußschemel zu legen . ich werden sein Rat nicht folgen . dazu wollen ich Euer Majestät auch nicht raten . aber sollen ich d Löwritter her fordern ? ja . mein Reichsrat wollen ich zu d unangenehm Heirat mit d Böhmisch König fast zwingen . aber Sie müssen wissen / daß ich über Sie herrschen / und nicht Sie über ich . und wo Sie allzu hart in ich dringen / wollen ich heimlich davon fliehen / und an d Sicambrisch König Hof ich ein Zeitlang aufhalten / da werden ich schon Gelegenheit suchen d Heirat mit d Sicambrer zu vollziehen . gnädig Großkönigin / d Gnade / welch euer Majestät ich / als ein herumschweifenden Ritter erweisen / sein so groß / daß derselbe in einig Weg zuvergelten ich ich unbestand bekennen müssen . aber wollen d Himmel / daß auch bei Offenbarung mein rechen Name / Stand und Herkommens ich solch Gnade bei euer Majestät teilhaftig sein können . aber ach / d Sonne sein ich zu hoch / darum können ich weit nichts / als daß ich derselbe anbeten . tugendhaft Ritter / aus euer Wesen und äußerlich Bezeigungen schließen ein jed an unser Großkönigl . Hof / daß Ihr nicht schlecht Adel sein . aber warum geben Ihr ihr nicht kund / damit man ihr d Gebühr bedienen können . ach Gnäd . Großkönigin / mein ganz Zustand zu offenbaren verbeut ich annoch ein sonderbar Angelegenheit . sonst aber / ob euer Majestät Hoheit und Macht ich zwar nicht in all gleich sein / so sein ich dennoch d Stand und Herkommen nach euer Majestät nicht in all ungleich . und weil ja d Gemälde / welch euer Majestät ich zugesand / vor ihr Auge Gnade finden / so hoffen ich auch noch Gnade zu erlangen . so sein Ihr d Kronritter ? also haben man ich in d Saracenisch Krieg von wegen mein Schilds nennen . euer übermenschlich und vortrefflich Tat sein in d ganz Welt berühmt ; und wir sein ihr hoch verpflichten . nicht euer Majestät ich / sondern ich Ihr und sein mein Wunsch vor euer Majestät Wohlfahrt mein Leben zu lassen . wertest Ritter / gleich wie Sie an Tapferkeit unvergleichlich sein / also geben Ihr auch an Höflichkeit niemand etwas nach . und wollen d Himmel / daß Ihr d jenige sein / vor welch ich ihr halten . wovor euer Majestät ich halten / können ich nicht wissen ; aber wollen d Himmel / daß Sie ich vor d jenige halten mögen / vor welch ich verlangen halten zu werden . tapfer Ritter / wollen Ihr ich ein Bitte gewähren ? euer Majestät Befehl zu gehorsamen sein ich allezeit schuldig . mein groß Feind / welch ich auf dies Welt haben / sein d Bömische König Bolesla ; und ob gleich ich er Zeit mein Leben nicht sehen / so sein er ich doch so beschreiben / daß ich Er unmöglich günstig sein können ; und er gern tot als lebendig sehen wollen . wollen Ihr nun derselbe mein Name zum Kampf ausfordern / so sollen Ihr / wann Ihr er erliegen werden / d nah nach ich in mein Großkönigreich sein . ach gnädig Großkönigin / sollen ich denn mein Hand an ein König legen / und zwar an ein solch / zu welch ich kein Feindschaft tragen können . vielleicht haben er sein Feind bei euer Majestät unschuldig Weise . nun / nun / folgen ich / ich wollen ihr d Fehdebrief ausfertigen . euer Majestät wollen ich in all folgen / was ich möglich sein werden . Fa la la la la etc. da haben ich brav fasten . hören / ich müssen ihr doch sagen / wie ich so brav fasten haben . als ich wieder aus d Krieg kommen / da kommen ich in ein Kloster / da sitzen ein Haufe Bruder Mönch ; d arm Schelm dürfen kein Fleisch essen / weil es in d Fasten sein ; aber was haben Sie schön Fisch ? da sein Kälberfisch / Hasenfisch / Rehfisch / Trauthahnenfisch / Kramsvogelfisch / und noch ander mehr / O d schmecken gar zu wohl . Sie haben auch noch ander Brüderchen bei er|es|sie ; da sein Bruder Urselchen / Bruder Catharinichen / Bruder Margaretchen / Bruder Lisichen / Bruder Marie Magdalenichen ; ach d sein doch gar zu fein lieblich Brüderchen . ich haben gern ein paar mit ich zu Bett nehmen ; aber Sie sagen / d Abt nehmen ein paar / und d Probst auch ein paar mit / und d ander müssen Horas halten . je hören doch ihr albern ketzerisch Dorfpriester / sein Ihr nicht Narr / daß Ihr da liegen unter d grob Bauer / und plagen ihr mit d Pferd und Ochse / und haben kaum d lieb Leben dabei . werden doch Brüdermönch / und ziehen ins Kloster / da haben Ihr ja lieb Gesellschaft / und können lustig Fasten halten . sehen da Bolesla du König in Böhmen / nunmehr sein du dein letzt Urteil sprechen / du sollen sterben / weil d Großkönigin d Deutsche du nicht lieben können . O ich Armselige / als ein fremd unbekannt Ritter / werden ich vor d Werteste d Welt schätzen und hoch halten . aber als ein Bömisch König werden ich zum Tod verurteilen . was fangen ich nun an ? sollen ich d Befehl nachkommen / so müssen ich ich selbst um d Leben bringen . legen ich d Mordhand an ich selbst / so handeln ich wieder d Liebe und erzürnen d Himmel . ertöten ich aber d König in Böhme nicht / so beleidigen ich d Großkönigin d Deutsche . O ich Armselige ! ach ich elend ! d Großkönigin geheim Zimmer sein offen / d best Kleinod sein weg / d Großkönigin sein an kein Ort antreffen / und kein Nachricht finden ohne dies einig Brieflein . ach ihr unvergleichlich großmütig Ritter / ich bitten ihr durch d Pflicht / welch d Ritter verbinden / bedrängt Weibsbild zu Hilfe zukommen / daß Ihr unser Großkönigin nachfolgen / und da Sie etwa von Räuber auffangen / Sie wieder erlösen . wo sein dann d Großkönigin ? Sie sein davon fliehen . wohin dann ? ach ich wissen nicht . wo suchen ich Sie dann ? ach dies Brief werden ihr Nachricht davon geben . mein getreu Charite / weil ich d ungestüm Bedrängnis d Reichsrat wegen d Heirat mit d Böhmisch König nicht lang erdulden können / so haben ich benebenst mein geheim Rat und Hofmeister Ratio Status d Flucht ergreifen / ich zu Schiff begeben / und sein willens durch ein Umschweif zu Wasser in d Königreich Sicambern ich zu wenden / und zu Sapir ich ein Zeitlang aufhalten . wann d Löwritter wieder aus Böhme kommen / und ich folgen wollen / sollen er ich sehr lieb sein . dies Bissen sollen vor d Sicamber nicht kommen / er müssen ich dann derselbe zuvor teuer bezahlen . ich wollen mein Rüstung anlegen / und ich eilig zu Schiff begeben . ach teuer Ritter / durch dies Zug werden Ihr d hoch Ehre erwerben . aber ich müssen hingehen / und d Reichsrat dies Unglück auch eröffnen .',\n",
       " 'title': 'Leonilda.txt',\n",
       " 'genre': 'DRAM',\n",
       " 'period': 'P1',\n",
       " 'region': 'NoD',\n",
       " 'year': '1673'}"
      ]
     },
     "execution_count": 11,
     "metadata": {},
     "output_type": "execute_result"
    }
   ],
   "source": [
    "tagged_data_2[0]"
   ]
  },
  {
   "cell_type": "markdown",
   "metadata": {},
   "source": [
    "# Create the Manchester Tagged Dataframe and .csv"
   ]
  },
  {
   "cell_type": "code",
   "execution_count": 12,
   "metadata": {},
   "outputs": [
    {
     "data": {
      "text/plain": [
       "(336, 8)"
      ]
     },
     "execution_count": 12,
     "metadata": {},
     "output_type": "execute_result"
    }
   ],
   "source": [
    "import pandas as pd\n",
    "tagged_man_df = pd.DataFrame.from_dict(tagged_data_2)\n",
    "tagged_man_df.shape"
   ]
  },
  {
   "cell_type": "code",
   "execution_count": 13,
   "metadata": {},
   "outputs": [],
   "source": [
    "tagged_man_df.to_csv('tagged_Mancheser_dataset.csv', encoding='UTF-8')"
   ]
  },
  {
   "cell_type": "markdown",
   "metadata": {},
   "source": [
    "# Concat the tagged Datasets"
   ]
  },
  {
   "cell_type": "code",
   "execution_count": 15,
   "metadata": {},
   "outputs": [
    {
     "name": "stdout",
     "output_type": "stream",
     "text": [
      "(974, 9)\n"
     ]
    },
    {
     "name": "stderr",
     "output_type": "stream",
     "text": [
      "C:\\Users\\janko\\Anaconda3\\lib\\site-packages\\ipykernel_launcher.py:1: FutureWarning: Sorting because non-concatenation axis is not aligned. A future version\n",
      "of pandas will change to not sort by default.\n",
      "\n",
      "To accept the future behavior, pass 'sort=False'.\n",
      "\n",
      "To retain the current behavior and silence the warning, pass 'sort=True'.\n",
      "\n",
      "  \"\"\"Entry point for launching an IPython kernel.\n"
     ]
    },
    {
     "data": {
      "text/html": [
       "<div>\n",
       "<style scoped>\n",
       "    .dataframe tbody tr th:only-of-type {\n",
       "        vertical-align: middle;\n",
       "    }\n",
       "\n",
       "    .dataframe tbody tr th {\n",
       "        vertical-align: top;\n",
       "    }\n",
       "\n",
       "    .dataframe thead th {\n",
       "        text-align: right;\n",
       "    }\n",
       "</style>\n",
       "<table border=\"1\" class=\"dataframe\">\n",
       "  <thead>\n",
       "    <tr style=\"text-align: right;\">\n",
       "      <th></th>\n",
       "      <th>corpus</th>\n",
       "      <th>genre</th>\n",
       "      <th>lemmas</th>\n",
       "      <th>period</th>\n",
       "      <th>pos_tags</th>\n",
       "      <th>region</th>\n",
       "      <th>title</th>\n",
       "      <th>tokens</th>\n",
       "      <th>year</th>\n",
       "    </tr>\n",
       "  </thead>\n",
       "  <tbody>\n",
       "    <tr>\n",
       "      <td>0</td>\n",
       "      <td>NaN</td>\n",
       "      <td>DRAM</td>\n",
       "      <td>so kommen ihr d Löwritter schwermütig vor ? ja...</td>\n",
       "      <td>P1</td>\n",
       "      <td>ADV VVFIN PPER ART NE ADJD PTKVZ SENT ITJ PPER...</td>\n",
       "      <td>NoD</td>\n",
       "      <td>Leonilda.txt</td>\n",
       "      <td>So koͤmmet euch der LoͤwRitter schwermuͤtig vo...</td>\n",
       "      <td>1673</td>\n",
       "    </tr>\n",
       "    <tr>\n",
       "      <td>1</td>\n",
       "      <td>NaN</td>\n",
       "      <td>DRAM</td>\n",
       "      <td>arm Herz / lassen ab zu hoffen / weil d glück ...</td>\n",
       "      <td>P1</td>\n",
       "      <td>ADJA NN $, VVIMP PTKVZ PTKZU VVINF $, KOUS PDS...</td>\n",
       "      <td>NoD</td>\n",
       "      <td>Euridice.txt</td>\n",
       "      <td>ARmes herz / laß ab zu hoffen / weil das gluͤc...</td>\n",
       "      <td>1699</td>\n",
       "    </tr>\n",
       "    <tr>\n",
       "      <td>2</td>\n",
       "      <td>NaN</td>\n",
       "      <td>DRAM</td>\n",
       "      <td>ach / ich sein schon so müde / d ich kaum mehr...</td>\n",
       "      <td>P1</td>\n",
       "      <td>ITJ $, PPER VAFIN ADV ADV ADJD $, PRELS PPER A...</td>\n",
       "      <td>NoD</td>\n",
       "      <td>Freyheit.txt</td>\n",
       "      <td>ACh / ich bin schon so müde / das ich kaum meh...</td>\n",
       "      <td>1700</td>\n",
       "    </tr>\n",
       "    <tr>\n",
       "      <td>3</td>\n",
       "      <td>NaN</td>\n",
       "      <td>DRAM</td>\n",
       "      <td>so sein ! er lassen ich hoch und überhoch bela...</td>\n",
       "      <td>P1</td>\n",
       "      <td>ADV VAFIN SENT PPER VVFIN PPER ADJD KON NN VVI...</td>\n",
       "      <td>OMD</td>\n",
       "      <td>Cardenio.txt</td>\n",
       "      <td>So ists ! er ließ mich hoch vnd uͤberhoch bela...</td>\n",
       "      <td>1657</td>\n",
       "    </tr>\n",
       "    <tr>\n",
       "      <td>4</td>\n",
       "      <td>NaN</td>\n",
       "      <td>DRAM</td>\n",
       "      <td>vertraute Charmium / dies sein -- Lebens-Höle ...</td>\n",
       "      <td>P1</td>\n",
       "      <td>NN NN $, PDS VAFIN FM NN SENT PDS VAFIN ART NN...</td>\n",
       "      <td>OMD</td>\n",
       "      <td>Cleopatra.txt</td>\n",
       "      <td>VErtraute Charmium / dis ist di Lebens-Hoͤle ;...</td>\n",
       "      <td>1661</td>\n",
       "    </tr>\n",
       "    <tr>\n",
       "      <td>...</td>\n",
       "      <td>...</td>\n",
       "      <td>...</td>\n",
       "      <td>...</td>\n",
       "      <td>...</td>\n",
       "      <td>...</td>\n",
       "      <td>...</td>\n",
       "      <td>...</td>\n",
       "      <td>...</td>\n",
       "      <td>...</td>\n",
       "    </tr>\n",
       "    <tr>\n",
       "      <td>633</td>\n",
       "      <td>None</td>\n",
       "      <td>SERM</td>\n",
       "      <td>Kamerad ! daheim in die Silvester = Gottesdien...</td>\n",
       "      <td>P6</td>\n",
       "      <td>NN $. ADV APPR ART NN $( NN VVFIN PPER ADV NN ...</td>\n",
       "      <td>WMD</td>\n",
       "      <td>Zwölf</td>\n",
       "      <td>Kameraden ! Daheim in den Silvester = Gottesdi...</td>\n",
       "      <td>1917</td>\n",
       "    </tr>\n",
       "    <tr>\n",
       "      <td>634</td>\n",
       "      <td>None</td>\n",
       "      <td>SERM</td>\n",
       "      <td>eine jede Uebergang in+die Leben haben sein be...</td>\n",
       "      <td>P6</td>\n",
       "      <td>ART PIAT NN APPRART NN VAFIN PPOSAT ADJA $, AD...</td>\n",
       "      <td>WOD</td>\n",
       "      <td>Hochzeits-Predigt</td>\n",
       "      <td>Ein jeder Uebergang im Leben hat seine besonde...</td>\n",
       "      <td>1906</td>\n",
       "    </tr>\n",
       "    <tr>\n",
       "      <td>635</td>\n",
       "      <td>None</td>\n",
       "      <td>SERM</td>\n",
       "      <td>andächtig Christ , Geliebte in+die Herr ! als ...</td>\n",
       "      <td>P6</td>\n",
       "      <td>ADJA NN $, NN APPRART NN $. KOUS ART ADJA NE P...</td>\n",
       "      <td>WOD</td>\n",
       "      <td>Der</td>\n",
       "      <td>Andächtige Christen , Geliebte im Herrn ! Als ...</td>\n",
       "      <td>1914</td>\n",
       "    </tr>\n",
       "    <tr>\n",
       "      <td>636</td>\n",
       "      <td>None</td>\n",
       "      <td>SERM</td>\n",
       "      <td>darum wollen wir mit getroster Zuversicht er b...</td>\n",
       "      <td>P6</td>\n",
       "      <td>PAV VMFIN PPER APPR ADJA NN PPER VVINF $, KOUS...</td>\n",
       "      <td>WOD</td>\n",
       "      <td>Zur</td>\n",
       "      <td>Darum wollen wir mit getroster Zuversicht ihn ...</td>\n",
       "      <td>1916</td>\n",
       "    </tr>\n",
       "    <tr>\n",
       "      <td>637</td>\n",
       "      <td>None</td>\n",
       "      <td>SERM</td>\n",
       "      <td>die Eingliederung unser evang. Jugendverein in...</td>\n",
       "      <td>P6</td>\n",
       "      <td>ART NN PPOSAT ADJA NN APPR ART NN VAFIN PPOSAT...</td>\n",
       "      <td>WOD</td>\n",
       "      <td>Unsere</td>\n",
       "      <td>Die Eingliederung unserer evang. Jugendvereine...</td>\n",
       "      <td>1934</td>\n",
       "    </tr>\n",
       "  </tbody>\n",
       "</table>\n",
       "<p>974 rows × 9 columns</p>\n",
       "</div>"
      ],
      "text/plain": [
       "    corpus genre                                             lemmas period  \\\n",
       "0      NaN  DRAM  so kommen ihr d Löwritter schwermütig vor ? ja...     P1   \n",
       "1      NaN  DRAM  arm Herz / lassen ab zu hoffen / weil d glück ...     P1   \n",
       "2      NaN  DRAM  ach / ich sein schon so müde / d ich kaum mehr...     P1   \n",
       "3      NaN  DRAM  so sein ! er lassen ich hoch und überhoch bela...     P1   \n",
       "4      NaN  DRAM  vertraute Charmium / dies sein -- Lebens-Höle ...     P1   \n",
       "..     ...   ...                                                ...    ...   \n",
       "633   None  SERM  Kamerad ! daheim in die Silvester = Gottesdien...     P6   \n",
       "634   None  SERM  eine jede Uebergang in+die Leben haben sein be...     P6   \n",
       "635   None  SERM  andächtig Christ , Geliebte in+die Herr ! als ...     P6   \n",
       "636   None  SERM  darum wollen wir mit getroster Zuversicht er b...     P6   \n",
       "637   None  SERM  die Eingliederung unser evang. Jugendverein in...     P6   \n",
       "\n",
       "                                              pos_tags region  \\\n",
       "0    ADV VVFIN PPER ART NE ADJD PTKVZ SENT ITJ PPER...    NoD   \n",
       "1    ADJA NN $, VVIMP PTKVZ PTKZU VVINF $, KOUS PDS...    NoD   \n",
       "2    ITJ $, PPER VAFIN ADV ADV ADJD $, PRELS PPER A...    NoD   \n",
       "3    ADV VAFIN SENT PPER VVFIN PPER ADJD KON NN VVI...    OMD   \n",
       "4    NN NN $, PDS VAFIN FM NN SENT PDS VAFIN ART NN...    OMD   \n",
       "..                                                 ...    ...   \n",
       "633  NN $. ADV APPR ART NN $( NN VVFIN PPER ADV NN ...    WMD   \n",
       "634  ART PIAT NN APPRART NN VAFIN PPOSAT ADJA $, AD...    WOD   \n",
       "635  ADJA NN $, NN APPRART NN $. KOUS ART ADJA NE P...    WOD   \n",
       "636  PAV VMFIN PPER APPR ADJA NN PPER VVINF $, KOUS...    WOD   \n",
       "637  ART NN PPOSAT ADJA NN APPR ART NN VAFIN PPOSAT...    WOD   \n",
       "\n",
       "                 title                                             tokens  \\\n",
       "0         Leonilda.txt  So koͤmmet euch der LoͤwRitter schwermuͤtig vo...   \n",
       "1         Euridice.txt  ARmes herz / laß ab zu hoffen / weil das gluͤc...   \n",
       "2         Freyheit.txt  ACh / ich bin schon so müde / das ich kaum meh...   \n",
       "3         Cardenio.txt  So ists ! er ließ mich hoch vnd uͤberhoch bela...   \n",
       "4        Cleopatra.txt  VErtraute Charmium / dis ist di Lebens-Hoͤle ;...   \n",
       "..                 ...                                                ...   \n",
       "633              Zwölf  Kameraden ! Daheim in den Silvester = Gottesdi...   \n",
       "634  Hochzeits-Predigt  Ein jeder Uebergang im Leben hat seine besonde...   \n",
       "635                Der  Andächtige Christen , Geliebte im Herrn ! Als ...   \n",
       "636                Zur  Darum wollen wir mit getroster Zuversicht ihn ...   \n",
       "637             Unsere  Die Eingliederung unserer evang. Jugendvereine...   \n",
       "\n",
       "     year  \n",
       "0    1673  \n",
       "1    1699  \n",
       "2    1700  \n",
       "3    1657  \n",
       "4    1661  \n",
       "..    ...  \n",
       "633  1917  \n",
       "634  1906  \n",
       "635  1914  \n",
       "636  1916  \n",
       "637  1934  \n",
       "\n",
       "[974 rows x 9 columns]"
      ]
     },
     "execution_count": 15,
     "metadata": {},
     "output_type": "execute_result"
    }
   ],
   "source": [
    "full_tagged_df = pd.concat((tagged_man_df, df))\n",
    "print(full_tagged_df.shape)\n",
    "full_tagged_df"
   ]
  },
  {
   "cell_type": "code",
   "execution_count": 16,
   "metadata": {},
   "outputs": [],
   "source": [
    "full_tagged_df.to_csv('full_taggeddataset.csv', encoding='UTF-8')"
   ]
  },
  {
   "cell_type": "code",
   "execution_count": null,
   "metadata": {},
   "outputs": [],
   "source": []
  }
 ],
 "metadata": {
  "kernelspec": {
   "display_name": "Python 3",
   "language": "python",
   "name": "python3"
  },
  "language_info": {
   "codemirror_mode": {
    "name": "ipython",
    "version": 3
   },
   "file_extension": ".py",
   "mimetype": "text/x-python",
   "name": "python",
   "nbconvert_exporter": "python",
   "pygments_lexer": "ipython3",
   "version": "3.7.4"
  }
 },
 "nbformat": 4,
 "nbformat_minor": 2
}
