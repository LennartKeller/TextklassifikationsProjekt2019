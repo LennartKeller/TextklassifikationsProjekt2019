{
 "cells": [
  {
   "cell_type": "code",
   "execution_count": 68,
   "metadata": {},
   "outputs": [],
   "source": [
    "import glob\n",
    "\n",
    "raw_files = glob.glob('GermInnC/**/*.txt')"
   ]
  },
  {
   "cell_type": "code",
   "execution_count": 77,
   "metadata": {},
   "outputs": [
    {
     "name": "stdout",
     "output_type": "stream",
     "text": [
      "Failed to read 42 files\n"
     ]
    }
   ],
   "source": [
    "import os\n",
    "import codecs\n",
    "import magic\n",
    "\n",
    "data = []\n",
    "error = 0\n",
    "for file in raw_files:\n",
    "    genre, period, region, year, title = os.path.basename(file).split('_')[:5]\n",
    "    with open(file, 'rb') as f:\n",
    "        raw_data = f.read()\n",
    "    m = magic.Magic(mime_encoding=True)\n",
    "    encoding = m.from_buffer(raw_data)\n",
    "    if encoding != 'unknown-8bit':\n",
    "        text = raw_data.decode(encoding=encoding).encode('UTF-8').decode('UTF-8')\n",
    "    else:\n",
    "        error += 1\n",
    "        continue\n",
    "    data.append({\n",
    "        'text': text,\n",
    "        'title':title,\n",
    "        'genre': genre,\n",
    "        'period': period,\n",
    "        'region': region,\n",
    "        'year': year\n",
    "    })\n",
    "print(f'Failed to read {error} files')"
   ]
  },
  {
   "cell_type": "code",
   "execution_count": 78,
   "metadata": {},
   "outputs": [
    {
     "name": "stdout",
     "output_type": "stream",
     "text": [
      "{'text': '\\ufeffAus Dresdens Zigaretten Industrie\\r\\n\\tDresden hat sich den Rang als Hochburg der deutschen Zigarettenindustrie niemals streitig machen lassen. Waren es vielleicht Zufälle, die vor Jahrzehnten zur Niederlassung einiger Zigarettenfabrikanten in Dresden geführt haben, so hat später die günstige geographische Lage an der Elbe und im Herzen Deutschlands dazu beigetragen, daß eine Industrie hier heimisch wurde, die für die Entwicklung der Stadt von großer Bedeutung ist. In den verschiedensten Stadtteilen liegen die Fabriken verteilt. Am konzentriertesten sind die Betriebe in Striesen, wo sich verschiedene bedeutende Zigarettenwerke befinden, unter denen am hervorstechendsten der Betrieb der Bulgaria=Zigarettenfabrik ist, deren Neubau vor kurzem seiner Bestimmung übergeben wurde. Es ist eine der modernsten Fabriken Dresdens, in der die Erfahrungen, die seit 50 Jahren in Dresden in fabrikatorischer Beziehung gesammelt sind, verwertet wurden. \\r\\n\\tInteressant ist ein Rundgang durch die Fabrik. Wir beginnen im Keller, wo wir durch einen Zollbeamten, der das Tausende von Ballen enthaltende Transitlager überwacht, daran erinnert werden, daß die Zigarette einen großen Betrag an Verbrauchssteuern in Deutschland aufbringen muß. Hat der Hüter des wertvollen Gutes die Ballen freigegeben, so wandern sie in den Vorfeuchteraum, wo eine sinnreich konstruierte Bandtransportanlage die Bündel den Tabaksortiererinnen und nachdem die Blätter sorgfältig aufgelöst sind, der Maschinenanlage zuführt. Die nächste Etappe sind die Schneidemaschinen, von denen aus eine pneumatische Anlage das Material nach dem 3. Stock befördert, wo in einem geräumigen, hellen Maschinensaal 18 Zigarettenmaschinen allerneuester Konstruktion aufgestellt sind, die täglich je 300 000 Zigaretten herstellen. Bei dieser Produktion haben 500 Frauenhände genügend Arbeit, die Zigaretten im Packsaal in Schachteln zu legen, während billige Sorten durch eine automatische Packmaschine behandelt werden. \\r\\n\\tEs würde zu weit führen, alle Einrichtungen der Fabrik im einzelnen zu schildern. Hervorgehoben werden muß, daß versucht wird, für die Gesundheit des Rauchers nach besten Kräften zu sorgen und daß ebenso hygienische Einrichtungen für die Arbeiter geschaffen worden sind. \\r\\n\\tLicht und luftig sind die Arbeitsräume. Saubere Kantinen, ein zweckmäßig eingerichtetes Krankenzimmer unter Leitung einer Schwester, Garderobenräume mit fließendem Wasser und Dachgärten für die Arbeitspausen vollenden den Eindruck, daß Leitung und Erbauer es versucht haben, den Bedürfnissen der werktätigen Menschen Rechnung zu tragen. \\r\\n', 'title': 'Arbeiterstimme', 'genre': 'NEWS', 'period': 'P6', 'region': 'OMD', 'year': '1928'}\n"
     ]
    }
   ],
   "source": [
    "print(data[1])"
   ]
  },
  {
   "cell_type": "code",
   "execution_count": 81,
   "metadata": {},
   "outputs": [],
   "source": [
    "tagged_files = glob.glob('GermInnC Tagged/**/*.txt')"
   ]
  },
  {
   "cell_type": "code",
   "execution_count": 125,
   "metadata": {},
   "outputs": [],
   "source": [
    "import os\n",
    "\n",
    "tagged_data = []\n",
    "for file in tagged_files:\n",
    "    genre, period, region, year, title = os.path.basename(file).split('_')[:5]\n",
    "    tokens = []\n",
    "    pos_tags = []\n",
    "    lemmas = []\n",
    "    with open(file, 'r', encoding='UTF-8') as f:\n",
    "        for line in f:\n",
    "            line = line.rstrip()\n",
    "            try:\n",
    "                token, pos_tag, lemma = line.split('\\t')\n",
    "            except ValueError:\n",
    "                continue\n",
    "            tokens.append(token)\n",
    "            pos_tags.append(pos_tag)\n",
    "            lemmas.append(lemma)\n",
    "        \n",
    "    tagged_data.append({\n",
    "        'tokens': \" \".join(tokens),\n",
    "        'pos_tags': \" \".join(pos_tags),\n",
    "        'lemmas': \" \".join(lemmas),\n",
    "        'title': title,\n",
    "        'genre': genre,\n",
    "        'period': period,\n",
    "        'region': region,\n",
    "        'year': year\n",
    "    })"
   ]
  },
  {
   "cell_type": "code",
   "execution_count": 126,
   "metadata": {},
   "outputs": [
    {
     "data": {
      "text/plain": [
       "{'tokens': 'Lokales und Vermischtes . Der Kaiser in Breslau . Der Kaiser , der bekanntlich heute den Feierlichkeiten anläßlich der Vermählung der Gräfin Armgard zu Stolberg = Wernigerode mit dem Grafen Platen zu Hallermund in Landeshut beiwohnen wird , begibt sich gleich nach der Trauung nach Breslau , wo er heute Abend eintrifft . Der Kaiser wird sich , wie uns ein Privat = Telegramm aus Breslau meldet , sofort nach dem fürstbischhöflichen Palais begeben , um beim Kardinal Kopp das Souper einzunehmen . Die Rückreise des Kaisers nach Berlin erfolgt am Dienstag Nachmittag . – Die Kaiserin hat ihre Teilnahme an der Hochzeitsfeierlichkeit wegen leichter Unpäßlichkeit abgesagt . Gestern Vormittag wohnte der Kaiser dem Gottesdienst zu Potsdam bei und empfing um 12 ¾ Uhr den Staatsminister Budde . – Gestern Abend begab sich der Kaiser nach dem königlichen Schauspielhaus , um der Vorstellung von Blumenthals „ Mann wir altern “ und Rofstands „ Die Romantischen “ beizuwohnen . Im Schauspielhaus wurde das Souper eingenommen . Im Gefolge des Kaisers auf der Reise nach Schlesien werden sich befinden Oberhof = und Hausmarschall Graf zu Eulenburg , Generaladjutant General der Inferanterie Plessen , General à la suite Graf v. Moltke , Flügeladjutant Fregattenkapitän von Grumme , Generaladjutant Admiral Freiherr v. Senden = Bibrau , Chef des Marinenkabinetts , Generaladjutant Generalleutnant Graf v. Hülfen = Häfeler , Leibarzt Stabsarzt Dr. Niederer . Als Vertreter der Kaiserin , die , wie oben mitgeteilt , an der Reise nicht teilnimmt , werden in Landeshut Oberhofmeisterin Gräfin v. Brockdorff , Gräfin v. Keller , Fräulein v. Gersdorff und Kammerherr Vizeoberceremonienmeister v. d. Kuefebeck anwesend sein . Das neue Jagdrevier des Kaisers an der Nordbahn wird , wie jetzt festgesetzt ist , am 20 . Januar das vom Grunewald nach dem Oranienburger und Schönwalder Forst überführte Wild aufnehmen . Im nächsten Herbst werden die ersten Hofjagden im neuen Revier abgehalten werden . Seit einigen Tagen finden in dem dichten Waldgelände vielfach Ausforstungen statt , besonders in den an der Briefe gelegenen Waldgebieten . Der Forst untersteht zum größten Teile der Oberförsterei Schönwalde . Wie schon berichtet , soll die Nordbahn bis Oranienburg infolge der Verlegung der Hofjagden nun schneller , als geplant , viergleisig ausgebaut werden . Die Beisetzung von Friedrich v. Hefner = Alteneck , die gestern Nachmittags 2 Uhr auf dem alten Mathäus = Kirchhof in der Großgörschenstraße erfolgte , hatte eine zahlreiche Trauergemeinde in der mit Lorbeerbäumen und Cypressen dekorierten Friedhofskapelle versammelt . Unter den Trauergästen sah man Geheimrat Bödiker , Unterstaatssekretär Sydow vom Reichspostamt , den königlichen Münzdirektor Konrad sowie zahlreiche Angehörige der Allgemeinen Elektrizitätsgesellschaft , an ihrer Spitze Arnold v. Siemens . Nach einleitendem Gesang des Kirchenchors der Kaiser Wilhelm = Gedächtniskirche hielt Prediger Dr. D. Kirms die Gedenkrede .',\n",
       " 'pos_tags': 'NN KON NN $. ART NN APPR NE $. ART NN $, PRELS ADV ADV ART NN APPR ART NN ART NN NE APPR NN $( NN APPR ART NN NN APPR NN APPR NN VVINF VAFIN $, VVFIN PRF ADJD APPR ART NN APPR NE $, PWAV PPER ADV NN VVFIN $. ART NN VAFIN PRF $, KOUS PPER ART ADJD $( NN APPR NE VVFIN $, ADV APPR ART ADJA NN VVPP $, KOUI APPRART NN NE ART NN VVIZU $. ART NN ART NN APPR NE VVFIN APPRART NN NN $. $( ART NN VAFIN PPOSAT NN APPR ART NN APPR ADJA NN VVPP $. ADV NN VVFIN ART NN ART NN APPR NE PTKVZ KON VVFIN APPR CARD ADJA NN ART NN NN $. $( NN NN VVFIN PRF ART NN APPR ART ADJA NN $, KOUI ART NN APPR NN $( NN PPER VVINF $( KON NN $( ART NN $( VVIZU $. APPRART NN VAFIN ART NN VVPP $. APPRART NN ART NN APPR ART NN APPR NE VAFIN PRF VVFIN NN $( KON NN NE APPR NN $, NN NN ART NN NN $, NN FM FM ADJA NN APPR NE $, NN NN APPR NN $, NN NN NN APPR NN $( NN $, NN ART NN $, NN NN NE APPRART VVFIN $( NN $, NN NN NN NN $. KOKOM NN ART NN $, PRELS $, KOUS ADV VVPP $, APPR ART NN PTKNEG VVFIN $, VAFIN APPR NN NN NN APPR NN $, NN APPR NN $, NN APPR TRUNC KON NN NN APPR ART NN ADJD VAINF $. ART ADJA NN ART NN APPR ART NN VAFIN $, KOUS ADV VVPP VAFIN $, APPRART CARD $. NN ART APPRART NN APPR ART NN KON NN NN ADJA NN VVFIN $. APPRART ADJA NN VAFIN ART ADJA NN APPRART ADJA NN VVPP VAINF $. APPR PIAT NN VVFIN APPR ART ADJA NN ADV NN PTKVZ $, ADV APPR ART APPR ART NN ADJA NN $. ART NN VVFIN APPRART ADJA NN ART NN NN $. KOKOM ADV VVFIN $, VMFIN ART NN APPR NE APPR ART NN ART NN ADV ADJD $, KOKOM VVPP $, ADJD VVPP VAFIN $. ART NN APPR NE APPR NN $( NN $, PRELS ADV NN CARD NN APPR ART ADJA NE $( NN APPR ART NN VVFIN $, VAFIN ART ADJA NN APPR ART APPR NN KON NN ADJA NN VVPP $. APPR ART NN VVFIN PIS NN NN $, NN NE APPRART NN $, ART ADJA NN NE KON ADJA NN ART NN NN $, APPR PPOSAT NN NE APPR NE $. APPR ADJA NN ART NN ART NE NE $( NN VVFIN NN NN NE NN ART NN $.',\n",
       " 'lemmas': 'Lokale und Vermischte . die Kaiser in Breslau . die Kaiser , die bekanntlich heute die Feierlichkeit anlässlich die Vermählung die Gräfin Armgard zu Stolberg = Wernigerode mit die Graf Platen zu Hallermund in Landeshut beiwohnen werden , begeben sich gleich nach die Trauung nach Breslau , wo er heute Abend eintreffen . die Kaiser werden sich , wie wir eine privat = Telegramm aus Breslau melden , sofort nach die fürstbischhöflichen Palais begeben , um bei+die Kardinal Kopp die Souper einnehmen . die Rückreise die Kaiser nach Berlin erfolgen an+die Dienstag Nachmittag . - die Kaiserin haben ihr Teilnahme an die Hochzeitsfeierlichkeit wegen leicht Unpässlichkeit absagen . gestern Vormittag wohnen die Kaiser die Gottesdienst zu Potsdam bei und empfangen um @card@ ¾ Uhr die Staatsminister Budde . - Gestern Abend begeben sich die Kaiser nach die königlich Schauspielhaus , um die Vorstellung von Blumenthals „ Mann wir altern “ und Rofstands „ die Romantische “ beiwohnen . in+die Schauspielhaus werden die Souper einnehmen . in+die Gefolge die Kaiser auf die Reise nach Schlesien werden sich befinden Oberhof = und Hausmarschall Graf zu Eulenburg , Generaladjutant General die Inferanterie Plessen , General à la suite Graf von Moltke , Flügeladjutant Fregattenkapitän von Grumme , Generaladjutant Admiral Freiherr von Senden = Bibrau , Chef die Marinenkabinetts , Generaladjutant Generalleutnant Graf von+die helfen = Häfeler , Leibarzt Stabsarzt Dr. Niedere . als Vertreter die Kaiserin , die , wie oben mitteilen , an die Reise nicht teilnehmen , werden in Landeshut Oberhofmeisterin Gräfin von Brockdorff , Gräfin von Keller , Fräulein von Gersdorff und Kammerherr Vizeoberceremonienmeister von d. Kuefebeck anwesend sein . die neu Jagdrevier die Kaiser an die Nordbahn werden , wie jetzt festsetzen sein , an+die @card@ . Januar die von+die Grunewald nach die Oranienburger und Schönwalder Forst überführt Wild aufnehmen . in+die nah Herbst werden die erst Hofjagden in+die neu Revier abhalten werden . seit einige Tag finden in die dicht Waldgelände vielfach Ausforstungen statt , besonders in die an die Brief gelegen Waldgebiet . die Forst unterstehen zu+die groß Teil die Oberförsterei Schönwald . wie schon berichten , sollen die Nordbahn bis Oranienburg infolge die Verlegung die Hofjagden nun schnell , als planen , viergleisig ausbauen werden . die Beisetzung von Friedrich von Hefner = Alteneck , die gestern Nachmittags @card@ Uhr auf die alt Mathäus = Kirchhof in die Großgörschenstraße erfolgen , haben eine zahlreich Trauergemeinde in die mit Lorbeerbaum und Cypressen dekoriert Friedhofskapelle versammeln . unter die Trauergast sehen man Geheimrat Bödiker , Unterstaatssekretär Sydow von+die Reichspostamt , die königlich Münzdirektor Konrad sowie zahlreich Angehörige die Allgemeine Elektrizitätsgesellschaft , an ihr Spitze Arnold von Siemens . nach einleitend Gesang die Kirchenchor die Kaiser Wilhelm = Gedächtniskirche halten Prediger Dr. D. Kirms die Gedenkrede .',\n",
       " 'title': 'Berliner',\n",
       " 'genre': 'NEWS',\n",
       " 'period': 'P6',\n",
       " 'region': 'NoD',\n",
       " 'year': '1904'}"
      ]
     },
     "execution_count": 126,
     "metadata": {},
     "output_type": "execute_result"
    }
   ],
   "source": [
    "tagged_data[0]"
   ]
  },
  {
   "cell_type": "code",
   "execution_count": 127,
   "metadata": {},
   "outputs": [],
   "source": [
    "import pandas as pd\n",
    "\n",
    "df = pd.DataFrame.from_dict(tagged_data)\n",
    "df.to_csv('tagged_dataset.csv', encoding='UTF-8')"
   ]
  },
  {
   "cell_type": "code",
   "execution_count": null,
   "metadata": {},
   "outputs": [],
   "source": []
  }
 ],
 "metadata": {
  "kernelspec": {
   "display_name": "Python [conda env:nlp]",
   "language": "python",
   "name": "conda-env-nlp-py"
  },
  "language_info": {
   "codemirror_mode": {
    "name": "ipython",
    "version": 3
   },
   "file_extension": ".py",
   "mimetype": "text/x-python",
   "name": "python",
   "nbconvert_exporter": "python",
   "pygments_lexer": "ipython3",
   "version": "3.7.5"
  }
 },
 "nbformat": 4,
 "nbformat_minor": 2
}
