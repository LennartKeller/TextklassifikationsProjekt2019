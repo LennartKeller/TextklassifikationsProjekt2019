{
 "cells": [
  {
   "cell_type": "markdown",
   "metadata": {},
   "source": [
    "# Read raw text corpora"
   ]
  },
  {
   "cell_type": "code",
   "execution_count": 1,
   "metadata": {},
   "outputs": [
    {
     "ename": "ImportError",
     "evalue": "failed to find libmagic.  Check your installation",
     "output_type": "error",
     "traceback": [
      "\u001b[1;31m---------------------------------------------------------------------------\u001b[0m",
      "\u001b[1;31mImportError\u001b[0m                               Traceback (most recent call last)",
      "\u001b[1;32m<ipython-input-1-de527948ee58>\u001b[0m in \u001b[0;36m<module>\u001b[1;34m\u001b[0m\n\u001b[0;32m      1\u001b[0m \u001b[1;32mimport\u001b[0m \u001b[0mos\u001b[0m\u001b[1;33m\u001b[0m\u001b[1;33m\u001b[0m\u001b[0m\n\u001b[0;32m      2\u001b[0m \u001b[1;32mimport\u001b[0m \u001b[0mchardet\u001b[0m\u001b[1;33m\u001b[0m\u001b[1;33m\u001b[0m\u001b[0m\n\u001b[1;32m----> 3\u001b[1;33m \u001b[1;32mimport\u001b[0m \u001b[0mmagic\u001b[0m\u001b[1;33m\u001b[0m\u001b[1;33m\u001b[0m\u001b[0m\n\u001b[0m\u001b[0;32m      4\u001b[0m \u001b[1;32mimport\u001b[0m \u001b[0mpandas\u001b[0m \u001b[1;32mas\u001b[0m \u001b[0mpd\u001b[0m\u001b[1;33m\u001b[0m\u001b[1;33m\u001b[0m\u001b[0m\n\u001b[0;32m      5\u001b[0m \u001b[1;32mfrom\u001b[0m \u001b[0mtyping\u001b[0m \u001b[1;32mimport\u001b[0m \u001b[0mTuple\u001b[0m\u001b[1;33m,\u001b[0m \u001b[0mList\u001b[0m\u001b[1;33m,\u001b[0m \u001b[0mIterable\u001b[0m\u001b[1;33m\u001b[0m\u001b[1;33m\u001b[0m\u001b[0m\n",
      "\u001b[1;32m~\\Anaconda3\\lib\\site-packages\\magic.py\u001b[0m in \u001b[0;36m<module>\u001b[1;34m\u001b[0m\n\u001b[0;32m    179\u001b[0m \u001b[1;32mif\u001b[0m \u001b[1;32mnot\u001b[0m \u001b[0mlibmagic\u001b[0m \u001b[1;32mor\u001b[0m \u001b[1;32mnot\u001b[0m \u001b[0mlibmagic\u001b[0m\u001b[1;33m.\u001b[0m\u001b[0m_name\u001b[0m\u001b[1;33m:\u001b[0m\u001b[1;33m\u001b[0m\u001b[1;33m\u001b[0m\u001b[0m\n\u001b[0;32m    180\u001b[0m     \u001b[1;31m# It is better to raise an ImportError since we are importing magic module\u001b[0m\u001b[1;33m\u001b[0m\u001b[1;33m\u001b[0m\u001b[1;33m\u001b[0m\u001b[0m\n\u001b[1;32m--> 181\u001b[1;33m     \u001b[1;32mraise\u001b[0m \u001b[0mImportError\u001b[0m\u001b[1;33m(\u001b[0m\u001b[1;34m'failed to find libmagic.  Check your installation'\u001b[0m\u001b[1;33m)\u001b[0m\u001b[1;33m\u001b[0m\u001b[1;33m\u001b[0m\u001b[0m\n\u001b[0m\u001b[0;32m    182\u001b[0m \u001b[1;33m\u001b[0m\u001b[0m\n\u001b[0;32m    183\u001b[0m \u001b[0mmagic_t\u001b[0m \u001b[1;33m=\u001b[0m \u001b[0mctypes\u001b[0m\u001b[1;33m.\u001b[0m\u001b[0mc_void_p\u001b[0m\u001b[1;33m\u001b[0m\u001b[1;33m\u001b[0m\u001b[0m\n",
      "\u001b[1;31mImportError\u001b[0m: failed to find libmagic.  Check your installation"
     ]
    }
   ],
   "source": [
    "import os\n",
    "import chardet\n",
    "import magic \n",
    "import pandas as pd\n",
    "from typing import Tuple, List, Iterable\n",
    "\n",
    "def read_raw_corpus(files: Iterable[str], corpus: str) -> Tuple[pd.DataFrame, List[str]]:\n",
    "    \"\"\"\n",
    "    Reads all files from file and creates a dataframe containing:\n",
    "        * Raw text\n",
    "        * title\n",
    "        * year of publication\n",
    "        * period label\n",
    "        * genre label\n",
    "        * region label\n",
    "        * corpus label (has to set as param)\n",
    "    \n",
    "    NOTE: The Corpus label must be either 'innsbruck' or 'manchester'.\n",
    "    If it is 'manchester' another split is used to read the metadata from the filenames.\n",
    "    \n",
    "    Also a list of tuples containing the files which could not be processed \n",
    "    and the error which was thrown while trying to do so is returned.\n",
    "    \n",
    "    :param file Liste of filepaths\n",
    "    :param corpus corpus label string\n",
    "    :return a dataframe + a list files which could not be processed\n",
    "    \"\"\"\n",
    "    \n",
    "    data = []\n",
    "    errors = []\n",
    "    for file in files:\n",
    "    \n",
    "        m_file = magic.Magic(mime_encoding=True)\n",
    "        file_encoding = m_file.from_buffer(file)\n",
    "        file = file.encode(file_encoding).decode('UTF-8')\n",
    "        filename = os.path.basename(file)\n",
    "        genre, period, region, year, title = filename.split('_')[:5]\n",
    "        if corpus.lower() == 'manchester':\n",
    "            if title.endswith('RAW.txt'):\n",
    "                title = title.replace('RAW.txt', '')\n",
    "            else:\n",
    "                title = title.replace('.txt', '')\n",
    "\n",
    "        with open(file, 'rb') as f:\n",
    "            text_bytes = f.read()\n",
    "            try:\n",
    "                encoding_info = chardet.detect(text_bytes)\n",
    "                text = text_bytes.decode(encoding_info['encoding'])\n",
    "            except Exception as e:\n",
    "                errors.append((file, str(e)))\n",
    "                continue\n",
    "\n",
    "        data.append({\n",
    "            'filename': file,\n",
    "            'text': text,\n",
    "            'title': title,\n",
    "            'genre': genre,\n",
    "            'period': period,\n",
    "            'region': region,\n",
    "            'year': year,\n",
    "            'filename': filename,\n",
    "            'corpus': corpus\n",
    "        })\n",
    "        \n",
    "    df = pd.DataFrame.from_dict(data)\n",
    "    df = df.set_index('filename')\n",
    "    return df, errors\n",
    "\n"
   ]
  },
  {
   "cell_type": "markdown",
   "metadata": {},
   "source": [
    "# Clean Dataset"
   ]
  },
  {
   "cell_type": "code",
   "execution_count": null,
   "metadata": {},
   "outputs": [],
   "source": []
  },
  {
   "cell_type": "markdown",
   "metadata": {},
   "source": [
    "# Read raw innsbruck corpus files into a dataframe"
   ]
  },
  {
   "cell_type": "code",
   "execution_count": null,
   "metadata": {},
   "outputs": [],
   "source": [
    "import glob\n",
    "\n",
    "innsbruck_raw_files = glob.glob('GermInnC/**/*.txt')\n",
    "print(len(innsbruck_raw_files))"
   ]
  },
  {
   "cell_type": "code",
   "execution_count": null,
   "metadata": {},
   "outputs": [],
   "source": [
    "innsbruck_raw_df, errors = read_raw_corpus(innsbruck_raw_files, 'innsbruck')\n",
    "print(errors)\n",
    "print(innsbruck_raw_df.shape)\n",
    "innsbruck_raw_df.head()"
   ]
  },
  {
   "cell_type": "code",
   "execution_count": null,
   "metadata": {},
   "outputs": [],
   "source": [
    "innsbruck_raw_df.to_csv('innsbruck_dataset.csv', encoding='UTF-8')"
   ]
  },
  {
   "cell_type": "markdown",
   "metadata": {},
   "source": [
    "# Read raw manchester corpus files into a dataframe"
   ]
  },
  {
   "cell_type": "code",
   "execution_count": null,
   "metadata": {},
   "outputs": [],
   "source": [
    "manchester_raw_files = glob.glob('Manchester/RAW/*.txt')"
   ]
  },
  {
   "cell_type": "code",
   "execution_count": null,
   "metadata": {},
   "outputs": [],
   "source": [
    "manchester_raw_df, errors = read_raw_corpus(manchester_raw_files, 'manchester')\n",
    "print(errors)\n",
    "print(manchester_raw_df.shape)\n",
    "manchester_raw_df.head()"
   ]
  },
  {
   "cell_type": "code",
   "execution_count": null,
   "metadata": {},
   "outputs": [],
   "source": [
    "manchester_raw_df.to_csv('manchester_dataset.csv', encoding='UTF-8')"
   ]
  },
  {
   "cell_type": "markdown",
   "metadata": {},
   "source": [
    "# Concat raw dataframes"
   ]
  },
  {
   "cell_type": "code",
   "execution_count": null,
   "metadata": {},
   "outputs": [],
   "source": [
    "full_raw_df = pd.concat((manchester_raw_df, innsbruck_raw_df))\n",
    "print(full_raw_df.shape)\n",
    "df.head()"
   ]
  },
  {
   "cell_type": "code",
   "execution_count": null,
   "metadata": {},
   "outputs": [],
   "source": []
  },
  {
   "cell_type": "code",
   "execution_count": null,
   "metadata": {},
   "outputs": [],
   "source": [
    "#full_raw_df.to_csv('full_dataset.csv', encoding='UTF-8')"
   ]
  },
  {
   "cell_type": "markdown",
   "metadata": {},
   "source": [
    "# Read tagged corpora"
   ]
  },
  {
   "cell_type": "code",
   "execution_count": null,
   "metadata": {},
   "outputs": [],
   "source": [
    "tagged_files = glob.glob('GermInnC Tagged/**/*.txt')"
   ]
  },
  {
   "cell_type": "code",
   "execution_count": null,
   "metadata": {},
   "outputs": [],
   "source": [
    "import os\n",
    "from typing import Iterable\n",
    "tagged_data = []\n",
    "for file in tagged_files:\n",
    "    genre, period, region, year, title = os.path.basename(file).split('_')[:5]\n",
    "    tokens = []\n",
    "    pos_tags = []\n",
    "    lemmas = []\n",
    "    with open(file, 'r', encoding='UTF-8') as f:\n",
    "        for line in f:\n",
    "            line = line.rstrip()\n",
    "            try:\n",
    "                token, pos_tag, lemma = line.split('\\t')\n",
    "            except ValueError:\n",
    "                continue\n",
    "            tokens.append(token)\n",
    "            pos_tags.append(pos_tag)\n",
    "            lemmas.append(lemma)\n",
    "\n",
    "    tagged_data.append({\n",
    "        'tokens': \" \".join(tokens),\n",
    "        'pos_tags': \" \".join(pos_tags),\n",
    "        'lemmas': \" \".join(lemmas),\n",
    "        'title': title,\n",
    "        'genre': genre,\n",
    "        'period': period,\n",
    "        'region': region,\n",
    "        'year': year,\n",
    "        'corpus': 'innsbruck'\n",
    "    })"
   ]
  },
  {
   "cell_type": "code",
   "execution_count": null,
   "metadata": {},
   "outputs": [],
   "source": [
    "tagged_data[0]"
   ]
  },
  {
   "cell_type": "code",
   "execution_count": null,
   "metadata": {},
   "outputs": [],
   "source": [
    "import pandas as pd\n",
    "\n",
    "df = pd.DataFrame.from_dict(tagged_data)\n",
    "df.to_csv('tagged_dataset.csv', encoding='UTF-8')"
   ]
  },
  {
   "cell_type": "markdown",
   "metadata": {},
   "source": [
    "# Tagged Manchester"
   ]
  },
  {
   "cell_type": "code",
   "execution_count": null,
   "metadata": {},
   "outputs": [],
   "source": [
    "tagged_files_2 = glob.glob('Manchester/LING-COL/*.txt')"
   ]
  },
  {
   "cell_type": "code",
   "execution_count": null,
   "metadata": {},
   "outputs": [],
   "source": [
    "import os\n",
    "from typing import Iterable\n",
    "tagged_data_2 = []\n",
    "for file in tagged_files_2:\n",
    "    genre, period, region, year, title = os.path.basename(file).split('_')[:5]\n",
    "    tokens = []\n",
    "    norms = []\n",
    "    pos_tags = []\n",
    "    lemmas = []\n",
    "    with open(file, 'r', encoding='UTF-8') as f:\n",
    "        for line in f:\n",
    "            line = line.rstrip()\n",
    "            try:\n",
    "                pID, token, norm, pos_tag, lemma, moph, p, rest = line.split('\\t')\n",
    "                #token, pos_tag, lemma = line.split('\\t')\n",
    "            except ValueError:\n",
    "                continue\n",
    "            \n",
    "            tokens.append(token)\n",
    "            norms.append(norm)\n",
    "            pos_tags.append(pos_tag)\n",
    "            lemmas.append(lemma)\n",
    "\n",
    "    tagged_data_2.append({\n",
    "        'tokens': \" \".join(tokens),\n",
    "        #'norm': \" \".join(norms),\n",
    "        'pos_tags': \" \".join(pos_tags),\n",
    "        'lemmas': \" \".join(lemmas),\n",
    "        'title': title,\n",
    "        'genre': genre,\n",
    "        'period': period,\n",
    "        'region': region,\n",
    "        'year': year,\n",
    "        'corpus': 'manchester'\n",
    "    })"
   ]
  },
  {
   "cell_type": "code",
   "execution_count": null,
   "metadata": {},
   "outputs": [],
   "source": [
    "tagged_data_2[0]"
   ]
  },
  {
   "cell_type": "markdown",
   "metadata": {},
   "source": [
    "# Create the Manchester Tagged Dataframe and .csv"
   ]
  },
  {
   "cell_type": "code",
   "execution_count": null,
   "metadata": {},
   "outputs": [],
   "source": [
    "import pandas as pd\n",
    "tagged_man_df = pd.DataFrame.from_dict(tagged_data_2)\n",
    "tagged_man_df.shape"
   ]
  },
  {
   "cell_type": "code",
   "execution_count": null,
   "metadata": {},
   "outputs": [],
   "source": [
    "tagged_man_df.to_csv('tagged_Mancheser_dataset.csv', encoding='UTF-8')"
   ]
  },
  {
   "cell_type": "markdown",
   "metadata": {},
   "source": [
    "# Concat the tagged Datasets"
   ]
  },
  {
   "cell_type": "code",
   "execution_count": null,
   "metadata": {},
   "outputs": [],
   "source": [
    "full_tagged_df = pd.concat((tagged_man_df, df))\n",
    "print(full_tagged_df.shape)\n",
    "full_tagged_df"
   ]
  },
  {
   "cell_type": "code",
   "execution_count": null,
   "metadata": {},
   "outputs": [],
   "source": [
    "full_tagged_df.to_csv('full_taggeddataset.csv', encoding='UTF-8')"
   ]
  },
  {
   "cell_type": "markdown",
   "metadata": {},
   "source": [
    "# Clean Datasets"
   ]
  },
  {
   "cell_type": "code",
   "execution_count": null,
   "metadata": {},
   "outputs": [],
   "source": [
    "import pandas as pd\n",
    "import numpy as np\n",
    "#from sklearn.utils import shuffle\n",
    "\n",
    "tagged_df = pd.read_csv('full_taggeddataset.csv')\n",
    "full_raw_df = pd.read_csv('full_dataset.csv')"
   ]
  },
  {
   "cell_type": "code",
   "execution_count": null,
   "metadata": {},
   "outputs": [],
   "source": [
    "# Clean Dataset RAW\n",
    "full_raw_df[full_raw_df.genre == \"NEWS-P4\"] = \"NEWS\"\n",
    "full_raw_df.region = full_raw_df.region.str.upper()\n",
    "full_raw_df = full_raw_df[full_raw_df.year != 'GesetzsammlungThÅringen']\n",
    "full_raw_df = full_raw_df[full_raw_df.year != 'GesetzsammlungThüringen']\n",
    "full_raw_df = full_raw_df[full_raw_df.year != '1851-54']\n",
    "full_raw_df['text'] = full_raw_df['text'].str.replace('+',' ')\n",
    "full_raw_df['text'] = full_raw_df['text'].str.replace('seyn','sein')\n",
    "full_raw_df['text'] = full_raw_df['text'].str.replace('d','die')\n",
    "full_raw_df['text'] = full_raw_df['text'].str.replace('er|es|sie','sich')\n",
    "# Clean Dataset Tagged\n",
    "tagged_df[tagged_df.genre == \"NEWS-P4\"] = \"NEWS\"\n",
    "tagged_df.region = tagged_df.region.str.upper()\n",
    "tagged_df = tagged_df[tagged_df.year != 'GesetzsammlungThÅringen']\n",
    "tagged_df = tagged_df[tagged_df.year != 'GesetzsammlungThüringen']\n",
    "tagged_df = tagged_df[tagged_df.year != '1851-54']\n",
    "tagged_df['lemmas'] =tagged_df['lemmas'].str.replace('seyn','sein')\n",
    "tagged_df['lemmas'] =tagged_df['lemmas'].str.replace('+',' ')\n",
    "tagged_df['lemmas'] =tagged_df['lemmas'].str.replace(' d ','die')\n",
    "tagged_df['lemmas'] =tagged_df['lemmas'].str.replace('er|es|sie','sich')\n",
    "#tagged_df = tagged_df[tagged_df.text.replace('seyn', 'sein')]\n",
    "\n"
   ]
  },
  {
   "cell_type": "code",
   "execution_count": null,
   "metadata": {},
   "outputs": [],
   "source": []
  },
  {
   "cell_type": "code",
   "execution_count": null,
   "metadata": {},
   "outputs": [],
   "source": []
  },
  {
   "cell_type": "code",
   "execution_count": null,
   "metadata": {},
   "outputs": [],
   "source": [
    "full_raw_df.to_csv('full_dataset.csv', encoding='UTF-8')\n",
    "tagged_df.to_csv('full_taggeddataset.csv', encoding='UTF-8')"
   ]
  },
  {
   "cell_type": "code",
   "execution_count": null,
   "metadata": {},
   "outputs": [],
   "source": []
  }
 ],
 "metadata": {
  "kernelspec": {
   "display_name": "Python 3",
   "language": "python",
   "name": "python3"
  },
  "language_info": {
   "codemirror_mode": {
    "name": "ipython",
    "version": 3
   },
   "file_extension": ".py",
   "mimetype": "text/x-python",
   "name": "python",
   "nbconvert_exporter": "python",
   "pygments_lexer": "ipython3",
   "version": "3.7.4"
  }
 },
 "nbformat": 4,
 "nbformat_minor": 2
}
