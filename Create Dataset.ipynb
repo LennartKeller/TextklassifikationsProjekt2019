{
 "cells": [
  {
   "cell_type": "code",
   "execution_count": 20,
   "metadata": {},
   "outputs": [],
   "source": [
    "import glob\n",
    "\n",
    "raw_files = glob.glob('GermInnC/**/*.txt')"
   ]
  },
  {
   "cell_type": "code",
   "execution_count": 36,
   "metadata": {},
   "outputs": [
    {
     "name": "stdout",
     "output_type": "stream",
     "text": [
      "Failed to read 0 files\n"
     ]
    }
   ],
   "source": [
    "import os\n",
    "import chardet\n",
    "\n",
    "data = []\n",
    "error = 0\n",
    "\n",
    "for file in raw_files:\n",
    "    \n",
    "    m_file = magic.Magic(mime_encoding=True)\n",
    "    file_encoding = m_file.from_buffer(file)\n",
    "    file = file.encode(file_encoding).decode('UTF-8')\n",
    "    genre, period, region, year, title = os.path.basename(file).split('_')[:5]\n",
    "    \n",
    "    with open(file, 'rb') as f:\n",
    "        text_bytes = f.read()\n",
    "        encoding_info = chardet.detect(text_bytes)\n",
    "        text = text_bytes.decode(encoding_info['encoding'])\n",
    "        \n",
    "    data.append({\n",
    "        'text': text,\n",
    "        'title': title,\n",
    "        'genre': genre,\n",
    "        'period': period,\n",
    "        'region': region,\n",
    "        'year': year\n",
    "    })\n",
    "\n",
    "print(f'Failed to read {error} files')"
   ]
  },
  {
   "cell_type": "code",
   "execution_count": 37,
   "metadata": {},
   "outputs": [],
   "source": [
    "import pandas as pd\n",
    "\n",
    "df = pd.DataFrame.from_dict(data)\n",
    "df.to_csv('dataset.csv', encoding='UTF-8')"
   ]
  },
  {
   "cell_type": "code",
   "execution_count": 39,
   "metadata": {},
   "outputs": [
    {
     "data": {
      "text/plain": [
       "{'text': '      Einleitung.\\r\\n      § 1.\\r\\n      Glaube und Arbeit.\\r\\n      Gewiß haben Weltkrieg und Revolution jede Art von Glauben erschüttert. Aber zerbrochen wurde doch nur der Glaube, der mit ungläubigen Gedanken über den Willen Gottes verbunden war. Wurde als dessen Ziel die Erhaltung der eignen Person des Glaubenden, die seines Volkes und die der ganzen Verfassung von Leben und Welt angesehen, so mußte der grausame Lauf der Ereignisse mit all diesen Werten auch den Glauben zu Fall bringen, der an ihnen hing. Wohl denen, die schon vorher an höhern und dauernden Gütern gehangen und Gottes Willen anders zu schauen gelernt hatten! Wohl auch noch den andern, die sich durch jenen Verlauf der Geschehnisse veranlaßt sahen, das Auge ihres Glaubens höher zu lenken, wo Gott selber und nicht der Abgott, das Geschöpf, das die Phantasie dem Wunsche geboren hat, thront und waltet! Zerbrechen kann nur ein Glaube, der da verlangt, daß sich Gott nach unserm Willen richtet, und sich weigert, sich nach dem Willen Gottes zu richten.\\r\\n      Aber was ist der Wille Gottes und wo erkennen wir ihn? Gewiß werden wir zuerst nach der Bibel blicken. Aber sie ist ein Getön von Stimmen, aus verschiedenen Zeiten und von verschiedener Höhenlage. Nur dem ganz reinen und umfassenden Gehör wird sie zu einem großen brausenden Orchester, das jenen Willen verkündigt. Gewöhnlich geht es so zu, daß die Zeit jeweilig, wie sie ihrer Entwicklung gemäß andere Lagen und damit andre Aufgaben bringt, auch das Ohr schärft, um aus der Bibel herauszuhören, was Gott gerade seinen Kindern zu sagen hat. Aus dem Zusammenklang von Zeitlage und Bibelwort ergibt sich dann für sie, was Gott mit ihnen und von ihnen will. Was sagt uns denn nun Gott in dieser unsrer Zeit? Wer nur das leiseste Empfinden für eine von dem Jenseits der Dinge und Ereignisse her erklingende Stimme hat, der muß doch gerade gegenwärtig aufmerken; denn wann sollte Gott sprechen, wenn nicht jetzt, wenn er überhaupt auch im Geschehen redet? Hat er um die Wende der Zeiten, als Jesu Kommen die Welt erschütterte, sich kundgetan, hat er in dem Jahrhundert der Reformation, hat er auch durch die große Revolution gesprochen, dann spricht er auch jetzt. Aber wie immer sind es nicht viele, die sein Wort hören. Meist vernimmt man erst lange darnach, was Gott gesagt hat. Erst müssen greifbare Ergebnisse, also große Veränderungen bemerkbar sein, die einen Umschwung zum Bessern herbeigeführt haben; es muß auch die Wertschätzung durchgedrungen sein, die solche Umgestaltungen würdigt, ehe man es wagt, das Wort „Gott“ auf solche großen Durchbrüche anzuwenden. So können wir auch jetzt nur ahnen, spüren und tasten, aber doch aus dem tiefen Gefühl heraus: auch in diesem Sturm, Feuer und Erdbeben geht Gott vor unserm erschauernden Erleben vorüber.\\r\\n      Wagen wir uns mit unserm Denken ein wenig in dieses Geheimnis hinein, so vermag es schon langsam unsre Empfindungen zu klären. Wie, wenn die furchtbaren Stöße, die wir erlebt haben, Rückstöße aus dem innersten „Ur“, dem geheimsten Grund der Dinge wären, wo das Leben der Menschheit selbst verborgen waltet, wohin alles zurückflutet, was draußen geschieht, von wo alles als Rückschlag ausgeht, was auf alles Geschehen als Aeußerung jenes geheimsten Lebenswillens antwortet? Wie wenn Krieg und Revolution solche Rückschläge aus jener Tiefe der Dinge wären, die mit vulkanischer Gewalt die alt und verkehrt gewordene Oberfläche der Welt durchschlagen wollten, um etwas ganz Neues, wenn auch unter furchtbaren Wehen, ans Licht zu bringen? – Wir als das Geschlecht, das den schrecklichsten Krieg mitgemacht hat, dürfen vor einer so ganz anders gewordenen Vorstellung von Gott nicht zurückschrecken: Gott als der gewaltige Weltenwille, der zerstört und neu schafft, der tötet und lebendig macht; wir sind alle zu weich geworden in unserm Denken über Gott. Ja, wir sollten sogar schon jetzt, wo uns noch das Brausen und Sausen der Umwälzungen erfüllt, etwas spüren auch von dem jauchzenden Glück, dabei zu sein, wenn Gott an der Arbeit ist, wenn wir wieder einen neuen Schöpfungstag mit anbrechen sehen dürfen. Aber dafür ist der Sinn der meisten zu klein; denn sie haben nur Angst, daß etwas von der glühenden Lava in ihr Gärtchen fließt.\\r\\n      Aber was will denn Gott? Etwas anderes als die alten Lebensformen zerbrechen, die die Welt ins Verderben geführt haben, die Formen, in denen die Völker und die Klassen eines Volkes miteinander oder vielmehr widereinander lebten – und dann neue Formen für dieses Leben schaffen, die wirklich ein Nebeneinander ermöglichen? Ist es das nicht, was uns aus jenem innersten Lebenswillen der Menschheit heraus Gott zu sagen hätte, wenn er unser Geschlecht erhalten und nicht verderben will mit einer großen Sündflut? Ueberall hören tatsächlich die mit dem feinsten prophetischen Gehör begabten Seelen etwas derartiges heraus: Gott will neue Wege für das gemeinsame Leben der Menschen; nachdem sich die Völker im Weltkrieg, nachdem sich die Klassen in der Revolution so furchtbar auseinander- jawohl auseinandergesetzt haben, will er kraft jenes ewigen Rückschlages, als der sich alles große Geschehen erkennen läßt, die Ursachen beseitigen, die dazu geführt haben, und neue Verhältnisse anbahnen; und wenn wir entwicklungsgeschichtlich geschult genug sind, um nicht zu erwarten, daß ein Bogen in den Wolken eine Zeit verspricht, da keine Flut mehr kommt und Sommer und Winter, Saat und Ernte nicht aufhören werden, so haben wir doch zu denken und zu sorgen für eine Zeit, die einmal gerade vor uns liegt. Und für diese geht sicher der Wille Gottes auf einen Zustand, da jene beiden furchtbaren Klüfte überbrückt und Friede und Freundschaft hergestellt sein werden. – Hört solches unbeweisbar, aber auch unwiderleglich sicher der tiefste Spürsinn unsres Glaubens aus dem brausenden Geschehen heraus, dann ist es nicht schwer, ein Echo dafür in der Bibel zu vernehmen. Mag jede frühere Zeit aus ihr herausgehört haben, was sie will, auch die vermeintlich klassischen Zeiten haben uns nicht vorzuschreiben, was wir hören sollen. Und wir hören mit unserm eignen Ohr eben jenen Willen Gottes heraus, der auf Gemeinschaft und einen Bruderbund geht. So hören wir ganz neu, was Gott durch die Propheten sagt; auch Jesus und Paulus gewinnen eine andre Sprache: sie sprechen nicht mehr zur einzelnen Seele, die selig werden will, sondern zum Volk und zur Menschheit, um ihnen zu sagen, was zu ihrem Frieden dient. So hören wir es, und so ist es richtig. Wir hören und verkünden, was der Geist uns heute zu sagen hat. Und wer es nicht hören will, vielleicht weil er andres hören möchte, der ist ungläubig; denn er hört nicht auf Gott. Und wer früher anders gedacht hat und beugt nun seinen so klugen Verstand unter den Gott, der in der Wirklichkeit des Geschehens redet und uns aus jenem Stimmengetön der Schrift vernehmlich einen bestimmten Klang in die Seele ruft, der ist gläubig. Es geht nicht an, daß wir Gott widerstreben und klüger sein wollen als er. So kann alles nichts helfen: wir müssen uns jenen beiden großen Gedanken erschließen, die Gottes Willen darstellen an uns: Bruderschaft zwischen den Klassen und Sri e den zwischen den Völkern. Damit ist natürlich nicht gesagt, daß wir glauben müßten, nun werde bald beides zur Wirklichkeit, weil Gott im Geschehen wie in seinem Wort darauf hinzudrängen scheint. Ja, Gott will; aber ob sein Wille zu Stand und Wesen kommt, hängt von uns und unsrer Mitarbeit ab, weil Gott, wenn der Ausdruck erlaubt ist, sich in das Regiment des geschichtlichen Geschehens mit uns teilt, freilich nicht ohne selbst das letzte Wort zu haben und neue Wege einzuschlagen, wenn wir es einmal wieder verfahren haben. Wie aller Glaube zu irgendeinem Tun führt, so erfordert auch jener, der so und nicht anders Gottes Stimme aus dem Zusammenklang von Geschehen und Bibel heraushört, unsre Mitarbeit. Was sich da ans Licht drängen will aus dem dunklen Hintergrund der Geschehnisse heraus, das ruft nach unsern Händen, daß sie helfen es an das Licht zu bringen. Mit einem Wort: Gott ruft die Christen und Gott ruft die Kirche zur Tat auf.\\r\\n      Wir haben uns vielleicht zu sehr gewöhnt, zu gering von uns selber und unserm Einfluß zu denken, vielleicht als Gegenschlag gegen die übliche Art so vieler Christen, mit ihren Wünschen zu denken und von der Allmacht Gottes alles fix und fertig zu erwarten, was sie als das Heil der Welt erkannt zu haben glaubten. Wir sollen aber nur nicht verzagen. Ist die Welt schon zweimal durch das Wort anders geworden – natürlich nicht ohne daß auch die Zeitumstände und die ganze Entwicklung der Dinge mitwirkten –, so wollen wir es noch einmal wieder versuchen, die Schulter an die Speichen des Zeitenrades zu stemmen. Glaube muß arbeiten. Und wenn wir auch wüßten, daß wir wenig oder nichts erreichten, wir müßten es tun, weil wir ein Gewissen haben, das uns keine Ruhe läßt. Aber der Haß der Gegner, der nicht bloß Verachtung ist, bezeugt uns, daß immer noch für viele die Kirche eine der geistigen Mächte ist, die mit Predigt und Religionsunterricht, mit Seelsorge und Vereinsarbeit und noch anderm einen Einfluß auf die Gesinnung im Volke hat. Mischen wir darum nur mit aller Sestigkeit unsre Stimme in das Gewoge der Stimmen der Zeit! Wir finden vielleicht mehr gleichgestimmte Seelen und Gemeinschaften, als wir ahnen. Vielleicht hoffen auch mehr auf eine solche Stimme, wie es die unsrige ist, als wir denken. Denn es gibt der Wohlgesinnten viele Tausende, die auch Balken zu der Brücke über jene Klüfte herbeitragen wollen, aber es fehlt ihnen an Mut und Kraft, wie sie bloß der Glaube an einen Sinn geben kann. Vielleicht verlangt, wie unser Glaube nach Arbeit, so manche Arbeit nach Glauben. Und das braucht auch gar nicht alles so im hellen Bereich des Bewußten vor sich zu gehen, wie wir das zumeist erwarten; sondern es handelt sich auch darum, Atmosphäre zu schaffen, Geist zu bereiten, aus dem heraus oder auch nur mit dessen ganz unbewußter Unterstützung gehandelt und gearbeitet wird, weil man gegenwärtig nun einmal so denkt. Und wenn man auch den Zeitgeist nur so beeinflussen könnte, daß man bloß sagte, es sei jetzt einfach Morm oder auch nur Sitte, an jenen Aufgaben mitzuarbeiten und dementsprechend zu denken oder umgekehrt, dann ist das auch ein Mittel, das die Not der Zeit erlaubte. Aber es ist mehr; wir glauben wirklich so den tiefsten Willen Gottes an uns erhorcht zu haben: Gott will es! – Und wenn uns noch eines darin bestärken müßte, weil wir doch nicht allein gläubig ins Dunkle hineinarbeiten möchten, so ist es der Gedanke, daß unserm armen Deutschland wirklich nicht anders geholfen werden kann. Oder wissen wir etwas gegen das Wort zu sagen, daß das Volk siegreich aus dem Krieg hervorgehen wird, ganz gleich ob es den Krieg gewonnen hat oder nicht, dem es gelingt, sein Arbeitsverhältnis auf neue gesunde Grundlagen zu stellen? (Abderhalden). Und was bleibt uns anders übrig als die Hoffnung, durch unermüdliche Darlegung unsrer Not und unsrer Zukunft, unsres Rechtes und auch unsres Anteils an der Schuld der Welt das Gewissen der Besten in den andern Ländern zu wecken, damit das Joch auf unsrer Schulter zerbrochen werde? Diese Hoffnungen tun dem Glauben an jenen Willen Gottes gar keinen Eintrag; denn was ist sonst der Wille Gottes, wenn er nicht den Weg bedeutet, wie aus der tiefsten Wahrheit der Dinge heraus ein Volk und manchmal sogar schon der einzelne Mensch aus Not und Elend erhoben und auf einen festen Weg gestellt wird?\\r\\n      § 2.\\r\\n      Christentum und soziales Leben.\\r\\n      Uns geht hier nur die zweite Aufgabe an: die Gesinnungsmächte des Christentums in Bewegung zu setzen, um die innere Kluft schließen zu helfen, die in dem sozialen, genauer dem wirtschaftlichen Leben die Glieder des Volkes voneinander trennt. Diesem Versuch tritt sofort die Frage entgegen: Was haben denn diese beiden Dinge, das Christentum und dieses wirtschaftliche Leben miteinander zu tun? Wie ganz verschieden sind sie doch gerichtet! Wir geben dem ersten Eindruck von dieser verschiedenen Haltung ausführlicher Worte.\\r\\n      1. Es handelt sich doch in dem Leben der Wirtschaft, auf das Einfluß gewonnen werden soll, um bestimmte Gruppen von Menschen, vor allem um Arbeitgeber und Arbeitnehmer, oder anders gesagt, um Kapitalisten und Lohnarbeiter, um obere Klassen und Proletariat. Kraft der herrschenden Ordnung sind diese Gruppen so geworden und auch die Menschen in ihr, wie sie sind. Es ist alles, wie es scheint, auf die eine Frage eingestellt, wie man sein äußeres Leben erhält und steigert. Und offenbar stehn sie im Kampf miteinander, der in dem Grunde der ganzen Verhältnisse seine notwendige Ursache hat. Es handelt sich also um die elementaren menschlichen Bedürfnisse zunächst, also um Essen, Trinken, Wohnen, aber darüber hinaus auch um gut essen und gut leben überhaupt; dazu auch noch um Vergnügen und vielleicht um etwas von geistigern Dingen. Jedenfalls aber ist es Erde, ist es Welt, was den Bereich bildet, in dem sich alles derartige abspielt. Daran erinnert auch die Fülle der Dinge, die im wirtschaftlichen Leben die Hauptrolle spielen; man braucht nur einmal in den Anzeigenteil einer großen Zeitung zu blicken, um gewahr zu werden, worum es sich dabei handelt: Brot, Gemüse, Kleider, Steine, Leder, Eisen, Glas, Benzol, Oel, Maschinen, Automobile, Fabriken, große Anlagen und Werke, um Stickstoff, Elektrizität, Maschinen und anderes herzustellen. Es handelt sich also um die Erzeugung, den Vertrieb und den Verbrauch von Dingen dieser Welt, von Gütern, die zum Leben notwendig und nützlich sind. Darum bildet das Geld den Hauptfaktor auf dem ganzen Gebiet: Wert, Preis, Lohn, Profit, das sind die Worte, die am meisten gehört werden. \\r\\n\\r\\n\\r\\n',\n",
       " 'title': 'Evangelischer Sozialismus',\n",
       " 'genre': 'HUMA',\n",
       " 'period': 'P6',\n",
       " 'region': 'WMD',\n",
       " 'year': '1920'}"
      ]
     },
     "execution_count": 39,
     "metadata": {},
     "output_type": "execute_result"
    }
   ],
   "source": [
    "data[2]"
   ]
  },
  {
   "cell_type": "code",
   "execution_count": 81,
   "metadata": {},
   "outputs": [],
   "source": [
    "tagged_files = glob.glob('GermInnC Tagged/**/*.txt')"
   ]
  },
  {
   "cell_type": "code",
   "execution_count": 125,
   "metadata": {},
   "outputs": [],
   "source": [
    "import os\n",
    "\n",
    "tagged_data = []\n",
    "for file in tagged_files:\n",
    "    genre, period, region, year, title = os.path.basename(file).split('_')[:5]\n",
    "    tokens = []\n",
    "    pos_tags = []\n",
    "    lemmas = []\n",
    "    with open(file, 'r', encoding='UTF-8') as f:\n",
    "        for line in f:\n",
    "            line = line.rstrip()\n",
    "            try:\n",
    "                token, pos_tag, lemma = line.split('\\t')\n",
    "            except ValueError:\n",
    "                continue\n",
    "            tokens.append(token)\n",
    "            pos_tags.append(pos_tag)\n",
    "            lemmas.append(lemma)\n",
    "        \n",
    "    tagged_data.append({\n",
    "        'tokens': \" \".join(tokens),\n",
    "        'pos_tags': \" \".join(pos_tags),\n",
    "        'lemmas': \" \".join(lemmas),\n",
    "        'title': title,\n",
    "        'genre': genre,\n",
    "        'period': period,\n",
    "        'region': region,\n",
    "        'year': year\n",
    "    })"
   ]
  },
  {
   "cell_type": "code",
   "execution_count": 126,
   "metadata": {},
   "outputs": [
    {
     "data": {
      "text/plain": [
       "{'tokens': 'Lokales und Vermischtes . Der Kaiser in Breslau . Der Kaiser , der bekanntlich heute den Feierlichkeiten anläßlich der Vermählung der Gräfin Armgard zu Stolberg = Wernigerode mit dem Grafen Platen zu Hallermund in Landeshut beiwohnen wird , begibt sich gleich nach der Trauung nach Breslau , wo er heute Abend eintrifft . Der Kaiser wird sich , wie uns ein Privat = Telegramm aus Breslau meldet , sofort nach dem fürstbischhöflichen Palais begeben , um beim Kardinal Kopp das Souper einzunehmen . Die Rückreise des Kaisers nach Berlin erfolgt am Dienstag Nachmittag . – Die Kaiserin hat ihre Teilnahme an der Hochzeitsfeierlichkeit wegen leichter Unpäßlichkeit abgesagt . Gestern Vormittag wohnte der Kaiser dem Gottesdienst zu Potsdam bei und empfing um 12 ¾ Uhr den Staatsminister Budde . – Gestern Abend begab sich der Kaiser nach dem königlichen Schauspielhaus , um der Vorstellung von Blumenthals „ Mann wir altern “ und Rofstands „ Die Romantischen “ beizuwohnen . Im Schauspielhaus wurde das Souper eingenommen . Im Gefolge des Kaisers auf der Reise nach Schlesien werden sich befinden Oberhof = und Hausmarschall Graf zu Eulenburg , Generaladjutant General der Inferanterie Plessen , General à la suite Graf v. Moltke , Flügeladjutant Fregattenkapitän von Grumme , Generaladjutant Admiral Freiherr v. Senden = Bibrau , Chef des Marinenkabinetts , Generaladjutant Generalleutnant Graf v. Hülfen = Häfeler , Leibarzt Stabsarzt Dr. Niederer . Als Vertreter der Kaiserin , die , wie oben mitgeteilt , an der Reise nicht teilnimmt , werden in Landeshut Oberhofmeisterin Gräfin v. Brockdorff , Gräfin v. Keller , Fräulein v. Gersdorff und Kammerherr Vizeoberceremonienmeister v. d. Kuefebeck anwesend sein . Das neue Jagdrevier des Kaisers an der Nordbahn wird , wie jetzt festgesetzt ist , am 20 . Januar das vom Grunewald nach dem Oranienburger und Schönwalder Forst überführte Wild aufnehmen . Im nächsten Herbst werden die ersten Hofjagden im neuen Revier abgehalten werden . Seit einigen Tagen finden in dem dichten Waldgelände vielfach Ausforstungen statt , besonders in den an der Briefe gelegenen Waldgebieten . Der Forst untersteht zum größten Teile der Oberförsterei Schönwalde . Wie schon berichtet , soll die Nordbahn bis Oranienburg infolge der Verlegung der Hofjagden nun schneller , als geplant , viergleisig ausgebaut werden . Die Beisetzung von Friedrich v. Hefner = Alteneck , die gestern Nachmittags 2 Uhr auf dem alten Mathäus = Kirchhof in der Großgörschenstraße erfolgte , hatte eine zahlreiche Trauergemeinde in der mit Lorbeerbäumen und Cypressen dekorierten Friedhofskapelle versammelt . Unter den Trauergästen sah man Geheimrat Bödiker , Unterstaatssekretär Sydow vom Reichspostamt , den königlichen Münzdirektor Konrad sowie zahlreiche Angehörige der Allgemeinen Elektrizitätsgesellschaft , an ihrer Spitze Arnold v. Siemens . Nach einleitendem Gesang des Kirchenchors der Kaiser Wilhelm = Gedächtniskirche hielt Prediger Dr. D. Kirms die Gedenkrede .',\n",
       " 'pos_tags': 'NN KON NN $. ART NN APPR NE $. ART NN $, PRELS ADV ADV ART NN APPR ART NN ART NN NE APPR NN $( NN APPR ART NN NN APPR NN APPR NN VVINF VAFIN $, VVFIN PRF ADJD APPR ART NN APPR NE $, PWAV PPER ADV NN VVFIN $. ART NN VAFIN PRF $, KOUS PPER ART ADJD $( NN APPR NE VVFIN $, ADV APPR ART ADJA NN VVPP $, KOUI APPRART NN NE ART NN VVIZU $. ART NN ART NN APPR NE VVFIN APPRART NN NN $. $( ART NN VAFIN PPOSAT NN APPR ART NN APPR ADJA NN VVPP $. ADV NN VVFIN ART NN ART NN APPR NE PTKVZ KON VVFIN APPR CARD ADJA NN ART NN NN $. $( NN NN VVFIN PRF ART NN APPR ART ADJA NN $, KOUI ART NN APPR NN $( NN PPER VVINF $( KON NN $( ART NN $( VVIZU $. APPRART NN VAFIN ART NN VVPP $. APPRART NN ART NN APPR ART NN APPR NE VAFIN PRF VVFIN NN $( KON NN NE APPR NN $, NN NN ART NN NN $, NN FM FM ADJA NN APPR NE $, NN NN APPR NN $, NN NN NN APPR NN $( NN $, NN ART NN $, NN NN NE APPRART VVFIN $( NN $, NN NN NN NN $. KOKOM NN ART NN $, PRELS $, KOUS ADV VVPP $, APPR ART NN PTKNEG VVFIN $, VAFIN APPR NN NN NN APPR NN $, NN APPR NN $, NN APPR TRUNC KON NN NN APPR ART NN ADJD VAINF $. ART ADJA NN ART NN APPR ART NN VAFIN $, KOUS ADV VVPP VAFIN $, APPRART CARD $. NN ART APPRART NN APPR ART NN KON NN NN ADJA NN VVFIN $. APPRART ADJA NN VAFIN ART ADJA NN APPRART ADJA NN VVPP VAINF $. APPR PIAT NN VVFIN APPR ART ADJA NN ADV NN PTKVZ $, ADV APPR ART APPR ART NN ADJA NN $. ART NN VVFIN APPRART ADJA NN ART NN NN $. KOKOM ADV VVFIN $, VMFIN ART NN APPR NE APPR ART NN ART NN ADV ADJD $, KOKOM VVPP $, ADJD VVPP VAFIN $. ART NN APPR NE APPR NN $( NN $, PRELS ADV NN CARD NN APPR ART ADJA NE $( NN APPR ART NN VVFIN $, VAFIN ART ADJA NN APPR ART APPR NN KON NN ADJA NN VVPP $. APPR ART NN VVFIN PIS NN NN $, NN NE APPRART NN $, ART ADJA NN NE KON ADJA NN ART NN NN $, APPR PPOSAT NN NE APPR NE $. APPR ADJA NN ART NN ART NE NE $( NN VVFIN NN NN NE NN ART NN $.',\n",
       " 'lemmas': 'Lokale und Vermischte . die Kaiser in Breslau . die Kaiser , die bekanntlich heute die Feierlichkeit anlässlich die Vermählung die Gräfin Armgard zu Stolberg = Wernigerode mit die Graf Platen zu Hallermund in Landeshut beiwohnen werden , begeben sich gleich nach die Trauung nach Breslau , wo er heute Abend eintreffen . die Kaiser werden sich , wie wir eine privat = Telegramm aus Breslau melden , sofort nach die fürstbischhöflichen Palais begeben , um bei+die Kardinal Kopp die Souper einnehmen . die Rückreise die Kaiser nach Berlin erfolgen an+die Dienstag Nachmittag . - die Kaiserin haben ihr Teilnahme an die Hochzeitsfeierlichkeit wegen leicht Unpässlichkeit absagen . gestern Vormittag wohnen die Kaiser die Gottesdienst zu Potsdam bei und empfangen um @card@ ¾ Uhr die Staatsminister Budde . - Gestern Abend begeben sich die Kaiser nach die königlich Schauspielhaus , um die Vorstellung von Blumenthals „ Mann wir altern “ und Rofstands „ die Romantische “ beiwohnen . in+die Schauspielhaus werden die Souper einnehmen . in+die Gefolge die Kaiser auf die Reise nach Schlesien werden sich befinden Oberhof = und Hausmarschall Graf zu Eulenburg , Generaladjutant General die Inferanterie Plessen , General à la suite Graf von Moltke , Flügeladjutant Fregattenkapitän von Grumme , Generaladjutant Admiral Freiherr von Senden = Bibrau , Chef die Marinenkabinetts , Generaladjutant Generalleutnant Graf von+die helfen = Häfeler , Leibarzt Stabsarzt Dr. Niedere . als Vertreter die Kaiserin , die , wie oben mitteilen , an die Reise nicht teilnehmen , werden in Landeshut Oberhofmeisterin Gräfin von Brockdorff , Gräfin von Keller , Fräulein von Gersdorff und Kammerherr Vizeoberceremonienmeister von d. Kuefebeck anwesend sein . die neu Jagdrevier die Kaiser an die Nordbahn werden , wie jetzt festsetzen sein , an+die @card@ . Januar die von+die Grunewald nach die Oranienburger und Schönwalder Forst überführt Wild aufnehmen . in+die nah Herbst werden die erst Hofjagden in+die neu Revier abhalten werden . seit einige Tag finden in die dicht Waldgelände vielfach Ausforstungen statt , besonders in die an die Brief gelegen Waldgebiet . die Forst unterstehen zu+die groß Teil die Oberförsterei Schönwald . wie schon berichten , sollen die Nordbahn bis Oranienburg infolge die Verlegung die Hofjagden nun schnell , als planen , viergleisig ausbauen werden . die Beisetzung von Friedrich von Hefner = Alteneck , die gestern Nachmittags @card@ Uhr auf die alt Mathäus = Kirchhof in die Großgörschenstraße erfolgen , haben eine zahlreich Trauergemeinde in die mit Lorbeerbaum und Cypressen dekoriert Friedhofskapelle versammeln . unter die Trauergast sehen man Geheimrat Bödiker , Unterstaatssekretär Sydow von+die Reichspostamt , die königlich Münzdirektor Konrad sowie zahlreich Angehörige die Allgemeine Elektrizitätsgesellschaft , an ihr Spitze Arnold von Siemens . nach einleitend Gesang die Kirchenchor die Kaiser Wilhelm = Gedächtniskirche halten Prediger Dr. D. Kirms die Gedenkrede .',\n",
       " 'title': 'Berliner',\n",
       " 'genre': 'NEWS',\n",
       " 'period': 'P6',\n",
       " 'region': 'NoD',\n",
       " 'year': '1904'}"
      ]
     },
     "execution_count": 126,
     "metadata": {},
     "output_type": "execute_result"
    }
   ],
   "source": [
    "tagged_data[0]"
   ]
  },
  {
   "cell_type": "code",
   "execution_count": 127,
   "metadata": {},
   "outputs": [],
   "source": [
    "import pandas as pd\n",
    "\n",
    "df = pd.DataFrame.from_dict(tagged_data)\n",
    "df.to_csv('tagged_dataset.csv', encoding='UTF-8')"
   ]
  },
  {
   "cell_type": "code",
   "execution_count": null,
   "metadata": {},
   "outputs": [],
   "source": []
  }
 ],
 "metadata": {
  "kernelspec": {
   "display_name": "Python [conda env:nlp]",
   "language": "python",
   "name": "conda-env-nlp-py"
  },
  "language_info": {
   "codemirror_mode": {
    "name": "ipython",
    "version": 3
   },
   "file_extension": ".py",
   "mimetype": "text/x-python",
   "name": "python",
   "nbconvert_exporter": "python",
   "pygments_lexer": "ipython3",
   "version": "3.7.5"
  }
 },
 "nbformat": 4,
 "nbformat_minor": 2
}
