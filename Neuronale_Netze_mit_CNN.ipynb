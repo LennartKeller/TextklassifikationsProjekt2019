{
  "nbformat": 4,
  "nbformat_minor": 0,
  "metadata": {
    "colab": {
      "name": "Neuronale Netze mit CNN",
      "provenance": [],
      "collapsed_sections": [],
      "authorship_tag": "ABX9TyPsLuGe3IZPI0TSg3MrDP77",
      "include_colab_link": true
    },
    "kernelspec": {
      "name": "python3",
      "display_name": "Python 3"
    },
    "accelerator": "GPU"
  },
  "cells": [
    {
      "cell_type": "markdown",
      "metadata": {
        "id": "view-in-github",
        "colab_type": "text"
      },
      "source": [
        "<a href=\"https://colab.research.google.com/github/LennartKeller/TextklassifikationsProjekt2019/blob/master/Neuronale_Netze_mit_CNN.ipynb\" target=\"_parent\"><img src=\"https://colab.research.google.com/assets/colab-badge.svg\" alt=\"Open In Colab\"/></a>"
      ]
    },
    {
      "cell_type": "code",
      "metadata": {
        "id": "4fTldI1q28Rf",
        "colab_type": "code",
        "colab": {}
      },
      "source": [
        "from __future__ import print_function\n",
        "from keras.preprocessing import sequence\n",
        "from keras.models import Sequential\n",
        "from keras.layers import Dense, Dropout, Activation\n",
        "from keras.layers import Embedding\n",
        "from keras.layers import Conv1D, GlobalMaxPooling1D\n",
        "from keras.datasets import imdb\n",
        "import numpy as np\n",
        "import pandas as pd\n",
        "import time\n",
        "from scipy.stats import pearsonr\n"
      ],
      "execution_count": 0,
      "outputs": []
    },
    {
      "cell_type": "code",
      "metadata": {
        "id": "ORi4ubskB2-I",
        "colab_type": "code",
        "colab": {}
      },
      "source": [
        "from keras.models import Sequential\n",
        "from keras.layers import *\n",
        "from keras.layers import Embedding\n",
        "from keras.layers import Conv1D, GlobalMaxPooling1D, MaxPooling1D\n",
        "from keras.preprocessing.text import Tokenizer\n",
        "from keras.preprocessing import sequence\n",
        "from sklearn.preprocessing import LabelEncoder\n",
        "import time\n",
        "from keras import metrics\n",
        "from keras.utils import to_categorical"
      ],
      "execution_count": 0,
      "outputs": []
    },
    {
      "cell_type": "code",
      "metadata": {
        "id": "hhU-J68N3zq1",
        "colab_type": "code",
        "outputId": "1e49f9a0-5765-4927-ce61-6fd0f835a5b3",
        "colab": {
          "base_uri": "https://localhost:8080/",
          "height": 35
        }
      },
      "source": [
        "from google.colab import drive\n",
        "\n",
        "drive.mount('/content/gdrive')"
      ],
      "execution_count": 896,
      "outputs": [
        {
          "output_type": "stream",
          "text": [
            "Drive already mounted at /content/gdrive; to attempt to forcibly remount, call drive.mount(\"/content/gdrive\", force_remount=True).\n"
          ],
          "name": "stdout"
        }
      ]
    },
    {
      "cell_type": "code",
      "metadata": {
        "id": "ymitEtGi34W2",
        "colab_type": "code",
        "colab": {}
      },
      "source": [
        "df = pd.read_csv('/content/gdrive/My Drive/full_taggeddataset.csv')"
      ],
      "execution_count": 0,
      "outputs": []
    },
    {
      "cell_type": "code",
      "metadata": {
        "id": "jCiKbXec7dJ8",
        "colab_type": "code",
        "outputId": "4ff10550-1443-46d0-f541-353641146ab8",
        "colab": {
          "base_uri": "https://localhost:8080/",
          "height": 237
        }
      },
      "source": [
        "#df_train, df_test = train_test_split(df[df.period == 'P1'], random_state=42, test_size=0.1)\n",
        "\n",
        "\n",
        "\n",
        "#le = LabelEncoder()\n",
        "#cl_train = le.fit_transform(df_train.lemmas)\n",
        "#cl_test = le.fit_transform(df_test.lemmas)\n",
        "\n",
        "#cg_train = le.fit_transform(df_train.genre)\n",
        "#cg_test = le.fit_transform(df_test.genre)\n",
        "\n",
        "\n",
        "\n",
        "#x_train = num_samples(x_train)\n",
        "#x_test = num_samples(x_test)\n",
        "\n",
        "\n",
        "df.lemmas"
      ],
      "execution_count": 898,
      "outputs": [
        {
          "output_type": "execute_result",
          "data": {
            "text/plain": [
              "0      so kommen ihr die Löwritter schwermütig vor ? ...\n",
              "1      arm Herz / lassen ab zu hoffen / weil die glüc...\n",
              "2      ach / ich sein schon so müde / die ich kaum me...\n",
              "3      so sein ! er lassen ich hoch und überhoch bela...\n",
              "4      vertraute Charmium / dies sein -- Lebens-Höle ...\n",
              "                             ...                        \n",
              "655    Kamerad ! daheim in die Silvester = Gottesdien...\n",
              "656    eine jede Uebergang in die Leben haben sein be...\n",
              "657    andächtig Christ , Geliebte in die Herr ! als ...\n",
              "658    darum wollen wir mit getroster Zuversicht er b...\n",
              "659    die Eingliederung unser evang. Jugendverein in...\n",
              "Name: lemmas, Length: 660, dtype: object"
            ]
          },
          "metadata": {
            "tags": []
          },
          "execution_count": 898
        }
      ]
    },
    {
      "cell_type": "code",
      "metadata": {
        "id": "3WBzFH4THXwQ",
        "colab_type": "code",
        "colab": {}
      },
      "source": [
        "df_train = df[df.period == 'P1']\n",
        "df_test = df[df.period != 'P1']\n",
        "\n",
        "x_train = df_train.lemmas\n",
        "y_train = df_train.genre\n",
        "\n",
        "x_test = df_test.lemmas\n",
        "y_test = df_test.genre"
      ],
      "execution_count": 0,
      "outputs": []
    },
    {
      "cell_type": "code",
      "metadata": {
        "id": "mTXpFQjs4Brd",
        "colab_type": "code",
        "outputId": "e4545148-3627-45c4-95bd-dec4d7bc7fb9",
        "colab": {
          "base_uri": "https://localhost:8080/",
          "height": 164
        }
      },
      "source": [
        "max_len = 1000\n",
        "num_max = 5000\n",
        "# preprocess\n",
        "le = LabelEncoder()\n",
        "tags_train = le.fit_transform(df_train.genre)\n",
        "tags_test = le.fit_transform(df_test.genre)\n",
        "tok = Tokenizer(num_words=num_max)\n",
        "tok.fit_on_texts(df_train.lemmas)\n",
        "\n",
        "\n",
        "seq_texts_train = tok.texts_to_sequences(df_train.lemmas)\n",
        "seq_texts_test = tok.texts_to_sequences(df_test.lemmas)\n",
        "word_index = tok.word_index\n",
        "print('Found %s unique tokens.' % len(word_index))\n",
        "cnn_texts_seq_train = sequence.pad_sequences(seq_texts_train,maxlen=max_len)\n",
        "cnn_texts_seq_test = sequence.pad_sequences(seq_texts_test,maxlen=max_len)\n",
        "np.unique(tags_train)\n",
        "\n",
        "tags_train = to_categorical(tags_train)\n",
        "tags_test = to_categorical(tags_test)\n",
        "\n",
        "\n",
        "tags_test"
      ],
      "execution_count": 900,
      "outputs": [
        {
          "output_type": "stream",
          "text": [
            "Found 20861 unique tokens.\n"
          ],
          "name": "stdout"
        },
        {
          "output_type": "execute_result",
          "data": {
            "text/plain": [
              "array([[1., 0., 0., 0., 0., 0.],\n",
              "       [1., 0., 0., 0., 0., 0.],\n",
              "       [1., 0., 0., 0., 0., 0.],\n",
              "       ...,\n",
              "       [0., 0., 0., 0., 0., 1.],\n",
              "       [0., 0., 0., 0., 0., 1.],\n",
              "       [0., 0., 0., 0., 0., 1.]], dtype=float32)"
            ]
          },
          "metadata": {
            "tags": []
          },
          "execution_count": 900
        }
      ]
    },
    {
      "cell_type": "code",
      "metadata": {
        "id": "nVtebBym4xCL",
        "colab_type": "code",
        "colab": {
          "base_uri": "https://localhost:8080/",
          "height": 1000
        },
        "outputId": "0653198a-b803-450f-de6a-9808e90c3cde"
      },
      "source": [
        "from keras.optimizers import SGD\n",
        "\n",
        "def get_cnn_model_v1(n_classes, hiddenlayer_size=500, n_hiddenlayer=0):   \n",
        "    model = Sequential()\n",
        "    # we start off with an efficient embedding layer which maps\n",
        "    # our vocab indices into embedding_dims dimensions\n",
        "    # 1000 is num_max\n",
        "    model.add(Embedding(input_dim=1000,\n",
        "                        output_dim=50,\n",
        "                        input_length=max_len))\n",
        "    #model.add(Dropout(0.5))\n",
        "    model.add(Conv1D(filters=16,\n",
        "                     kernel_size=3,\n",
        "                     padding='same',\n",
        "                     activation='linear'))\n",
        "    model.add(SpatialDropout1D(0.5))\n",
        "    model.add(MaxPooling1D(strides=30))\n",
        "    model.add(LSTM(units=16, return_sequences=True))\n",
        "    model.add(Flatten())\n",
        "    model.add(Dense(64, activation='relu'))\n",
        "    model.add(Dropout(0.5))\n",
        "    for i in range(n_hiddenlayer):\n",
        "        model.add(Dense(hiddenlayer_size, activation='relu'))\n",
        "        model.add(Dropout(0.5))\n",
        "    model.add(Dense(n_classes, activation='softmax'))\n",
        "    model.summary()\n",
        "    #sgd = SGD(lr=0.001, momentum=0.9, nesterov=True)\n",
        "    model.compile(loss='categorical_crossentropy',\n",
        "                  optimizer='rmsprop',\n",
        "                  metrics=['acc'])\n",
        "    return model\n",
        "\n",
        "model = get_cnn_model_v1(n_classes=len(np.unique(le.classes_)))\n",
        "history = model.fit(cnn_texts_seq_train,tags_train,batch_size=64,epochs=20,verbose=1,validation_data=(cnn_texts_seq_test, tags_test))"
      ],
      "execution_count": 901,
      "outputs": [
        {
          "output_type": "stream",
          "text": [
            "Model: \"sequential_87\"\n",
            "_________________________________________________________________\n",
            "Layer (type)                 Output Shape              Param #   \n",
            "=================================================================\n",
            "embedding_87 (Embedding)     (None, 1000, 50)          50000     \n",
            "_________________________________________________________________\n",
            "conv1d_87 (Conv1D)           (None, 1000, 16)          2416      \n",
            "_________________________________________________________________\n",
            "spatial_dropout1d_44 (Spatia (None, 1000, 16)          0         \n",
            "_________________________________________________________________\n",
            "max_pooling1d_48 (MaxPooling (None, 34, 16)            0         \n",
            "_________________________________________________________________\n",
            "lstm_6 (LSTM)                (None, 34, 16)            2112      \n",
            "_________________________________________________________________\n",
            "flatten_47 (Flatten)         (None, 544)               0         \n",
            "_________________________________________________________________\n",
            "dense_144 (Dense)            (None, 256)               139520    \n",
            "_________________________________________________________________\n",
            "dropout_127 (Dropout)        (None, 256)               0         \n",
            "_________________________________________________________________\n",
            "dense_145 (Dense)            (None, 6)                 1542      \n",
            "=================================================================\n",
            "Total params: 195,590\n",
            "Trainable params: 195,590\n",
            "Non-trainable params: 0\n",
            "_________________________________________________________________\n",
            "Train on 90 samples, validate on 570 samples\n",
            "Epoch 1/20\n",
            "90/90 [==============================] - 8s 88ms/step - loss: 1.7924 - acc: 0.1000 - val_loss: 1.7919 - val_acc: 0.1702\n",
            "Epoch 2/20\n",
            "90/90 [==============================] - 0s 3ms/step - loss: 1.7913 - acc: 0.2111 - val_loss: 1.7919 - val_acc: 0.1702\n",
            "Epoch 3/20\n",
            "90/90 [==============================] - 0s 4ms/step - loss: 1.7902 - acc: 0.2000 - val_loss: 1.7919 - val_acc: 0.1702\n",
            "Epoch 4/20\n",
            "90/90 [==============================] - 0s 5ms/step - loss: 1.7910 - acc: 0.2333 - val_loss: 1.7919 - val_acc: 0.1649\n",
            "Epoch 5/20\n",
            "90/90 [==============================] - 0s 4ms/step - loss: 1.7875 - acc: 0.2111 - val_loss: 1.7919 - val_acc: 0.1667\n",
            "Epoch 6/20\n",
            "90/90 [==============================] - 0s 4ms/step - loss: 1.7900 - acc: 0.1667 - val_loss: 1.7919 - val_acc: 0.1649\n",
            "Epoch 7/20\n",
            "90/90 [==============================] - 0s 3ms/step - loss: 1.7934 - acc: 0.1556 - val_loss: 1.7919 - val_acc: 0.1614\n",
            "Epoch 8/20\n",
            "90/90 [==============================] - 0s 3ms/step - loss: 1.7933 - acc: 0.1444 - val_loss: 1.7919 - val_acc: 0.1561\n",
            "Epoch 9/20\n",
            "90/90 [==============================] - 0s 4ms/step - loss: 1.7844 - acc: 0.2889 - val_loss: 1.7919 - val_acc: 0.1526\n",
            "Epoch 10/20\n",
            "90/90 [==============================] - 0s 4ms/step - loss: 1.7881 - acc: 0.2222 - val_loss: 1.7918 - val_acc: 0.1561\n",
            "Epoch 11/20\n",
            "90/90 [==============================] - 0s 4ms/step - loss: 1.7905 - acc: 0.1889 - val_loss: 1.7919 - val_acc: 0.1579\n",
            "Epoch 12/20\n",
            "90/90 [==============================] - 0s 4ms/step - loss: 1.7936 - acc: 0.0889 - val_loss: 1.7919 - val_acc: 0.1596\n",
            "Epoch 13/20\n",
            "90/90 [==============================] - 0s 3ms/step - loss: 1.7898 - acc: 0.2000 - val_loss: 1.7919 - val_acc: 0.1579\n",
            "Epoch 14/20\n",
            "90/90 [==============================] - 0s 3ms/step - loss: 1.7920 - acc: 0.2111 - val_loss: 1.7919 - val_acc: 0.1632\n",
            "Epoch 15/20\n",
            "90/90 [==============================] - 0s 3ms/step - loss: 1.7894 - acc: 0.1222 - val_loss: 1.7919 - val_acc: 0.1561\n",
            "Epoch 16/20\n",
            "90/90 [==============================] - 0s 4ms/step - loss: 1.7904 - acc: 0.2000 - val_loss: 1.7919 - val_acc: 0.1596\n",
            "Epoch 17/20\n",
            "90/90 [==============================] - 0s 3ms/step - loss: 1.7948 - acc: 0.2000 - val_loss: 1.7919 - val_acc: 0.1474\n",
            "Epoch 18/20\n",
            "90/90 [==============================] - 0s 3ms/step - loss: 1.7959 - acc: 0.1444 - val_loss: 1.7919 - val_acc: 0.1491\n",
            "Epoch 19/20\n",
            "90/90 [==============================] - 0s 4ms/step - loss: 1.7921 - acc: 0.1111 - val_loss: 1.7919 - val_acc: 0.1474\n",
            "Epoch 20/20\n",
            "90/90 [==============================] - 0s 4ms/step - loss: 1.7887 - acc: 0.1778 - val_loss: 1.7919 - val_acc: 0.1491\n"
          ],
          "name": "stdout"
        }
      ]
    },
    {
      "cell_type": "code",
      "metadata": {
        "id": "_Nc05wwM4zml",
        "colab_type": "code",
        "colab": {}
      },
      "source": [
        "import matplotlib.pyplot as plt\n",
        "\n",
        "def plot_results(history):\n",
        "    loss = history.history[\"loss\"]\n",
        "    val_loss = history.history[\"val_loss\"]\n",
        "\n",
        "    epochs = range(1, len(loss) + 1)\n",
        "\n",
        "    plt.plot(epochs, loss, \"b\", label=\"Training loss\")\n",
        "    plt.plot(epochs, val_loss, \"ro\", label=\"Validation loss\")\n",
        "    plt.title(\"Training and validation loss\")\n",
        "    plt.xlabel(\"Epochs\")\n",
        "    plt.ylabel(\"Loss\")\n",
        "    plt.legend()\n",
        "\n",
        "    plt.show()\n",
        "\n",
        "    plt.clf() #clears the figure\n",
        "\n",
        "    acc = history.history[\"acc\"]\n",
        "    val_acc = history.history[\"val_acc\"]\n",
        "\n",
        "    plt.plot(epochs, acc, \"b\", label=\"Training acc\")\n",
        "    plt.plot(epochs, val_acc, \"ro\", label=\"Validation acc\")\n",
        "    plt.title(\"Training and validation accuracy\")\n",
        "    plt.xlabel(\"Epochs\")\n",
        "    plt.ylabel(\"Acc\")\n",
        "    plt.legend()\n",
        "\n",
        "    plt.show()"
      ],
      "execution_count": 0,
      "outputs": []
    },
    {
      "cell_type": "code",
      "metadata": {
        "id": "8WizF4mA5blD",
        "colab_type": "code",
        "colab": {
          "base_uri": "https://localhost:8080/",
          "height": 573
        },
        "outputId": "b46b7efe-e89e-460f-cf24-ee78f1b228af"
      },
      "source": [
        "plot_results(history)\n"
      ],
      "execution_count": 903,
      "outputs": [
        {
          "output_type": "display_data",
          "data": {
            "image/png": "[encoded data removed]",
            "text/plain": [
              "<Figure size 432x288 with 1 Axes>"
            ]
          },
          "metadata": {
            "tags": []
          }
        },
        {
          "output_type": "display_data",
          "data": {
            "image/png": "[encoded data removed]",
            "text/plain": [
              "<Figure size 432x288 with 1 Axes>"
            ]
          },
          "metadata": {
            "tags": []
          }
        }
      ]
    },
    {
      "cell_type": "code",
      "metadata": {
        "id": "bd5bWRJN6Diy",
        "colab_type": "code",
        "colab": {}
      },
      "source": [
        ""
      ],
      "execution_count": 0,
      "outputs": []
    },
    {
      "cell_type": "code",
      "metadata": {
        "id": "uYgJXyJ36gG7",
        "colab_type": "code",
        "colab": {}
      },
      "source": [
        ""
      ],
      "execution_count": 0,
      "outputs": []
    },
    {
      "cell_type": "code",
      "metadata": {
        "id": "zf--Ndvn7Nh6",
        "colab_type": "code",
        "colab": {}
      },
      "source": [
        ""
      ],
      "execution_count": 0,
      "outputs": []
    }
  ]
}