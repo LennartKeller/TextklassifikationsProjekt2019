{
  "nbformat": 4,
  "nbformat_minor": 0,
  "metadata": {
    "colab": {
      "name": "Neuronale Netze mit CNN",
      "provenance": [],
      "collapsed_sections": [],
      "authorship_tag": "ABX9TyO5S86+zZBsVed5ARJVD5Vm",
      "include_colab_link": true
    },
    "kernelspec": {
      "name": "python3",
      "display_name": "Python 3"
    },
    "accelerator": "GPU"
  },
  "cells": [
    {
      "cell_type": "markdown",
      "metadata": {
        "id": "view-in-github",
        "colab_type": "text"
      },
      "source": [
        "<a href=\"https://colab.research.google.com/github/LennartKeller/TextklassifikationsProjekt2019/blob/master/Neuronale_Netze_mit_CNN_1.0.ipynb\" target=\"_parent\"><img src=\"https://colab.research.google.com/assets/colab-badge.svg\" alt=\"Open In Colab\"/></a>"
      ]
    },
    {
      "cell_type": "code",
      "metadata": {
        "id": "4fTldI1q28Rf",
        "colab_type": "code",
        "colab": {}
      },
      "source": [
        "from __future__ import print_function\n",
        "from keras.preprocessing import sequence\n",
        "from keras.models import Sequential\n",
        "from keras.layers import Dense, Dropout, Activation\n",
        "from keras.layers import Embedding\n",
        "from keras.layers import Conv1D, GlobalMaxPooling1D\n",
        "from keras.datasets import imdb\n",
        "import numpy as np\n",
        "import pandas as pd\n",
        "import time\n",
        "from scipy.stats import pearsonr\n"
      ],
      "execution_count": 0,
      "outputs": []
    },
    {
      "cell_type": "code",
      "metadata": {
        "id": "ORi4ubskB2-I",
        "colab_type": "code",
        "colab": {}
      },
      "source": [
        "from keras.models import Sequential\n",
        "from keras.layers import *\n",
        "from keras.layers import Embedding\n",
        "from keras.layers import Conv1D, GlobalMaxPooling1D, MaxPooling1D\n",
        "from keras.preprocessing.text import Tokenizer\n",
        "from keras.preprocessing import sequence\n",
        "from sklearn.preprocessing import LabelEncoder\n",
        "import time\n",
        "from keras import metrics\n",
        "from keras.utils import to_categorical"
      ],
      "execution_count": 0,
      "outputs": []
    },
    {
      "cell_type": "code",
      "metadata": {
        "id": "hhU-J68N3zq1",
        "colab_type": "code",
        "outputId": "d53df4f7-9dde-4a65-93b6-05fe2e7f46f9",
        "colab": {
          "base_uri": "https://localhost:8080/",
          "height": 35
        }
      },
      "source": [
        "from google.colab import drive\n",
        "\n",
        "drive.mount('/content/gdrive')"
      ],
      "execution_count": 1612,
      "outputs": [
        {
          "output_type": "stream",
          "text": [
            "Drive already mounted at /content/gdrive; to attempt to forcibly remount, call drive.mount(\"/content/gdrive\", force_remount=True).\n"
          ],
          "name": "stdout"
        }
      ]
    },
    {
      "cell_type": "code",
      "metadata": {
        "id": "ymitEtGi34W2",
        "colab_type": "code",
        "colab": {}
      },
      "source": [
        "df = pd.read_csv('/content/gdrive/My Drive/full_taggeddataset.csv')"
      ],
      "execution_count": 0,
      "outputs": []
    },
    {
      "cell_type": "code",
      "metadata": {
        "id": "jCiKbXec7dJ8",
        "colab_type": "code",
        "outputId": "6a7b9f4f-8b95-4114-a220-dbff1dc5bd3e",
        "colab": {
          "base_uri": "https://localhost:8080/",
          "height": 237
        }
      },
      "source": [
        "#df_train, df_test = train_test_split(df[df.period == 'P1'], random_state=42, test_size=0.1)\n",
        "\n",
        "\n",
        "\n",
        "#le = LabelEncoder()\n",
        "#cl_train = le.fit_transform(df_train.lemmas)\n",
        "#cl_test = le.fit_transform(df_test.lemmas)\n",
        "\n",
        "#cg_train = le.fit_transform(df_train.genre)\n",
        "#cg_test = le.fit_transform(df_test.genre)\n",
        "\n",
        "\n",
        "\n",
        "#x_train = num_samples(x_train)\n",
        "#x_test = num_samples(x_test)\n",
        "\n",
        "\n",
        "df.lemmas"
      ],
      "execution_count": 1614,
      "outputs": [
        {
          "output_type": "execute_result",
          "data": {
            "text/plain": [
              "0      so kommen ihr die Löwritter schwermütig vor ? ...\n",
              "1      arm Herz / lassen ab zu hoffen / weil die glüc...\n",
              "2      ach / ich sein schon so müde / die ich kaum me...\n",
              "3      so sein ! er lassen ich hoch und überhoch bela...\n",
              "4      vertraute Charmium / dies sein -- Lebens-Höle ...\n",
              "                             ...                        \n",
              "655    Kamerad ! daheim in die Silvester = Gottesdien...\n",
              "656    eine jede Uebergang in die Leben haben sein be...\n",
              "657    andächtig Christ , Geliebte in die Herr ! als ...\n",
              "658    darum wollen wir mit getroster Zuversicht er b...\n",
              "659    die Eingliederung unser evang. Jugendverein in...\n",
              "Name: lemmas, Length: 660, dtype: object"
            ]
          },
          "metadata": {
            "tags": []
          },
          "execution_count": 1614
        }
      ]
    },
    {
      "cell_type": "code",
      "metadata": {
        "id": "3WBzFH4THXwQ",
        "colab_type": "code",
        "colab": {}
      },
      "source": [
        "df_train = df[df.period == 'P1']\n",
        "df_test = df[df.period != 'P1']\n",
        "\n",
        "x_train = df_train.lemmas\n",
        "y_train = df_train.genre\n",
        "\n",
        "x_test = df_test.lemmas\n",
        "y_test = df_test.genre"
      ],
      "execution_count": 0,
      "outputs": []
    },
    {
      "cell_type": "code",
      "metadata": {
        "id": "mTXpFQjs4Brd",
        "colab_type": "code",
        "outputId": "32ed26ab-69f1-480b-f9a3-d6762b6331aa",
        "colab": {
          "base_uri": "https://localhost:8080/",
          "height": 164
        }
      },
      "source": [
        "max_len = 1000\n",
        "num_max = 5000\n",
        "# preprocess\n",
        "tags_test_RAW = df_test.genre\n",
        "le = LabelEncoder()\n",
        "tags_train = le.fit_transform(df_train.genre)\n",
        "tags_test = le.fit_transform(df_test.genre)\n",
        "tok = Tokenizer(num_words=num_max)\n",
        "tok.fit_on_texts(df_train.lemmas)\n",
        "\n",
        "\n",
        "seq_texts_train = tok.texts_to_sequences(df_train.lemmas)\n",
        "seq_texts_test = tok.texts_to_sequences(df_test.lemmas)\n",
        "word_index = tok.word_index\n",
        "print('Found %s unique tokens.' % len(word_index))\n",
        "cnn_texts_seq_train = sequence.pad_sequences(seq_texts_train,maxlen=max_len)\n",
        "cnn_texts_seq_test = sequence.pad_sequences(seq_texts_test,maxlen=max_len)\n",
        "np.unique(tags_train)\n",
        "tt=tags_test\n",
        "tags_train = to_categorical(tags_train)\n",
        "tags_test = to_categorical(tags_test)\n",
        "\n",
        "\n",
        "tags_test"
      ],
      "execution_count": 1616,
      "outputs": [
        {
          "output_type": "stream",
          "text": [
            "Found 20861 unique tokens.\n"
          ],
          "name": "stdout"
        },
        {
          "output_type": "execute_result",
          "data": {
            "text/plain": [
              "array([[1., 0., 0., 0., 0., 0.],\n",
              "       [1., 0., 0., 0., 0., 0.],\n",
              "       [1., 0., 0., 0., 0., 0.],\n",
              "       ...,\n",
              "       [0., 0., 0., 0., 0., 1.],\n",
              "       [0., 0., 0., 0., 0., 1.],\n",
              "       [0., 0., 0., 0., 0., 1.]], dtype=float32)"
            ]
          },
          "metadata": {
            "tags": []
          },
          "execution_count": 1616
        }
      ]
    },
    {
      "cell_type": "code",
      "metadata": {
        "id": "nVtebBym4xCL",
        "colab_type": "code",
        "colab": {
          "base_uri": "https://localhost:8080/",
          "height": 1000
        },
        "outputId": "4e7ca20b-c3fd-4bb7-c01a-abd3f56be002"
      },
      "source": [
        "from keras.optimizers import SGD\n",
        "\n",
        "def get_cnn_model_v1(n_classes, hiddenlayer_size=500, n_hiddenlayer=0):   \n",
        "    model = Sequential()\n",
        "    # we start off with an efficient embedding layer which maps\n",
        "    # our vocab indices into embedding_dims dimensions\n",
        "    # 1000 is num_max\n",
        "    model.add(Embedding(input_dim=21,\n",
        "                        output_dim=50,\n",
        "                        input_length=max_len))\n",
        "    #model.add(Dropout(0.5))\n",
        "    model.add(Conv1D(filters=8,\n",
        "                     kernel_size=3,\n",
        "                     padding='same',\n",
        "                     activation='linear'))\n",
        "    model.add(SpatialDropout1D(0.5))\n",
        "    model.add(MaxPooling1D(strides=23))\n",
        "    model.add(LSTM(units=16, return_sequences=True))\n",
        "    model.add(Flatten())\n",
        "    model.add(Dense(58, activation='relu'))\n",
        "    model.add(Dropout(0.5))\n",
        "    for i in range(n_hiddenlayer):\n",
        "        model.add(Dense(hiddenlayer_size, activation='relu'))\n",
        "        model.add(Dropout(0.5))\n",
        "    model.add(Dense(n_classes, activation='softmax'))\n",
        "    model.summary()\n",
        "    #sgd = SGD(lr=0.001, momentum=0.9, nesterov=True)\n",
        "    model.compile(loss='categorical_crossentropy',\n",
        "                  optimizer='rmsprop',\n",
        "                  metrics=['acc'])\n",
        "    return model\n",
        "\n",
        "model = get_cnn_model_v1(n_classes=len(np.unique(le.classes_)))\n",
        "history = model.fit(cnn_texts_seq_train,tags_train,batch_size=84,epochs=50,verbose=1,validation_split=0.3)#validation_data=(cnn_texts_seq_test, tags_test))"
      ],
      "execution_count": 1617,
      "outputs": [
        {
          "output_type": "stream",
          "text": [
            "Model: \"sequential_156\"\n",
            "_________________________________________________________________\n",
            "Layer (type)                 Output Shape              Param #   \n",
            "=================================================================\n",
            "embedding_156 (Embedding)    (None, 1000, 50)          1050      \n",
            "_________________________________________________________________\n",
            "conv1d_156 (Conv1D)          (None, 1000, 8)           1208      \n",
            "_________________________________________________________________\n",
            "spatial_dropout1d_113 (Spati (None, 1000, 8)           0         \n",
            "_________________________________________________________________\n",
            "max_pooling1d_117 (MaxPoolin (None, 44, 8)             0         \n",
            "_________________________________________________________________\n",
            "lstm_75 (LSTM)               (None, 44, 16)            1600      \n",
            "_________________________________________________________________\n",
            "flatten_116 (Flatten)        (None, 704)               0         \n",
            "_________________________________________________________________\n",
            "dense_282 (Dense)            (None, 58)                40890     \n",
            "_________________________________________________________________\n",
            "dropout_196 (Dropout)        (None, 58)                0         \n",
            "_________________________________________________________________\n",
            "dense_283 (Dense)            (None, 6)                 354       \n",
            "=================================================================\n",
            "Total params: 45,102\n",
            "Trainable params: 45,102\n",
            "Non-trainable params: 0\n",
            "_________________________________________________________________\n",
            "Train on 62 samples, validate on 28 samples\n",
            "Epoch 1/50\n",
            "62/62 [==============================] - 25s 409ms/step - loss: 1.7898 - acc: 0.2419 - val_loss: 1.8478 - val_acc: 0.0000e+00\n",
            "Epoch 2/50\n",
            "62/62 [==============================] - 0s 2ms/step - loss: 1.7712 - acc: 0.2258 - val_loss: 1.9468 - val_acc: 0.0000e+00\n",
            "Epoch 3/50\n",
            "62/62 [==============================] - 0s 2ms/step - loss: 1.7311 - acc: 0.2419 - val_loss: 2.1195 - val_acc: 0.0000e+00\n",
            "Epoch 4/50\n",
            "62/62 [==============================] - 0s 2ms/step - loss: 1.6789 - acc: 0.2742 - val_loss: 2.3462 - val_acc: 0.0000e+00\n",
            "Epoch 5/50\n",
            "62/62 [==============================] - 0s 2ms/step - loss: 1.6289 - acc: 0.2258 - val_loss: 2.6249 - val_acc: 0.0000e+00\n",
            "Epoch 6/50\n",
            "62/62 [==============================] - 0s 2ms/step - loss: 1.6262 - acc: 0.1935 - val_loss: 2.7938 - val_acc: 0.0000e+00\n",
            "Epoch 7/50\n",
            "62/62 [==============================] - 0s 2ms/step - loss: 1.5826 - acc: 0.3065 - val_loss: 2.8892 - val_acc: 0.0000e+00\n",
            "Epoch 8/50\n",
            "62/62 [==============================] - 0s 2ms/step - loss: 1.5587 - acc: 0.2903 - val_loss: 3.1401 - val_acc: 0.0000e+00\n",
            "Epoch 9/50\n",
            "62/62 [==============================] - 0s 2ms/step - loss: 1.5694 - acc: 0.2258 - val_loss: 3.1221 - val_acc: 0.0000e+00\n",
            "Epoch 10/50\n",
            "62/62 [==============================] - 0s 2ms/step - loss: 1.5155 - acc: 0.4032 - val_loss: 3.3179 - val_acc: 0.0000e+00\n",
            "Epoch 11/50\n",
            "62/62 [==============================] - 0s 2ms/step - loss: 1.5766 - acc: 0.2097 - val_loss: 3.2467 - val_acc: 0.0000e+00\n",
            "Epoch 12/50\n",
            "62/62 [==============================] - 0s 2ms/step - loss: 1.6068 - acc: 0.3226 - val_loss: 3.0553 - val_acc: 0.0000e+00\n",
            "Epoch 13/50\n",
            "62/62 [==============================] - 0s 2ms/step - loss: 1.5720 - acc: 0.2742 - val_loss: 3.1589 - val_acc: 0.0000e+00\n",
            "Epoch 14/50\n",
            "62/62 [==============================] - 0s 2ms/step - loss: 1.5182 - acc: 0.3226 - val_loss: 3.2707 - val_acc: 0.0000e+00\n",
            "Epoch 15/50\n",
            "62/62 [==============================] - 0s 2ms/step - loss: 1.5654 - acc: 0.2419 - val_loss: 3.3375 - val_acc: 0.0000e+00\n",
            "Epoch 16/50\n",
            "62/62 [==============================] - 0s 2ms/step - loss: 1.5584 - acc: 0.2258 - val_loss: 3.3104 - val_acc: 0.0000e+00\n",
            "Epoch 17/50\n",
            "62/62 [==============================] - 0s 2ms/step - loss: 1.5611 - acc: 0.1935 - val_loss: 3.2703 - val_acc: 0.0000e+00\n",
            "Epoch 18/50\n",
            "62/62 [==============================] - 0s 2ms/step - loss: 1.5529 - acc: 0.3387 - val_loss: 3.2995 - val_acc: 0.0000e+00\n",
            "Epoch 19/50\n",
            "62/62 [==============================] - 0s 2ms/step - loss: 1.5340 - acc: 0.2581 - val_loss: 3.3733 - val_acc: 0.0000e+00\n",
            "Epoch 20/50\n",
            "62/62 [==============================] - 0s 1ms/step - loss: 1.6138 - acc: 0.1774 - val_loss: 3.1475 - val_acc: 0.0000e+00\n",
            "Epoch 21/50\n",
            "62/62 [==============================] - 0s 2ms/step - loss: 1.5375 - acc: 0.2419 - val_loss: 3.1448 - val_acc: 0.0000e+00\n",
            "Epoch 22/50\n",
            "62/62 [==============================] - 0s 2ms/step - loss: 1.5360 - acc: 0.2097 - val_loss: 3.2775 - val_acc: 0.0000e+00\n",
            "Epoch 23/50\n",
            "62/62 [==============================] - 0s 2ms/step - loss: 1.5825 - acc: 0.2742 - val_loss: 3.1621 - val_acc: 0.0000e+00\n",
            "Epoch 24/50\n",
            "62/62 [==============================] - 0s 1ms/step - loss: 1.5329 - acc: 0.2097 - val_loss: 3.2955 - val_acc: 0.0000e+00\n",
            "Epoch 25/50\n",
            "62/62 [==============================] - 0s 2ms/step - loss: 1.4956 - acc: 0.4032 - val_loss: 3.4340 - val_acc: 0.0000e+00\n",
            "Epoch 26/50\n",
            "62/62 [==============================] - 0s 2ms/step - loss: 1.5347 - acc: 0.2742 - val_loss: 3.2691 - val_acc: 0.0000e+00\n",
            "Epoch 27/50\n",
            "62/62 [==============================] - 0s 2ms/step - loss: 1.5201 - acc: 0.2903 - val_loss: 3.3602 - val_acc: 0.0000e+00\n",
            "Epoch 28/50\n",
            "62/62 [==============================] - 0s 2ms/step - loss: 1.5087 - acc: 0.2903 - val_loss: 3.4519 - val_acc: 0.0000e+00\n",
            "Epoch 29/50\n",
            "62/62 [==============================] - 0s 2ms/step - loss: 1.4865 - acc: 0.2419 - val_loss: 3.4651 - val_acc: 0.0000e+00\n",
            "Epoch 30/50\n",
            "62/62 [==============================] - 0s 2ms/step - loss: 1.4933 - acc: 0.3065 - val_loss: 3.5163 - val_acc: 0.0000e+00\n",
            "Epoch 31/50\n",
            "62/62 [==============================] - 0s 2ms/step - loss: 1.4722 - acc: 0.4032 - val_loss: 3.5320 - val_acc: 0.0000e+00\n",
            "Epoch 32/50\n",
            "62/62 [==============================] - 0s 1ms/step - loss: 1.4910 - acc: 0.3226 - val_loss: 3.4285 - val_acc: 0.0000e+00\n",
            "Epoch 33/50\n",
            "62/62 [==============================] - 0s 2ms/step - loss: 1.4556 - acc: 0.3065 - val_loss: 3.6007 - val_acc: 0.0000e+00\n",
            "Epoch 34/50\n",
            "62/62 [==============================] - 0s 2ms/step - loss: 1.3930 - acc: 0.4194 - val_loss: 3.7169 - val_acc: 0.0000e+00\n",
            "Epoch 35/50\n",
            "62/62 [==============================] - 0s 2ms/step - loss: 1.4321 - acc: 0.3710 - val_loss: 3.7955 - val_acc: 0.0000e+00\n",
            "Epoch 36/50\n",
            "62/62 [==============================] - 0s 2ms/step - loss: 1.4636 - acc: 0.3710 - val_loss: 3.6239 - val_acc: 0.0000e+00\n",
            "Epoch 37/50\n",
            "62/62 [==============================] - 0s 2ms/step - loss: 1.4161 - acc: 0.3710 - val_loss: 3.5737 - val_acc: 0.0000e+00\n",
            "Epoch 38/50\n",
            "62/62 [==============================] - 0s 2ms/step - loss: 1.4004 - acc: 0.3871 - val_loss: 3.6583 - val_acc: 0.0000e+00\n",
            "Epoch 39/50\n",
            "62/62 [==============================] - 0s 1ms/step - loss: 1.3837 - acc: 0.4355 - val_loss: 3.7553 - val_acc: 0.0000e+00\n",
            "Epoch 40/50\n",
            "62/62 [==============================] - 0s 2ms/step - loss: 1.4032 - acc: 0.3548 - val_loss: 3.6924 - val_acc: 0.0000e+00\n",
            "Epoch 41/50\n",
            "62/62 [==============================] - 0s 2ms/step - loss: 1.3567 - acc: 0.5161 - val_loss: 3.6940 - val_acc: 0.0000e+00\n",
            "Epoch 42/50\n",
            "62/62 [==============================] - 0s 1ms/step - loss: 1.3186 - acc: 0.4516 - val_loss: 3.8707 - val_acc: 0.0000e+00\n",
            "Epoch 43/50\n",
            "62/62 [==============================] - 0s 2ms/step - loss: 1.3409 - acc: 0.4516 - val_loss: 3.9215 - val_acc: 0.0000e+00\n",
            "Epoch 44/50\n",
            "62/62 [==============================] - 0s 1ms/step - loss: 1.3371 - acc: 0.4032 - val_loss: 3.6577 - val_acc: 0.0000e+00\n",
            "Epoch 45/50\n",
            "62/62 [==============================] - 0s 2ms/step - loss: 1.3270 - acc: 0.5161 - val_loss: 3.8315 - val_acc: 0.0000e+00\n",
            "Epoch 46/50\n",
            "62/62 [==============================] - 0s 2ms/step - loss: 1.2389 - acc: 0.5161 - val_loss: 4.0734 - val_acc: 0.0000e+00\n",
            "Epoch 47/50\n",
            "62/62 [==============================] - 0s 2ms/step - loss: 1.3131 - acc: 0.4839 - val_loss: 3.8312 - val_acc: 0.0000e+00\n",
            "Epoch 48/50\n",
            "62/62 [==============================] - 0s 2ms/step - loss: 1.3187 - acc: 0.5161 - val_loss: 3.6781 - val_acc: 0.0000e+00\n",
            "Epoch 49/50\n",
            "62/62 [==============================] - 0s 2ms/step - loss: 1.1971 - acc: 0.4677 - val_loss: 4.1495 - val_acc: 0.0000e+00\n",
            "Epoch 50/50\n",
            "62/62 [==============================] - 0s 2ms/step - loss: 1.2431 - acc: 0.3871 - val_loss: 3.7881 - val_acc: 0.0000e+00\n"
          ],
          "name": "stdout"
        }
      ]
    },
    {
      "cell_type": "code",
      "metadata": {
        "id": "_Nc05wwM4zml",
        "colab_type": "code",
        "colab": {}
      },
      "source": [
        "import matplotlib.pyplot as plt\n",
        "\n",
        "def plot_results(history):\n",
        "    loss = history.history[\"loss\"]\n",
        "    val_loss = history.history[\"val_loss\"]\n",
        "\n",
        "    epochs = range(1, len(loss) + 1)\n",
        "\n",
        "    plt.plot(epochs, loss, \"b\", label=\"Training loss\")\n",
        "    plt.plot(epochs, val_loss, \"ro\", label=\"Validation loss\")\n",
        "    plt.title(\"Training and validation loss\")\n",
        "    plt.xlabel(\"Epochs\")\n",
        "    plt.ylabel(\"Loss\")\n",
        "    plt.legend()\n",
        "\n",
        "    plt.show()\n",
        "\n",
        "    plt.clf() #clears the figure\n",
        "\n",
        "    acc = history.history[\"acc\"]\n",
        "    val_acc = history.history[\"val_acc\"]\n",
        "\n",
        "    plt.plot(epochs, acc, \"b\", label=\"Training acc\")\n",
        "    plt.plot(epochs, val_acc, \"ro\", label=\"Validation acc\")\n",
        "    plt.title(\"Training and validation accuracy\")\n",
        "    plt.xlabel(\"Epochs\")\n",
        "    plt.ylabel(\"Acc\")\n",
        "    plt.legend()\n",
        "\n",
        "    plt.show()"
      ],
      "execution_count": 0,
      "outputs": []
    },
    {
      "cell_type": "code",
      "metadata": {
        "id": "8WizF4mA5blD",
        "colab_type": "code",
        "colab": {
          "base_uri": "https://localhost:8080/",
          "height": 573
        },
        "outputId": "54b47499-cce4-405b-f04b-3a1bc0bf5cec"
      },
      "source": [
        "plot_results(history)\n"
      ],
      "execution_count": 1619,
      "outputs": [
        {
          "output_type": "display_data",
          "data": {
            "image/png": "[encoded data removed]",
            "text/plain": [
              "<Figure size 432x288 with 1 Axes>"
            ]
          },
          "metadata": {
            "tags": []
          }
        },
        {
          "output_type": "display_data",
          "data": {
            "image/png": "[encoded data removed]",
            "text/plain": [
              "<Figure size 432x288 with 1 Axes>"
            ]
          },
          "metadata": {
            "tags": []
          }
        }
      ]
    },
    {
      "cell_type": "code",
      "metadata": {
        "id": "bd5bWRJN6Diy",
        "colab_type": "code",
        "colab": {
          "base_uri": "https://localhost:8080/",
          "height": 313
        },
        "outputId": "6ff53e6d-8428-4a9d-c3de-ba769bdf5098"
      },
      "source": [
        "from sklearn.metrics import classification_report\n",
        "\n",
        "y_pred = model.predict_classes(cnn_texts_seq_test)\n",
        "print(classification_report(tt, y_pred))"
      ],
      "execution_count": 1620,
      "outputs": [
        {
          "output_type": "stream",
          "text": [
            "              precision    recall  f1-score   support\n",
            "\n",
            "           0       0.55      0.80      0.65        89\n",
            "           1       0.12      0.07      0.09        97\n",
            "           2       0.32      0.94      0.48        96\n",
            "           3       0.23      0.25      0.24        97\n",
            "           4       0.00      0.00      0.00        97\n",
            "           5       0.00      0.00      0.00        94\n",
            "\n",
            "    accuracy                           0.34       570\n",
            "   macro avg       0.20      0.34      0.24       570\n",
            "weighted avg       0.20      0.34      0.24       570\n",
            "\n"
          ],
          "name": "stdout"
        },
        {
          "output_type": "stream",
          "text": [
            "/usr/local/lib/python3.6/dist-packages/sklearn/metrics/_classification.py:1272: UndefinedMetricWarning: Precision and F-score are ill-defined and being set to 0.0 in labels with no predicted samples. Use `zero_division` parameter to control this behavior.\n",
            "  _warn_prf(average, modifier, msg_start, len(result))\n"
          ],
          "name": "stderr"
        }
      ]
    },
    {
      "cell_type": "code",
      "metadata": {
        "id": "uYgJXyJ36gG7",
        "colab_type": "code",
        "colab": {}
      },
      "source": [
        ""
      ],
      "execution_count": 0,
      "outputs": []
    },
    {
      "cell_type": "code",
      "metadata": {
        "id": "zf--Ndvn7Nh6",
        "colab_type": "code",
        "colab": {}
      },
      "source": [
        ""
      ],
      "execution_count": 0,
      "outputs": []
    }
  ]
}