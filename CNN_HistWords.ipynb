{
  "nbformat": 4,
  "nbformat_minor": 0,
  "metadata": {
    "colab": {
      "name": "CNN_HistWords.ipynb",
      "provenance": [],
      "collapsed_sections": [],
      "machine_shape": "hm",
      "authorship_tag": "ABX9TyMvJNUEFK2FNVjKlXpE1MJM",
      "include_colab_link": true
    },
    "kernelspec": {
      "name": "python3",
      "display_name": "Python 3"
    },
    "accelerator": "GPU"
  },
  "cells": [
    {
      "cell_type": "markdown",
      "metadata": {
        "id": "view-in-github",
        "colab_type": "text"
      },
      "source": [
        "<a href=\"https://colab.research.google.com/github/LennartKeller/TextklassifikationsProjekt2019/blob/master/CNN_HistWords.ipynb\" target=\"_parent\"><img src=\"https://colab.research.google.com/assets/colab-badge.svg\" alt=\"Open In Colab\"/></a>"
      ]
    },
    {
      "cell_type": "code",
      "metadata": {
        "id": "eZ2UPaY3FaKb",
        "colab_type": "code",
        "outputId": "a04b26cf-11c2-4cfe-dd60-bc3bcca66b82",
        "colab": {
          "base_uri": "https://localhost:8080/",
          "height": 1000
        }
      },
      "source": [
        "! pip uninstall --yes tensorflow\n",
        "! pip install tensorflow==2.1.0"
      ],
      "execution_count": 1,
      "outputs": [
        {
          "output_type": "stream",
          "text": [
            "Uninstalling tensorflow-1.15.0:\n",
            "  Successfully uninstalled tensorflow-1.15.0\n",
            "Collecting tensorflow==2.1.0\n",
            "\u001b[?25l  Downloading https://files.pythonhosted.org/packages/85/d4/c0cd1057b331bc38b65478302114194bd8e1b9c2bbc06e300935c0e93d90/tensorflow-2.1.0-cp36-cp36m-manylinux2010_x86_64.whl (421.8MB)\n",
            "\u001b[K     |████████████████████████████████| 421.8MB 34kB/s \n",
            "\u001b[?25hRequirement already satisfied: six>=1.12.0 in /usr/local/lib/python3.6/dist-packages (from tensorflow==2.1.0) (1.12.0)\n",
            "Requirement already satisfied: gast==0.2.2 in /usr/local/lib/python3.6/dist-packages (from tensorflow==2.1.0) (0.2.2)\n",
            "Requirement already satisfied: scipy==1.4.1; python_version >= \"3\" in /usr/local/lib/python3.6/dist-packages (from tensorflow==2.1.0) (1.4.1)\n",
            "Requirement already satisfied: google-pasta>=0.1.6 in /usr/local/lib/python3.6/dist-packages (from tensorflow==2.1.0) (0.1.8)\n",
            "Requirement already satisfied: grpcio>=1.8.6 in /usr/local/lib/python3.6/dist-packages (from tensorflow==2.1.0) (1.15.0)\n",
            "Requirement already satisfied: astor>=0.6.0 in /usr/local/lib/python3.6/dist-packages (from tensorflow==2.1.0) (0.8.1)\n",
            "Requirement already satisfied: termcolor>=1.1.0 in /usr/local/lib/python3.6/dist-packages (from tensorflow==2.1.0) (1.1.0)\n",
            "\u001b[33mWARNING: Retrying (Retry(total=4, connect=None, read=None, redirect=None, status=None)) after connection broken by 'ProtocolError('Connection aborted.', ConnectionResetError(104, 'Connection reset by peer'))': /simple/tensorflow-estimator/\u001b[0m\n",
            "Collecting tensorflow-estimator<2.2.0,>=2.1.0rc0\n",
            "\u001b[?25l  Downloading https://files.pythonhosted.org/packages/18/90/b77c328a1304437ab1310b463e533fa7689f4bfc41549593056d812fab8e/tensorflow_estimator-2.1.0-py2.py3-none-any.whl (448kB)\n",
            "\u001b[K     |████████████████████████████████| 450kB 56.9MB/s \n",
            "\u001b[?25hRequirement already satisfied: wrapt>=1.11.1 in /usr/local/lib/python3.6/dist-packages (from tensorflow==2.1.0) (1.11.2)\n",
            "Requirement already satisfied: keras-applications>=1.0.8 in /usr/local/lib/python3.6/dist-packages (from tensorflow==2.1.0) (1.0.8)\n",
            "Requirement already satisfied: absl-py>=0.7.0 in /usr/local/lib/python3.6/dist-packages (from tensorflow==2.1.0) (0.9.0)\n",
            "Requirement already satisfied: wheel>=0.26; python_version >= \"3\" in /usr/local/lib/python3.6/dist-packages (from tensorflow==2.1.0) (0.33.6)\n",
            "Requirement already satisfied: keras-preprocessing>=1.1.0 in /usr/local/lib/python3.6/dist-packages (from tensorflow==2.1.0) (1.1.0)\n",
            "Requirement already satisfied: numpy<2.0,>=1.16.0 in /usr/local/lib/python3.6/dist-packages (from tensorflow==2.1.0) (1.17.5)\n",
            "Requirement already satisfied: opt-einsum>=2.3.2 in /usr/local/lib/python3.6/dist-packages (from tensorflow==2.1.0) (3.1.0)\n",
            "Requirement already satisfied: protobuf>=3.8.0 in /usr/local/lib/python3.6/dist-packages (from tensorflow==2.1.0) (3.10.0)\n",
            "Collecting tensorboard<2.2.0,>=2.1.0\n",
            "\u001b[?25l  Downloading https://files.pythonhosted.org/packages/40/23/53ffe290341cd0855d595b0a2e7485932f473798af173bbe3a584b99bb06/tensorboard-2.1.0-py3-none-any.whl (3.8MB)\n",
            "\u001b[K     |████████████████████████████████| 3.8MB 61.4MB/s \n",
            "\u001b[?25hRequirement already satisfied: h5py in /usr/local/lib/python3.6/dist-packages (from keras-applications>=1.0.8->tensorflow==2.1.0) (2.8.0)\n",
            "Requirement already satisfied: setuptools in /usr/local/lib/python3.6/dist-packages (from protobuf>=3.8.0->tensorflow==2.1.0) (42.0.2)\n",
            "Requirement already satisfied: google-auth-oauthlib<0.5,>=0.4.1 in /usr/local/lib/python3.6/dist-packages (from tensorboard<2.2.0,>=2.1.0->tensorflow==2.1.0) (0.4.1)\n",
            "Requirement already satisfied: werkzeug>=0.11.15 in /usr/local/lib/python3.6/dist-packages (from tensorboard<2.2.0,>=2.1.0->tensorflow==2.1.0) (0.16.0)\n",
            "Requirement already satisfied: requests<3,>=2.21.0 in /usr/local/lib/python3.6/dist-packages (from tensorboard<2.2.0,>=2.1.0->tensorflow==2.1.0) (2.21.0)\n",
            "Collecting google-auth<2,>=1.6.3\n",
            "\u001b[?25l  Downloading https://files.pythonhosted.org/packages/1c/6d/7aae38a9022f982cf8167775c7fc299f203417b698c27080ce09060bba07/google_auth-1.11.0-py2.py3-none-any.whl (76kB)\n",
            "\u001b[K     |████████████████████████████████| 81kB 12.4MB/s \n",
            "\u001b[?25hRequirement already satisfied: markdown>=2.6.8 in /usr/local/lib/python3.6/dist-packages (from tensorboard<2.2.0,>=2.1.0->tensorflow==2.1.0) (3.1.1)\n",
            "Requirement already satisfied: requests-oauthlib>=0.7.0 in /usr/local/lib/python3.6/dist-packages (from google-auth-oauthlib<0.5,>=0.4.1->tensorboard<2.2.0,>=2.1.0->tensorflow==2.1.0) (1.3.0)\n",
            "Requirement already satisfied: chardet<3.1.0,>=3.0.2 in /usr/local/lib/python3.6/dist-packages (from requests<3,>=2.21.0->tensorboard<2.2.0,>=2.1.0->tensorflow==2.1.0) (3.0.4)\n",
            "Requirement already satisfied: urllib3<1.25,>=1.21.1 in /usr/local/lib/python3.6/dist-packages (from requests<3,>=2.21.0->tensorboard<2.2.0,>=2.1.0->tensorflow==2.1.0) (1.24.3)\n",
            "Requirement already satisfied: idna<2.9,>=2.5 in /usr/local/lib/python3.6/dist-packages (from requests<3,>=2.21.0->tensorboard<2.2.0,>=2.1.0->tensorflow==2.1.0) (2.8)\n",
            "Requirement already satisfied: certifi>=2017.4.17 in /usr/local/lib/python3.6/dist-packages (from requests<3,>=2.21.0->tensorboard<2.2.0,>=2.1.0->tensorflow==2.1.0) (2019.11.28)\n",
            "Requirement already satisfied: pyasn1-modules>=0.2.1 in /usr/local/lib/python3.6/dist-packages (from google-auth<2,>=1.6.3->tensorboard<2.2.0,>=2.1.0->tensorflow==2.1.0) (0.2.7)\n",
            "Requirement already satisfied: rsa<4.1,>=3.1.4 in /usr/local/lib/python3.6/dist-packages (from google-auth<2,>=1.6.3->tensorboard<2.2.0,>=2.1.0->tensorflow==2.1.0) (4.0)\n",
            "Requirement already satisfied: cachetools<5.0,>=2.0.0 in /usr/local/lib/python3.6/dist-packages (from google-auth<2,>=1.6.3->tensorboard<2.2.0,>=2.1.0->tensorflow==2.1.0) (4.0.0)\n",
            "Requirement already satisfied: oauthlib>=3.0.0 in /usr/local/lib/python3.6/dist-packages (from requests-oauthlib>=0.7.0->google-auth-oauthlib<0.5,>=0.4.1->tensorboard<2.2.0,>=2.1.0->tensorflow==2.1.0) (3.1.0)\n",
            "Requirement already satisfied: pyasn1<0.5.0,>=0.4.6 in /usr/local/lib/python3.6/dist-packages (from pyasn1-modules>=0.2.1->google-auth<2,>=1.6.3->tensorboard<2.2.0,>=2.1.0->tensorflow==2.1.0) (0.4.8)\n",
            "\u001b[31mERROR: tensorboard 2.1.0 has requirement grpcio>=1.24.3, but you'll have grpcio 1.15.0 which is incompatible.\u001b[0m\n",
            "\u001b[31mERROR: google-colab 1.0.0 has requirement google-auth~=1.4.0, but you'll have google-auth 1.11.0 which is incompatible.\u001b[0m\n",
            "Installing collected packages: tensorflow-estimator, google-auth, tensorboard, tensorflow\n",
            "  Found existing installation: tensorflow-estimator 1.15.1\n",
            "    Uninstalling tensorflow-estimator-1.15.1:\n",
            "      Successfully uninstalled tensorflow-estimator-1.15.1\n",
            "  Found existing installation: google-auth 1.4.2\n",
            "    Uninstalling google-auth-1.4.2:\n",
            "      Successfully uninstalled google-auth-1.4.2\n",
            "  Found existing installation: tensorboard 1.15.0\n",
            "    Uninstalling tensorboard-1.15.0:\n",
            "      Successfully uninstalled tensorboard-1.15.0\n",
            "Successfully installed google-auth-1.11.0 tensorboard-2.1.0 tensorflow-2.1.0 tensorflow-estimator-2.1.0\n"
          ],
          "name": "stdout"
        },
        {
          "output_type": "display_data",
          "data": {
            "application/vnd.colab-display-data+json": {
              "pip_warning": {
                "packages": [
                  "google"
                ]
              }
            }
          },
          "metadata": {
            "tags": []
          }
        }
      ]
    },
    {
      "cell_type": "code",
      "metadata": {
        "id": "Ifv0uk9ZpGHr",
        "colab_type": "code",
        "outputId": "a32b841e-dbc7-4568-9fff-914c2a09f314",
        "colab": {
          "base_uri": "https://localhost:8080/",
          "height": 85
        }
      },
      "source": [
        "pip install fasttext"
      ],
      "execution_count": 1,
      "outputs": [
        {
          "output_type": "stream",
          "text": [
            "Requirement already satisfied: fasttext in /usr/local/lib/python3.6/dist-packages (0.9.1)\n",
            "Requirement already satisfied: setuptools>=0.7.0 in /usr/local/lib/python3.6/dist-packages (from fasttext) (42.0.2)\n",
            "Requirement already satisfied: numpy in /usr/local/lib/python3.6/dist-packages (from fasttext) (1.17.5)\n",
            "Requirement already satisfied: pybind11>=2.2 in /usr/local/lib/python3.6/dist-packages (from fasttext) (2.4.3)\n"
          ],
          "name": "stdout"
        }
      ]
    },
    {
      "cell_type": "code",
      "metadata": {
        "id": "00gWvOL0PDmu",
        "colab_type": "code",
        "outputId": "48695209-4fa7-4cdd-d608-4778aba17bb3",
        "colab": {
          "base_uri": "https://localhost:8080/",
          "height": 34
        }
      },
      "source": [
        "import matplotlib.pyplot as plt\n",
        "\n",
        "def plot_results(history):\n",
        "    loss = history.history[\"loss\"]\n",
        "    val_loss = history.history[\"val_loss\"]\n",
        "\n",
        "    epochs = range(1, len(loss) + 1)\n",
        "\n",
        "    plt.plot(epochs, loss, \"b\", label=\"Training loss\")\n",
        "    plt.plot(epochs, val_loss, \"ro\", label=\"Validation loss\")\n",
        "    plt.title(\"Training and validation loss\")\n",
        "    plt.xlabel(\"Epochs\")\n",
        "    plt.ylabel(\"Loss\")\n",
        "    plt.legend()\n",
        "\n",
        "    plt.show()\n",
        "\n",
        "    plt.clf() #clears the figure\n",
        "\n",
        "    acc = history.history[\"acc\"]\n",
        "    val_acc = history.history[\"val_acc\"]\n",
        "\n",
        "    plt.plot(epochs, acc, \"b\", label=\"Training acc\")\n",
        "    plt.plot(epochs, val_acc, \"ro\", label=\"Validation acc\")\n",
        "    plt.title(\"Training and validation accuracy\")\n",
        "    plt.xlabel(\"Epochs\")\n",
        "    plt.ylabel(\"Acc\")\n",
        "    plt.legend()\n",
        "\n",
        "    plt.show()\n",
        "\n",
        "from keras import backend as K\n",
        "\n",
        "def recall_m(y_true, y_pred):\n",
        "        true_positives = K.sum(K.round(K.clip(y_true * y_pred, 0, 1)))\n",
        "        possible_positives = K.sum(K.round(K.clip(y_true, 0, 1)))\n",
        "        recall = true_positives / (possible_positives + K.epsilon())\n",
        "        return recall\n",
        "\n",
        "def precision_m(y_true, y_pred):\n",
        "        true_positives = K.sum(K.round(K.clip(y_true * y_pred, 0, 1)))\n",
        "        predicted_positives = K.sum(K.round(K.clip(y_pred, 0, 1)))\n",
        "        precision = true_positives / (predicted_positives + K.epsilon())\n",
        "        return precision\n",
        "\n",
        "def f1_m(y_true, y_pred):\n",
        "    precision = precision_m(y_true, y_pred)\n",
        "    recall = recall_m(y_true, y_pred)\n",
        "    return 2*((precision*recall)/(precision+recall+K.epsilon()))"
      ],
      "execution_count": 2,
      "outputs": [
        {
          "output_type": "stream",
          "text": [
            "Using TensorFlow backend.\n"
          ],
          "name": "stderr"
        }
      ]
    },
    {
      "cell_type": "code",
      "metadata": {
        "id": "9D7GHoT14zeh",
        "colab_type": "code",
        "colab": {}
      },
      "source": [
        "import matplotlib.pyplot as plt\n",
        "\n",
        "def plot_results_f1(history):\n",
        "    loss = history.history[\"loss\"]\n",
        "    val_loss = history.history[\"val_loss\"]\n",
        "\n",
        "    epochs = range(1, len(loss) + 1)\n",
        "\n",
        "    plt.plot(epochs, loss, \"b\", label=\"Training loss\")\n",
        "    plt.plot(epochs, val_loss, \"ro\", label=\"Validation loss\")\n",
        "    plt.title(\"Training and validation loss\")\n",
        "    plt.xlabel(\"Epochs\")\n",
        "    plt.ylabel(\"Loss\")\n",
        "    plt.legend()\n",
        "\n",
        "    plt.show()\n",
        "\n",
        "    plt.clf() #clears the figure\n",
        "\n",
        "    acc = history.history[\"f1_m\"]\n",
        "    val_acc = history.history[\"val_f1_m\"]\n",
        "\n",
        "    plt.plot(epochs, acc, \"b\", label=\"Training f1_m\")\n",
        "    plt.plot(epochs, val_acc, \"ro\", label=\"Validation f1_m\")\n",
        "    plt.title(\"Training and validation f1_m\")\n",
        "    plt.xlabel(\"Epochs\")\n",
        "    plt.ylabel(\"Acc\")\n",
        "    plt.legend()\n",
        "\n",
        "    plt.show()"
      ],
      "execution_count": 0,
      "outputs": []
    },
    {
      "cell_type": "code",
      "metadata": {
        "id": "S50J7KsaCDA3",
        "colab_type": "code",
        "outputId": "51fe6360-c5bf-402d-bed2-8116ae93dd1e",
        "colab": {
          "base_uri": "https://localhost:8080/",
          "height": 190
        }
      },
      "source": [
        "from google.colab import drive\n",
        "import os\n",
        "import numpy as np\n",
        "\n",
        "drive.mount('/content/gdrive/')\n",
        "!ls\n",
        "os.chdir('gdrive/My Drive')\n",
        "!ls"
      ],
      "execution_count": 4,
      "outputs": [
        {
          "output_type": "stream",
          "text": [
            "Go to this URL in a browser: https://accounts.google.com/o/oauth2/auth?client_id=947318989803-6bn6qk8qdgf4n4g3pfee6491hc0brc4i.apps.googleusercontent.com&redirect_uri=urn%3aietf%3awg%3aoauth%3a2.0%3aoob&response_type=code&scope=email%20https%3a%2f%2fwww.googleapis.com%2fauth%2fdocs.test%20https%3a%2f%2fwww.googleapis.com%2fauth%2fdrive%20https%3a%2f%2fwww.googleapis.com%2fauth%2fdrive.photos.readonly%20https%3a%2f%2fwww.googleapis.com%2fauth%2fpeopleapi.readonly\n",
            "\n",
            "Enter your authorization code:\n",
            "··········\n",
            "Mounted at /content/gdrive/\n",
            "gdrive\tsample_data\n",
            " 1800-vocab.pkl  'Colab Notebooks'\t   model1.h5\n",
            " 1800-w.npy\t  fastText\t\t   model2.h5\n",
            " cc.de.300.bin\t  full_taggeddataset.csv   model.png\n"
          ],
          "name": "stdout"
        }
      ]
    },
    {
      "cell_type": "code",
      "metadata": {
        "id": "yF89DLGCCqL6",
        "colab_type": "code",
        "colab": {}
      },
      "source": [
        "import pandas as pd\n",
        "from sklearn.utils import shuffle\n",
        "df = pd.read_csv('full_taggeddataset.csv')\n",
        "df = df[df.genre != 'NEWS']\n",
        "df = shuffle(df, random_state=42)"
      ],
      "execution_count": 0,
      "outputs": []
    },
    {
      "cell_type": "code",
      "metadata": {
        "id": "CHAl68bdDCmj",
        "colab_type": "code",
        "outputId": "4f8c1c07-24fd-4972-c48c-fe4efe41fef4",
        "colab": {
          "base_uri": "https://localhost:8080/",
          "height": 391
        }
      },
      "source": [
        "df.head()"
      ],
      "execution_count": 115,
      "outputs": [
        {
          "output_type": "execute_result",
          "data": {
            "text/html": [
              "<div>\n",
              "<style scoped>\n",
              "    .dataframe tbody tr th:only-of-type {\n",
              "        vertical-align: middle;\n",
              "    }\n",
              "\n",
              "    .dataframe tbody tr th {\n",
              "        vertical-align: top;\n",
              "    }\n",
              "\n",
              "    .dataframe thead th {\n",
              "        text-align: right;\n",
              "    }\n",
              "</style>\n",
              "<table border=\"1\" class=\"dataframe\">\n",
              "  <thead>\n",
              "    <tr style=\"text-align: right;\">\n",
              "      <th></th>\n",
              "      <th>Unnamed: 0</th>\n",
              "      <th>Unnamed: 0.1</th>\n",
              "      <th>tokens</th>\n",
              "      <th>pos_tags</th>\n",
              "      <th>lemmas</th>\n",
              "      <th>title</th>\n",
              "      <th>genre</th>\n",
              "      <th>period</th>\n",
              "      <th>region</th>\n",
              "      <th>year</th>\n",
              "      <th>corpus</th>\n",
              "    </tr>\n",
              "  </thead>\n",
              "  <tbody>\n",
              "    <tr>\n",
              "      <th>941</th>\n",
              "      <td>943</td>\n",
              "      <td>607</td>\n",
              "      <td>Zwischen den Serosablättern findet sich normal...</td>\n",
              "      <td>APPR ART NN VVFIN PRF ADV ADV ART ADJA NN $( N...</td>\n",
              "      <td>zwischen die Serosablättern finden sich normal...</td>\n",
              "      <td>Stauung</td>\n",
              "      <td>SCIE</td>\n",
              "      <td>P6</td>\n",
              "      <td>WMD</td>\n",
              "      <td>1902</td>\n",
              "      <td>innsbruck</td>\n",
              "    </tr>\n",
              "    <tr>\n",
              "      <th>758</th>\n",
              "      <td>758</td>\n",
              "      <td>422</td>\n",
              "      <td>Einleitung § 1 . Verbreitung der Pflanzen über...</td>\n",
              "      <td>NN NN CARD $. NN ART NN APPR ART NN ART NN $. ...</td>\n",
              "      <td>Einleitung § @card@ . Verbreitung die Pflanze|...</td>\n",
              "      <td>Geschichte</td>\n",
              "      <td>SCIE</td>\n",
              "      <td>P5</td>\n",
              "      <td>OOD</td>\n",
              "      <td>1852</td>\n",
              "      <td>innsbruck</td>\n",
              "    </tr>\n",
              "    <tr>\n",
              "      <th>135</th>\n",
              "      <td>135</td>\n",
              "      <td>135</td>\n",
              "      <td>Das zwey vnd dreysigste Capitel . Des Præsiden...</td>\n",
              "      <td>ART CARD KON ADJA NN SENT ART NN APPR NE NN AP...</td>\n",
              "      <td>die zwei und dreysigste Kapitel . die Präsiden...</td>\n",
              "      <td>Morgenlaendisch.txt</td>\n",
              "      <td>NARR</td>\n",
              "      <td>P1</td>\n",
              "      <td>NOD</td>\n",
              "      <td>1658</td>\n",
              "      <td>manchester</td>\n",
              "    </tr>\n",
              "    <tr>\n",
              "      <th>655</th>\n",
              "      <td>655</td>\n",
              "      <td>319</td>\n",
              "      <td>Ein lang gezogener kräftiger Ruf hallte durch ...</td>\n",
              "      <td>ART ADJD ADJA ADJA NN VVFIN APPR ART ADJA NN $...</td>\n",
              "      <td>eine lang gezogen kräftig Ruf hallen durch die...</td>\n",
              "      <td>Sanct</td>\n",
              "      <td>NARR</td>\n",
              "      <td>P5</td>\n",
              "      <td>OOD</td>\n",
              "      <td>1868</td>\n",
              "      <td>innsbruck</td>\n",
              "    </tr>\n",
              "    <tr>\n",
              "      <th>90</th>\n",
              "      <td>90</td>\n",
              "      <td>90</td>\n",
              "      <td>Titulus quintus . DE STUPRO . Von Jungfrawen o...</td>\n",
              "      <td>NE NE SENT NE NE SENT APPR NN KON NN SENT CARD...</td>\n",
              "      <td>Titulus Quintus . de STUPRO . von Jungfrawen o...</td>\n",
              "      <td>Luebeck.txt</td>\n",
              "      <td>LEGA</td>\n",
              "      <td>P1</td>\n",
              "      <td>NOD</td>\n",
              "      <td>1657</td>\n",
              "      <td>manchester</td>\n",
              "    </tr>\n",
              "  </tbody>\n",
              "</table>\n",
              "</div>"
            ],
            "text/plain": [
              "     Unnamed: 0 Unnamed: 0.1  ...  year      corpus\n",
              "941         943          607  ...  1902   innsbruck\n",
              "758         758          422  ...  1852   innsbruck\n",
              "135         135          135  ...  1658  manchester\n",
              "655         655          319  ...  1868   innsbruck\n",
              "90           90           90  ...  1657  manchester\n",
              "\n",
              "[5 rows x 11 columns]"
            ]
          },
          "metadata": {
            "tags": []
          },
          "execution_count": 115
        }
      ]
    },
    {
      "cell_type": "code",
      "metadata": {
        "id": "a-81hDNvGv_H",
        "colab_type": "code",
        "colab": {}
      },
      "source": [
        "df_train = df[df.period == 'P1']\n",
        "df_test = df[df.period != 'P1']\n",
        "\n",
        "period_dfs = [df[df.period == p] for p in sorted(df.period.unique())]"
      ],
      "execution_count": 0,
      "outputs": []
    },
    {
      "cell_type": "code",
      "metadata": {
        "id": "BwI-N_yjHE_t",
        "colab_type": "code",
        "colab": {}
      },
      "source": [
        "from tensorflow.keras.preprocessing.text import Tokenizer\n",
        "from tensorflow.keras.preprocessing.sequence import pad_sequences\n",
        "\n",
        "NUM_WORDS = 20000\n",
        "MAX_LEN = 2000\n",
        "\n",
        "tokenizer = Tokenizer(num_words=NUM_WORDS)\n",
        "tokenizer.fit_on_texts(df_train.lemmas)\n",
        "\n",
        "train_seq = tokenizer.texts_to_sequences(df_train.lemmas)\n",
        "test_seq = tokenizer.texts_to_sequences(df_test.lemmas)\n",
        "\n",
        "train_seq = pad_sequences(train_seq, maxlen=MAX_LEN)\n",
        "test_seq = pad_sequences(test_seq, maxlen=MAX_LEN)"
      ],
      "execution_count": 0,
      "outputs": []
    },
    {
      "cell_type": "code",
      "metadata": {
        "id": "J3PCrf0gIXIA",
        "colab_type": "code",
        "outputId": "5bb79493-4afb-4c34-acb1-ca947d204cf7",
        "colab": {
          "base_uri": "https://localhost:8080/",
          "height": 34
        }
      },
      "source": [
        "from keras.utils import to_categorical\n",
        "from sklearn.preprocessing import LabelEncoder, LabelEncoder\n",
        "\n",
        "le = LabelEncoder()\n",
        "\n",
        "y_train = le.fit_transform(df_train.genre)\n",
        "y_test = le.transform(df_test.genre)\n",
        "\n",
        "y_train = to_categorical(y_train)\n",
        "y_test = to_categorical(y_test)\n",
        "\n",
        "le.classes_"
      ],
      "execution_count": 95,
      "outputs": [
        {
          "output_type": "execute_result",
          "data": {
            "text/plain": [
              "array(['DRAM', 'HUMA', 'LEGA', 'NARR', 'SCIE', 'SERM'], dtype=object)"
            ]
          },
          "metadata": {
            "tags": []
          },
          "execution_count": 95
        }
      ]
    },
    {
      "cell_type": "markdown",
      "metadata": {
        "id": "4Uj2F2rUgr7s",
        "colab_type": "text"
      },
      "source": [
        "# 1. Modell\n",
        "\n"
      ]
    },
    {
      "cell_type": "code",
      "metadata": {
        "id": "MFDdA01cE6Rm",
        "colab_type": "code",
        "colab": {}
      },
      "source": [
        "from tensorflow.keras.models import Model\n",
        "from tensorflow.keras.layers import *\n",
        "from tensorflow.keras.losses import CosineSimilarity\n",
        "from tensorflow.keras.optimizers import SGD\n",
        "\n",
        "\n",
        "def build_cnn_model(N_CLASSES,\n",
        "                    MAX_LEN,\n",
        "                    NUM_WORDS,\n",
        "                    EMB_DIM=20,\n",
        "                    filter_sizes=[5,3,2],\n",
        "                    num_filters=32):\n",
        "\n",
        "  inp = Input(shape=(MAX_LEN,))\n",
        "\n",
        "  emb = Embedding(input_dim=NUM_WORDS, output_dim=EMB_DIM, input_length=MAX_LEN)(inp)\n",
        "\n",
        "  convolutions = []\n",
        "  for fs in filter_sizes:\n",
        "\n",
        "    conv = Conv1D(filters=32, kernel_size=fs, padding='valid', activity_regularizer='l2')(emb)\n",
        "    conv_dropout = SpatialDropout1D(0.8)(conv)\n",
        "    pooling = MaxPool1D(strides=30, padding='valid')(conv_dropout)\n",
        "    convolutions.append(pooling)\n",
        "  \n",
        "  if len(convolutions) > 1:\n",
        "    concat = Concatenate()(convolutions)\n",
        "    global_pooling = GlobalMaxPool1D()(concat)\n",
        "    flatten = Flatten()(global_pooling)\n",
        "  else:\n",
        "    global_pooling = GlobalMaxPool1D()(pooling)\n",
        "    flatten = Flatten()(global_pooling)\n",
        "  dropout = Dropout(0.5)(flatten)\n",
        "  output = Dense(N_CLASSES, activation='softmax')(dropout)\n",
        "\n",
        "  model = Model(inputs=inp, outputs=output)\n",
        "  \n",
        "  cosine_loss = CosineSimilarity(axis=0)\n",
        "\n",
        "  #sgd = SGD(learning_rate=0.001, momentum=0.9, nesterov=True)\n",
        "  model.compile(loss=cosine_loss, optimizer='rmsprop', metrics=['acc', f1_m])\n",
        "\n",
        "  model.summary()\n",
        "\n",
        "  return model"
      ],
      "execution_count": 0,
      "outputs": []
    },
    {
      "cell_type": "code",
      "metadata": {
        "id": "-0qyRQoRE-HU",
        "colab_type": "code",
        "colab": {}
      },
      "source": [
        "nn_model = build_cnn_model(N_CLASSES=np.unique(len(le.classes_)),\n",
        "                        MAX_LEN=MAX_LEN,\n",
        "                        NUM_WORDS=NUM_WORDS,\n",
        "                        filter_sizes=list(range(1,3)))"
      ],
      "execution_count": 0,
      "outputs": []
    },
    {
      "cell_type": "code",
      "metadata": {
        "id": "CapgsoEFOKnJ",
        "colab_type": "code",
        "colab": {}
      },
      "source": [
        "history = nn_model.fit(train_seq,\n",
        "                    y_train,\n",
        "                    batch_size=64,\n",
        "                    #validation_split=.1,\n",
        "                    validation_data=(test_seq,y_test),\n",
        "                    epochs=1000)"
      ],
      "execution_count": 0,
      "outputs": []
    },
    {
      "cell_type": "code",
      "metadata": {
        "id": "woQ8dhFlcfD4",
        "colab_type": "code",
        "outputId": "f97ae7f0-3645-4b89-c2ac-12dfc5961889",
        "colab": {
          "base_uri": "https://localhost:8080/",
          "height": 573
        }
      },
      "source": [
        "plot_results(history)"
      ],
      "execution_count": 25,
      "outputs": [
        {
          "output_type": "display_data",
          "data": {
            "image/png": "[encoded data removed]",
            "text/plain": [
              "<Figure size 432x288 with 1 Axes>"
            ]
          },
          "metadata": {
            "tags": []
          }
        },
        {
          "output_type": "display_data",
          "data": {
            "image/png": "[encoded data removed]",
            "text/plain": [
              "<Figure size 432x288 with 1 Axes>"
            ]
          },
          "metadata": {
            "tags": []
          }
        }
      ]
    },
    {
      "cell_type": "code",
      "metadata": {
        "id": "z3V8gQZXchQ6",
        "colab_type": "code",
        "outputId": "2540d798-0414-47c2-e3e5-d7ae69775f8e",
        "colab": {
          "base_uri": "https://localhost:8080/",
          "height": 34
        }
      },
      "source": [
        "!ls"
      ],
      "execution_count": 0,
      "outputs": [
        {
          "output_type": "stream",
          "text": [
            " 1800-vocab.pkl   1800-w.npy  'Colab Notebooks'   full_taggeddataset.csv\n"
          ],
          "name": "stdout"
        }
      ]
    },
    {
      "cell_type": "markdown",
      "metadata": {
        "id": "-Qed1fYGguXV",
        "colab_type": "text"
      },
      "source": [
        "# 2. Model: Using Pretrained FastText Embeddings"
      ]
    },
    {
      "cell_type": "code",
      "metadata": {
        "id": "pi223KTnoz2N",
        "colab_type": "code",
        "outputId": "b24b6997-93a9-4012-9489-f42324c2b77a",
        "colab": {
          "base_uri": "https://localhost:8080/",
          "height": 34
        }
      },
      "source": [
        "from fasttext.FastText import load_model\n",
        "model = load_model('cc.de.300.bin')"
      ],
      "execution_count": 15,
      "outputs": [
        {
          "output_type": "stream",
          "text": [
            "\n"
          ],
          "name": "stderr"
        }
      ]
    },
    {
      "cell_type": "code",
      "metadata": {
        "id": "7NeBAgjBzby_",
        "colab_type": "code",
        "colab": {}
      },
      "source": [
        "vocab = set(model.get_words())"
      ],
      "execution_count": 0,
      "outputs": []
    },
    {
      "cell_type": "code",
      "metadata": {
        "id": "qegHoHkJ0TFr",
        "colab_type": "code",
        "outputId": "13a405ba-ebd2-436c-c403-62613b9ed78d",
        "colab": {
          "base_uri": "https://localhost:8080/",
          "height": 34
        }
      },
      "source": [
        "from scipy.spatial.distance import cosine\n",
        "\n",
        "cosine(model.get_word_vector('Stuhl'), model.get_word_vector('Bundeskanzler'))"
      ],
      "execution_count": 17,
      "outputs": [
        {
          "output_type": "execute_result",
          "data": {
            "text/plain": [
              "0.7707312256097794"
            ]
          },
          "metadata": {
            "tags": []
          },
          "execution_count": 17
        }
      ]
    },
    {
      "cell_type": "code",
      "metadata": {
        "id": "6x0ZwCugizIT",
        "colab_type": "code",
        "colab": {}
      },
      "source": [
        "from tqdm import tqdm_notebook\n",
        "from typing import List\n",
        "\n",
        "def filter_token(texts: List[str], vocab: set):\n",
        "  results = []\n",
        "  for entry in tqdm_notebook(texts):\n",
        "    result = []\n",
        "    for token in entry.split():\n",
        "      if token in vocab:\n",
        "        result.append(token)\n",
        "    results.append(\" \".join(result))\n",
        "  return results"
      ],
      "execution_count": 0,
      "outputs": []
    },
    {
      "cell_type": "code",
      "metadata": {
        "id": "HmoPhCpRit_u",
        "colab_type": "code",
        "colab": {}
      },
      "source": [
        "df_train_filtered = df_train.copy()\n",
        "df_test_filtered = df_test.copy()\n",
        "\n",
        "#df_train_filtered.lemmas = filter_token(df_train_filtered.lemmas, set(vocab))\n",
        "#df_test_filtered.lemmas = filter_token(df_test_filtered.lemmas, set(vocab))"
      ],
      "execution_count": 0,
      "outputs": []
    },
    {
      "cell_type": "code",
      "metadata": {
        "id": "MPIT-SdSjtEz",
        "colab_type": "code",
        "outputId": "9359efe8-033b-4a9e-bdc7-4778a0f3fb3a",
        "colab": {
          "base_uri": "https://localhost:8080/",
          "height": 221
        }
      },
      "source": [
        "df_train_filtered.lemmas"
      ],
      "execution_count": 120,
      "outputs": [
        {
          "output_type": "execute_result",
          "data": {
            "text/plain": [
              "135    die zwei und dreysigste Kapitel . die Präsiden...\n",
              "90     Titulus Quintus . de STUPRO . von Jungfrawen o...\n",
              "301    Lehr-Puncten . ein absonderliche Haupt-Lehre s...\n",
              "54     LXXIIX . Huren-Liebe sein nicht beständig . Er...\n",
              "10     wir haben unser Volk nun sehen wieder kommen /...\n",
              "                             ...                        \n",
              "255    wie man die Zucker / Frucht / Wurzel / Schale ...\n",
              "58     die fünft Betrachtung / wie leicht die Kleinod...\n",
              "257    die . Kapitel . von die Purgier-Mitteln / und ...\n",
              "99     SECUNDA PARS . von Ritter-Rath und die Verfass...\n",
              "102    Titel V . wie die Stadt : Amt : und Gerichtssc...\n",
              "Name: lemmas, Length: 90, dtype: object"
            ]
          },
          "metadata": {
            "tags": []
          },
          "execution_count": 120
        }
      ]
    },
    {
      "cell_type": "code",
      "metadata": {
        "id": "tD5RKtJgg9lC",
        "colab_type": "code",
        "colab": {}
      },
      "source": [
        "from tensorflow.keras.preprocessing.text import Tokenizer\n",
        "from tensorflow.keras.preprocessing.sequence import pad_sequences\n",
        "\n",
        "NUM_WORDS = 15000\n",
        "MAX_LEN = 500\n",
        "\n",
        "tokenizer = Tokenizer(num_words=NUM_WORDS)\n",
        "tokenizer.fit_on_texts(df_test_filtered.lemmas)\n",
        "\n",
        "train_seq = tokenizer.texts_to_sequences(df_train_filtered.lemmas)\n",
        "test_seq = tokenizer.texts_to_sequences(df_test_filtered.lemmas)\n",
        "\n",
        "train_seq = pad_sequences(train_seq, maxlen=MAX_LEN)\n",
        "test_seq = pad_sequences(test_seq, maxlen=MAX_LEN)"
      ],
      "execution_count": 0,
      "outputs": []
    },
    {
      "cell_type": "code",
      "metadata": {
        "id": "upwQHAqf6pox",
        "colab_type": "code",
        "colab": {}
      },
      "source": [
        "period_seqs = [pad_sequences(tokenizer.texts_to_sequences(df_period.lemmas), maxlen=MAX_LEN) for df_period in period_dfs]"
      ],
      "execution_count": 0,
      "outputs": []
    },
    {
      "cell_type": "code",
      "metadata": {
        "id": "gSsNHB2HmNR7",
        "colab_type": "code",
        "outputId": "0b5281d5-01ee-4f0e-974b-552d71e9c961",
        "colab": {
          "base_uri": "https://localhost:8080/",
          "height": 51
        }
      },
      "source": [
        "import numpy as np\n",
        "\n",
        "word_index = tokenizer.word_index\n",
        "print('Found %s unique tokens.' % len(word_index))\n",
        "\n",
        "\n",
        "embedding_matrix = np.zeros((len(word_index) + 1, 300))\n",
        "for word, i in word_index.items():\n",
        "    embedding_vector = model.get_word_vector(word)\n",
        "    embedding_matrix[i] = embedding_vector\n",
        "\n",
        "embedding_matrix.shape"
      ],
      "execution_count": 123,
      "outputs": [
        {
          "output_type": "stream",
          "text": [
            "Found 76293 unique tokens.\n"
          ],
          "name": "stdout"
        },
        {
          "output_type": "execute_result",
          "data": {
            "text/plain": [
              "(76294, 300)"
            ]
          },
          "metadata": {
            "tags": []
          },
          "execution_count": 123
        }
      ]
    },
    {
      "cell_type": "code",
      "metadata": {
        "id": "J-dR7FeLhCHq",
        "colab_type": "code",
        "outputId": "a8568157-8e71-442b-d8ef-a899f9981bab",
        "colab": {
          "base_uri": "https://localhost:8080/",
          "height": 34
        }
      },
      "source": [
        "from keras.utils import to_categorical\n",
        "from sklearn.preprocessing import LabelEncoder, LabelEncoder\n",
        "\n",
        "le = LabelEncoder()\n",
        "\n",
        "y_train = le.fit_transform(df_train_filtered.genre)\n",
        "y_test = le.transform(df_test_filtered.genre)\n",
        "\n",
        "y_train = to_categorical(y_train)\n",
        "y_test_enc = y_test\n",
        "y_test = to_categorical(y_test)\n",
        "\n",
        "le.classes_"
      ],
      "execution_count": 124,
      "outputs": [
        {
          "output_type": "execute_result",
          "data": {
            "text/plain": [
              "array(['DRAM', 'HUMA', 'LEGA', 'NARR', 'SCIE', 'SERM'], dtype=object)"
            ]
          },
          "metadata": {
            "tags": []
          },
          "execution_count": 124
        }
      ]
    },
    {
      "cell_type": "code",
      "metadata": {
        "id": "KMCJu1rI7HYD",
        "colab_type": "code",
        "colab": {}
      },
      "source": [
        "period_labels  = [le.transform(df_period.genre) for df_period in period_dfs]"
      ],
      "execution_count": 0,
      "outputs": []
    },
    {
      "cell_type": "code",
      "metadata": {
        "id": "KC1AhpRH7D6T",
        "colab_type": "code",
        "colab": {}
      },
      "source": [
        ""
      ],
      "execution_count": 0,
      "outputs": []
    },
    {
      "cell_type": "code",
      "metadata": {
        "id": "RE6GMQvGD98F",
        "colab_type": "code",
        "colab": {}
      },
      "source": [
        "from tensorflow.keras.losses import CosineSimilarity, CategoricalCrossentropy\n",
        "\n",
        "def cosine_loss(y_true, y_pred):\n",
        "  cos = CosineSimilarity(axis=-1) \n",
        "  return  1 - cos(y_true, y_pred)\n",
        "\n",
        "\n",
        "def combined_loss(y_true, y_pred, alpha=0.5):\n",
        "  cos = CosineSimilarity()\n",
        "  cross = CategoricalCrossentropy()\n",
        "  return (1 - cos(y_true, y_pred)) * (alpha * cross(y_true, y_pred))"
      ],
      "execution_count": 0,
      "outputs": []
    },
    {
      "cell_type": "code",
      "metadata": {
        "id": "CybmGNG9kThj",
        "colab_type": "code",
        "colab": {}
      },
      "source": [
        "from tensorflow.keras.models import Model\n",
        "from tensorflow.keras.layers import *\n",
        "from tensorflow.keras.optimizers import SGD, Adam, Adadelta, RMSprop\n",
        "from tensorflow.keras.losses import CosineSimilarity, CategoricalCrossentropy\n",
        "import tensorflow as tf\n",
        "\n",
        "\n",
        "def build_cnn_model_we(N_CLASSES,\n",
        "                    MAX_LEN,\n",
        "                    NUM_WORDS,\n",
        "                    EMBEDDING_MATRIX,\n",
        "                    filter_sizes=[5,3,2],\n",
        "                    num_filters=32):\n",
        "\n",
        "  inp = Input(shape=(MAX_LEN,))\n",
        "  \n",
        "\n",
        "  emb = Embedding(input_dim=NUM_WORDS,\n",
        "                  output_dim=EMBEDDING_MATRIX.shape[1],\n",
        "                  input_length=MAX_LEN,\n",
        "                  weights=[EMBEDDING_MATRIX],\n",
        "                  trainable=False)(inp)\n",
        "  \n",
        "  emb_dropout = SpatialDropout1D(0.3)(emb)\n",
        "  \n",
        "  convolutions = []\n",
        "  for fs in filter_sizes:\n",
        "\n",
        "    conv1 = Conv1D(filters=num_filters,\n",
        "                  strides=2,\n",
        "                  kernel_size=fs,\n",
        "                  padding='same',\n",
        "                  #kernel_regularizer='l2',\n",
        "                  activity_regularizer='l2')(emb_dropout)\n",
        "    \n",
        "    conv_dropout1 = SpatialDropout1D(0.4)(conv1)\n",
        "    pooling1 = MaxPool1D(strides=2, padding='same')(conv_dropout1)\n",
        "    \n",
        "    conv2 = Conv1D(filters=num_filters,\n",
        "                      strides=2,\n",
        "                      kernel_size=fs,\n",
        "                      padding='same',\n",
        "                      #kernel_regularizer='l2',\n",
        "                      activity_regularizer='l2')(pooling1)\n",
        "    conv_dropout2 = SpatialDropout1D(0.4)(conv2)\n",
        "    pooling2 = MaxPool1D(strides=2, padding='same')(conv_dropout2)\n",
        "\n",
        "    conv3 = Conv1D(filters=num_filters,\n",
        "                      strides=2,\n",
        "                      kernel_size=fs,\n",
        "                      padding='same',\n",
        "                      #kernel_regularizer='l2',\n",
        "                      activity_regularizer='l2')(pooling2)\n",
        "    conv_dropout3 = SpatialDropout1D(0.4)(conv3)\n",
        "    pooling3 = MaxPool1D(strides=2, padding='same')(conv_dropout3)\n",
        "\n",
        "\n",
        "    convolutions.append(pooling3)\n",
        "  \n",
        "  if len(convolutions) > 1:\n",
        "    \n",
        "    concat = Concatenate()(convolutions)\n",
        "    lstm = Bidirectional(LSTM(128, recurrent_dropout=0.1, activity_regularizer='l2'))(concat)\n",
        "\n",
        "    flatten = Flatten()(lstm)\n",
        "  else:\n",
        "    lstm = Bidirectional(LSTM(128, recurrent_dropout=0.1, activity_regularizer='l2'))(pooling3)\n",
        "    flatten = Flatten()(lstm)\n",
        "  \n",
        "  \n",
        "  dropout = Dropout(0.6)(flatten)\n",
        "\n",
        "  output = Dense(N_CLASSES, activation='softmax')(dropout)\n",
        "\n",
        "  model = Model(inputs=inp, outputs=output)\n",
        "\n",
        "  sgd = SGD(learning_rate=0.001, momentum=0.9, nesterov=True)\n",
        "  model.compile(loss='categorical_crossentropy',\n",
        "                optimizer=Adam(),\n",
        "                metrics=['acc', f1_m])\n",
        "\n",
        "  model.summary()\n",
        "\n",
        "  return model"
      ],
      "execution_count": 0,
      "outputs": []
    },
    {
      "cell_type": "code",
      "metadata": {
        "id": "MCENNiI5kqcp",
        "colab_type": "code",
        "outputId": "6256157b-8dc9-4ed5-a319-80c533a0f4b4",
        "colab": {
          "base_uri": "https://localhost:8080/",
          "height": 1000
        }
      },
      "source": [
        "nn_model = build_cnn_model_we(N_CLASSES=np.unique(len(le.classes_)),\n",
        "                        MAX_LEN=MAX_LEN,\n",
        "                        NUM_WORDS=len(word_index)+1,\n",
        "                        EMBEDDING_MATRIX=embedding_matrix,\n",
        "                        num_filters=128,\n",
        "                        filter_sizes=list((6,5,4,3,2)))"
      ],
      "execution_count": 604,
      "outputs": [
        {
          "output_type": "stream",
          "text": [
            "Model: \"model_11\"\n",
            "__________________________________________________________________________________________________\n",
            "Layer (type)                    Output Shape         Param #     Connected to                     \n",
            "==================================================================================================\n",
            "input_12 (InputLayer)           [(None, 500)]        0                                            \n",
            "__________________________________________________________________________________________________\n",
            "embedding_11 (Embedding)        (None, 500, 300)     22888200    input_12[0][0]                   \n",
            "__________________________________________________________________________________________________\n",
            "spatial_dropout1d_176 (SpatialD (None, 500, 300)     0           embedding_11[0][0]               \n",
            "__________________________________________________________________________________________________\n",
            "conv1d_165 (Conv1D)             (None, 250, 128)     230528      spatial_dropout1d_176[0][0]      \n",
            "__________________________________________________________________________________________________\n",
            "conv1d_168 (Conv1D)             (None, 250, 128)     192128      spatial_dropout1d_176[0][0]      \n",
            "__________________________________________________________________________________________________\n",
            "conv1d_171 (Conv1D)             (None, 250, 128)     153728      spatial_dropout1d_176[0][0]      \n",
            "__________________________________________________________________________________________________\n",
            "conv1d_174 (Conv1D)             (None, 250, 128)     115328      spatial_dropout1d_176[0][0]      \n",
            "__________________________________________________________________________________________________\n",
            "conv1d_177 (Conv1D)             (None, 250, 128)     76928       spatial_dropout1d_176[0][0]      \n",
            "__________________________________________________________________________________________________\n",
            "spatial_dropout1d_177 (SpatialD (None, 250, 128)     0           conv1d_165[0][0]                 \n",
            "__________________________________________________________________________________________________\n",
            "spatial_dropout1d_180 (SpatialD (None, 250, 128)     0           conv1d_168[0][0]                 \n",
            "__________________________________________________________________________________________________\n",
            "spatial_dropout1d_183 (SpatialD (None, 250, 128)     0           conv1d_171[0][0]                 \n",
            "__________________________________________________________________________________________________\n",
            "spatial_dropout1d_186 (SpatialD (None, 250, 128)     0           conv1d_174[0][0]                 \n",
            "__________________________________________________________________________________________________\n",
            "spatial_dropout1d_189 (SpatialD (None, 250, 128)     0           conv1d_177[0][0]                 \n",
            "__________________________________________________________________________________________________\n",
            "max_pooling1d_165 (MaxPooling1D (None, 125, 128)     0           spatial_dropout1d_177[0][0]      \n",
            "__________________________________________________________________________________________________\n",
            "max_pooling1d_168 (MaxPooling1D (None, 125, 128)     0           spatial_dropout1d_180[0][0]      \n",
            "__________________________________________________________________________________________________\n",
            "max_pooling1d_171 (MaxPooling1D (None, 125, 128)     0           spatial_dropout1d_183[0][0]      \n",
            "__________________________________________________________________________________________________\n",
            "max_pooling1d_174 (MaxPooling1D (None, 125, 128)     0           spatial_dropout1d_186[0][0]      \n",
            "__________________________________________________________________________________________________\n",
            "max_pooling1d_177 (MaxPooling1D (None, 125, 128)     0           spatial_dropout1d_189[0][0]      \n",
            "__________________________________________________________________________________________________\n",
            "conv1d_166 (Conv1D)             (None, 63, 128)      98432       max_pooling1d_165[0][0]          \n",
            "__________________________________________________________________________________________________\n",
            "conv1d_169 (Conv1D)             (None, 63, 128)      82048       max_pooling1d_168[0][0]          \n",
            "__________________________________________________________________________________________________\n",
            "conv1d_172 (Conv1D)             (None, 63, 128)      65664       max_pooling1d_171[0][0]          \n",
            "__________________________________________________________________________________________________\n",
            "conv1d_175 (Conv1D)             (None, 63, 128)      49280       max_pooling1d_174[0][0]          \n",
            "__________________________________________________________________________________________________\n",
            "conv1d_178 (Conv1D)             (None, 63, 128)      32896       max_pooling1d_177[0][0]          \n",
            "__________________________________________________________________________________________________\n",
            "spatial_dropout1d_178 (SpatialD (None, 63, 128)      0           conv1d_166[0][0]                 \n",
            "__________________________________________________________________________________________________\n",
            "spatial_dropout1d_181 (SpatialD (None, 63, 128)      0           conv1d_169[0][0]                 \n",
            "__________________________________________________________________________________________________\n",
            "spatial_dropout1d_184 (SpatialD (None, 63, 128)      0           conv1d_172[0][0]                 \n",
            "__________________________________________________________________________________________________\n",
            "spatial_dropout1d_187 (SpatialD (None, 63, 128)      0           conv1d_175[0][0]                 \n",
            "__________________________________________________________________________________________________\n",
            "spatial_dropout1d_190 (SpatialD (None, 63, 128)      0           conv1d_178[0][0]                 \n",
            "__________________________________________________________________________________________________\n",
            "max_pooling1d_166 (MaxPooling1D (None, 32, 128)      0           spatial_dropout1d_178[0][0]      \n",
            "__________________________________________________________________________________________________\n",
            "max_pooling1d_169 (MaxPooling1D (None, 32, 128)      0           spatial_dropout1d_181[0][0]      \n",
            "__________________________________________________________________________________________________\n",
            "max_pooling1d_172 (MaxPooling1D (None, 32, 128)      0           spatial_dropout1d_184[0][0]      \n",
            "__________________________________________________________________________________________________\n",
            "max_pooling1d_175 (MaxPooling1D (None, 32, 128)      0           spatial_dropout1d_187[0][0]      \n",
            "__________________________________________________________________________________________________\n",
            "max_pooling1d_178 (MaxPooling1D (None, 32, 128)      0           spatial_dropout1d_190[0][0]      \n",
            "__________________________________________________________________________________________________\n",
            "conv1d_167 (Conv1D)             (None, 16, 128)      98432       max_pooling1d_166[0][0]          \n",
            "__________________________________________________________________________________________________\n",
            "conv1d_170 (Conv1D)             (None, 16, 128)      82048       max_pooling1d_169[0][0]          \n",
            "__________________________________________________________________________________________________\n",
            "conv1d_173 (Conv1D)             (None, 16, 128)      65664       max_pooling1d_172[0][0]          \n",
            "__________________________________________________________________________________________________\n",
            "conv1d_176 (Conv1D)             (None, 16, 128)      49280       max_pooling1d_175[0][0]          \n",
            "__________________________________________________________________________________________________\n",
            "conv1d_179 (Conv1D)             (None, 16, 128)      32896       max_pooling1d_178[0][0]          \n",
            "__________________________________________________________________________________________________\n",
            "spatial_dropout1d_179 (SpatialD (None, 16, 128)      0           conv1d_167[0][0]                 \n",
            "__________________________________________________________________________________________________\n",
            "spatial_dropout1d_182 (SpatialD (None, 16, 128)      0           conv1d_170[0][0]                 \n",
            "__________________________________________________________________________________________________\n",
            "spatial_dropout1d_185 (SpatialD (None, 16, 128)      0           conv1d_173[0][0]                 \n",
            "__________________________________________________________________________________________________\n",
            "spatial_dropout1d_188 (SpatialD (None, 16, 128)      0           conv1d_176[0][0]                 \n",
            "__________________________________________________________________________________________________\n",
            "spatial_dropout1d_191 (SpatialD (None, 16, 128)      0           conv1d_179[0][0]                 \n",
            "__________________________________________________________________________________________________\n",
            "max_pooling1d_167 (MaxPooling1D (None, 8, 128)       0           spatial_dropout1d_179[0][0]      \n",
            "__________________________________________________________________________________________________\n",
            "max_pooling1d_170 (MaxPooling1D (None, 8, 128)       0           spatial_dropout1d_182[0][0]      \n",
            "__________________________________________________________________________________________________\n",
            "max_pooling1d_173 (MaxPooling1D (None, 8, 128)       0           spatial_dropout1d_185[0][0]      \n",
            "__________________________________________________________________________________________________\n",
            "max_pooling1d_176 (MaxPooling1D (None, 8, 128)       0           spatial_dropout1d_188[0][0]      \n",
            "__________________________________________________________________________________________________\n",
            "max_pooling1d_179 (MaxPooling1D (None, 8, 128)       0           spatial_dropout1d_191[0][0]      \n",
            "__________________________________________________________________________________________________\n",
            "concatenate_11 (Concatenate)    (None, 8, 640)       0           max_pooling1d_167[0][0]          \n",
            "                                                                 max_pooling1d_170[0][0]          \n",
            "                                                                 max_pooling1d_173[0][0]          \n",
            "                                                                 max_pooling1d_176[0][0]          \n",
            "                                                                 max_pooling1d_179[0][0]          \n",
            "__________________________________________________________________________________________________\n",
            "bidirectional_11 (Bidirectional (None, 256)          787456      concatenate_11[0][0]             \n",
            "__________________________________________________________________________________________________\n",
            "flatten_11 (Flatten)            (None, 256)          0           bidirectional_11[0][0]           \n",
            "__________________________________________________________________________________________________\n",
            "dropout_11 (Dropout)            (None, 256)          0           flatten_11[0][0]                 \n",
            "__________________________________________________________________________________________________\n",
            "dense_11 (Dense)                (None, 6)            1542        dropout_11[0][0]                 \n",
            "==================================================================================================\n",
            "Total params: 25,102,478\n",
            "Trainable params: 2,214,278\n",
            "Non-trainable params: 22,888,200\n",
            "__________________________________________________________________________________________________\n"
          ],
          "name": "stdout"
        }
      ]
    },
    {
      "cell_type": "code",
      "metadata": {
        "id": "0V1VaEXDldT6",
        "colab_type": "code",
        "outputId": "c0bd82b3-8963-4df0-bb68-bc8910e2765c",
        "colab": {
          "base_uri": "https://localhost:8080/",
          "height": 1000
        }
      },
      "source": [
        "from tensorflow.keras.callbacks import ReduceLROnPlateau\n",
        "\n",
        "reduce_lr = ReduceLROnPlateau(monitor='val_loss', factor=0.1, patience=10, verbose=1, mode='auto', min_delta=0.00001, cooldown=2, min_lr=0)\n",
        "\n",
        "history = nn_model.fit(train_seq,\n",
        "                    y_train,\n",
        "                    batch_size=16,\n",
        "                    #validation_split=.5,\n",
        "                    validation_data=(test_seq,y_test),\n",
        "                    callbacks=[reduce_lr],\n",
        "                    epochs=200)"
      ],
      "execution_count": 605,
      "outputs": [
        {
          "output_type": "stream",
          "text": [
            "Train on 90 samples, validate on 570 samples\n",
            "Epoch 1/200\n",
            "90/90 [==============================] - 8s 87ms/sample - loss: 30.5926 - acc: 0.1778 - f1_m: 0.0000e+00 - val_loss: 12.3104 - val_acc: 0.1789 - val_f1_m: 0.0000e+00\n",
            "Epoch 2/200\n",
            "90/90 [==============================] - 1s 7ms/sample - loss: 21.0645 - acc: 0.2111 - f1_m: 0.0000e+00 - val_loss: 8.8424 - val_acc: 0.2000 - val_f1_m: 0.0000e+00\n",
            "Epoch 3/200\n",
            "90/90 [==============================] - 1s 7ms/sample - loss: 16.9350 - acc: 0.1889 - f1_m: 0.0000e+00 - val_loss: 7.1768 - val_acc: 0.1930 - val_f1_m: 0.0000e+00\n",
            "Epoch 4/200\n",
            "90/90 [==============================] - 1s 7ms/sample - loss: 14.4333 - acc: 0.1889 - f1_m: 0.0000e+00 - val_loss: 6.1026 - val_acc: 0.1561 - val_f1_m: 0.0000e+00\n",
            "Epoch 5/200\n",
            "90/90 [==============================] - 1s 7ms/sample - loss: 12.3865 - acc: 0.3000 - f1_m: 0.0000e+00 - val_loss: 5.3623 - val_acc: 0.2649 - val_f1_m: 0.0000e+00\n",
            "Epoch 6/200\n",
            "90/90 [==============================] - 1s 7ms/sample - loss: 11.0555 - acc: 0.1778 - f1_m: 0.0000e+00 - val_loss: 4.8295 - val_acc: 0.2842 - val_f1_m: 0.0000e+00\n",
            "Epoch 7/200\n",
            "90/90 [==============================] - 1s 7ms/sample - loss: 9.9018 - acc: 0.2000 - f1_m: 0.0000e+00 - val_loss: 4.4155 - val_acc: 0.2053 - val_f1_m: 0.0000e+00\n",
            "Epoch 8/200\n",
            "90/90 [==============================] - 1s 7ms/sample - loss: 8.9637 - acc: 0.1667 - f1_m: 0.0000e+00 - val_loss: 4.0897 - val_acc: 0.2105 - val_f1_m: 0.0000e+00\n",
            "Epoch 9/200\n",
            "90/90 [==============================] - 1s 7ms/sample - loss: 8.2071 - acc: 0.2000 - f1_m: 0.0000e+00 - val_loss: 3.8225 - val_acc: 0.3298 - val_f1_m: 0.0000e+00\n",
            "Epoch 10/200\n",
            "90/90 [==============================] - 1s 7ms/sample - loss: 7.6045 - acc: 0.2000 - f1_m: 0.0000e+00 - val_loss: 3.5893 - val_acc: 0.3018 - val_f1_m: 0.0000e+00\n",
            "Epoch 11/200\n",
            "90/90 [==============================] - 1s 7ms/sample - loss: 7.0261 - acc: 0.2111 - f1_m: 0.0000e+00 - val_loss: 3.3998 - val_acc: 0.4316 - val_f1_m: 0.0000e+00\n",
            "Epoch 12/200\n",
            "90/90 [==============================] - 1s 7ms/sample - loss: 6.4982 - acc: 0.3111 - f1_m: 0.0000e+00 - val_loss: 3.2458 - val_acc: 0.2228 - val_f1_m: 0.0000e+00\n",
            "Epoch 13/200\n",
            "90/90 [==============================] - 1s 7ms/sample - loss: 6.0954 - acc: 0.2444 - f1_m: 0.0000e+00 - val_loss: 3.0991 - val_acc: 0.3947 - val_f1_m: 0.0000e+00\n",
            "Epoch 14/200\n",
            "90/90 [==============================] - 1s 7ms/sample - loss: 5.6992 - acc: 0.3111 - f1_m: 0.0000e+00 - val_loss: 2.9752 - val_acc: 0.3491 - val_f1_m: 0.0000e+00\n",
            "Epoch 15/200\n",
            "90/90 [==============================] - 1s 7ms/sample - loss: 5.4309 - acc: 0.3333 - f1_m: 0.0000e+00 - val_loss: 2.8794 - val_acc: 0.2439 - val_f1_m: 0.0000e+00\n",
            "Epoch 16/200\n",
            "90/90 [==============================] - 1s 7ms/sample - loss: 5.1267 - acc: 0.4000 - f1_m: 0.0000e+00 - val_loss: 2.7774 - val_acc: 0.3614 - val_f1_m: 0.0000e+00\n",
            "Epoch 17/200\n",
            "90/90 [==============================] - 1s 7ms/sample - loss: 4.7810 - acc: 0.3667 - f1_m: 0.0000e+00 - val_loss: 2.6531 - val_acc: 0.4298 - val_f1_m: 0.0000e+00\n",
            "Epoch 18/200\n",
            "90/90 [==============================] - 1s 7ms/sample - loss: 4.4915 - acc: 0.4000 - f1_m: 0.0959 - val_loss: 2.7630 - val_acc: 0.1947 - val_f1_m: 0.0065\n",
            "Epoch 19/200\n",
            "90/90 [==============================] - 1s 7ms/sample - loss: 4.3233 - acc: 0.3667 - f1_m: 0.1572 - val_loss: 2.4367 - val_acc: 0.4246 - val_f1_m: 0.0786\n",
            "Epoch 20/200\n",
            "90/90 [==============================] - 1s 7ms/sample - loss: 4.0913 - acc: 0.4333 - f1_m: 0.1722 - val_loss: 3.2277 - val_acc: 0.1772 - val_f1_m: 0.1758\n",
            "Epoch 21/200\n",
            "90/90 [==============================] - 1s 7ms/sample - loss: 4.2773 - acc: 0.2667 - f1_m: 0.1681 - val_loss: 2.5238 - val_acc: 0.4333 - val_f1_m: 0.0251\n",
            "Epoch 22/200\n",
            "90/90 [==============================] - 1s 8ms/sample - loss: 3.9332 - acc: 0.4778 - f1_m: 0.1646 - val_loss: 2.3896 - val_acc: 0.4316 - val_f1_m: 0.0807\n",
            "Epoch 23/200\n",
            "90/90 [==============================] - 1s 8ms/sample - loss: 3.7713 - acc: 0.5333 - f1_m: 0.1463 - val_loss: 2.3073 - val_acc: 0.5140 - val_f1_m: 0.0878\n",
            "Epoch 24/200\n",
            "90/90 [==============================] - 1s 7ms/sample - loss: 3.6143 - acc: 0.4889 - f1_m: 0.1818 - val_loss: 2.3030 - val_acc: 0.4263 - val_f1_m: 0.0618\n",
            "Epoch 25/200\n",
            "90/90 [==============================] - 1s 8ms/sample - loss: 3.4782 - acc: 0.4889 - f1_m: 0.2637 - val_loss: 2.2708 - val_acc: 0.3632 - val_f1_m: 0.2903\n",
            "Epoch 26/200\n",
            "90/90 [==============================] - 1s 8ms/sample - loss: 3.5826 - acc: 0.4444 - f1_m: 0.3309 - val_loss: 2.9495 - val_acc: 0.2211 - val_f1_m: 0.1757\n",
            "Epoch 27/200\n",
            "90/90 [==============================] - 1s 7ms/sample - loss: 3.7292 - acc: 0.3778 - f1_m: 0.1885 - val_loss: 2.6119 - val_acc: 0.3211 - val_f1_m: 0.0000e+00\n",
            "Epoch 28/200\n",
            "90/90 [==============================] - 1s 8ms/sample - loss: 3.4770 - acc: 0.4444 - f1_m: 0.1993 - val_loss: 2.5411 - val_acc: 0.1860 - val_f1_m: 0.1588\n",
            "Epoch 29/200\n",
            "90/90 [==============================] - 1s 8ms/sample - loss: 3.3109 - acc: 0.5778 - f1_m: 0.2697 - val_loss: 2.3842 - val_acc: 0.3579 - val_f1_m: 0.2324\n",
            "Epoch 30/200\n",
            "90/90 [==============================] - 1s 8ms/sample - loss: 3.0910 - acc: 0.6333 - f1_m: 0.3773 - val_loss: 2.2312 - val_acc: 0.4579 - val_f1_m: 0.1327\n",
            "Epoch 31/200\n",
            "90/90 [==============================] - 1s 7ms/sample - loss: 2.9420 - acc: 0.6778 - f1_m: 0.4542 - val_loss: 2.9004 - val_acc: 0.1912 - val_f1_m: 0.1810\n",
            "Epoch 32/200\n",
            "90/90 [==============================] - 1s 7ms/sample - loss: 2.9020 - acc: 0.5889 - f1_m: 0.5029 - val_loss: 2.3752 - val_acc: 0.3491 - val_f1_m: 0.2353\n",
            "Epoch 33/200\n",
            "90/90 [==============================] - 1s 8ms/sample - loss: 2.8573 - acc: 0.7333 - f1_m: 0.5918 - val_loss: 3.1094 - val_acc: 0.2281 - val_f1_m: 0.1973\n",
            "Epoch 34/200\n",
            "90/90 [==============================] - 1s 7ms/sample - loss: 3.2754 - acc: 0.4889 - f1_m: 0.4746 - val_loss: 2.8461 - val_acc: 0.3456 - val_f1_m: 0.0937\n",
            "Epoch 35/200\n",
            "90/90 [==============================] - 1s 7ms/sample - loss: 3.1711 - acc: 0.6000 - f1_m: 0.5883 - val_loss: 2.6527 - val_acc: 0.3772 - val_f1_m: 0.1910\n",
            "Epoch 36/200\n",
            "90/90 [==============================] - 1s 7ms/sample - loss: 2.9306 - acc: 0.8000 - f1_m: 0.6683 - val_loss: 2.7562 - val_acc: 0.3175 - val_f1_m: 0.2325\n",
            "Epoch 37/200\n",
            "90/90 [==============================] - 1s 7ms/sample - loss: 2.7798 - acc: 0.8000 - f1_m: 0.7487 - val_loss: 2.8297 - val_acc: 0.3053 - val_f1_m: 0.2570\n",
            "Epoch 38/200\n",
            "90/90 [==============================] - 1s 7ms/sample - loss: 2.6153 - acc: 0.8333 - f1_m: 0.8255 - val_loss: 2.7289 - val_acc: 0.3175 - val_f1_m: 0.2126\n",
            "Epoch 39/200\n",
            "90/90 [==============================] - 1s 7ms/sample - loss: 2.3478 - acc: 0.8778 - f1_m: 0.8077 - val_loss: 2.9264 - val_acc: 0.2351 - val_f1_m: 0.1900\n",
            "Epoch 40/200\n",
            "80/90 [=========================>....] - ETA: 0s - loss: 2.3414 - acc: 0.8875 - f1_m: 0.8527\n",
            "Epoch 00040: ReduceLROnPlateau reducing learning rate to 0.00010000000474974513.\n",
            "90/90 [==============================] - 1s 7ms/sample - loss: 2.3476 - acc: 0.8889 - f1_m: 0.8356 - val_loss: 3.0132 - val_acc: 0.2877 - val_f1_m: 0.2370\n",
            "Epoch 41/200\n",
            "90/90 [==============================] - 1s 7ms/sample - loss: 2.4125 - acc: 0.8111 - f1_m: 0.7675 - val_loss: 2.3393 - val_acc: 0.4105 - val_f1_m: 0.2445\n",
            "Epoch 42/200\n",
            "90/90 [==============================] - 1s 7ms/sample - loss: 2.1847 - acc: 0.8889 - f1_m: 0.8428 - val_loss: 2.2708 - val_acc: 0.4298 - val_f1_m: 0.2073\n",
            "Epoch 43/200\n",
            "90/90 [==============================] - 1s 7ms/sample - loss: 2.0173 - acc: 0.9333 - f1_m: 0.9126 - val_loss: 2.4976 - val_acc: 0.3263 - val_f1_m: 0.2019\n",
            "Epoch 44/200\n",
            "90/90 [==============================] - 1s 7ms/sample - loss: 1.9187 - acc: 0.9556 - f1_m: 0.9559 - val_loss: 2.3172 - val_acc: 0.3316 - val_f1_m: 0.1801\n",
            "Epoch 45/200\n",
            "90/90 [==============================] - 1s 7ms/sample - loss: 1.9035 - acc: 0.9556 - f1_m: 0.9086 - val_loss: 2.1996 - val_acc: 0.3877 - val_f1_m: 0.1764\n",
            "Epoch 46/200\n",
            "90/90 [==============================] - 1s 7ms/sample - loss: 1.7693 - acc: 1.0000 - f1_m: 0.9539 - val_loss: 2.2584 - val_acc: 0.3263 - val_f1_m: 0.2029\n",
            "Epoch 47/200\n",
            "90/90 [==============================] - 1s 8ms/sample - loss: 1.7412 - acc: 0.9778 - f1_m: 0.9805 - val_loss: 2.1829 - val_acc: 0.3754 - val_f1_m: 0.2046\n",
            "Epoch 48/200\n",
            "90/90 [==============================] - 1s 7ms/sample - loss: 1.7245 - acc: 0.9778 - f1_m: 0.9842 - val_loss: 2.1467 - val_acc: 0.3947 - val_f1_m: 0.2000\n",
            "Epoch 49/200\n",
            "90/90 [==============================] - 1s 7ms/sample - loss: 1.6865 - acc: 1.0000 - f1_m: 0.9835 - val_loss: 2.2107 - val_acc: 0.3456 - val_f1_m: 0.2019\n",
            "Epoch 50/200\n",
            "90/90 [==============================] - 1s 7ms/sample - loss: 1.6733 - acc: 0.9889 - f1_m: 0.9559 - val_loss: 2.1370 - val_acc: 0.3596 - val_f1_m: 0.2025\n",
            "Epoch 51/200\n",
            "90/90 [==============================] - 1s 7ms/sample - loss: 1.6465 - acc: 1.0000 - f1_m: 0.9839 - val_loss: 2.1084 - val_acc: 0.3649 - val_f1_m: 0.1879\n",
            "Epoch 52/200\n",
            "90/90 [==============================] - 1s 7ms/sample - loss: 1.6214 - acc: 0.9889 - f1_m: 0.9731 - val_loss: 2.1811 - val_acc: 0.3439 - val_f1_m: 0.1980\n",
            "Epoch 53/200\n",
            "90/90 [==============================] - 1s 7ms/sample - loss: 1.5964 - acc: 1.0000 - f1_m: 0.9859 - val_loss: 2.2183 - val_acc: 0.3386 - val_f1_m: 0.1996\n",
            "Epoch 54/200\n",
            "90/90 [==============================] - 1s 7ms/sample - loss: 1.5907 - acc: 1.0000 - f1_m: 0.9805 - val_loss: 2.0615 - val_acc: 0.3947 - val_f1_m: 0.2044\n",
            "Epoch 55/200\n",
            "90/90 [==============================] - 1s 7ms/sample - loss: 1.5466 - acc: 0.9889 - f1_m: 0.9781 - val_loss: 2.1155 - val_acc: 0.3526 - val_f1_m: 0.1692\n",
            "Epoch 56/200\n",
            "90/90 [==============================] - 1s 7ms/sample - loss: 1.5162 - acc: 0.9889 - f1_m: 0.9859 - val_loss: 2.1522 - val_acc: 0.3509 - val_f1_m: 0.1882\n",
            "Epoch 57/200\n",
            "90/90 [==============================] - 1s 7ms/sample - loss: 1.5044 - acc: 1.0000 - f1_m: 0.9859 - val_loss: 2.1440 - val_acc: 0.3509 - val_f1_m: 0.1823\n",
            "Epoch 58/200\n",
            "90/90 [==============================] - 1s 8ms/sample - loss: 1.4728 - acc: 0.9778 - f1_m: 0.9808 - val_loss: 2.1122 - val_acc: 0.3719 - val_f1_m: 0.1949\n",
            "Epoch 59/200\n",
            "90/90 [==============================] - 1s 7ms/sample - loss: 1.4678 - acc: 1.0000 - f1_m: 0.9892 - val_loss: 2.1295 - val_acc: 0.3509 - val_f1_m: 0.1763\n",
            "Epoch 60/200\n",
            "90/90 [==============================] - 1s 7ms/sample - loss: 1.4502 - acc: 1.0000 - f1_m: 0.9892 - val_loss: 2.1193 - val_acc: 0.3526 - val_f1_m: 0.1782\n",
            "Epoch 61/200\n",
            "90/90 [==============================] - 1s 7ms/sample - loss: 1.4385 - acc: 0.9889 - f1_m: 0.9892 - val_loss: 2.0740 - val_acc: 0.3632 - val_f1_m: 0.1782\n",
            "Epoch 62/200\n",
            "90/90 [==============================] - 1s 7ms/sample - loss: 1.4204 - acc: 1.0000 - f1_m: 0.9892 - val_loss: 2.0899 - val_acc: 0.3386 - val_f1_m: 0.1945\n",
            "Epoch 63/200\n",
            "90/90 [==============================] - 1s 7ms/sample - loss: 1.3947 - acc: 1.0000 - f1_m: 1.0000 - val_loss: 2.1716 - val_acc: 0.3263 - val_f1_m: 0.1878\n",
            "Epoch 64/200\n",
            "80/90 [=========================>....] - ETA: 0s - loss: 1.3882 - acc: 1.0000 - f1_m: 1.0000\n",
            "Epoch 00064: ReduceLROnPlateau reducing learning rate to 1.0000000474974514e-05.\n",
            "90/90 [==============================] - 1s 7ms/sample - loss: 1.3898 - acc: 1.0000 - f1_m: 1.0000 - val_loss: 2.1316 - val_acc: 0.3351 - val_f1_m: 0.1759\n",
            "Epoch 65/200\n",
            "90/90 [==============================] - 1s 7ms/sample - loss: 1.3727 - acc: 1.0000 - f1_m: 1.0000 - val_loss: 2.1193 - val_acc: 0.3404 - val_f1_m: 0.1736\n",
            "Epoch 66/200\n",
            "90/90 [==============================] - 1s 7ms/sample - loss: 1.3641 - acc: 0.9889 - f1_m: 0.9780 - val_loss: 2.1021 - val_acc: 0.3491 - val_f1_m: 0.1720\n",
            "Epoch 67/200\n",
            "90/90 [==============================] - 1s 7ms/sample - loss: 1.3798 - acc: 0.9778 - f1_m: 0.9842 - val_loss: 2.0987 - val_acc: 0.3526 - val_f1_m: 0.1802\n",
            "Epoch 68/200\n",
            "90/90 [==============================] - 1s 7ms/sample - loss: 1.3882 - acc: 1.0000 - f1_m: 0.9946 - val_loss: 2.1031 - val_acc: 0.3474 - val_f1_m: 0.1812\n",
            "Epoch 69/200\n",
            "90/90 [==============================] - 1s 7ms/sample - loss: 1.3510 - acc: 1.0000 - f1_m: 0.9892 - val_loss: 2.1064 - val_acc: 0.3421 - val_f1_m: 0.1815\n",
            "Epoch 70/200\n",
            "90/90 [==============================] - 1s 7ms/sample - loss: 1.3776 - acc: 0.9889 - f1_m: 0.9842 - val_loss: 2.1065 - val_acc: 0.3439 - val_f1_m: 0.1797\n",
            "Epoch 71/200\n",
            "90/90 [==============================] - 1s 8ms/sample - loss: 1.3836 - acc: 0.9889 - f1_m: 0.9842 - val_loss: 2.1028 - val_acc: 0.3421 - val_f1_m: 0.1775\n",
            "Epoch 72/200\n",
            "90/90 [==============================] - 1s 7ms/sample - loss: 1.3622 - acc: 1.0000 - f1_m: 0.9912 - val_loss: 2.1026 - val_acc: 0.3456 - val_f1_m: 0.1759\n",
            "Epoch 73/200\n",
            "90/90 [==============================] - 1s 8ms/sample - loss: 1.3715 - acc: 1.0000 - f1_m: 1.0000 - val_loss: 2.1065 - val_acc: 0.3439 - val_f1_m: 0.1744\n",
            "Epoch 74/200\n",
            "90/90 [==============================] - 1s 8ms/sample - loss: 1.3549 - acc: 1.0000 - f1_m: 1.0000 - val_loss: 2.1201 - val_acc: 0.3386 - val_f1_m: 0.1703\n",
            "Epoch 75/200\n",
            "80/90 [=========================>....] - ETA: 0s - loss: 1.3560 - acc: 1.0000 - f1_m: 1.0000\n",
            "Epoch 00075: ReduceLROnPlateau reducing learning rate to 1.0000000656873453e-06.\n",
            "90/90 [==============================] - 1s 7ms/sample - loss: 1.3479 - acc: 1.0000 - f1_m: 1.0000 - val_loss: 2.1167 - val_acc: 0.3421 - val_f1_m: 0.1801\n",
            "Epoch 76/200\n",
            "90/90 [==============================] - 1s 7ms/sample - loss: 1.3586 - acc: 1.0000 - f1_m: 0.9946 - val_loss: 2.1155 - val_acc: 0.3421 - val_f1_m: 0.1801\n",
            "Epoch 77/200\n",
            "90/90 [==============================] - 1s 8ms/sample - loss: 1.3625 - acc: 1.0000 - f1_m: 1.0000 - val_loss: 2.1138 - val_acc: 0.3421 - val_f1_m: 0.1801\n",
            "Epoch 78/200\n",
            "90/90 [==============================] - 1s 8ms/sample - loss: 1.3403 - acc: 1.0000 - f1_m: 1.0000 - val_loss: 2.1137 - val_acc: 0.3421 - val_f1_m: 0.1801\n",
            "Epoch 79/200\n",
            "90/90 [==============================] - 1s 7ms/sample - loss: 1.3476 - acc: 1.0000 - f1_m: 0.9946 - val_loss: 2.1139 - val_acc: 0.3421 - val_f1_m: 0.1781\n",
            "Epoch 80/200\n",
            "90/90 [==============================] - 1s 8ms/sample - loss: 1.3916 - acc: 0.9889 - f1_m: 0.9896 - val_loss: 2.1140 - val_acc: 0.3421 - val_f1_m: 0.1781\n",
            "Epoch 81/200\n",
            "90/90 [==============================] - 1s 7ms/sample - loss: 1.3637 - acc: 1.0000 - f1_m: 0.9912 - val_loss: 2.1130 - val_acc: 0.3421 - val_f1_m: 0.1781\n",
            "Epoch 82/200\n",
            "90/90 [==============================] - 1s 7ms/sample - loss: 1.3535 - acc: 1.0000 - f1_m: 1.0000 - val_loss: 2.1121 - val_acc: 0.3421 - val_f1_m: 0.1768\n",
            "Epoch 83/200\n",
            "90/90 [==============================] - 1s 7ms/sample - loss: 1.3544 - acc: 1.0000 - f1_m: 1.0000 - val_loss: 2.1115 - val_acc: 0.3439 - val_f1_m: 0.1768\n",
            "Epoch 84/200\n",
            "90/90 [==============================] - 1s 7ms/sample - loss: 1.3633 - acc: 0.9889 - f1_m: 0.9833 - val_loss: 2.1106 - val_acc: 0.3439 - val_f1_m: 0.1768\n",
            "Epoch 85/200\n",
            "90/90 [==============================] - 1s 7ms/sample - loss: 1.3353 - acc: 1.0000 - f1_m: 0.9946 - val_loss: 2.1084 - val_acc: 0.3439 - val_f1_m: 0.1768\n",
            "Epoch 86/200\n",
            "80/90 [=========================>....] - ETA: 0s - loss: 1.3497 - acc: 1.0000 - f1_m: 1.0000\n",
            "Epoch 00086: ReduceLROnPlateau reducing learning rate to 1.0000001111620805e-07.\n",
            "90/90 [==============================] - 1s 7ms/sample - loss: 1.3498 - acc: 1.0000 - f1_m: 0.9912 - val_loss: 2.1070 - val_acc: 0.3421 - val_f1_m: 0.1768\n",
            "Epoch 87/200\n",
            "90/90 [==============================] - 1s 7ms/sample - loss: 1.3595 - acc: 0.9778 - f1_m: 0.9842 - val_loss: 2.1071 - val_acc: 0.3421 - val_f1_m: 0.1768\n",
            "Epoch 88/200\n",
            "90/90 [==============================] - 1s 7ms/sample - loss: 1.3793 - acc: 0.9889 - f1_m: 0.9785 - val_loss: 2.1071 - val_acc: 0.3421 - val_f1_m: 0.1768\n",
            "Epoch 89/200\n",
            "90/90 [==============================] - 1s 7ms/sample - loss: 1.3476 - acc: 1.0000 - f1_m: 1.0000 - val_loss: 2.1070 - val_acc: 0.3421 - val_f1_m: 0.1768\n",
            "Epoch 90/200\n",
            "90/90 [==============================] - 1s 7ms/sample - loss: 1.3456 - acc: 1.0000 - f1_m: 0.9946 - val_loss: 2.1070 - val_acc: 0.3421 - val_f1_m: 0.1768\n",
            "Epoch 91/200\n",
            "90/90 [==============================] - 1s 7ms/sample - loss: 1.3529 - acc: 0.9889 - f1_m: 0.9896 - val_loss: 2.1069 - val_acc: 0.3421 - val_f1_m: 0.1768\n",
            "Epoch 92/200\n",
            "90/90 [==============================] - 1s 7ms/sample - loss: 1.3989 - acc: 0.9889 - f1_m: 0.9726 - val_loss: 2.1068 - val_acc: 0.3421 - val_f1_m: 0.1768\n",
            "Epoch 93/200\n",
            "90/90 [==============================] - 1s 7ms/sample - loss: 1.3326 - acc: 1.0000 - f1_m: 1.0000 - val_loss: 2.1070 - val_acc: 0.3421 - val_f1_m: 0.1768\n",
            "Epoch 94/200\n",
            "90/90 [==============================] - 1s 8ms/sample - loss: 1.3287 - acc: 1.0000 - f1_m: 1.0000 - val_loss: 2.1072 - val_acc: 0.3421 - val_f1_m: 0.1768\n",
            "Epoch 95/200\n",
            "90/90 [==============================] - 1s 7ms/sample - loss: 1.3524 - acc: 1.0000 - f1_m: 1.0000 - val_loss: 2.1073 - val_acc: 0.3421 - val_f1_m: 0.1768\n",
            "Epoch 96/200\n",
            "90/90 [==============================] - 1s 7ms/sample - loss: 1.3533 - acc: 1.0000 - f1_m: 0.9892 - val_loss: 2.1073 - val_acc: 0.3421 - val_f1_m: 0.1768\n",
            "Epoch 97/200\n",
            "80/90 [=========================>....] - ETA: 0s - loss: 1.3251 - acc: 1.0000 - f1_m: 1.0000\n",
            "Epoch 00097: ReduceLROnPlateau reducing learning rate to 1.000000082740371e-08.\n",
            "90/90 [==============================] - 1s 7ms/sample - loss: 1.3272 - acc: 1.0000 - f1_m: 1.0000 - val_loss: 2.1072 - val_acc: 0.3421 - val_f1_m: 0.1768\n",
            "Epoch 98/200\n",
            "90/90 [==============================] - 1s 7ms/sample - loss: 1.3693 - acc: 1.0000 - f1_m: 0.9946 - val_loss: 2.1072 - val_acc: 0.3421 - val_f1_m: 0.1768\n",
            "Epoch 99/200\n",
            "90/90 [==============================] - 1s 7ms/sample - loss: 1.3582 - acc: 1.0000 - f1_m: 1.0000 - val_loss: 2.1072 - val_acc: 0.3421 - val_f1_m: 0.1768\n",
            "Epoch 100/200\n",
            "90/90 [==============================] - 1s 8ms/sample - loss: 1.3447 - acc: 1.0000 - f1_m: 1.0000 - val_loss: 2.1072 - val_acc: 0.3421 - val_f1_m: 0.1768\n",
            "Epoch 101/200\n",
            "90/90 [==============================] - 1s 7ms/sample - loss: 1.3571 - acc: 0.9889 - f1_m: 0.9892 - val_loss: 2.1072 - val_acc: 0.3421 - val_f1_m: 0.1768\n",
            "Epoch 102/200\n",
            "90/90 [==============================] - 1s 7ms/sample - loss: 1.3560 - acc: 1.0000 - f1_m: 0.9946 - val_loss: 2.1071 - val_acc: 0.3421 - val_f1_m: 0.1768\n",
            "Epoch 103/200\n",
            "90/90 [==============================] - 1s 7ms/sample - loss: 1.3419 - acc: 1.0000 - f1_m: 1.0000 - val_loss: 2.1071 - val_acc: 0.3421 - val_f1_m: 0.1768\n",
            "Epoch 104/200\n",
            "90/90 [==============================] - 1s 7ms/sample - loss: 1.3433 - acc: 1.0000 - f1_m: 1.0000 - val_loss: 2.1071 - val_acc: 0.3421 - val_f1_m: 0.1768\n",
            "Epoch 105/200\n",
            "90/90 [==============================] - 1s 7ms/sample - loss: 1.3782 - acc: 0.9889 - f1_m: 0.9781 - val_loss: 2.1071 - val_acc: 0.3421 - val_f1_m: 0.1768\n",
            "Epoch 106/200\n",
            "90/90 [==============================] - 1s 7ms/sample - loss: 1.3569 - acc: 1.0000 - f1_m: 1.0000 - val_loss: 2.1071 - val_acc: 0.3421 - val_f1_m: 0.1768\n",
            "Epoch 107/200\n",
            "90/90 [==============================] - 1s 7ms/sample - loss: 1.3491 - acc: 1.0000 - f1_m: 0.9946 - val_loss: 2.1071 - val_acc: 0.3421 - val_f1_m: 0.1768\n",
            "Epoch 108/200\n",
            "80/90 [=========================>....] - ETA: 0s - loss: 1.3820 - acc: 1.0000 - f1_m: 0.9935\n",
            "Epoch 00108: ReduceLROnPlateau reducing learning rate to 1.000000082740371e-09.\n",
            "90/90 [==============================] - 1s 7ms/sample - loss: 1.3681 - acc: 1.0000 - f1_m: 0.9946 - val_loss: 2.1070 - val_acc: 0.3421 - val_f1_m: 0.1768\n",
            "Epoch 109/200\n",
            "90/90 [==============================] - 1s 7ms/sample - loss: 1.3487 - acc: 1.0000 - f1_m: 0.9892 - val_loss: 2.1070 - val_acc: 0.3421 - val_f1_m: 0.1768\n",
            "Epoch 110/200\n",
            "90/90 [==============================] - 1s 7ms/sample - loss: 1.3452 - acc: 1.0000 - f1_m: 0.9946 - val_loss: 2.1070 - val_acc: 0.3421 - val_f1_m: 0.1768\n",
            "Epoch 111/200\n",
            "90/90 [==============================] - 1s 7ms/sample - loss: 1.3426 - acc: 1.0000 - f1_m: 1.0000 - val_loss: 2.1070 - val_acc: 0.3421 - val_f1_m: 0.1768\n",
            "Epoch 112/200\n",
            "90/90 [==============================] - 1s 7ms/sample - loss: 1.3567 - acc: 1.0000 - f1_m: 0.9892 - val_loss: 2.1070 - val_acc: 0.3421 - val_f1_m: 0.1768\n",
            "Epoch 113/200\n",
            "90/90 [==============================] - 1s 7ms/sample - loss: 1.3433 - acc: 1.0000 - f1_m: 0.9815 - val_loss: 2.1070 - val_acc: 0.3421 - val_f1_m: 0.1768\n",
            "Epoch 114/200\n",
            "90/90 [==============================] - 1s 7ms/sample - loss: 1.3374 - acc: 0.9889 - f1_m: 0.9946 - val_loss: 2.1070 - val_acc: 0.3421 - val_f1_m: 0.1768\n",
            "Epoch 115/200\n",
            "90/90 [==============================] - 1s 7ms/sample - loss: 1.3427 - acc: 1.0000 - f1_m: 1.0000 - val_loss: 2.1070 - val_acc: 0.3421 - val_f1_m: 0.1768\n",
            "Epoch 116/200\n",
            "90/90 [==============================] - 1s 7ms/sample - loss: 1.3679 - acc: 0.9889 - f1_m: 0.9828 - val_loss: 2.1070 - val_acc: 0.3421 - val_f1_m: 0.1768\n",
            "Epoch 117/200\n",
            "90/90 [==============================] - 1s 7ms/sample - loss: 1.3684 - acc: 0.9889 - f1_m: 0.9808 - val_loss: 2.1070 - val_acc: 0.3421 - val_f1_m: 0.1768\n",
            "Epoch 118/200\n",
            "90/90 [==============================] - 1s 7ms/sample - loss: 1.3623 - acc: 1.0000 - f1_m: 0.9946 - val_loss: 2.1070 - val_acc: 0.3421 - val_f1_m: 0.1768\n",
            "Epoch 119/200\n",
            "80/90 [=========================>....] - ETA: 0s - loss: 1.3651 - acc: 0.9875 - f1_m: 0.9875\n",
            "Epoch 00119: ReduceLROnPlateau reducing learning rate to 1.000000082740371e-10.\n",
            "90/90 [==============================] - 1s 7ms/sample - loss: 1.3656 - acc: 0.9889 - f1_m: 0.9896 - val_loss: 2.1070 - val_acc: 0.3421 - val_f1_m: 0.1768\n",
            "Epoch 120/200\n",
            "90/90 [==============================] - 1s 8ms/sample - loss: 1.3467 - acc: 0.9889 - f1_m: 0.9896 - val_loss: 2.1070 - val_acc: 0.3421 - val_f1_m: 0.1768\n",
            "Epoch 121/200\n",
            "90/90 [==============================] - 1s 7ms/sample - loss: 1.3443 - acc: 1.0000 - f1_m: 1.0000 - val_loss: 2.1070 - val_acc: 0.3421 - val_f1_m: 0.1768\n",
            "Epoch 122/200\n",
            "90/90 [==============================] - 1s 7ms/sample - loss: 1.3816 - acc: 0.9778 - f1_m: 0.9697 - val_loss: 2.1070 - val_acc: 0.3421 - val_f1_m: 0.1768\n",
            "Epoch 123/200\n",
            "90/90 [==============================] - 1s 7ms/sample - loss: 1.3721 - acc: 0.9778 - f1_m: 0.9842 - val_loss: 2.1070 - val_acc: 0.3421 - val_f1_m: 0.1768\n",
            "Epoch 124/200\n",
            "90/90 [==============================] - 1s 7ms/sample - loss: 1.3596 - acc: 1.0000 - f1_m: 0.9912 - val_loss: 2.1070 - val_acc: 0.3421 - val_f1_m: 0.1768\n",
            "Epoch 125/200\n",
            "90/90 [==============================] - 1s 7ms/sample - loss: 1.3682 - acc: 0.9889 - f1_m: 0.9839 - val_loss: 2.1070 - val_acc: 0.3421 - val_f1_m: 0.1768\n",
            "Epoch 126/200\n",
            "90/90 [==============================] - 1s 7ms/sample - loss: 1.3346 - acc: 1.0000 - f1_m: 1.0000 - val_loss: 2.1070 - val_acc: 0.3421 - val_f1_m: 0.1768\n",
            "Epoch 127/200\n",
            "90/90 [==============================] - 1s 7ms/sample - loss: 1.3715 - acc: 0.9778 - f1_m: 0.9892 - val_loss: 2.1070 - val_acc: 0.3421 - val_f1_m: 0.1768\n",
            "Epoch 128/200\n",
            "90/90 [==============================] - 1s 7ms/sample - loss: 1.3522 - acc: 1.0000 - f1_m: 1.0000 - val_loss: 2.1070 - val_acc: 0.3421 - val_f1_m: 0.1768\n",
            "Epoch 129/200\n",
            "90/90 [==============================] - 1s 8ms/sample - loss: 1.3631 - acc: 1.0000 - f1_m: 1.0000 - val_loss: 2.1070 - val_acc: 0.3421 - val_f1_m: 0.1768\n",
            "Epoch 130/200\n",
            "80/90 [=========================>....] - ETA: 0s - loss: 1.3639 - acc: 1.0000 - f1_m: 0.9871\n",
            "Epoch 00130: ReduceLROnPlateau reducing learning rate to 1.000000082740371e-11.\n",
            "90/90 [==============================] - 1s 7ms/sample - loss: 1.3555 - acc: 1.0000 - f1_m: 0.9892 - val_loss: 2.1070 - val_acc: 0.3421 - val_f1_m: 0.1768\n",
            "Epoch 131/200\n",
            "90/90 [==============================] - 1s 7ms/sample - loss: 1.3600 - acc: 0.9889 - f1_m: 0.9896 - val_loss: 2.1070 - val_acc: 0.3421 - val_f1_m: 0.1768\n",
            "Epoch 132/200\n",
            "90/90 [==============================] - 1s 7ms/sample - loss: 1.3522 - acc: 1.0000 - f1_m: 0.9946 - val_loss: 2.1070 - val_acc: 0.3421 - val_f1_m: 0.1768\n",
            "Epoch 133/200\n",
            "90/90 [==============================] - 1s 7ms/sample - loss: 1.3589 - acc: 1.0000 - f1_m: 0.9946 - val_loss: 2.1070 - val_acc: 0.3421 - val_f1_m: 0.1768\n",
            "Epoch 134/200\n",
            "90/90 [==============================] - 1s 7ms/sample - loss: 1.3738 - acc: 0.9889 - f1_m: 0.9896 - val_loss: 2.1070 - val_acc: 0.3421 - val_f1_m: 0.1768\n",
            "Epoch 135/200\n",
            "90/90 [==============================] - 1s 7ms/sample - loss: 1.3529 - acc: 1.0000 - f1_m: 1.0000 - val_loss: 2.1070 - val_acc: 0.3421 - val_f1_m: 0.1768\n",
            "Epoch 136/200\n",
            "90/90 [==============================] - 1s 7ms/sample - loss: 1.3570 - acc: 1.0000 - f1_m: 0.9946 - val_loss: 2.1070 - val_acc: 0.3421 - val_f1_m: 0.1768\n",
            "Epoch 137/200\n",
            "90/90 [==============================] - 1s 7ms/sample - loss: 1.3325 - acc: 1.0000 - f1_m: 1.0000 - val_loss: 2.1070 - val_acc: 0.3421 - val_f1_m: 0.1768\n",
            "Epoch 138/200\n",
            "90/90 [==============================] - 1s 7ms/sample - loss: 1.3659 - acc: 0.9889 - f1_m: 0.9842 - val_loss: 2.1070 - val_acc: 0.3421 - val_f1_m: 0.1768\n",
            "Epoch 139/200\n",
            "90/90 [==============================] - 1s 7ms/sample - loss: 1.3590 - acc: 1.0000 - f1_m: 1.0000 - val_loss: 2.1070 - val_acc: 0.3421 - val_f1_m: 0.1768\n",
            "Epoch 140/200\n",
            "90/90 [==============================] - 1s 7ms/sample - loss: 1.3477 - acc: 1.0000 - f1_m: 1.0000 - val_loss: 2.1070 - val_acc: 0.3421 - val_f1_m: 0.1768\n",
            "Epoch 141/200\n",
            "80/90 [=========================>....] - ETA: 0s - loss: 1.3627 - acc: 1.0000 - f1_m: 1.0000\n",
            "Epoch 00141: ReduceLROnPlateau reducing learning rate to 1.000000082740371e-12.\n",
            "90/90 [==============================] - 1s 8ms/sample - loss: 1.3580 - acc: 1.0000 - f1_m: 1.0000 - val_loss: 2.1070 - val_acc: 0.3421 - val_f1_m: 0.1768\n",
            "Epoch 142/200\n",
            "90/90 [==============================] - 1s 7ms/sample - loss: 1.3368 - acc: 1.0000 - f1_m: 1.0000 - val_loss: 2.1070 - val_acc: 0.3421 - val_f1_m: 0.1768\n",
            "Epoch 143/200\n",
            "90/90 [==============================] - 1s 8ms/sample - loss: 1.3620 - acc: 1.0000 - f1_m: 1.0000 - val_loss: 2.1070 - val_acc: 0.3421 - val_f1_m: 0.1768\n",
            "Epoch 144/200\n",
            "90/90 [==============================] - 1s 7ms/sample - loss: 1.3581 - acc: 1.0000 - f1_m: 0.9892 - val_loss: 2.1070 - val_acc: 0.3421 - val_f1_m: 0.1768\n",
            "Epoch 145/200\n",
            "90/90 [==============================] - 1s 7ms/sample - loss: 1.3439 - acc: 1.0000 - f1_m: 1.0000 - val_loss: 2.1070 - val_acc: 0.3421 - val_f1_m: 0.1768\n",
            "Epoch 146/200\n",
            "90/90 [==============================] - 1s 7ms/sample - loss: 1.3503 - acc: 1.0000 - f1_m: 0.9892 - val_loss: 2.1070 - val_acc: 0.3421 - val_f1_m: 0.1768\n",
            "Epoch 147/200\n",
            "90/90 [==============================] - 1s 7ms/sample - loss: 1.3672 - acc: 1.0000 - f1_m: 0.9835 - val_loss: 2.1070 - val_acc: 0.3421 - val_f1_m: 0.1768\n",
            "Epoch 148/200\n",
            "90/90 [==============================] - 1s 8ms/sample - loss: 1.3440 - acc: 1.0000 - f1_m: 1.0000 - val_loss: 2.1070 - val_acc: 0.3421 - val_f1_m: 0.1768\n",
            "Epoch 149/200\n",
            "90/90 [==============================] - 1s 8ms/sample - loss: 1.3320 - acc: 0.9889 - f1_m: 0.9946 - val_loss: 2.1070 - val_acc: 0.3421 - val_f1_m: 0.1768\n",
            "Epoch 150/200\n",
            "90/90 [==============================] - 1s 7ms/sample - loss: 1.3654 - acc: 0.9778 - f1_m: 0.9781 - val_loss: 2.1070 - val_acc: 0.3421 - val_f1_m: 0.1768\n",
            "Epoch 151/200\n",
            "90/90 [==============================] - 1s 7ms/sample - loss: 1.3375 - acc: 1.0000 - f1_m: 1.0000 - val_loss: 2.1070 - val_acc: 0.3421 - val_f1_m: 0.1768\n",
            "Epoch 152/200\n",
            "80/90 [=========================>....] - ETA: 0s - loss: 1.3434 - acc: 1.0000 - f1_m: 0.9935\n",
            "Epoch 00152: ReduceLROnPlateau reducing learning rate to 1.0000001044244145e-13.\n",
            "90/90 [==============================] - 1s 7ms/sample - loss: 1.3488 - acc: 1.0000 - f1_m: 0.9946 - val_loss: 2.1070 - val_acc: 0.3421 - val_f1_m: 0.1768\n",
            "Epoch 153/200\n",
            "90/90 [==============================] - 1s 7ms/sample - loss: 1.3424 - acc: 1.0000 - f1_m: 0.9946 - val_loss: 2.1070 - val_acc: 0.3421 - val_f1_m: 0.1768\n",
            "Epoch 154/200\n",
            "90/90 [==============================] - 1s 7ms/sample - loss: 1.3446 - acc: 1.0000 - f1_m: 0.9946 - val_loss: 2.1070 - val_acc: 0.3421 - val_f1_m: 0.1768\n",
            "Epoch 155/200\n",
            "90/90 [==============================] - 1s 7ms/sample - loss: 1.3347 - acc: 1.0000 - f1_m: 1.0000 - val_loss: 2.1070 - val_acc: 0.3421 - val_f1_m: 0.1768\n",
            "Epoch 156/200\n",
            "90/90 [==============================] - 1s 7ms/sample - loss: 1.3405 - acc: 1.0000 - f1_m: 1.0000 - val_loss: 2.1070 - val_acc: 0.3421 - val_f1_m: 0.1768\n",
            "Epoch 157/200\n",
            "90/90 [==============================] - 1s 7ms/sample - loss: 1.3561 - acc: 1.0000 - f1_m: 1.0000 - val_loss: 2.1070 - val_acc: 0.3421 - val_f1_m: 0.1768\n",
            "Epoch 158/200\n",
            "90/90 [==============================] - 1s 7ms/sample - loss: 1.3516 - acc: 1.0000 - f1_m: 1.0000 - val_loss: 2.1070 - val_acc: 0.3421 - val_f1_m: 0.1768\n",
            "Epoch 159/200\n",
            "90/90 [==============================] - 1s 7ms/sample - loss: 1.3481 - acc: 1.0000 - f1_m: 0.9946 - val_loss: 2.1070 - val_acc: 0.3421 - val_f1_m: 0.1768\n",
            "Epoch 160/200\n",
            "90/90 [==============================] - 1s 7ms/sample - loss: 1.3437 - acc: 1.0000 - f1_m: 0.9946 - val_loss: 2.1070 - val_acc: 0.3421 - val_f1_m: 0.1768\n",
            "Epoch 161/200\n",
            "90/90 [==============================] - 1s 7ms/sample - loss: 1.3679 - acc: 1.0000 - f1_m: 0.9761 - val_loss: 2.1070 - val_acc: 0.3421 - val_f1_m: 0.1768\n",
            "Epoch 162/200\n",
            "90/90 [==============================] - 1s 7ms/sample - loss: 1.3727 - acc: 1.0000 - f1_m: 0.9892 - val_loss: 2.1070 - val_acc: 0.3421 - val_f1_m: 0.1768\n",
            "Epoch 163/200\n",
            "80/90 [=========================>....] - ETA: 0s - loss: 1.3410 - acc: 1.0000 - f1_m: 1.0000\n",
            "Epoch 00163: ReduceLROnPlateau reducing learning rate to 1.0000001179769417e-14.\n",
            "90/90 [==============================] - 1s 7ms/sample - loss: 1.3438 - acc: 1.0000 - f1_m: 1.0000 - val_loss: 2.1070 - val_acc: 0.3421 - val_f1_m: 0.1768\n",
            "Epoch 164/200\n",
            "90/90 [==============================] - 1s 8ms/sample - loss: 1.3451 - acc: 0.9889 - f1_m: 0.9896 - val_loss: 2.1070 - val_acc: 0.3421 - val_f1_m: 0.1768\n",
            "Epoch 165/200\n",
            "90/90 [==============================] - 1s 7ms/sample - loss: 1.3341 - acc: 1.0000 - f1_m: 1.0000 - val_loss: 2.1070 - val_acc: 0.3421 - val_f1_m: 0.1768\n",
            "Epoch 166/200\n",
            "90/90 [==============================] - 1s 7ms/sample - loss: 1.3636 - acc: 1.0000 - f1_m: 0.9946 - val_loss: 2.1070 - val_acc: 0.3421 - val_f1_m: 0.1768\n",
            "Epoch 167/200\n",
            "90/90 [==============================] - 1s 7ms/sample - loss: 1.3606 - acc: 0.9889 - f1_m: 0.9896 - val_loss: 2.1070 - val_acc: 0.3421 - val_f1_m: 0.1768\n",
            "Epoch 168/200\n",
            "90/90 [==============================] - 1s 8ms/sample - loss: 1.3484 - acc: 1.0000 - f1_m: 0.9946 - val_loss: 2.1070 - val_acc: 0.3421 - val_f1_m: 0.1768\n",
            "Epoch 169/200\n",
            "90/90 [==============================] - 1s 8ms/sample - loss: 1.3635 - acc: 1.0000 - f1_m: 0.9946 - val_loss: 2.1070 - val_acc: 0.3421 - val_f1_m: 0.1768\n",
            "Epoch 170/200\n",
            "90/90 [==============================] - 1s 7ms/sample - loss: 1.3628 - acc: 1.0000 - f1_m: 0.9892 - val_loss: 2.1070 - val_acc: 0.3421 - val_f1_m: 0.1768\n",
            "Epoch 171/200\n",
            "90/90 [==============================] - 1s 7ms/sample - loss: 1.3194 - acc: 1.0000 - f1_m: 1.0000 - val_loss: 2.1070 - val_acc: 0.3421 - val_f1_m: 0.1768\n",
            "Epoch 172/200\n",
            "90/90 [==============================] - 1s 7ms/sample - loss: 1.3505 - acc: 0.9889 - f1_m: 0.9946 - val_loss: 2.1070 - val_acc: 0.3421 - val_f1_m: 0.1768\n",
            "Epoch 173/200\n",
            "90/90 [==============================] - 1s 7ms/sample - loss: 1.3336 - acc: 1.0000 - f1_m: 1.0000 - val_loss: 2.1070 - val_acc: 0.3421 - val_f1_m: 0.1768\n",
            "Epoch 174/200\n",
            "80/90 [=========================>....] - ETA: 0s - loss: 1.3361 - acc: 1.0000 - f1_m: 0.9935\n",
            "Epoch 00174: ReduceLROnPlateau reducing learning rate to 1.0000001518582595e-15.\n",
            "90/90 [==============================] - 1s 7ms/sample - loss: 1.3400 - acc: 1.0000 - f1_m: 0.9946 - val_loss: 2.1070 - val_acc: 0.3421 - val_f1_m: 0.1768\n",
            "Epoch 175/200\n",
            "90/90 [==============================] - 1s 7ms/sample - loss: 1.3575 - acc: 0.9889 - f1_m: 0.9896 - val_loss: 2.1070 - val_acc: 0.3421 - val_f1_m: 0.1768\n",
            "Epoch 176/200\n",
            "90/90 [==============================] - 1s 7ms/sample - loss: 1.3373 - acc: 1.0000 - f1_m: 0.9946 - val_loss: 2.1070 - val_acc: 0.3421 - val_f1_m: 0.1768\n",
            "Epoch 177/200\n",
            "90/90 [==============================] - 1s 7ms/sample - loss: 1.3600 - acc: 0.9889 - f1_m: 0.9892 - val_loss: 2.1070 - val_acc: 0.3421 - val_f1_m: 0.1768\n",
            "Epoch 178/200\n",
            "90/90 [==============================] - 1s 7ms/sample - loss: 1.3463 - acc: 0.9889 - f1_m: 0.9892 - val_loss: 2.1070 - val_acc: 0.3421 - val_f1_m: 0.1768\n",
            "Epoch 179/200\n",
            "90/90 [==============================] - 1s 7ms/sample - loss: 1.3606 - acc: 1.0000 - f1_m: 1.0000 - val_loss: 2.1070 - val_acc: 0.3421 - val_f1_m: 0.1768\n",
            "Epoch 180/200\n",
            "90/90 [==============================] - 1s 7ms/sample - loss: 1.3602 - acc: 0.9889 - f1_m: 0.9946 - val_loss: 2.1070 - val_acc: 0.3421 - val_f1_m: 0.1768\n",
            "Epoch 181/200\n",
            "90/90 [==============================] - 1s 8ms/sample - loss: 1.3705 - acc: 0.9889 - f1_m: 0.9781 - val_loss: 2.1070 - val_acc: 0.3421 - val_f1_m: 0.1768\n",
            "Epoch 182/200\n",
            "90/90 [==============================] - 1s 7ms/sample - loss: 1.3481 - acc: 1.0000 - f1_m: 1.0000 - val_loss: 2.1070 - val_acc: 0.3421 - val_f1_m: 0.1768\n",
            "Epoch 183/200\n",
            "90/90 [==============================] - 1s 7ms/sample - loss: 1.3476 - acc: 1.0000 - f1_m: 1.0000 - val_loss: 2.1070 - val_acc: 0.3421 - val_f1_m: 0.1768\n",
            "Epoch 184/200\n",
            "90/90 [==============================] - 1s 7ms/sample - loss: 1.3571 - acc: 1.0000 - f1_m: 0.9892 - val_loss: 2.1070 - val_acc: 0.3421 - val_f1_m: 0.1768\n",
            "Epoch 185/200\n",
            "80/90 [=========================>....] - ETA: 0s - loss: 1.3751 - acc: 0.9875 - f1_m: 0.9875\n",
            "Epoch 00185: ReduceLROnPlateau reducing learning rate to 1.0000001095066122e-16.\n",
            "90/90 [==============================] - 1s 7ms/sample - loss: 1.3758 - acc: 0.9889 - f1_m: 0.9896 - val_loss: 2.1070 - val_acc: 0.3421 - val_f1_m: 0.1768\n",
            "Epoch 186/200\n",
            "90/90 [==============================] - 1s 8ms/sample - loss: 1.3441 - acc: 1.0000 - f1_m: 1.0000 - val_loss: 2.1070 - val_acc: 0.3421 - val_f1_m: 0.1768\n",
            "Epoch 187/200\n",
            "90/90 [==============================] - 1s 8ms/sample - loss: 1.3392 - acc: 1.0000 - f1_m: 0.9946 - val_loss: 2.1070 - val_acc: 0.3421 - val_f1_m: 0.1768\n",
            "Epoch 188/200\n",
            "90/90 [==============================] - 1s 8ms/sample - loss: 1.3518 - acc: 1.0000 - f1_m: 0.9946 - val_loss: 2.1070 - val_acc: 0.3421 - val_f1_m: 0.1768\n",
            "Epoch 189/200\n",
            "90/90 [==============================] - 1s 8ms/sample - loss: 1.3448 - acc: 1.0000 - f1_m: 0.9946 - val_loss: 2.1070 - val_acc: 0.3421 - val_f1_m: 0.1768\n",
            "Epoch 190/200\n",
            "90/90 [==============================] - 1s 8ms/sample - loss: 1.3469 - acc: 1.0000 - f1_m: 1.0000 - val_loss: 2.1070 - val_acc: 0.3421 - val_f1_m: 0.1768\n",
            "Epoch 191/200\n",
            "90/90 [==============================] - 1s 8ms/sample - loss: 1.3558 - acc: 1.0000 - f1_m: 1.0000 - val_loss: 2.1070 - val_acc: 0.3421 - val_f1_m: 0.1768\n",
            "Epoch 192/200\n",
            "90/90 [==============================] - 1s 8ms/sample - loss: 1.3632 - acc: 0.9889 - f1_m: 0.9896 - val_loss: 2.1070 - val_acc: 0.3421 - val_f1_m: 0.1768\n",
            "Epoch 193/200\n",
            "90/90 [==============================] - 1s 8ms/sample - loss: 1.3665 - acc: 1.0000 - f1_m: 0.9946 - val_loss: 2.1070 - val_acc: 0.3421 - val_f1_m: 0.1768\n",
            "Epoch 194/200\n",
            "90/90 [==============================] - 1s 8ms/sample - loss: 1.3409 - acc: 1.0000 - f1_m: 1.0000 - val_loss: 2.1070 - val_acc: 0.3421 - val_f1_m: 0.1768\n",
            "Epoch 195/200\n",
            "90/90 [==============================] - 1s 8ms/sample - loss: 1.3522 - acc: 1.0000 - f1_m: 1.0000 - val_loss: 2.1070 - val_acc: 0.3421 - val_f1_m: 0.1768\n",
            "Epoch 196/200\n",
            "80/90 [=========================>....] - ETA: 0s - loss: 1.3620 - acc: 1.0000 - f1_m: 0.9935\n",
            "Epoch 00196: ReduceLROnPlateau reducing learning rate to 1.0000000830368326e-17.\n",
            "90/90 [==============================] - 1s 8ms/sample - loss: 1.3547 - acc: 1.0000 - f1_m: 0.9946 - val_loss: 2.1070 - val_acc: 0.3421 - val_f1_m: 0.1768\n",
            "Epoch 197/200\n",
            "90/90 [==============================] - 1s 8ms/sample - loss: 1.3394 - acc: 1.0000 - f1_m: 1.0000 - val_loss: 2.1070 - val_acc: 0.3421 - val_f1_m: 0.1768\n",
            "Epoch 198/200\n",
            "90/90 [==============================] - 1s 8ms/sample - loss: 1.3488 - acc: 1.0000 - f1_m: 1.0000 - val_loss: 2.1070 - val_acc: 0.3421 - val_f1_m: 0.1768\n",
            "Epoch 199/200\n",
            "90/90 [==============================] - 1s 8ms/sample - loss: 1.3617 - acc: 1.0000 - f1_m: 0.9946 - val_loss: 2.1070 - val_acc: 0.3421 - val_f1_m: 0.1768\n",
            "Epoch 200/200\n",
            "90/90 [==============================] - 1s 8ms/sample - loss: 1.3712 - acc: 0.9778 - f1_m: 0.9738 - val_loss: 2.1070 - val_acc: 0.3421 - val_f1_m: 0.1768\n"
          ],
          "name": "stdout"
        }
      ]
    },
    {
      "cell_type": "code",
      "metadata": {
        "id": "xeErBfVkhFIS",
        "colab_type": "code",
        "colab": {}
      },
      "source": [
        "nn_model.save('model2.h5')"
      ],
      "execution_count": 0,
      "outputs": []
    },
    {
      "cell_type": "code",
      "metadata": {
        "id": "ft5wIcdkKzYK",
        "colab_type": "code",
        "colab": {}
      },
      "source": [
        "from tensorflow.keras.utils import plot_model\n",
        "\n",
        "plot_model(nn_model, to_file='model.png')"
      ],
      "execution_count": 0,
      "outputs": []
    },
    {
      "cell_type": "code",
      "metadata": {
        "id": "bWbQvqYJ2tvK",
        "colab_type": "code",
        "outputId": "23e9b726-905e-49f0-c0a8-ea6a44f88e8e",
        "colab": {
          "base_uri": "https://localhost:8080/",
          "height": 573
        }
      },
      "source": [
        "plot_results(history)"
      ],
      "execution_count": 608,
      "outputs": [
        {
          "output_type": "display_data",
          "data": {
            "image/png": "[encoded data removed]",
            "text/plain": [
              "<Figure size 432x288 with 1 Axes>"
            ]
          },
          "metadata": {
            "tags": []
          }
        },
        {
          "output_type": "display_data",
          "data": {
            "image/png": "[encoded data removed]",
            "text/plain": [
              "<Figure size 432x288 with 1 Axes>"
            ]
          },
          "metadata": {
            "tags": []
          }
        }
      ]
    },
    {
      "cell_type": "code",
      "metadata": {
        "id": "c5JGWW6V5KgI",
        "colab_type": "code",
        "outputId": "314d9be5-8426-4d5d-c27f-0a0171e76d97",
        "colab": {
          "base_uri": "https://localhost:8080/",
          "height": 573
        }
      },
      "source": [
        "plot_results_f1(history)"
      ],
      "execution_count": 609,
      "outputs": [
        {
          "output_type": "display_data",
          "data": {
            "image/png": "[encoded data removed]",
            "text/plain": [
              "<Figure size 432x288 with 1 Axes>"
            ]
          },
          "metadata": {
            "tags": []
          }
        },
        {
          "output_type": "display_data",
          "data": {
            "image/png": "[encoded data removed]",
            "text/plain": [
              "<Figure size 432x288 with 1 Axes>"
            ]
          },
          "metadata": {
            "tags": []
          }
        }
      ]
    },
    {
      "cell_type": "code",
      "metadata": {
        "id": "aU9ss4UgFnuJ",
        "colab_type": "code",
        "outputId": "f1ca8250-55eb-44ea-9acd-b91a703982d5",
        "colab": {
          "base_uri": "https://localhost:8080/",
          "height": 238
        }
      },
      "source": [
        "from sklearn.metrics import classification_report\n",
        "\n",
        "y_prob = nn_model.predict(test_seq)\n",
        "y_pred = y_prob.argmax(axis=-1)\n",
        "\n",
        "\n",
        "\n",
        "print(classification_report(y_test_enc, y_pred))"
      ],
      "execution_count": 610,
      "outputs": [
        {
          "output_type": "stream",
          "text": [
            "              precision    recall  f1-score   support\n",
            "\n",
            "           0       0.88      0.08      0.14        89\n",
            "           1       0.21      0.72      0.32        97\n",
            "           2       0.60      0.79      0.68        96\n",
            "           3       0.40      0.20      0.26        97\n",
            "           4       0.50      0.01      0.02        97\n",
            "           5       0.43      0.23      0.30        94\n",
            "\n",
            "    accuracy                           0.34       570\n",
            "   macro avg       0.50      0.34      0.29       570\n",
            "weighted avg       0.50      0.34      0.29       570\n",
            "\n"
          ],
          "name": "stdout"
        }
      ]
    },
    {
      "cell_type": "code",
      "metadata": {
        "id": "0FnqRM8Y3lNd",
        "colab_type": "code",
        "colab": {
          "base_uri": "https://localhost:8080/",
          "height": 181
        },
        "outputId": "87bed052-e2b4-40d0-a4ef-2965b34a480a"
      },
      "source": [
        "del nn_model\n",
        "%reset_selective -f nn_model"
      ],
      "execution_count": 528,
      "outputs": [
        {
          "output_type": "error",
          "ename": "NameError",
          "evalue": "ignored",
          "traceback": [
            "\u001b[0;31m---------------------------------------------------------------------------\u001b[0m",
            "\u001b[0;31mNameError\u001b[0m                                 Traceback (most recent call last)",
            "\u001b[0;32m<ipython-input-528-4e97a5d3daf7>\u001b[0m in \u001b[0;36m<module>\u001b[0;34m()\u001b[0m\n\u001b[0;32m----> 1\u001b[0;31m \u001b[0;32mdel\u001b[0m \u001b[0mnn_model\u001b[0m\u001b[0;34m\u001b[0m\u001b[0;34m\u001b[0m\u001b[0m\n\u001b[0m\u001b[1;32m      2\u001b[0m \u001b[0mget_ipython\u001b[0m\u001b[0;34m(\u001b[0m\u001b[0;34m)\u001b[0m\u001b[0;34m.\u001b[0m\u001b[0mmagic\u001b[0m\u001b[0;34m(\u001b[0m\u001b[0;34m'reset_selective -f nn_model'\u001b[0m\u001b[0;34m)\u001b[0m\u001b[0;34m\u001b[0m\u001b[0;34m\u001b[0m\u001b[0m\n",
            "\u001b[0;31mNameError\u001b[0m: name 'nn_model' is not defined"
          ]
        }
      ]
    },
    {
      "cell_type": "code",
      "metadata": {
        "id": "yUlg3jwn310P",
        "colab_type": "code",
        "colab": {}
      },
      "source": [
        "import tensorflow.keras.backend as K\n",
        "K.clear_session()"
      ],
      "execution_count": 0,
      "outputs": []
    },
    {
      "cell_type": "code",
      "metadata": {
        "id": "WyKkRPCpinwA",
        "colab_type": "code",
        "colab": {}
      },
      "source": [
        "def cosine_loss(y_true, y_pred):\n",
        "  cos = CosineSimilarity(axis=-1) \n",
        "  return  1 - cos(y_true, y_pred)"
      ],
      "execution_count": 0,
      "outputs": []
    },
    {
      "cell_type": "code",
      "metadata": {
        "id": "cJC6YHDk4CjQ",
        "colab_type": "code",
        "outputId": "08fe30b6-80e7-444a-e5e4-ffa4205d4b0c",
        "colab": {
          "base_uri": "https://localhost:8080/",
          "height": 51
        }
      },
      "source": [
        "!ls"
      ],
      "execution_count": 0,
      "outputs": [
        {
          "output_type": "stream",
          "text": [
            " 1800-vocab.pkl   cc.de.300.bin      fastText\n",
            " 1800-w.npy\t 'Colab Notebooks'   full_taggeddataset.csv\n"
          ],
          "name": "stdout"
        }
      ]
    },
    {
      "cell_type": "code",
      "metadata": {
        "id": "kUetEFDOcNRe",
        "colab_type": "code",
        "colab": {}
      },
      "source": [
        "from tensorflow.keras.models import Model\n",
        "from tensorflow.keras.layers import *\n",
        "from tensorflow.keras.optimizers import SGD, Adam, Adadelta\n",
        "from tensorflow.keras.losses import CosineSimilarity, CategoricalCrossentropy\n",
        "import tensorflow as tf\n",
        "\n",
        "\n",
        "def build_lstm_model(N_CLASSES,\n",
        "                    MAX_LEN,\n",
        "                    NUM_WORDS,\n",
        "                    EMBEDDING_MATRIX):\n",
        "\n",
        "  inp = Input(shape=(MAX_LEN,))\n",
        "  \n",
        "\n",
        "  emb = Embedding(input_dim=NUM_WORDS,\n",
        "                  output_dim=EMBEDDING_MATRIX.shape[1],\n",
        "                  input_length=MAX_LEN,\n",
        "                  weights=[EMBEDDING_MATRIX],\n",
        "                  trainable=False)(inp)\n",
        "  flatten = Flatten()(emb)\n",
        "  dense1 = Dense(16, activation='relu', activity_regularizer='l1')(flatten)\n",
        "  dropout = Dropout(0.5)(dense1)\n",
        "  output = Dense(N_CLASSES, activation='softmax')(dropout)\n",
        "\n",
        "  model = Model(inputs=inp, outputs=output)\n",
        "\n",
        "  sgd =  SGD(lr = 0.1, decay = 1e-2, momentum = 0.9, nesterov = False)\n",
        "  model.compile(loss=cosine_loss,\n",
        "                optimizer=sgd,\n",
        "                metrics=[f1_m])\n",
        "\n",
        "  model.summary()\n",
        "\n",
        "  return model"
      ],
      "execution_count": 0,
      "outputs": []
    },
    {
      "cell_type": "code",
      "metadata": {
        "id": "kKp79f_RdJoH",
        "colab_type": "code",
        "outputId": "693266b3-89db-4bcd-8a98-63faadddac1c",
        "colab": {
          "base_uri": "https://localhost:8080/",
          "height": 357
        }
      },
      "source": [
        "nn_model = build_lstm_model(N_CLASSES=np.unique(len(le.classes_)),\n",
        "                        MAX_LEN=MAX_LEN,\n",
        "                        NUM_WORDS=len(word_index)+1,\n",
        "                        EMBEDDING_MATRIX=embedding_matrix)"
      ],
      "execution_count": 0,
      "outputs": [
        {
          "output_type": "stream",
          "text": [
            "Model: \"model_71\"\n",
            "_________________________________________________________________\n",
            "Layer (type)                 Output Shape              Param #   \n",
            "=================================================================\n",
            "input_78 (InputLayer)        [(None, 500)]             0         \n",
            "_________________________________________________________________\n",
            "embedding_77 (Embedding)     (None, 500, 300)          22888200  \n",
            "_________________________________________________________________\n",
            "flatten_60 (Flatten)         (None, 150000)            0         \n",
            "_________________________________________________________________\n",
            "dense_90 (Dense)             (None, 16)                2400016   \n",
            "_________________________________________________________________\n",
            "dropout_52 (Dropout)         (None, 16)                0         \n",
            "_________________________________________________________________\n",
            "dense_91 (Dense)             (None, 6)                 102       \n",
            "=================================================================\n",
            "Total params: 25,288,318\n",
            "Trainable params: 2,400,118\n",
            "Non-trainable params: 22,888,200\n",
            "_________________________________________________________________\n"
          ],
          "name": "stdout"
        }
      ]
    },
    {
      "cell_type": "code",
      "metadata": {
        "id": "HqcsoXUOdXWQ",
        "colab_type": "code",
        "colab": {}
      },
      "source": [
        "history = nn_model.fit(train_seq,\n",
        "                    y_train,\n",
        "                    batch_size=51,\n",
        "                    #validation_split=.5,\n",
        "                    validation_data=(test_seq,y_test),\n",
        "                    epochs=500)"
      ],
      "execution_count": 0,
      "outputs": []
    },
    {
      "cell_type": "code",
      "metadata": {
        "id": "Au5-o-YnhIZ7",
        "colab_type": "code",
        "colab": {}
      },
      "source": [
        "from tensorflow.keras.backend import clear_session"
      ],
      "execution_count": 0,
      "outputs": []
    },
    {
      "cell_type": "code",
      "metadata": {
        "id": "Cx65mILujTLg",
        "colab_type": "code",
        "colab": {}
      },
      "source": [
        "clear_session()"
      ],
      "execution_count": 0,
      "outputs": []
    },
    {
      "cell_type": "markdown",
      "metadata": {
        "id": "DQ99yYIrqCND",
        "colab_type": "text"
      },
      "source": [
        "# Final Model"
      ]
    },
    {
      "cell_type": "code",
      "metadata": {
        "id": "inNPtT3HqDMA",
        "colab_type": "code",
        "colab": {}
      },
      "source": [
        "\n",
        "from tensorflow.keras.models import Model\n",
        "from tensorflow.keras.layers import *\n",
        "from tensorflow.keras.optimizers import SGD, Adam, Adadelta, RMSprop\n",
        "from tensorflow.keras.losses import CosineSimilarity, CategoricalCrossentropy\n",
        "import tensorflow as tf\n",
        "\n",
        "\n",
        "def build_final_model(N_CLASSES,\n",
        "                    MAX_LEN,\n",
        "                    NUM_WORDS,\n",
        "                    EMBEDDING_MATRIX,\n",
        "                    filter_sizes=[5,3,2],\n",
        "                    num_filters=32):\n",
        "\n",
        "  inp = Input(shape=(MAX_LEN,))\n",
        "  \n",
        "\n",
        "  emb = Embedding(input_dim=NUM_WORDS,\n",
        "                  output_dim=EMBEDDING_MATRIX.shape[1],\n",
        "                  input_length=MAX_LEN,\n",
        "                  weights=[EMBEDDING_MATRIX],\n",
        "                  trainable=False)(inp)\n",
        "  \n",
        "  emb_dropout = SpatialDropout1D(0.0)(emb)\n",
        "  \n",
        "  convolutions = []\n",
        "  for fs in filter_sizes:\n",
        "\n",
        "    conv1 = Conv1D(filters=num_filters,\n",
        "                  strides=2,\n",
        "                  kernel_size=fs,\n",
        "                  padding='same',\n",
        "                  kernel_regularizer='l2',\n",
        "                  activity_regularizer='l2')(emb_dropout)\n",
        "    \n",
        "    conv_dropout1 = SpatialDropout1D(0.5)(conv1)\n",
        "    pooling1 = MaxPool1D(strides=2, padding='same')(conv_dropout1)\n",
        "    \n",
        "    conv2 = Conv1D(filters=num_filters//2,\n",
        "                      strides=2,\n",
        "                      kernel_size=fs,\n",
        "                      padding='same',\n",
        "                      kernel_regularizer='l2',\n",
        "                      activity_regularizer='l2')(pooling1)\n",
        "    conv_dropout2 = SpatialDropout1D(0.5)(conv2)\n",
        "    pooling2 = MaxPool1D(strides=2, padding='same')(conv_dropout2)\n",
        "\n",
        "\n",
        "    convolutions.append(pooling2)\n",
        "  \n",
        "  if len(convolutions) > 1:\n",
        "    \n",
        "    concat = Concatenate()(convolutions)\n",
        "    lstm = Bidirectional(LSTM(128, recurrent_dropout=0.0))(concat)\n",
        "    flatten = Flatten()(lstm)\n",
        "  else:\n",
        "    lstm = LSTM(128, recurrent_dropout=0.5)(pooling)\n",
        "    flatten = Flatten()(lstm)\n",
        "  \n",
        "  \n",
        "  dropout1 = Dropout(0.5)(flatten)\n",
        "\n",
        "\n",
        "\n",
        "  output = Dense(N_CLASSES, activation='softmax')(dropout1)\n",
        "\n",
        "  model = Model(inputs=inp, outputs=output)\n",
        "\n",
        "  sgd = SGD(learning_rate=0.001, momentum=0.9, nesterov=True)\n",
        "  model.compile(loss='categorical_crossentropy',\n",
        "                optimizer='adam',\n",
        "                metrics=['acc', f1_m])\n",
        "\n",
        "  model.summary()\n",
        "\n",
        "  return model"
      ],
      "execution_count": 0,
      "outputs": []
    },
    {
      "cell_type": "code",
      "metadata": {
        "id": "FbzR7Ue8s0pc",
        "colab_type": "code",
        "colab": {
          "base_uri": "https://localhost:8080/",
          "height": 1000
        },
        "outputId": "b3fbf7b6-941f-48b7-fc6e-beb46bbaf474"
      },
      "source": [
        "nn_model = build_final_model(N_CLASSES=np.unique(len(le.classes_)),\n",
        "                        MAX_LEN=MAX_LEN,\n",
        "                        NUM_WORDS=len(word_index)+1,\n",
        "                        EMBEDDING_MATRIX=embedding_matrix,\n",
        "                        num_filters=64,\n",
        "                        filter_sizes=[5,4,3,2])"
      ],
      "execution_count": 199,
      "outputs": [
        {
          "output_type": "stream",
          "text": [
            "Model: \"model_17\"\n",
            "__________________________________________________________________________________________________\n",
            "Layer (type)                    Output Shape         Param #     Connected to                     \n",
            "==================================================================================================\n",
            "input_30 (InputLayer)           [(None, 500)]        0                                            \n",
            "__________________________________________________________________________________________________\n",
            "embedding_29 (Embedding)        (None, 500, 300)     22888200    input_30[0][0]                   \n",
            "__________________________________________________________________________________________________\n",
            "spatial_dropout1d_160 (SpatialD (None, 500, 300)     0           embedding_29[0][0]               \n",
            "__________________________________________________________________________________________________\n",
            "conv1d_130 (Conv1D)             (None, 250, 64)      96064       spatial_dropout1d_160[0][0]      \n",
            "__________________________________________________________________________________________________\n",
            "conv1d_132 (Conv1D)             (None, 250, 64)      76864       spatial_dropout1d_160[0][0]      \n",
            "__________________________________________________________________________________________________\n",
            "conv1d_134 (Conv1D)             (None, 250, 64)      57664       spatial_dropout1d_160[0][0]      \n",
            "__________________________________________________________________________________________________\n",
            "conv1d_136 (Conv1D)             (None, 250, 64)      38464       spatial_dropout1d_160[0][0]      \n",
            "__________________________________________________________________________________________________\n",
            "spatial_dropout1d_161 (SpatialD (None, 250, 64)      0           conv1d_130[0][0]                 \n",
            "__________________________________________________________________________________________________\n",
            "spatial_dropout1d_163 (SpatialD (None, 250, 64)      0           conv1d_132[0][0]                 \n",
            "__________________________________________________________________________________________________\n",
            "spatial_dropout1d_165 (SpatialD (None, 250, 64)      0           conv1d_134[0][0]                 \n",
            "__________________________________________________________________________________________________\n",
            "spatial_dropout1d_167 (SpatialD (None, 250, 64)      0           conv1d_136[0][0]                 \n",
            "__________________________________________________________________________________________________\n",
            "max_pooling1d_129 (MaxPooling1D (None, 125, 64)      0           spatial_dropout1d_161[0][0]      \n",
            "__________________________________________________________________________________________________\n",
            "max_pooling1d_131 (MaxPooling1D (None, 125, 64)      0           spatial_dropout1d_163[0][0]      \n",
            "__________________________________________________________________________________________________\n",
            "max_pooling1d_133 (MaxPooling1D (None, 125, 64)      0           spatial_dropout1d_165[0][0]      \n",
            "__________________________________________________________________________________________________\n",
            "max_pooling1d_135 (MaxPooling1D (None, 125, 64)      0           spatial_dropout1d_167[0][0]      \n",
            "__________________________________________________________________________________________________\n",
            "conv1d_131 (Conv1D)             (None, 63, 32)       10272       max_pooling1d_129[0][0]          \n",
            "__________________________________________________________________________________________________\n",
            "conv1d_133 (Conv1D)             (None, 63, 32)       8224        max_pooling1d_131[0][0]          \n",
            "__________________________________________________________________________________________________\n",
            "conv1d_135 (Conv1D)             (None, 63, 32)       6176        max_pooling1d_133[0][0]          \n",
            "__________________________________________________________________________________________________\n",
            "conv1d_137 (Conv1D)             (None, 63, 32)       4128        max_pooling1d_135[0][0]          \n",
            "__________________________________________________________________________________________________\n",
            "spatial_dropout1d_162 (SpatialD (None, 63, 32)       0           conv1d_131[0][0]                 \n",
            "__________________________________________________________________________________________________\n",
            "spatial_dropout1d_164 (SpatialD (None, 63, 32)       0           conv1d_133[0][0]                 \n",
            "__________________________________________________________________________________________________\n",
            "spatial_dropout1d_166 (SpatialD (None, 63, 32)       0           conv1d_135[0][0]                 \n",
            "__________________________________________________________________________________________________\n",
            "spatial_dropout1d_168 (SpatialD (None, 63, 32)       0           conv1d_137[0][0]                 \n",
            "__________________________________________________________________________________________________\n",
            "max_pooling1d_130 (MaxPooling1D (None, 32, 32)       0           spatial_dropout1d_162[0][0]      \n",
            "__________________________________________________________________________________________________\n",
            "max_pooling1d_132 (MaxPooling1D (None, 32, 32)       0           spatial_dropout1d_164[0][0]      \n",
            "__________________________________________________________________________________________________\n",
            "max_pooling1d_134 (MaxPooling1D (None, 32, 32)       0           spatial_dropout1d_166[0][0]      \n",
            "__________________________________________________________________________________________________\n",
            "max_pooling1d_136 (MaxPooling1D (None, 32, 32)       0           spatial_dropout1d_168[0][0]      \n",
            "__________________________________________________________________________________________________\n",
            "concatenate_25 (Concatenate)    (None, 32, 128)      0           max_pooling1d_130[0][0]          \n",
            "                                                                 max_pooling1d_132[0][0]          \n",
            "                                                                 max_pooling1d_134[0][0]          \n",
            "                                                                 max_pooling1d_136[0][0]          \n",
            "__________________________________________________________________________________________________\n",
            "bidirectional_20 (Bidirectional (None, 256)          263168      concatenate_25[0][0]             \n",
            "__________________________________________________________________________________________________\n",
            "flatten_20 (Flatten)            (None, 256)          0           bidirectional_20[0][0]           \n",
            "__________________________________________________________________________________________________\n",
            "dropout_17 (Dropout)            (None, 256)          0           flatten_20[0][0]                 \n",
            "__________________________________________________________________________________________________\n",
            "dense_17 (Dense)                (None, 6)            1542        dropout_17[0][0]                 \n",
            "==================================================================================================\n",
            "Total params: 23,450,766\n",
            "Trainable params: 562,566\n",
            "Non-trainable params: 22,888,200\n",
            "__________________________________________________________________________________________________\n"
          ],
          "name": "stdout"
        }
      ]
    },
    {
      "cell_type": "code",
      "metadata": {
        "id": "VNvJGtVXqcz8",
        "colab_type": "code",
        "colab": {
          "base_uri": "https://localhost:8080/",
          "height": 1000
        },
        "outputId": "e87073a8-9c33-4922-b164-bb05386a280d"
      },
      "source": [
        "from tensorflow.keras.callbacks import ReduceLROnPlateau\n",
        "\n",
        "reduce_lr = ReduceLROnPlateau(monitor='val_loss', factor=0.3, patience=10, verbose=1, mode='auto', min_delta=0.00001, cooldown=0, min_lr=0)\n",
        "\n",
        "history = nn_model.fit(train_seq,\n",
        "                    y_train,\n",
        "                    batch_size=16,\n",
        "                    #validation_split=.5,\n",
        "                    validation_data=(test_seq,y_test),\n",
        "                    callbacks=[reduce_lr],\n",
        "                    epochs=100)"
      ],
      "execution_count": 200,
      "outputs": [
        {
          "output_type": "stream",
          "text": [
            "Train on 90 samples, validate on 570 samples\n",
            "Epoch 1/100\n",
            "90/90 [==============================] - 5s 55ms/sample - loss: 14.7803 - acc: 0.1667 - f1_m: 0.0000e+00 - val_loss: 11.5940 - val_acc: 0.1754 - val_f1_m: 0.0000e+00\n",
            "Epoch 2/100\n",
            "90/90 [==============================] - 0s 4ms/sample - loss: 11.2452 - acc: 0.1444 - f1_m: 0.0000e+00 - val_loss: 9.6613 - val_acc: 0.2123 - val_f1_m: 0.0000e+00\n",
            "Epoch 3/100\n",
            "90/90 [==============================] - 0s 4ms/sample - loss: 9.4193 - acc: 0.2000 - f1_m: 0.0000e+00 - val_loss: 8.4677 - val_acc: 0.2544 - val_f1_m: 0.0000e+00\n",
            "Epoch 4/100\n",
            "90/90 [==============================] - 0s 4ms/sample - loss: 8.2354 - acc: 0.2556 - f1_m: 0.0000e+00 - val_loss: 7.5690 - val_acc: 0.2544 - val_f1_m: 0.0000e+00\n",
            "Epoch 5/100\n",
            "90/90 [==============================] - 0s 4ms/sample - loss: 7.3244 - acc: 0.2556 - f1_m: 0.0000e+00 - val_loss: 6.8368 - val_acc: 0.2737 - val_f1_m: 0.0000e+00\n",
            "Epoch 6/100\n",
            "90/90 [==============================] - 0s 4ms/sample - loss: 6.5982 - acc: 0.2556 - f1_m: 0.0000e+00 - val_loss: 6.2224 - val_acc: 0.1807 - val_f1_m: 0.0000e+00\n",
            "Epoch 7/100\n",
            "90/90 [==============================] - 0s 4ms/sample - loss: 5.9853 - acc: 0.3000 - f1_m: 0.0000e+00 - val_loss: 5.7048 - val_acc: 0.3298 - val_f1_m: 0.0000e+00\n",
            "Epoch 8/100\n",
            "90/90 [==============================] - 0s 4ms/sample - loss: 5.4813 - acc: 0.2444 - f1_m: 0.0000e+00 - val_loss: 5.2523 - val_acc: 0.1789 - val_f1_m: 0.0000e+00\n",
            "Epoch 9/100\n",
            "90/90 [==============================] - 0s 5ms/sample - loss: 5.0563 - acc: 0.2667 - f1_m: 0.0000e+00 - val_loss: 4.8657 - val_acc: 0.1842 - val_f1_m: 0.0000e+00\n",
            "Epoch 10/100\n",
            "90/90 [==============================] - 0s 4ms/sample - loss: 4.6716 - acc: 0.3667 - f1_m: 0.0000e+00 - val_loss: 4.5355 - val_acc: 0.2947 - val_f1_m: 0.0000e+00\n",
            "Epoch 11/100\n",
            "90/90 [==============================] - 0s 4ms/sample - loss: 4.3575 - acc: 0.4222 - f1_m: 0.0000e+00 - val_loss: 4.2393 - val_acc: 0.4386 - val_f1_m: 0.0000e+00\n",
            "Epoch 12/100\n",
            "90/90 [==============================] - 0s 5ms/sample - loss: 4.0743 - acc: 0.3444 - f1_m: 0.0000e+00 - val_loss: 3.9862 - val_acc: 0.2140 - val_f1_m: 0.0000e+00\n",
            "Epoch 13/100\n",
            "90/90 [==============================] - 0s 4ms/sample - loss: 3.8175 - acc: 0.3778 - f1_m: 0.0000e+00 - val_loss: 3.7555 - val_acc: 0.3614 - val_f1_m: 0.0000e+00\n",
            "Epoch 14/100\n",
            "90/90 [==============================] - 0s 4ms/sample - loss: 3.5987 - acc: 0.4333 - f1_m: 0.0000e+00 - val_loss: 3.5285 - val_acc: 0.3895 - val_f1_m: 0.0000e+00\n",
            "Epoch 15/100\n",
            "90/90 [==============================] - 0s 5ms/sample - loss: 3.4685 - acc: 0.2889 - f1_m: 0.0972 - val_loss: 3.6724 - val_acc: 0.2596 - val_f1_m: 0.0000e+00\n",
            "Epoch 16/100\n",
            "90/90 [==============================] - 0s 5ms/sample - loss: 3.7775 - acc: 0.2000 - f1_m: 0.0000e+00 - val_loss: 3.4442 - val_acc: 0.2211 - val_f1_m: 0.0000e+00\n",
            "Epoch 17/100\n",
            "90/90 [==============================] - 0s 4ms/sample - loss: 3.3835 - acc: 0.3222 - f1_m: 0.0000e+00 - val_loss: 3.3025 - val_acc: 0.4193 - val_f1_m: 0.0000e+00\n",
            "Epoch 18/100\n",
            "90/90 [==============================] - 0s 4ms/sample - loss: 3.1474 - acc: 0.3778 - f1_m: 0.0000e+00 - val_loss: 3.1002 - val_acc: 0.2754 - val_f1_m: 0.0392\n",
            "Epoch 19/100\n",
            "90/90 [==============================] - 0s 4ms/sample - loss: 3.4216 - acc: 0.2444 - f1_m: 0.1174 - val_loss: 3.4767 - val_acc: 0.1860 - val_f1_m: 0.0098\n",
            "Epoch 20/100\n",
            "90/90 [==============================] - 0s 4ms/sample - loss: 3.1977 - acc: 0.3111 - f1_m: 0.1209 - val_loss: 3.0221 - val_acc: 0.3702 - val_f1_m: 0.0517\n",
            "Epoch 21/100\n",
            "90/90 [==============================] - 0s 4ms/sample - loss: 2.9599 - acc: 0.4111 - f1_m: 0.0763 - val_loss: 2.8596 - val_acc: 0.4509 - val_f1_m: 0.2025\n",
            "Epoch 22/100\n",
            "90/90 [==============================] - 0s 4ms/sample - loss: 2.7750 - acc: 0.4222 - f1_m: 0.2049 - val_loss: 2.8319 - val_acc: 0.2632 - val_f1_m: 0.0631\n",
            "Epoch 23/100\n",
            "90/90 [==============================] - 0s 4ms/sample - loss: 2.6204 - acc: 0.3444 - f1_m: 0.2252 - val_loss: 2.5797 - val_acc: 0.3614 - val_f1_m: 0.1288\n",
            "Epoch 24/100\n",
            "90/90 [==============================] - 0s 4ms/sample - loss: 2.4579 - acc: 0.4667 - f1_m: 0.2971 - val_loss: 2.8076 - val_acc: 0.4316 - val_f1_m: 0.3184\n",
            "Epoch 25/100\n",
            "90/90 [==============================] - 0s 5ms/sample - loss: 3.0832 - acc: 0.3111 - f1_m: 0.1328 - val_loss: 2.8321 - val_acc: 0.4000 - val_f1_m: 0.2207\n",
            "Epoch 26/100\n",
            "90/90 [==============================] - 0s 4ms/sample - loss: 2.9059 - acc: 0.3556 - f1_m: 0.1605 - val_loss: 2.9876 - val_acc: 0.2772 - val_f1_m: 0.0033\n",
            "Epoch 27/100\n",
            "90/90 [==============================] - 0s 4ms/sample - loss: 2.8524 - acc: 0.3000 - f1_m: 0.0175 - val_loss: 2.6407 - val_acc: 0.3544 - val_f1_m: 0.2194\n",
            "Epoch 28/100\n",
            "90/90 [==============================] - 0s 4ms/sample - loss: 2.5706 - acc: 0.4778 - f1_m: 0.1778 - val_loss: 2.6490 - val_acc: 0.3211 - val_f1_m: 0.0294\n",
            "Epoch 29/100\n",
            "90/90 [==============================] - 0s 5ms/sample - loss: 2.4704 - acc: 0.4556 - f1_m: 0.1357 - val_loss: 2.3585 - val_acc: 0.4965 - val_f1_m: 0.2162\n",
            "Epoch 30/100\n",
            "90/90 [==============================] - 0s 5ms/sample - loss: 2.2484 - acc: 0.5556 - f1_m: 0.2309 - val_loss: 2.3665 - val_acc: 0.3439 - val_f1_m: 0.1343\n",
            "Epoch 31/100\n",
            "90/90 [==============================] - 0s 4ms/sample - loss: 2.3743 - acc: 0.4000 - f1_m: 0.2687 - val_loss: 2.9519 - val_acc: 0.3140 - val_f1_m: 0.2091\n",
            "Epoch 32/100\n",
            "90/90 [==============================] - 0s 4ms/sample - loss: 3.4423 - acc: 0.2444 - f1_m: 0.1354 - val_loss: 3.6862 - val_acc: 0.1684 - val_f1_m: 0.0000e+00\n",
            "Epoch 33/100\n",
            "90/90 [==============================] - 0s 4ms/sample - loss: 3.3582 - acc: 0.2000 - f1_m: 0.0000e+00 - val_loss: 2.8048 - val_acc: 0.3123 - val_f1_m: 0.0033\n",
            "Epoch 34/100\n",
            "90/90 [==============================] - 0s 4ms/sample - loss: 2.6822 - acc: 0.4222 - f1_m: 0.0695 - val_loss: 2.5831 - val_acc: 0.3719 - val_f1_m: 0.0229\n",
            "Epoch 35/100\n",
            "90/90 [==============================] - 0s 4ms/sample - loss: 2.5155 - acc: 0.3778 - f1_m: 0.1242 - val_loss: 2.4164 - val_acc: 0.3316 - val_f1_m: 0.2162\n",
            "Epoch 36/100\n",
            "90/90 [==============================] - 0s 4ms/sample - loss: 2.3053 - acc: 0.4778 - f1_m: 0.1747 - val_loss: 2.3125 - val_acc: 0.4860 - val_f1_m: 0.1677\n",
            "Epoch 37/100\n",
            "90/90 [==============================] - 0s 4ms/sample - loss: 2.1295 - acc: 0.5556 - f1_m: 0.3494 - val_loss: 2.4204 - val_acc: 0.3298 - val_f1_m: 0.2299\n",
            "Epoch 38/100\n",
            "90/90 [==============================] - 0s 4ms/sample - loss: 2.1824 - acc: 0.4778 - f1_m: 0.3475 - val_loss: 2.7688 - val_acc: 0.2579 - val_f1_m: 0.2370\n",
            "Epoch 39/100\n",
            "90/90 [==============================] - 0s 4ms/sample - loss: 2.3667 - acc: 0.5222 - f1_m: 0.3778 - val_loss: 2.3411 - val_acc: 0.3737 - val_f1_m: 0.2203\n",
            "Epoch 40/100\n",
            "90/90 [==============================] - 0s 5ms/sample - loss: 2.1950 - acc: 0.4778 - f1_m: 0.4252 - val_loss: 2.8643 - val_acc: 0.2368 - val_f1_m: 0.1111\n",
            "Epoch 41/100\n",
            "90/90 [==============================] - 0s 5ms/sample - loss: 2.5297 - acc: 0.3667 - f1_m: 0.2329 - val_loss: 2.3635 - val_acc: 0.4579 - val_f1_m: 0.2343\n",
            "Epoch 42/100\n",
            "90/90 [==============================] - 0s 5ms/sample - loss: 2.2540 - acc: 0.5222 - f1_m: 0.3045 - val_loss: 2.4343 - val_acc: 0.3684 - val_f1_m: 0.2119\n",
            "Epoch 43/100\n",
            "90/90 [==============================] - 0s 5ms/sample - loss: 2.3581 - acc: 0.4111 - f1_m: 0.2939 - val_loss: 2.1687 - val_acc: 0.5281 - val_f1_m: 0.3130\n",
            "Epoch 44/100\n",
            "90/90 [==============================] - 0s 5ms/sample - loss: 2.1694 - acc: 0.5222 - f1_m: 0.3652 - val_loss: 2.0989 - val_acc: 0.4912 - val_f1_m: 0.3680\n",
            "Epoch 45/100\n",
            "90/90 [==============================] - 0s 5ms/sample - loss: 2.0547 - acc: 0.5333 - f1_m: 0.4462 - val_loss: 2.7222 - val_acc: 0.2316 - val_f1_m: 0.1702\n",
            "Epoch 46/100\n",
            "90/90 [==============================] - 0s 5ms/sample - loss: 2.3883 - acc: 0.4778 - f1_m: 0.3680 - val_loss: 2.7656 - val_acc: 0.2930 - val_f1_m: 0.2430\n",
            "Epoch 47/100\n",
            "90/90 [==============================] - 0s 5ms/sample - loss: 2.3827 - acc: 0.4111 - f1_m: 0.2860 - val_loss: 2.4781 - val_acc: 0.4000 - val_f1_m: 0.1770\n",
            "Epoch 48/100\n",
            "90/90 [==============================] - 0s 4ms/sample - loss: 2.2018 - acc: 0.5333 - f1_m: 0.2432 - val_loss: 2.5166 - val_acc: 0.3667 - val_f1_m: 0.2278\n",
            "Epoch 49/100\n",
            "90/90 [==============================] - 0s 4ms/sample - loss: 2.0780 - acc: 0.5667 - f1_m: 0.3926 - val_loss: 2.1736 - val_acc: 0.4491 - val_f1_m: 0.1913\n",
            "Epoch 50/100\n",
            "90/90 [==============================] - 0s 4ms/sample - loss: 1.8636 - acc: 0.5778 - f1_m: 0.4474 - val_loss: 2.1154 - val_acc: 0.4018 - val_f1_m: 0.3516\n",
            "Epoch 51/100\n",
            "90/90 [==============================] - 0s 4ms/sample - loss: 2.0093 - acc: 0.5222 - f1_m: 0.4775 - val_loss: 2.4576 - val_acc: 0.4860 - val_f1_m: 0.2894\n",
            "Epoch 52/100\n",
            "90/90 [==============================] - 0s 4ms/sample - loss: 2.3680 - acc: 0.4444 - f1_m: 0.3193 - val_loss: 2.4006 - val_acc: 0.4193 - val_f1_m: 0.3043\n",
            "Epoch 53/100\n",
            "90/90 [==============================] - 0s 4ms/sample - loss: 2.2945 - acc: 0.5000 - f1_m: 0.3630 - val_loss: 2.2497 - val_acc: 0.4368 - val_f1_m: 0.3779\n",
            "Epoch 54/100\n",
            "80/90 [=========================>....] - ETA: 0s - loss: 2.2649 - acc: 0.4750 - f1_m: 0.4170\n",
            "Epoch 00054: ReduceLROnPlateau reducing learning rate to 0.0003000000142492354.\n",
            "90/90 [==============================] - 0s 4ms/sample - loss: 2.2702 - acc: 0.4889 - f1_m: 0.4141 - val_loss: 2.2704 - val_acc: 0.4860 - val_f1_m: 0.4201\n",
            "Epoch 55/100\n",
            "90/90 [==============================] - 0s 4ms/sample - loss: 2.1492 - acc: 0.6000 - f1_m: 0.4841 - val_loss: 2.2682 - val_acc: 0.4825 - val_f1_m: 0.3436\n",
            "Epoch 56/100\n",
            "90/90 [==============================] - 0s 4ms/sample - loss: 1.9917 - acc: 0.6333 - f1_m: 0.4419 - val_loss: 2.0038 - val_acc: 0.6281 - val_f1_m: 0.3437\n",
            "Epoch 57/100\n",
            "90/90 [==============================] - 0s 4ms/sample - loss: 1.7409 - acc: 0.6778 - f1_m: 0.4847 - val_loss: 1.9625 - val_acc: 0.5982 - val_f1_m: 0.3602\n",
            "Epoch 58/100\n",
            "90/90 [==============================] - 0s 4ms/sample - loss: 1.6169 - acc: 0.7333 - f1_m: 0.5437 - val_loss: 1.8332 - val_acc: 0.6105 - val_f1_m: 0.4446\n",
            "Epoch 59/100\n",
            "90/90 [==============================] - 0s 5ms/sample - loss: 1.5550 - acc: 0.7333 - f1_m: 0.5701 - val_loss: 1.8725 - val_acc: 0.5281 - val_f1_m: 0.4143\n",
            "Epoch 60/100\n",
            "90/90 [==============================] - 0s 5ms/sample - loss: 1.5821 - acc: 0.6444 - f1_m: 0.5998 - val_loss: 1.7834 - val_acc: 0.5912 - val_f1_m: 0.4652\n",
            "Epoch 61/100\n",
            "90/90 [==============================] - 0s 5ms/sample - loss: 1.5400 - acc: 0.6889 - f1_m: 0.5964 - val_loss: 1.8699 - val_acc: 0.5000 - val_f1_m: 0.4272\n",
            "Epoch 62/100\n",
            "90/90 [==============================] - 0s 4ms/sample - loss: 1.4579 - acc: 0.7111 - f1_m: 0.6092 - val_loss: 1.9675 - val_acc: 0.4579 - val_f1_m: 0.4343\n",
            "Epoch 63/100\n",
            "90/90 [==============================] - 0s 5ms/sample - loss: 1.3637 - acc: 0.7778 - f1_m: 0.6951 - val_loss: 1.7466 - val_acc: 0.6386 - val_f1_m: 0.5019\n",
            "Epoch 64/100\n",
            "90/90 [==============================] - 0s 5ms/sample - loss: 1.2423 - acc: 0.7667 - f1_m: 0.7058 - val_loss: 1.7977 - val_acc: 0.5965 - val_f1_m: 0.4910\n",
            "Epoch 65/100\n",
            "90/90 [==============================] - 0s 5ms/sample - loss: 1.2013 - acc: 0.8333 - f1_m: 0.7752 - val_loss: 1.8387 - val_acc: 0.5649 - val_f1_m: 0.5288\n",
            "Epoch 66/100\n",
            "90/90 [==============================] - 0s 5ms/sample - loss: 1.2862 - acc: 0.7667 - f1_m: 0.7347 - val_loss: 1.9067 - val_acc: 0.5491 - val_f1_m: 0.4872\n",
            "Epoch 67/100\n",
            "90/90 [==============================] - 0s 5ms/sample - loss: 1.3251 - acc: 0.7333 - f1_m: 0.7046 - val_loss: 1.7910 - val_acc: 0.5912 - val_f1_m: 0.5710\n",
            "Epoch 68/100\n",
            "90/90 [==============================] - 0s 5ms/sample - loss: 1.1640 - acc: 0.8111 - f1_m: 0.7887 - val_loss: 1.9379 - val_acc: 0.5947 - val_f1_m: 0.5212\n",
            "Epoch 69/100\n",
            "90/90 [==============================] - 0s 4ms/sample - loss: 1.2320 - acc: 0.8000 - f1_m: 0.7803 - val_loss: 1.8859 - val_acc: 0.6088 - val_f1_m: 0.5970\n",
            "Epoch 70/100\n",
            "90/90 [==============================] - 0s 4ms/sample - loss: 1.4365 - acc: 0.7667 - f1_m: 0.7255 - val_loss: 2.0672 - val_acc: 0.5754 - val_f1_m: 0.5646\n",
            "Epoch 71/100\n",
            "90/90 [==============================] - 0s 4ms/sample - loss: 1.8003 - acc: 0.6333 - f1_m: 0.6140 - val_loss: 2.3386 - val_acc: 0.4912 - val_f1_m: 0.4831\n",
            "Epoch 72/100\n",
            "90/90 [==============================] - 0s 4ms/sample - loss: 1.7075 - acc: 0.6556 - f1_m: 0.6428 - val_loss: 2.2850 - val_acc: 0.5439 - val_f1_m: 0.5432\n",
            "Epoch 73/100\n",
            "80/90 [=========================>....] - ETA: 0s - loss: 1.5745 - acc: 0.7625 - f1_m: 0.7046\n",
            "Epoch 00073: ReduceLROnPlateau reducing learning rate to 9.000000427477062e-05.\n",
            "90/90 [==============================] - 0s 4ms/sample - loss: 1.5535 - acc: 0.7556 - f1_m: 0.7100 - val_loss: 2.1297 - val_acc: 0.5491 - val_f1_m: 0.5122\n",
            "Epoch 74/100\n",
            "90/90 [==============================] - 0s 4ms/sample - loss: 1.5026 - acc: 0.7111 - f1_m: 0.7105 - val_loss: 2.0017 - val_acc: 0.5509 - val_f1_m: 0.4605\n",
            "Epoch 75/100\n",
            "90/90 [==============================] - 0s 4ms/sample - loss: 1.3374 - acc: 0.8333 - f1_m: 0.7739 - val_loss: 1.8913 - val_acc: 0.5965 - val_f1_m: 0.5264\n",
            "Epoch 76/100\n",
            "90/90 [==============================] - 0s 4ms/sample - loss: 1.2353 - acc: 0.8556 - f1_m: 0.7871 - val_loss: 1.8432 - val_acc: 0.6263 - val_f1_m: 0.5687\n",
            "Epoch 77/100\n",
            "90/90 [==============================] - 0s 4ms/sample - loss: 1.1985 - acc: 0.8667 - f1_m: 0.8153 - val_loss: 1.8587 - val_acc: 0.6140 - val_f1_m: 0.5661\n",
            "Epoch 78/100\n",
            "90/90 [==============================] - 0s 4ms/sample - loss: 1.0935 - acc: 0.9111 - f1_m: 0.8481 - val_loss: 1.8352 - val_acc: 0.5947 - val_f1_m: 0.5697\n",
            "Epoch 79/100\n",
            "90/90 [==============================] - 0s 4ms/sample - loss: 1.0586 - acc: 0.9333 - f1_m: 0.8835 - val_loss: 1.8545 - val_acc: 0.6018 - val_f1_m: 0.5694\n",
            "Epoch 80/100\n",
            "90/90 [==============================] - 0s 4ms/sample - loss: 1.0550 - acc: 0.8889 - f1_m: 0.8585 - val_loss: 1.8055 - val_acc: 0.6105 - val_f1_m: 0.5828\n",
            "Epoch 81/100\n",
            "90/90 [==============================] - 0s 4ms/sample - loss: 1.0140 - acc: 0.9000 - f1_m: 0.8732 - val_loss: 1.7741 - val_acc: 0.6351 - val_f1_m: 0.5718\n",
            "Epoch 82/100\n",
            "90/90 [==============================] - 0s 4ms/sample - loss: 0.9660 - acc: 0.9333 - f1_m: 0.9102 - val_loss: 1.7513 - val_acc: 0.6088 - val_f1_m: 0.5828\n",
            "Epoch 83/100\n",
            "80/90 [=========================>....] - ETA: 0s - loss: 0.9446 - acc: 0.9250 - f1_m: 0.9234\n",
            "Epoch 00083: ReduceLROnPlateau reducing learning rate to 2.700000040931627e-05.\n",
            "90/90 [==============================] - 0s 5ms/sample - loss: 0.9400 - acc: 0.9222 - f1_m: 0.9195 - val_loss: 1.7570 - val_acc: 0.6246 - val_f1_m: 0.5783\n",
            "Epoch 84/100\n",
            "90/90 [==============================] - 0s 4ms/sample - loss: 0.9367 - acc: 0.9333 - f1_m: 0.9083 - val_loss: 1.7727 - val_acc: 0.6193 - val_f1_m: 0.5877\n",
            "Epoch 85/100\n",
            "90/90 [==============================] - 0s 5ms/sample - loss: 0.9423 - acc: 0.9444 - f1_m: 0.9274 - val_loss: 1.7720 - val_acc: 0.6211 - val_f1_m: 0.5808\n",
            "Epoch 86/100\n",
            "90/90 [==============================] - 0s 4ms/sample - loss: 0.9485 - acc: 0.9222 - f1_m: 0.9176 - val_loss: 1.7503 - val_acc: 0.6105 - val_f1_m: 0.5930\n",
            "Epoch 87/100\n",
            "90/90 [==============================] - 0s 4ms/sample - loss: 0.9119 - acc: 0.9444 - f1_m: 0.9213 - val_loss: 1.7521 - val_acc: 0.6088 - val_f1_m: 0.5947\n",
            "Epoch 88/100\n",
            "90/90 [==============================] - 0s 4ms/sample - loss: 0.9371 - acc: 0.9444 - f1_m: 0.9127 - val_loss: 1.7508 - val_acc: 0.6105 - val_f1_m: 0.5931\n",
            "Epoch 89/100\n",
            "90/90 [==============================] - 0s 4ms/sample - loss: 0.9366 - acc: 0.9000 - f1_m: 0.8675 - val_loss: 1.7644 - val_acc: 0.6316 - val_f1_m: 0.5952\n",
            "Epoch 90/100\n",
            "90/90 [==============================] - 0s 4ms/sample - loss: 0.9103 - acc: 0.9444 - f1_m: 0.9181 - val_loss: 1.7844 - val_acc: 0.6211 - val_f1_m: 0.5853\n",
            "Epoch 91/100\n",
            "90/90 [==============================] - 0s 4ms/sample - loss: 0.8932 - acc: 0.9444 - f1_m: 0.9264 - val_loss: 1.7662 - val_acc: 0.6298 - val_f1_m: 0.5850\n",
            "Epoch 92/100\n",
            "90/90 [==============================] - 0s 4ms/sample - loss: 0.8767 - acc: 0.9333 - f1_m: 0.9202 - val_loss: 1.7619 - val_acc: 0.6368 - val_f1_m: 0.5953\n",
            "Epoch 93/100\n",
            "80/90 [=========================>....] - ETA: 0s - loss: 0.9043 - acc: 0.9250 - f1_m: 0.9217\n",
            "Epoch 00093: ReduceLROnPlateau reducing learning rate to 8.100000013655517e-06.\n",
            "90/90 [==============================] - 0s 4ms/sample - loss: 0.8922 - acc: 0.9333 - f1_m: 0.9162 - val_loss: 1.7626 - val_acc: 0.6368 - val_f1_m: 0.5952\n",
            "Epoch 94/100\n",
            "90/90 [==============================] - 0s 4ms/sample - loss: 0.8779 - acc: 0.9667 - f1_m: 0.9299 - val_loss: 1.7600 - val_acc: 0.6386 - val_f1_m: 0.5976\n",
            "Epoch 95/100\n",
            "90/90 [==============================] - 0s 4ms/sample - loss: 0.9018 - acc: 0.9333 - f1_m: 0.9329 - val_loss: 1.7571 - val_acc: 0.6333 - val_f1_m: 0.6017\n",
            "Epoch 96/100\n",
            "90/90 [==============================] - 0s 4ms/sample - loss: 0.8964 - acc: 0.9222 - f1_m: 0.9287 - val_loss: 1.7570 - val_acc: 0.6316 - val_f1_m: 0.5994\n",
            "Epoch 97/100\n",
            "90/90 [==============================] - 0s 5ms/sample - loss: 0.8504 - acc: 0.9889 - f1_m: 0.9892 - val_loss: 1.7568 - val_acc: 0.6333 - val_f1_m: 0.5962\n",
            "Epoch 98/100\n",
            "90/90 [==============================] - 0s 4ms/sample - loss: 0.8873 - acc: 0.9333 - f1_m: 0.9256 - val_loss: 1.7605 - val_acc: 0.6368 - val_f1_m: 0.6019\n",
            "Epoch 99/100\n",
            "90/90 [==============================] - 0s 4ms/sample - loss: 0.8950 - acc: 0.9222 - f1_m: 0.9401 - val_loss: 1.7608 - val_acc: 0.6368 - val_f1_m: 0.5971\n",
            "Epoch 100/100\n",
            "90/90 [==============================] - 0s 4ms/sample - loss: 0.9259 - acc: 0.9111 - f1_m: 0.8922 - val_loss: 1.7579 - val_acc: 0.6298 - val_f1_m: 0.6006\n"
          ],
          "name": "stdout"
        }
      ]
    },
    {
      "cell_type": "code",
      "metadata": {
        "id": "N8wEagOKs6MB",
        "colab_type": "code",
        "colab": {
          "base_uri": "https://localhost:8080/",
          "height": 238
        },
        "outputId": "66b7577c-8e0d-44ed-a11c-c5a19e929675"
      },
      "source": [
        "from sklearn.metrics import classification_report\n",
        "\n",
        "y_prob = nn_model.predict(test_seq)\n",
        "y_pred = y_prob.argmax(axis=-1)\n",
        "\n",
        "#\n",
        "\n",
        "print(classification_report(y_test_enc, y_pred))"
      ],
      "execution_count": 210,
      "outputs": [
        {
          "output_type": "stream",
          "text": [
            "              precision    recall  f1-score   support\n",
            "\n",
            "           0       0.83      0.89      0.86        89\n",
            "           1       0.33      0.28      0.30        97\n",
            "           2       0.85      0.86      0.86        96\n",
            "           3       0.52      0.48      0.50        97\n",
            "           4       0.57      0.77      0.66        97\n",
            "           5       0.66      0.51      0.57        94\n",
            "\n",
            "    accuracy                           0.63       570\n",
            "   macro avg       0.63      0.63      0.62       570\n",
            "weighted avg       0.62      0.63      0.62       570\n",
            "\n"
          ],
          "name": "stdout"
        }
      ]
    },
    {
      "cell_type": "code",
      "metadata": {
        "id": "Z645WLOctNrA",
        "colab_type": "code",
        "colab": {
          "base_uri": "https://localhost:8080/",
          "height": 573
        },
        "outputId": "2a71380b-a652-4765-cdb5-30d438df688b"
      },
      "source": [
        "plot_results(history)"
      ],
      "execution_count": 211,
      "outputs": [
        {
          "output_type": "display_data",
          "data": {
            "image/png": "[encoded data removed]",
            "text/plain": [
              "<Figure size 432x288 with 1 Axes>"
            ]
          },
          "metadata": {
            "tags": []
          }
        },
        {
          "output_type": "display_data",
          "data": {
            "image/png": "[encoded data removed]",
            "text/plain": [
              "<Figure size 432x288 with 1 Axes>"
            ]
          },
          "metadata": {
            "tags": []
          }
        }
      ]
    },
    {
      "cell_type": "code",
      "metadata": {
        "id": "IUeznKzVCD0n",
        "colab_type": "code",
        "colab": {
          "base_uri": "https://localhost:8080/",
          "height": 573
        },
        "outputId": "ea7c87b9-50cf-4c66-9c49-18d96d6a1957"
      },
      "source": [
        "plot_results_f1(history)"
      ],
      "execution_count": 212,
      "outputs": [
        {
          "output_type": "display_data",
          "data": {
            "image/png": "[encoded data removed]",
            "text/plain": [
              "<Figure size 432x288 with 1 Axes>"
            ]
          },
          "metadata": {
            "tags": []
          }
        },
        {
          "output_type": "display_data",
          "data": {
            "image/png": "[encoded data removed]",
            "text/plain": [
              "<Figure size 432x288 with 1 Axes>"
            ]
          },
          "metadata": {
            "tags": []
          }
        }
      ]
    },
    {
      "cell_type": "code",
      "metadata": {
        "id": "cqXDTKqx-lES",
        "colab_type": "code",
        "colab": {
          "base_uri": "https://localhost:8080/",
          "height": 1000
        },
        "outputId": "5542a03b-fd5b-4619-b9a2-c2cd540e5055"
      },
      "source": [
        "from tensorflow.keras.utils import plot_model\n",
        "\n",
        "plot_model(nn_model, to_file='model.png')"
      ],
      "execution_count": 213,
      "outputs": [
        {
          "output_type": "execute_result",
          "data": {
            "image/png": "[encoded data removed]",
            "text/plain": [
              "<IPython.core.display.Image object>"
            ]
          },
          "metadata": {
            "tags": []
          },
          "execution_count": 213
        }
      ]
    },
    {
      "cell_type": "code",
      "metadata": {
        "id": "OU9ZVyv0-mpL",
        "colab_type": "code",
        "colab": {}
      },
      "source": [
        "from sklearn.metrics import classification_report\n",
        "reports = []\n",
        "periods = list(sorted(df.period.unique()))\n",
        "\n",
        "for period_seq, period_label in zip(period_seqs, period_labels):\n",
        "  prob = nn_model.predict(period_seq)\n",
        "  pred = prob.argmax(axis=-1)\n",
        "  reports.append(classification_report(period_label, pred, output_dict=True, target_names=le.classes_))"
      ],
      "execution_count": 0,
      "outputs": []
    },
    {
      "cell_type": "code",
      "metadata": {
        "id": "N_yYlBOxAgFz",
        "colab_type": "code",
        "colab": {}
      },
      "source": [
        "genre_scores = {}\n",
        "for genre in df.genre.unique():\n",
        "  genre_scores[genre] = []\n",
        "  for report in reports:\n",
        "    genre_scores[genre].append(report[genre]['f1-score'])"
      ],
      "execution_count": 0,
      "outputs": []
    },
    {
      "cell_type": "code",
      "metadata": {
        "id": "d7Ipl0NbDFVF",
        "colab_type": "code",
        "colab": {
          "base_uri": "https://localhost:8080/",
          "height": 629
        },
        "outputId": "6606b4e0-9e5b-438a-eea9-1c412d51d599"
      },
      "source": [
        "genre_scores"
      ],
      "execution_count": 216,
      "outputs": [
        {
          "output_type": "execute_result",
          "data": {
            "text/plain": [
              "{'DRAM': [1.0,\n",
              "  0.9375,\n",
              "  0.7777777777777778,\n",
              "  0.8,\n",
              "  0.9444444444444444,\n",
              "  0.8571428571428572],\n",
              " 'HUMA': [0.967741935483871,\n",
              "  0.2962962962962963,\n",
              "  0.15384615384615383,\n",
              "  0.13333333333333333,\n",
              "  0.36363636363636365,\n",
              "  0.5263157894736842],\n",
              " 'LEGA': [1.0,\n",
              "  0.64,\n",
              "  0.9285714285714286,\n",
              "  0.851851851851852,\n",
              "  0.9,\n",
              "  0.8936170212765957],\n",
              " 'NARR': [0.9655172413793104,\n",
              "  0.4864864864864865,\n",
              "  0.3636363636363636,\n",
              "  0.4285714285714286,\n",
              "  0.5263157894736842,\n",
              "  0.7027027027027027],\n",
              " 'SCIE': [1.0,\n",
              "  0.6285714285714286,\n",
              "  0.6451612903225806,\n",
              "  0.6071428571428571,\n",
              "  0.6382978723404256,\n",
              "  0.7457627118644067],\n",
              " 'SERM': [1.0,\n",
              "  0.7499999999999999,\n",
              "  0.4615384615384615,\n",
              "  0.33333333333333326,\n",
              "  0.6341463414634146,\n",
              "  0.7]}"
            ]
          },
          "metadata": {
            "tags": []
          },
          "execution_count": 216
        }
      ]
    },
    {
      "cell_type": "code",
      "metadata": {
        "id": "-uJrk0XMDT2R",
        "colab_type": "code",
        "colab": {
          "base_uri": "https://localhost:8080/",
          "height": 1000
        },
        "outputId": "b5e79797-3955-41bd-b9c6-a43146a57c37"
      },
      "source": [
        "import matplotlib.pyplot as plt\n",
        "\n",
        "periods = list(sorted(df.period.unique()))\n",
        "\n",
        "figs, axs = [], []\n",
        "\n",
        "for genre in genre_scores:\n",
        "\n",
        "  fig, ax = plt.subplots()\n",
        "\n",
        "  ax.plot(periods, genre_scores[genre], label='NN')\n",
        "  ax.legend()\n",
        "  ax.set_xlabel('Period')\n",
        "  ax.set_ylabel('F1-Score')\n",
        "  ax.set_title(f'Texttype: {genre} | Train-Period: P1')\n",
        "  ax.set_ylim([0,1])\n",
        "\n",
        "  figs.append(fig)\n",
        "  axs.append(ax)"
      ],
      "execution_count": 217,
      "outputs": [
        {
          "output_type": "display_data",
          "data": {
            "image/png": "[encoded data removed]",
            "text/plain": [
              "<Figure size 432x288 with 1 Axes>"
            ]
          },
          "metadata": {
            "tags": []
          }
        },
        {
          "output_type": "display_data",
          "data": {
            "image/png": "[encoded data removed]",
            "text/plain": [
              "<Figure size 432x288 with 1 Axes>"
            ]
          },
          "metadata": {
            "tags": []
          }
        },
        {
          "output_type": "display_data",
          "data": {
            "image/png": "[encoded data removed]",
            "text/plain": [
              "<Figure size 432x288 with 1 Axes>"
            ]
          },
          "metadata": {
            "tags": []
          }
        },
        {
          "output_type": "display_data",
          "data": {
            "image/png": "[encoded data removed]",
            "text/plain": [
              "<Figure size 432x288 with 1 Axes>"
            ]
          },
          "metadata": {
            "tags": []
          }
        },
        {
          "output_type": "display_data",
          "data": {
            "image/png": "[encoded data removed]",
            "text/plain": [
              "<Figure size 432x288 with 1 Axes>"
            ]
          },
          "metadata": {
            "tags": []
          }
        },
        {
          "output_type": "display_data",
          "data": {
            "image/png": "[encoded data removed]",
            "text/plain": [
              "<Figure size 432x288 with 1 Axes>"
            ]
          },
          "metadata": {
            "tags": []
          }
        }
      ]
    },
    {
      "cell_type": "code",
      "metadata": {
        "id": "ow5Ogex7EdZ0",
        "colab_type": "code",
        "colab": {
          "base_uri": "https://localhost:8080/",
          "height": 153
        },
        "outputId": "413fd703-5dec-400c-fe71-2290e778cf5d"
      },
      "source": [
        "df[df.period == 'P1'].groupby('genre').title.count()"
      ],
      "execution_count": 209,
      "outputs": [
        {
          "output_type": "execute_result",
          "data": {
            "text/plain": [
              "genre\n",
              "DRAM    15\n",
              "HUMA    15\n",
              "LEGA    15\n",
              "NARR    15\n",
              "SCIE    15\n",
              "SERM    15\n",
              "Name: title, dtype: int64"
            ]
          },
          "metadata": {
            "tags": []
          },
          "execution_count": 209
        }
      ]
    },
    {
      "cell_type": "code",
      "metadata": {
        "id": "3fPXKZRMGVmF",
        "colab_type": "code",
        "colab": {}
      },
      "source": [
        "6*15"
      ],
      "execution_count": 0,
      "outputs": []
    },
    {
      "cell_type": "code",
      "metadata": {
        "id": "yfB9aZg9GhZp",
        "colab_type": "code",
        "colab": {
          "base_uri": "https://localhost:8080/",
          "height": 34
        },
        "outputId": "972d49d9-3650-4cb4-f093-a852e8aca4b8"
      },
      "source": [
        "df[df.period == 'P1'].shape"
      ],
      "execution_count": 151,
      "outputs": [
        {
          "output_type": "execute_result",
          "data": {
            "text/plain": [
              "(90, 11)"
            ]
          },
          "metadata": {
            "tags": []
          },
          "execution_count": 151
        }
      ]
    },
    {
      "cell_type": "code",
      "metadata": {
        "id": "Um7sy7OUGkTM",
        "colab_type": "code",
        "colab": {
          "base_uri": "https://localhost:8080/",
          "height": 34
        },
        "outputId": "098dc228-e07a-476e-cbbe-73e652411ff3"
      },
      "source": [
        "df.shape"
      ],
      "execution_count": 152,
      "outputs": [
        {
          "output_type": "execute_result",
          "data": {
            "text/plain": [
              "(660, 11)"
            ]
          },
          "metadata": {
            "tags": []
          },
          "execution_count": 152
        }
      ]
    },
    {
      "cell_type": "code",
      "metadata": {
        "id": "jA4ZhzOCH8Yt",
        "colab_type": "code",
        "colab": {}
      },
      "source": [
        ""
      ],
      "execution_count": 0,
      "outputs": []
    }
  ]
}