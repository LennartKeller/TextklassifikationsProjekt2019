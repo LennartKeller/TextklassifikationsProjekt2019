{
 "cells": [
  {
   "cell_type": "code",
   "execution_count": 3,
   "metadata": {},
   "outputs": [],
   "source": [
    "from typing import Union, List\n",
    "\n",
    "import numpy as np\n",
    "from scipy.sparse import csr_matrix\n",
    "from sklearn.base import BaseEstimator, TransformerMixin\n",
    "from sklearn.exceptions import NotFittedError\n",
    "from sklearn.metrics import f1_score\n",
    "from tqdm import tqdm\n",
    "\n",
    "\n",
    "class PeriodEstimatorWrapper(BaseEstimator):\n",
    "\n",
    "    def __init__(self, clf: BaseEstimator, **params):\n",
    "        self.clf = clf(**params)\n",
    "        if params.get('verbose'):\n",
    "            self.verbose = params['verbose']\n",
    "\n",
    "    def fit(self, X_train: Union[csr_matrix, np.ndarray], y_train: np.array):\n",
    "        \"\"\"\n",
    "        Fits the estimator.\n",
    "\n",
    "        :param X_train: normal feature matrix e.g. shape (n_samples, n_features)\n",
    "        :param y_train: label vector shape (n_samples,)\n",
    "        :return: fitted instance of itself\n",
    "        \"\"\"\n",
    "\n",
    "        self.clf.fit(X_train, y_train)\n",
    "        self.fitted_ = True\n",
    "\n",
    "        return self\n",
    "\n",
    "    def predict(self, X_test: List[Union[csr_matrix, np.ndarray]]):\n",
    "        \"\"\"\n",
    "        Predicts classes for n periods\n",
    "        :param X_test: list of feature matrices (n_samples, n_features) to predict (one for each period)\n",
    "        :return: list of predicted label vectors\n",
    "        \"\"\"\n",
    "\n",
    "        if not self.fitted_:\n",
    "            raise NotFittedError\n",
    "\n",
    "        result = []\n",
    "        if self.verbose:\n",
    "            iterator = tqdm(X_test, desc='Predicting classes for periods')\n",
    "        else:\n",
    "            iterator = X_test\n",
    "\n",
    "        for X in iterator:\n",
    "            result.append(self.clf.predict(X))\n",
    "\n",
    "        return result\n",
    "\n",
    "    def predict_proba(self, X_test: List[Union[csr_matrix, np.ndarray]]):\n",
    "        \"\"\"\n",
    "        Predicts probabilities for n periods\n",
    "        :param X_test: list of feature matrices (n_samples, n_features) to predict (one for each period)\n",
    "        :return: list of predicted label vectors\n",
    "        \"\"\"\n",
    "        if not hasattr(self.clf, 'predict_proba'):\n",
    "            raise Exception(f\"Method predict_proba is not implemented in {self.clf.__class__.__name__}\")\n",
    "\n",
    "        if not self.fitted_:\n",
    "            raise NotFittedError\n",
    "\n",
    "        result = []\n",
    "        if self.verbose:\n",
    "            iterator = tqdm(X_test, desc='Predicting classes for periods')\n",
    "        else:\n",
    "            iterator = X_test\n",
    "\n",
    "        for X in iterator:\n",
    "            result.append(self.clf.predict_proba(X))\n",
    "\n",
    "        return result\n",
    "\n",
    "    def decision_function(self, X_test: List[Union[csr_matrix, np.ndarray]]):\n",
    "        \"\"\"\n",
    "        Predicts decision scores for n periods\n",
    "        :param X_test: list of feature matrices (n_samples, n_features) to predict (one for each period)\n",
    "        :return: list of predicted label vectors\n",
    "        \"\"\"\n",
    "        if not hasattr(self.clf, 'decision_function'):\n",
    "            raise Exception(f\"Method decision_function is not implemented in {self.clf.__class__.__name__}\")\n",
    "\n",
    "        if not self.fitted_:\n",
    "            raise NotFittedError\n",
    "\n",
    "        result = []\n",
    "        if self.verbose:\n",
    "            iterator = tqdm(X_test, desc='Predicting classes for periods')\n",
    "        else:\n",
    "            iterator = X_test\n",
    "\n",
    "        for X in iterator:\n",
    "            result.append(self.clf.predict_proba(X))\n",
    "\n",
    "        return result\n",
    "\n",
    "    def score(self,\n",
    "              X_test: List[Union[csr_matrix, np.ndarray]],\n",
    "              y_true: List[np.array],\n",
    "              scoring_func: callable = lambda y_true, y_pred: f1_score(y_true, y_pred, average='macro'),\n",
    "              pooling_func: callable = np.mean):\n",
    "\n",
    "        if not self.fitted_:\n",
    "            raise NotFittedError\n",
    "\n",
    "        scores = []\n",
    "        for X, y in zip(X_test, y_true):\n",
    "            y_pred = self.clf.predict(X)\n",
    "            score = scoring_func(y, y_pred)\n",
    "            scores.append(score)\n",
    "\n",
    "        return pooling_func(scores)\n",
    "\n",
    "    \n",
    "class PeriodTransformerWrapper(TransformerMixin):\n",
    "    \n",
    "    def __init__(self, transformer, **transformer_params):\n",
    "        self.transformer = transformer(**transformer_params)\n",
    "    \n",
    "    def fit(self, X):\n",
    "        self.transformer.fit(X)\n",
    "    \n",
    "    def transform(self, X):\n",
    "        if np.array(X).ndim == 3:\n",
    "            X_t = []\n",
    "            for x in X:\n",
    "                X_t.append(self.transformer.transform(x))\n",
    "                \n",
    "        else:\n",
    "            X_t = self.transformer.transform(X)\n",
    "        return X_t"
   ]
  },
  {
   "cell_type": "code",
   "execution_count": 4,
   "metadata": {},
   "outputs": [
    {
     "ename": "NameError",
     "evalue": "name 'TfidfVectorizer' is not defined",
     "output_type": "error",
     "traceback": [
      "\u001b[0;31m---------------------------------------------------------------------------\u001b[0m",
      "\u001b[0;31mNameError\u001b[0m                                 Traceback (most recent call last)",
      "\u001b[0;32m<ipython-input-4-0db738c59af3>\u001b[0m in \u001b[0;36m<module>\u001b[0;34m\u001b[0m\n\u001b[0;32m----> 1\u001b[0;31m \u001b[0mpt\u001b[0m \u001b[0;34m=\u001b[0m \u001b[0mPeriodTransformerWrapper\u001b[0m\u001b[0;34m(\u001b[0m\u001b[0mTfidfVectorizer\u001b[0m\u001b[0;34m)\u001b[0m\u001b[0;34m\u001b[0m\u001b[0;34m\u001b[0m\u001b[0m\n\u001b[0m\u001b[1;32m      2\u001b[0m \u001b[0mpt\u001b[0m\u001b[0;34m.\u001b[0m\u001b[0mfit\u001b[0m\u001b[0;34m(\u001b[0m\u001b[0mlist\u001b[0m\u001b[0;34m(\u001b[0m\u001b[0mperiods\u001b[0m\u001b[0;34m.\u001b[0m\u001b[0mvalues\u001b[0m\u001b[0;34m(\u001b[0m\u001b[0;34m)\u001b[0m\u001b[0;34m)\u001b[0m\u001b[0;34m[\u001b[0m\u001b[0;36m0\u001b[0m\u001b[0;34m]\u001b[0m\u001b[0;34m.\u001b[0m\u001b[0mtext\u001b[0m\u001b[0;34m)\u001b[0m\u001b[0;34m\u001b[0m\u001b[0;34m\u001b[0m\u001b[0m\n\u001b[1;32m      3\u001b[0m \u001b[0mtrain\u001b[0m \u001b[0;34m=\u001b[0m \u001b[0mpt\u001b[0m\u001b[0;34m.\u001b[0m\u001b[0mtransform\u001b[0m\u001b[0;34m(\u001b[0m\u001b[0mlist\u001b[0m\u001b[0;34m(\u001b[0m\u001b[0mperiods\u001b[0m\u001b[0;34m.\u001b[0m\u001b[0mvalues\u001b[0m\u001b[0;34m(\u001b[0m\u001b[0;34m)\u001b[0m\u001b[0;34m)\u001b[0m\u001b[0;34m[\u001b[0m\u001b[0;36m0\u001b[0m\u001b[0;34m]\u001b[0m\u001b[0;34m.\u001b[0m\u001b[0mtext\u001b[0m\u001b[0;34m)\u001b[0m\u001b[0;34m\u001b[0m\u001b[0;34m\u001b[0m\u001b[0m\n\u001b[1;32m      4\u001b[0m \u001b[0mtest\u001b[0m \u001b[0;34m=\u001b[0m \u001b[0mpt\u001b[0m\u001b[0;34m.\u001b[0m\u001b[0mtransform\u001b[0m\u001b[0;34m(\u001b[0m\u001b[0;34m[\u001b[0m\u001b[0mp\u001b[0m\u001b[0;34m.\u001b[0m\u001b[0mtext\u001b[0m \u001b[0;32mfor\u001b[0m \u001b[0mp\u001b[0m \u001b[0;32min\u001b[0m \u001b[0mperiods\u001b[0m\u001b[0;34m.\u001b[0m\u001b[0mvalues\u001b[0m\u001b[0;34m(\u001b[0m\u001b[0;34m)\u001b[0m\u001b[0;34m]\u001b[0m\u001b[0;34m)\u001b[0m\u001b[0;34m\u001b[0m\u001b[0;34m\u001b[0m\u001b[0m\n",
      "\u001b[0;31mNameError\u001b[0m: name 'TfidfVectorizer' is not defined"
     ]
    }
   ],
   "source": [
    "pt = PeriodTransformerWrapper(TfidfVectorizer)\n",
    "pt.fit(list(periods.values())[0].text)\n",
    "train = pt.transform(list(periods.values())[0].text)\n",
    "test = pt.transform([p.text for p in periods.values()])"
   ]
  },
  {
   "cell_type": "code",
   "execution_count": 5,
   "metadata": {},
   "outputs": [
    {
     "name": "stderr",
     "output_type": "stream",
     "text": [
      "/Users/lennartkeller/anaconda3/envs/nlp/lib/python3.7/importlib/_bootstrap.py:219: RuntimeWarning: numpy.ufunc size changed, may indicate binary incompatibility. Expected 192 from C header, got 216 from PyObject\n",
      "  return f(*args, **kwds)\n",
      "/Users/lennartkeller/anaconda3/envs/nlp/lib/python3.7/importlib/_bootstrap.py:219: RuntimeWarning: numpy.ufunc size changed, may indicate binary incompatibility. Expected 192 from C header, got 216 from PyObject\n",
      "  return f(*args, **kwds)\n"
     ]
    }
   ],
   "source": [
    "import pandas as pd"
   ]
  },
  {
   "cell_type": "code",
   "execution_count": 53,
   "metadata": {},
   "outputs": [],
   "source": [
    "df = pd.read_csv('full_dataset.csv').dropna()\n",
    "df = df[df.period != 'WMD']"
   ]
  },
  {
   "cell_type": "code",
   "execution_count": 54,
   "metadata": {},
   "outputs": [],
   "source": [
    "# remove news genre\n",
    "df = df[df.genre != 'NEWS']"
   ]
  },
  {
   "cell_type": "code",
   "execution_count": 25,
   "metadata": {},
   "outputs": [
    {
     "data": {
      "text/plain": [
       "dict_keys(['P1', 'P2', 'P3', 'P4', 'P5', 'P6'])"
      ]
     },
     "execution_count": 25,
     "metadata": {},
     "output_type": "execute_result"
    }
   ],
   "source": [
    "ignore = ('WMD')\n",
    "periods = {}\n",
    "for period in sorted(df.period.unique()):\n",
    "    if period not in ignore:\n",
    "        periods[period] = df.loc[df['period'] == period]\n",
    "        \n",
    "periods.keys()"
   ]
  },
  {
   "cell_type": "code",
   "execution_count": 26,
   "metadata": {},
   "outputs": [
    {
     "ename": "AttributeError",
     "evalue": "'Series' object has no attribute 'lower'",
     "output_type": "error",
     "traceback": [
      "\u001b[0;31m---------------------------------------------------------------------------\u001b[0m",
      "\u001b[0;31mAttributeError\u001b[0m                            Traceback (most recent call last)",
      "\u001b[0;32m<ipython-input-26-42c104cfd358>\u001b[0m in \u001b[0;36m<module>\u001b[0;34m\u001b[0m\n\u001b[1;32m      6\u001b[0m \u001b[0mp_train\u001b[0m \u001b[0;34m=\u001b[0m \u001b[0mtfidf\u001b[0m\u001b[0;34m.\u001b[0m\u001b[0mfit_transform\u001b[0m\u001b[0;34m(\u001b[0m\u001b[0mlist\u001b[0m\u001b[0;34m(\u001b[0m\u001b[0mperiods\u001b[0m\u001b[0;34m.\u001b[0m\u001b[0mvalues\u001b[0m\u001b[0;34m(\u001b[0m\u001b[0;34m)\u001b[0m\u001b[0;34m)\u001b[0m\u001b[0;34m[\u001b[0m\u001b[0;36m0\u001b[0m\u001b[0;34m]\u001b[0m\u001b[0;34m.\u001b[0m\u001b[0mtext\u001b[0m\u001b[0;34m)\u001b[0m\u001b[0;34m\u001b[0m\u001b[0;34m\u001b[0m\u001b[0m\n\u001b[1;32m      7\u001b[0m \u001b[0my_train\u001b[0m \u001b[0;34m=\u001b[0m \u001b[0mlist\u001b[0m\u001b[0;34m(\u001b[0m\u001b[0mperiods\u001b[0m\u001b[0;34m.\u001b[0m\u001b[0mvalues\u001b[0m\u001b[0;34m(\u001b[0m\u001b[0;34m)\u001b[0m\u001b[0;34m)\u001b[0m\u001b[0;34m[\u001b[0m\u001b[0;36m0\u001b[0m\u001b[0;34m]\u001b[0m\u001b[0;34m.\u001b[0m\u001b[0mgenre\u001b[0m\u001b[0;34m.\u001b[0m\u001b[0mto_numpy\u001b[0m\u001b[0;34m(\u001b[0m\u001b[0;34m)\u001b[0m\u001b[0;34m\u001b[0m\u001b[0;34m\u001b[0m\u001b[0m\n\u001b[0;32m----> 8\u001b[0;31m \u001b[0mp_test\u001b[0m \u001b[0;34m=\u001b[0m \u001b[0mtfidf\u001b[0m\u001b[0;34m.\u001b[0m\u001b[0mtransform\u001b[0m\u001b[0;34m(\u001b[0m\u001b[0;34m[\u001b[0m\u001b[0mp\u001b[0m\u001b[0;34m.\u001b[0m\u001b[0mtext\u001b[0m \u001b[0;32mfor\u001b[0m \u001b[0mp\u001b[0m \u001b[0;32min\u001b[0m \u001b[0mperiods\u001b[0m\u001b[0;34m.\u001b[0m\u001b[0mvalues\u001b[0m\u001b[0;34m(\u001b[0m\u001b[0;34m)\u001b[0m\u001b[0;34m]\u001b[0m\u001b[0;34m)\u001b[0m\u001b[0;34m\u001b[0m\u001b[0;34m\u001b[0m\u001b[0m\n\u001b[0m\u001b[1;32m      9\u001b[0m \u001b[0my_test\u001b[0m \u001b[0;34m=\u001b[0m \u001b[0;34m[\u001b[0m\u001b[0mp\u001b[0m\u001b[0;34m.\u001b[0m\u001b[0mgenre\u001b[0m\u001b[0;34m.\u001b[0m\u001b[0mto_numpy\u001b[0m\u001b[0;34m(\u001b[0m\u001b[0;34m)\u001b[0m \u001b[0;32mfor\u001b[0m \u001b[0mp\u001b[0m \u001b[0;32min\u001b[0m \u001b[0mperiods\u001b[0m\u001b[0;34m.\u001b[0m\u001b[0mvalues\u001b[0m\u001b[0;34m(\u001b[0m\u001b[0;34m)\u001b[0m\u001b[0;34m]\u001b[0m\u001b[0;34m\u001b[0m\u001b[0;34m\u001b[0m\u001b[0m\n",
      "\u001b[0;32m~/anaconda3/envs/nlp/lib/python3.7/site-packages/sklearn/feature_extraction/text.py\u001b[0m in \u001b[0;36mtransform\u001b[0;34m(self, raw_documents, copy)\u001b[0m\n\u001b[1;32m   1678\u001b[0m         \u001b[0mcheck_is_fitted\u001b[0m\u001b[0;34m(\u001b[0m\u001b[0mself\u001b[0m\u001b[0;34m,\u001b[0m \u001b[0;34m'_tfidf'\u001b[0m\u001b[0;34m,\u001b[0m \u001b[0;34m'The tfidf vector is not fitted'\u001b[0m\u001b[0;34m)\u001b[0m\u001b[0;34m\u001b[0m\u001b[0;34m\u001b[0m\u001b[0m\n\u001b[1;32m   1679\u001b[0m \u001b[0;34m\u001b[0m\u001b[0m\n\u001b[0;32m-> 1680\u001b[0;31m         \u001b[0mX\u001b[0m \u001b[0;34m=\u001b[0m \u001b[0msuper\u001b[0m\u001b[0;34m(\u001b[0m\u001b[0;34m)\u001b[0m\u001b[0;34m.\u001b[0m\u001b[0mtransform\u001b[0m\u001b[0;34m(\u001b[0m\u001b[0mraw_documents\u001b[0m\u001b[0;34m)\u001b[0m\u001b[0;34m\u001b[0m\u001b[0;34m\u001b[0m\u001b[0m\n\u001b[0m\u001b[1;32m   1681\u001b[0m         \u001b[0;32mreturn\u001b[0m \u001b[0mself\u001b[0m\u001b[0;34m.\u001b[0m\u001b[0m_tfidf\u001b[0m\u001b[0;34m.\u001b[0m\u001b[0mtransform\u001b[0m\u001b[0;34m(\u001b[0m\u001b[0mX\u001b[0m\u001b[0;34m,\u001b[0m \u001b[0mcopy\u001b[0m\u001b[0;34m=\u001b[0m\u001b[0;32mFalse\u001b[0m\u001b[0;34m)\u001b[0m\u001b[0;34m\u001b[0m\u001b[0;34m\u001b[0m\u001b[0m\n\u001b[1;32m   1682\u001b[0m \u001b[0;34m\u001b[0m\u001b[0m\n",
      "\u001b[0;32m~/anaconda3/envs/nlp/lib/python3.7/site-packages/sklearn/feature_extraction/text.py\u001b[0m in \u001b[0;36mtransform\u001b[0;34m(self, raw_documents)\u001b[0m\n\u001b[1;32m   1110\u001b[0m \u001b[0;34m\u001b[0m\u001b[0m\n\u001b[1;32m   1111\u001b[0m         \u001b[0;31m# use the same matrix-building strategy as fit_transform\u001b[0m\u001b[0;34m\u001b[0m\u001b[0;34m\u001b[0m\u001b[0;34m\u001b[0m\u001b[0m\n\u001b[0;32m-> 1112\u001b[0;31m         \u001b[0m_\u001b[0m\u001b[0;34m,\u001b[0m \u001b[0mX\u001b[0m \u001b[0;34m=\u001b[0m \u001b[0mself\u001b[0m\u001b[0;34m.\u001b[0m\u001b[0m_count_vocab\u001b[0m\u001b[0;34m(\u001b[0m\u001b[0mraw_documents\u001b[0m\u001b[0;34m,\u001b[0m \u001b[0mfixed_vocab\u001b[0m\u001b[0;34m=\u001b[0m\u001b[0;32mTrue\u001b[0m\u001b[0;34m)\u001b[0m\u001b[0;34m\u001b[0m\u001b[0;34m\u001b[0m\u001b[0m\n\u001b[0m\u001b[1;32m   1113\u001b[0m         \u001b[0;32mif\u001b[0m \u001b[0mself\u001b[0m\u001b[0;34m.\u001b[0m\u001b[0mbinary\u001b[0m\u001b[0;34m:\u001b[0m\u001b[0;34m\u001b[0m\u001b[0;34m\u001b[0m\u001b[0m\n\u001b[1;32m   1114\u001b[0m             \u001b[0mX\u001b[0m\u001b[0;34m.\u001b[0m\u001b[0mdata\u001b[0m\u001b[0;34m.\u001b[0m\u001b[0mfill\u001b[0m\u001b[0;34m(\u001b[0m\u001b[0;36m1\u001b[0m\u001b[0;34m)\u001b[0m\u001b[0;34m\u001b[0m\u001b[0;34m\u001b[0m\u001b[0m\n",
      "\u001b[0;32m~/anaconda3/envs/nlp/lib/python3.7/site-packages/sklearn/feature_extraction/text.py\u001b[0m in \u001b[0;36m_count_vocab\u001b[0;34m(self, raw_documents, fixed_vocab)\u001b[0m\n\u001b[1;32m    968\u001b[0m         \u001b[0;32mfor\u001b[0m \u001b[0mdoc\u001b[0m \u001b[0;32min\u001b[0m \u001b[0mraw_documents\u001b[0m\u001b[0;34m:\u001b[0m\u001b[0;34m\u001b[0m\u001b[0;34m\u001b[0m\u001b[0m\n\u001b[1;32m    969\u001b[0m             \u001b[0mfeature_counter\u001b[0m \u001b[0;34m=\u001b[0m \u001b[0;34m{\u001b[0m\u001b[0;34m}\u001b[0m\u001b[0;34m\u001b[0m\u001b[0;34m\u001b[0m\u001b[0m\n\u001b[0;32m--> 970\u001b[0;31m             \u001b[0;32mfor\u001b[0m \u001b[0mfeature\u001b[0m \u001b[0;32min\u001b[0m \u001b[0manalyze\u001b[0m\u001b[0;34m(\u001b[0m\u001b[0mdoc\u001b[0m\u001b[0;34m)\u001b[0m\u001b[0;34m:\u001b[0m\u001b[0;34m\u001b[0m\u001b[0;34m\u001b[0m\u001b[0m\n\u001b[0m\u001b[1;32m    971\u001b[0m                 \u001b[0;32mtry\u001b[0m\u001b[0;34m:\u001b[0m\u001b[0;34m\u001b[0m\u001b[0;34m\u001b[0m\u001b[0m\n\u001b[1;32m    972\u001b[0m                     \u001b[0mfeature_idx\u001b[0m \u001b[0;34m=\u001b[0m \u001b[0mvocabulary\u001b[0m\u001b[0;34m[\u001b[0m\u001b[0mfeature\u001b[0m\u001b[0;34m]\u001b[0m\u001b[0;34m\u001b[0m\u001b[0;34m\u001b[0m\u001b[0m\n",
      "\u001b[0;32m~/anaconda3/envs/nlp/lib/python3.7/site-packages/sklearn/feature_extraction/text.py\u001b[0m in \u001b[0;36m<lambda>\u001b[0;34m(doc)\u001b[0m\n\u001b[1;32m    350\u001b[0m                                                tokenize)\n\u001b[1;32m    351\u001b[0m             return lambda doc: self._word_ngrams(\n\u001b[0;32m--> 352\u001b[0;31m                 tokenize(preprocess(self.decode(doc))), stop_words)\n\u001b[0m\u001b[1;32m    353\u001b[0m \u001b[0;34m\u001b[0m\u001b[0m\n\u001b[1;32m    354\u001b[0m         \u001b[0;32melse\u001b[0m\u001b[0;34m:\u001b[0m\u001b[0;34m\u001b[0m\u001b[0;34m\u001b[0m\u001b[0m\n",
      "\u001b[0;32m~/anaconda3/envs/nlp/lib/python3.7/site-packages/sklearn/feature_extraction/text.py\u001b[0m in \u001b[0;36m<lambda>\u001b[0;34m(x)\u001b[0m\n\u001b[1;32m    254\u001b[0m \u001b[0;34m\u001b[0m\u001b[0m\n\u001b[1;32m    255\u001b[0m         \u001b[0;32mif\u001b[0m \u001b[0mself\u001b[0m\u001b[0;34m.\u001b[0m\u001b[0mlowercase\u001b[0m\u001b[0;34m:\u001b[0m\u001b[0;34m\u001b[0m\u001b[0;34m\u001b[0m\u001b[0m\n\u001b[0;32m--> 256\u001b[0;31m             \u001b[0;32mreturn\u001b[0m \u001b[0;32mlambda\u001b[0m \u001b[0mx\u001b[0m\u001b[0;34m:\u001b[0m \u001b[0mstrip_accents\u001b[0m\u001b[0;34m(\u001b[0m\u001b[0mx\u001b[0m\u001b[0;34m.\u001b[0m\u001b[0mlower\u001b[0m\u001b[0;34m(\u001b[0m\u001b[0;34m)\u001b[0m\u001b[0;34m)\u001b[0m\u001b[0;34m\u001b[0m\u001b[0;34m\u001b[0m\u001b[0m\n\u001b[0m\u001b[1;32m    257\u001b[0m         \u001b[0;32melse\u001b[0m\u001b[0;34m:\u001b[0m\u001b[0;34m\u001b[0m\u001b[0;34m\u001b[0m\u001b[0m\n\u001b[1;32m    258\u001b[0m             \u001b[0;32mreturn\u001b[0m \u001b[0mstrip_accents\u001b[0m\u001b[0;34m\u001b[0m\u001b[0;34m\u001b[0m\u001b[0m\n",
      "\u001b[0;32m~/anaconda3/envs/nlp/lib/python3.7/site-packages/pandas/core/generic.py\u001b[0m in \u001b[0;36m__getattr__\u001b[0;34m(self, name)\u001b[0m\n\u001b[1;32m   5065\u001b[0m             \u001b[0;32mif\u001b[0m \u001b[0mself\u001b[0m\u001b[0;34m.\u001b[0m\u001b[0m_info_axis\u001b[0m\u001b[0;34m.\u001b[0m\u001b[0m_can_hold_identifiers_and_holds_name\u001b[0m\u001b[0;34m(\u001b[0m\u001b[0mname\u001b[0m\u001b[0;34m)\u001b[0m\u001b[0;34m:\u001b[0m\u001b[0;34m\u001b[0m\u001b[0;34m\u001b[0m\u001b[0m\n\u001b[1;32m   5066\u001b[0m                 \u001b[0;32mreturn\u001b[0m \u001b[0mself\u001b[0m\u001b[0;34m[\u001b[0m\u001b[0mname\u001b[0m\u001b[0;34m]\u001b[0m\u001b[0;34m\u001b[0m\u001b[0;34m\u001b[0m\u001b[0m\n\u001b[0;32m-> 5067\u001b[0;31m             \u001b[0;32mreturn\u001b[0m \u001b[0mobject\u001b[0m\u001b[0;34m.\u001b[0m\u001b[0m__getattribute__\u001b[0m\u001b[0;34m(\u001b[0m\u001b[0mself\u001b[0m\u001b[0;34m,\u001b[0m \u001b[0mname\u001b[0m\u001b[0;34m)\u001b[0m\u001b[0;34m\u001b[0m\u001b[0;34m\u001b[0m\u001b[0m\n\u001b[0m\u001b[1;32m   5068\u001b[0m \u001b[0;34m\u001b[0m\u001b[0m\n\u001b[1;32m   5069\u001b[0m     \u001b[0;32mdef\u001b[0m \u001b[0m__setattr__\u001b[0m\u001b[0;34m(\u001b[0m\u001b[0mself\u001b[0m\u001b[0;34m,\u001b[0m \u001b[0mname\u001b[0m\u001b[0;34m,\u001b[0m \u001b[0mvalue\u001b[0m\u001b[0;34m)\u001b[0m\u001b[0;34m:\u001b[0m\u001b[0;34m\u001b[0m\u001b[0;34m\u001b[0m\u001b[0m\n",
      "\u001b[0;31mAttributeError\u001b[0m: 'Series' object has no attribute 'lower'"
     ]
    }
   ],
   "source": [
    "from sklearn.feature_extraction.text import TfidfVectorizer\n",
    "from stop_words import get_stop_words\n",
    "\n",
    "tfidf = TfidfVectorizer(stop_words=get_stop_words('de'))\n",
    "\n",
    "p_train = tfidf.fit_transform(list(periods.values())[0].text)\n",
    "y_train = list(periods.values())[0].genre.to_numpy()\n",
    "p_test = tfidf.transform([p.text for p in periods.values()])\n",
    "y_test = [p.genre.to_numpy() for p in periods.values()]"
   ]
  },
  {
   "cell_type": "code",
   "execution_count": null,
   "metadata": {},
   "outputs": [],
   "source": [
    "from sklearn.neural_network import MLPClassifier\n",
    "from sklearn.naive_bayes import MultinomialNB\n",
    "clf = PeriodEstimatorWrapper(MultinomialNB)"
   ]
  },
  {
   "cell_type": "code",
   "execution_count": 27,
   "metadata": {},
   "outputs": [
    {
     "ename": "NameError",
     "evalue": "name 'clf' is not defined",
     "output_type": "error",
     "traceback": [
      "\u001b[0;31m---------------------------------------------------------------------------\u001b[0m",
      "\u001b[0;31mNameError\u001b[0m                                 Traceback (most recent call last)",
      "\u001b[0;32m<ipython-input-27-0a7483d4a14d>\u001b[0m in \u001b[0;36m<module>\u001b[0;34m\u001b[0m\n\u001b[0;32m----> 1\u001b[0;31m \u001b[0mclf\u001b[0m\u001b[0;34m.\u001b[0m\u001b[0mfit\u001b[0m\u001b[0;34m(\u001b[0m\u001b[0mp_train\u001b[0m\u001b[0;34m,\u001b[0m \u001b[0my_train\u001b[0m\u001b[0;34m)\u001b[0m\u001b[0;34m\u001b[0m\u001b[0;34m\u001b[0m\u001b[0m\n\u001b[0m",
      "\u001b[0;31mNameError\u001b[0m: name 'clf' is not defined"
     ]
    }
   ],
   "source": [
    "clf.fit(p_train, y_train)"
   ]
  },
  {
   "cell_type": "code",
   "execution_count": 98,
   "metadata": {},
   "outputs": [
    {
     "data": {
      "text/plain": [
       "[1.0,\n",
       " 0.6057247958606193,\n",
       " 0.48032143679510186,\n",
       " 0.6846182155350599,\n",
       " 0.6934784900402424,\n",
       " 0.5588023088023087]"
      ]
     },
     "execution_count": 98,
     "metadata": {},
     "output_type": "execute_result"
    }
   ],
   "source": [
    "scores = clf.score(p_test, y_test, pooling_func=lambda x: x)\n",
    "scores"
   ]
  },
  {
   "cell_type": "code",
   "execution_count": 99,
   "metadata": {},
   "outputs": [],
   "source": [
    "import matplotlib.pyplot as plt"
   ]
  },
  {
   "cell_type": "code",
   "execution_count": 100,
   "metadata": {},
   "outputs": [
    {
     "data": {
      "image/png": "[encoded data removed]",
      "text/plain": [
       "<Figure size 432x288 with 1 Axes>"
      ]
     },
     "metadata": {
      "needs_background": "light"
     },
     "output_type": "display_data"
    }
   ],
   "source": [
    "plt.plot(list(periods.keys()), scores)\n",
    "plt.show()"
   ]
  },
  {
   "cell_type": "code",
   "execution_count": 79,
   "metadata": {},
   "outputs": [],
   "source": [
    "def visualize_periods() -> plt.Figure:\n",
    "    \"\"\"\n",
    "    Returns a plot of each pipe passed, trained on one period and applied to the others.\n",
    "    TODOs:\n",
    "        * We should handle each genre on its own.\n",
    "        * \n",
    "    \"\"\"\n",
    "    return "
   ]
  },
  {
   "cell_type": "code",
   "execution_count": 85,
   "metadata": {},
   "outputs": [
    {
     "name": "stderr",
     "output_type": "stream",
     "text": [
      "/Users/lennartkeller/anaconda3/envs/nlp/lib/python3.7/site-packages/matplotlib/figure.py:445: UserWarning: Matplotlib is currently using module://ipykernel.pylab.backend_inline, which is a non-GUI backend, so cannot show the figure.\n",
      "  % get_backend())\n"
     ]
    },
    {
     "data": {
      "image/png": "[encoded data removed]",
      "text/plain": [
       "<Figure size 432x288 with 1 Axes>"
      ]
     },
     "metadata": {
      "needs_background": "light"
     },
     "output_type": "display_data"
    }
   ],
   "source": [
    "fig = plt.figure()\n",
    "plt.plot([1,2], [3,4])\n",
    "fig.show()"
   ]
  },
  {
   "cell_type": "code",
   "execution_count": 55,
   "metadata": {},
   "outputs": [],
   "source": [
    "from sklearn.svm import LinearSVC\n",
    "from sklearn.feature_extraction.text import TfidfVectorizer\n",
    "from sklearn.pipeline import make_pipeline\n",
    "from sklearn.model_selection import train_test_split\n",
    "from sklearn.metrics import classification_report"
   ]
  },
  {
   "cell_type": "code",
   "execution_count": 56,
   "metadata": {},
   "outputs": [],
   "source": [
    "df_train, df_test = train_test_split(df, random_state=42)"
   ]
  },
  {
   "cell_type": "code",
   "execution_count": 61,
   "metadata": {},
   "outputs": [],
   "source": [
    "from sklearn.neural_network import MLPClassifier\n",
    "pipe = make_pipeline(TfidfVectorizer(), MLPClassifier(verbose=3))"
   ]
  },
  {
   "cell_type": "code",
   "execution_count": 62,
   "metadata": {},
   "outputs": [
    {
     "name": "stdout",
     "output_type": "stream",
     "text": [
      "Iteration 1, loss = 1.77417883\n",
      "Iteration 2, loss = 1.68270876\n",
      "Iteration 3, loss = 1.57630798\n",
      "Iteration 4, loss = 1.46206898\n",
      "Iteration 5, loss = 1.34167139\n",
      "Iteration 6, loss = 1.21881141\n",
      "Iteration 7, loss = 1.09833535\n",
      "Iteration 8, loss = 0.98037417\n",
      "Iteration 9, loss = 0.86888861\n",
      "Iteration 10, loss = 0.76443242\n",
      "Iteration 11, loss = 0.66843720\n",
      "Iteration 12, loss = 0.58218140\n",
      "Iteration 13, loss = 0.50501292\n",
      "Iteration 14, loss = 0.43789661\n",
      "Iteration 15, loss = 0.37923120\n",
      "Iteration 16, loss = 0.32764838\n",
      "Iteration 17, loss = 0.28364520\n",
      "Iteration 18, loss = 0.24648695\n",
      "Iteration 19, loss = 0.21429600\n",
      "Iteration 20, loss = 0.18762472\n",
      "Iteration 21, loss = 0.16492697\n",
      "Iteration 22, loss = 0.14563687\n",
      "Iteration 23, loss = 0.12917675\n",
      "Iteration 24, loss = 0.11537282\n",
      "Iteration 25, loss = 0.10366387\n",
      "Iteration 26, loss = 0.09349494\n",
      "Iteration 27, loss = 0.08489693\n",
      "Iteration 28, loss = 0.07738635\n",
      "Iteration 29, loss = 0.07096366\n",
      "Iteration 30, loss = 0.06533752\n",
      "Iteration 31, loss = 0.06040862\n",
      "Iteration 32, loss = 0.05605933\n",
      "Iteration 33, loss = 0.05225118\n",
      "Iteration 34, loss = 0.04889255\n",
      "Iteration 35, loss = 0.04583739\n",
      "Iteration 36, loss = 0.04311807\n",
      "Iteration 37, loss = 0.04070282\n",
      "Iteration 38, loss = 0.03849475\n",
      "Iteration 39, loss = 0.03649561\n",
      "Iteration 40, loss = 0.03471670\n",
      "Iteration 41, loss = 0.03304827\n",
      "Iteration 42, loss = 0.03155338\n",
      "Iteration 43, loss = 0.03016131\n",
      "Iteration 44, loss = 0.02890894\n",
      "Iteration 45, loss = 0.02773229\n",
      "Iteration 46, loss = 0.02664900\n",
      "Iteration 47, loss = 0.02564621\n",
      "Iteration 48, loss = 0.02470843\n",
      "Iteration 49, loss = 0.02384405\n",
      "Iteration 50, loss = 0.02302900\n",
      "Iteration 51, loss = 0.02226791\n",
      "Iteration 52, loss = 0.02157039\n",
      "Iteration 53, loss = 0.02090030\n",
      "Iteration 54, loss = 0.02027062\n",
      "Iteration 55, loss = 0.01967147\n",
      "Iteration 56, loss = 0.01912319\n",
      "Iteration 57, loss = 0.01860317\n",
      "Iteration 58, loss = 0.01810703\n",
      "Iteration 59, loss = 0.01763386\n",
      "Iteration 60, loss = 0.01719529\n",
      "Iteration 61, loss = 0.01677680\n",
      "Iteration 62, loss = 0.01637938\n",
      "Iteration 63, loss = 0.01599504\n",
      "Iteration 64, loss = 0.01564282\n",
      "Iteration 65, loss = 0.01529893\n",
      "Iteration 66, loss = 0.01497202\n",
      "Iteration 67, loss = 0.01466064\n",
      "Iteration 68, loss = 0.01436859\n",
      "Iteration 69, loss = 0.01408674\n",
      "Iteration 70, loss = 0.01381702\n",
      "Iteration 71, loss = 0.01356170\n",
      "Iteration 72, loss = 0.01331857\n",
      "Iteration 73, loss = 0.01308171\n",
      "Iteration 74, loss = 0.01285729\n",
      "Iteration 75, loss = 0.01264123\n",
      "Iteration 76, loss = 0.01243303\n",
      "Iteration 77, loss = 0.01223741\n",
      "Iteration 78, loss = 0.01204415\n",
      "Iteration 79, loss = 0.01186132\n",
      "Iteration 80, loss = 0.01168422\n",
      "Iteration 81, loss = 0.01151537\n",
      "Iteration 82, loss = 0.01135129\n",
      "Iteration 83, loss = 0.01119417\n",
      "Iteration 84, loss = 0.01104013\n",
      "Iteration 85, loss = 0.01089662\n",
      "Iteration 86, loss = 0.01075440\n",
      "Iteration 87, loss = 0.01061791\n",
      "Iteration 88, loss = 0.01048561\n",
      "Iteration 89, loss = 0.01035859\n",
      "Iteration 90, loss = 0.01023485\n",
      "Iteration 91, loss = 0.01011521\n",
      "Iteration 92, loss = 0.01000110\n",
      "Iteration 93, loss = 0.00988949\n",
      "Iteration 94, loss = 0.00978036\n",
      "Iteration 95, loss = 0.00967601\n",
      "Iteration 96, loss = 0.00957568\n",
      "Iteration 97, loss = 0.00947564\n",
      "Iteration 98, loss = 0.00938061\n",
      "Iteration 99, loss = 0.00928721\n",
      "Iteration 100, loss = 0.00919770\n",
      "Iteration 101, loss = 0.00911047\n",
      "Iteration 102, loss = 0.00902414\n",
      "Iteration 103, loss = 0.00894122\n",
      "Iteration 104, loss = 0.00886249\n",
      "Iteration 105, loss = 0.00878345\n",
      "Iteration 106, loss = 0.00870785\n",
      "Iteration 107, loss = 0.00863341\n",
      "Iteration 108, loss = 0.00856164\n",
      "Training loss did not improve more than tol=0.000100 for 10 consecutive epochs. Stopping.\n"
     ]
    },
    {
     "data": {
      "text/plain": [
       "Pipeline(memory=None,\n",
       "         steps=[('tfidfvectorizer',\n",
       "                 TfidfVectorizer(analyzer='word', binary=False,\n",
       "                                 decode_error='strict',\n",
       "                                 dtype=<class 'numpy.float64'>,\n",
       "                                 encoding='utf-8', input='content',\n",
       "                                 lowercase=True, max_df=1.0, max_features=None,\n",
       "                                 min_df=1, ngram_range=(1, 1), norm='l2',\n",
       "                                 preprocessor=None, smooth_idf=True,\n",
       "                                 stop_words=None, strip_accents=None,\n",
       "                                 sublinear_tf=False,\n",
       "                                 token...\n",
       "                               batch_size='auto', beta_1=0.9, beta_2=0.999,\n",
       "                               early_stopping=False, epsilon=1e-08,\n",
       "                               hidden_layer_sizes=(100,),\n",
       "                               learning_rate='constant',\n",
       "                               learning_rate_init=0.001, max_iter=200,\n",
       "                               momentum=0.9, n_iter_no_change=10,\n",
       "                               nesterovs_momentum=True, power_t=0.5,\n",
       "                               random_state=None, shuffle=True, solver='adam',\n",
       "                               tol=0.0001, validation_fraction=0.1, verbose=3,\n",
       "                               warm_start=False))],\n",
       "         verbose=False)"
      ]
     },
     "execution_count": 62,
     "metadata": {},
     "output_type": "execute_result"
    }
   ],
   "source": [
    "pipe.fit(df_train.text, df_train.period)"
   ]
  },
  {
   "cell_type": "code",
   "execution_count": 63,
   "metadata": {},
   "outputs": [
    {
     "data": {
      "text/plain": [
       "array(['P6', 'P4'], dtype='<U2')"
      ]
     },
     "execution_count": 63,
     "metadata": {},
     "output_type": "execute_result"
    }
   ],
   "source": [
    "y_pred = pipe.predict(df_test.text)\n",
    "y_pred[:2]"
   ]
  },
  {
   "cell_type": "code",
   "execution_count": 64,
   "metadata": {},
   "outputs": [
    {
     "name": "stdout",
     "output_type": "stream",
     "text": [
      "              precision    recall  f1-score   support\n",
      "\n",
      "          P1       0.63      0.68      0.65        25\n",
      "          P2       0.47      0.38      0.42        24\n",
      "          P3       0.66      0.83      0.73        23\n",
      "          P4       0.77      0.47      0.59        36\n",
      "          P5       0.37      0.62      0.46        21\n",
      "          P6       0.88      0.81      0.85        37\n",
      "\n",
      "    accuracy                           0.63       166\n",
      "   macro avg       0.63      0.63      0.62       166\n",
      "weighted avg       0.67      0.63      0.63       166\n",
      "\n"
     ]
    }
   ],
   "source": [
    "print(classification_report(df_test.period.to_numpy(), y_pred))"
   ]
  },
  {
   "cell_type": "code",
   "execution_count": 36,
   "metadata": {},
   "outputs": [
    {
     "data": {
      "text/plain": [
       "((166,), (8,))"
      ]
     },
     "execution_count": 36,
     "metadata": {},
     "output_type": "execute_result"
    }
   ],
   "source": [
    "df_test.period.to_numpy().shape, y_pred.shape"
   ]
  },
  {
   "cell_type": "code",
   "execution_count": null,
   "metadata": {},
   "outputs": [],
   "source": []
  }
 ],
 "metadata": {
  "kernelspec": {
   "display_name": "Python [conda env:nlp]",
   "language": "python",
   "name": "conda-env-nlp-py"
  },
  "language_info": {
   "codemirror_mode": {
    "name": "ipython",
    "version": 3
   },
   "file_extension": ".py",
   "mimetype": "text/x-python",
   "name": "python",
   "nbconvert_exporter": "python",
   "pygments_lexer": "ipython3",
   "version": "3.7.5"
  }
 },
 "nbformat": 4,
 "nbformat_minor": 2
}
