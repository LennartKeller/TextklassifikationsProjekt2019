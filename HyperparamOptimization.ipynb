{
 "cells": [
  {
   "cell_type": "code",
   "execution_count": null,
   "metadata": {},
   "outputs": [],
   "source": [
    "from typing import Union, List\n",
    "\n",
    "import numpy as np\n",
    "from scipy.sparse import csr_matrix\n",
    "from sklearn.base import BaseEstimator\n",
    "from sklearn.exceptions import NotFittedError\n",
    "from sklearn.metrics import f1_score\n",
    "from tqdm import tqdm\n",
    "\n",
    "\n",
    "class PeriodEstimatorWrapper(BaseEstimator):\n",
    "\n",
    "    def __init__(self, clf: BaseEstimator, **params):\n",
    "        self.clf = clf(**params)\n",
    "        if params.get('verbose'):\n",
    "            self.verbose = params['verbose']\n",
    "\n",
    "    def fit(self, X_train: Union[csr_matrix, np.ndarray], y_train: np.array):\n",
    "        \"\"\"\n",
    "        Fits the estimator.\n",
    "\n",
    "        :param X_train: normal feature matrix e.g. shape (n_samples, n_features)\n",
    "        :param y_train: label vector shape (n_samples,)\n",
    "        :return: fitted instance of itself\n",
    "        \"\"\"\n",
    "\n",
    "        self.clf.fit(X_train, y_train)\n",
    "        self.fitted_ = True\n",
    "\n",
    "        return self\n",
    "\n",
    "    def predict(self, X_test: List[Union[csr_matrix, np.ndarray]]):\n",
    "        \"\"\"\n",
    "        Predicts classes for n periods\n",
    "        :param X_test: list of feature matrices (n_samples, n_features) to predict (one for each period)\n",
    "        :return: list of predicted label vectors\n",
    "        \"\"\"\n",
    "\n",
    "        if not self.fitted_:\n",
    "            raise NotFittedError\n",
    "\n",
    "        result = []\n",
    "        if self.verbose:\n",
    "            iterator = tqdm(X_test, desc='Predicting classes for periods')\n",
    "        else:\n",
    "            iterator = X_test\n",
    "\n",
    "        for X in iterator:\n",
    "            result.append(self.clf.predict(X))\n",
    "\n",
    "        return result\n",
    "\n",
    "    def predict_proba(self, X_test: List[Union[csr_matrix, np.ndarray]]):\n",
    "        \"\"\"\n",
    "        Predicts probabilities for n periods\n",
    "        :param X_test: list of feature matrices (n_samples, n_features) to predict (one for each period)\n",
    "        :return: list of predicted label vectors\n",
    "        \"\"\"\n",
    "        if not hasattr(self.clf, 'predict_proba'):\n",
    "            raise Exception(f\"Method predict_proba is not implemented in {self.clf.__class__.__name__}\")\n",
    "\n",
    "        if not self.fitted_:\n",
    "            raise NotFittedError\n",
    "\n",
    "        result = []\n",
    "        if self.verbose:\n",
    "            iterator = tqdm(X_test, desc='Predicting classes for periods')\n",
    "        else:\n",
    "            iterator = X_test\n",
    "\n",
    "        for X in iterator:\n",
    "            result.append(self.clf.predict_proba(X))\n",
    "\n",
    "        return result\n",
    "\n",
    "    def decision_function(self, X_test: List[Union[csr_matrix, np.ndarray]]):\n",
    "        \"\"\"\n",
    "        Predicts decision scores for n periods\n",
    "        :param X_test: list of feature matrices (n_samples, n_features) to predict (one for each period)\n",
    "        :return: list of predicted label vectors\n",
    "        \"\"\"\n",
    "        if not hasattr(self.clf, 'decision_function'):\n",
    "            raise Exception(f\"Method decision_function is not implemented in {self.clf.__class__.__name__}\")\n",
    "\n",
    "        if not self.fitted_:\n",
    "            raise NotFittedError\n",
    "\n",
    "        result = []\n",
    "        if self.verbose:\n",
    "            iterator = tqdm(X_test, desc='Predicting classes for periods')\n",
    "        else:\n",
    "            iterator = X_test\n",
    "\n",
    "        for X in iterator:\n",
    "            result.append(self.clf.predict_proba(X))\n",
    "\n",
    "        return result\n",
    "\n",
    "    def score(self,\n",
    "              X_test: List[Union[csr_matrix, np.ndarray]],\n",
    "              y_true: List[np.array],\n",
    "              scoring_func: callable = lambda y_true, y_pred: f1_score(y_true, y_pred, average='macro'),\n",
    "              pooling_func: callable = np.mean):\n",
    "\n",
    "        if not self.fitted_:\n",
    "            raise NotFittedError\n",
    "\n",
    "        scores = []\n",
    "        for X, y in zip(X_test, y_true):\n",
    "            y_pred = self.clf.predict(X)\n",
    "            score = scoring_func(y, y_pred)\n",
    "            scores.append(score)\n",
    "\n",
    "        return pooling_func(scores)\n"
   ]
  },
  {
   "cell_type": "markdown",
   "metadata": {},
   "source": [
    "### Problem: Wie tunen wir die Hyperparameter?\n",
    "\n",
    "Problem: Unsere Idee sieht vor ein Modell auf alle Genres innerhalb einer \"Periode\" zu trainieren und auf alle anderen anzuwenden, um abzuschätzen wie sehr sich die Genres über die Zeit verändern. Hierbei stellt sich die Frage, wie man die Hyperparameter der Modelle valide und gleichzeitig effektiv optimieren kann.\n",
    "\n",
    "* Möglichkeit 1:\n",
    "    * Gridsearch auf Ausgangsperiode\n",
    "    * Vorteile:\n",
    "        * Wahrscheinlich am ehesten valide\n",
    "    * Nachteile:\n",
    "        * Unsere Datengrundlage ist zu klein, um dass für einzelne Epochen sinnvoll durchzuführen\n",
    "* Möglichkeit 2:\n",
    "    * Gridsearch auf allen Daten\n",
    "    * Vorteile:\n",
    "        * Große Datenmenge\n",
    "        * Modell würde auf alle Eigenheiten der Perioden getuned werden (wobei das eher ein Nachteil ist)\n",
    "    * Nachteil:\n",
    "        * Spätere Testdaten würden fürs Optimieren verwendet werden\n",
    "* Möglichkeit 3:\n",
    "    * ParamDict verwenden, um die den eigentlich Lauf (das Trainieren auf einer Epoche und Testen auf allen Anderen) mit allen möglichen Hyperparamtern zu testen. Eigene Evaulation (bsp. Mittelwert der F1-Scores für die verschiedenen Epochen)\n",
    "    * Vorteile:\n",
    "        * Klare Trennung von Test und Trainingsdaten\n",
    "        * Mehr Daten für die Optimierung als bei Möglichkeit 1\n",
    "    * Nachteile:\n",
    "        * keine cross-validation"
   ]
  },
  {
   "cell_type": "code",
   "execution_count": null,
   "metadata": {},
   "outputs": [],
   "source": [
    "import pandas as pd"
   ]
  },
  {
   "cell_type": "code",
   "execution_count": null,
   "metadata": {},
   "outputs": [],
   "source": [
    "df = pd.read_csv('full_dataset.csv')"
   ]
  },
  {
   "cell_type": "code",
   "execution_count": null,
   "metadata": {},
   "outputs": [],
   "source": [
    "# remove news genre\n",
    "df = df[df.genre != 'NEWS']"
   ]
  },
  {
   "cell_type": "code",
   "execution_count": null,
   "metadata": {},
   "outputs": [],
   "source": [
    "df_p1 = df.loc[df['period'] == 'P1']\n",
    "df_rest = df.loc[df['period'] != 'P1']"
   ]
  },
  {
   "cell_type": "markdown",
   "metadata": {},
   "source": [
    "# Feature Extraction"
   ]
  },
  {
   "cell_type": "code",
   "execution_count": null,
   "metadata": {},
   "outputs": [],
   "source": [
    "from sklearn.feature_extraction.text import TfidfVectorizer\n",
    "from stop_words import get_stop_words\n",
    "\n",
    "tfidf = TfidfVectorizer()"
   ]
  },
  {
   "cell_type": "markdown",
   "metadata": {},
   "source": [
    "# Bauen der Pipeline"
   ]
  },
  {
   "cell_type": "code",
   "execution_count": null,
   "metadata": {},
   "outputs": [],
   "source": [
    "from sklearn.pipeline import make_pipeline, make_union, Pipeline"
   ]
  },
  {
   "cell_type": "code",
   "execution_count": null,
   "metadata": {},
   "outputs": [],
   "source": [
    "from sklearn.svm import LinearSVC\n",
    "from sklearn.linear_model import SGDClassifier"
   ]
  },
  {
   "cell_type": "code",
   "execution_count": null,
   "metadata": {},
   "outputs": [],
   "source": [
    "pipe_svm = Pipeline([('tfidf', tfidf), ('linearsvc', LinearSVC(loss='hinge'))])\n",
    "pipe_svm"
   ]
  },
  {
   "cell_type": "code",
   "execution_count": null,
   "metadata": {},
   "outputs": [],
   "source": [
    "pipe_svm_params = {\n",
    "    'tfidf__max_features': [100, 500, 1000, 5000, 10000, 15000, 20000],\n",
    "    'tfidf__stop_words': [None, get_stop_words('de')],\n",
    "    'tfidf__analyzer': ['word', 'char', 'char_wb'],\n",
    "    'tfidf__ngram_range': [(1, 1), (1, 2), (1, 3), (1, 5), (1, 5)],\n",
    "    'linearsvc__C': list(range(1,21)),\n",
    "    'linearsvc__penalty': ['l2']\n",
    "    \n",
    "}"
   ]
  },
  {
   "cell_type": "markdown",
   "metadata": {},
   "source": [
    "# 1. Möglichkeit: Gridsearch auf Trainingsperiode"
   ]
  },
  {
   "cell_type": "code",
   "execution_count": null,
   "metadata": {},
   "outputs": [],
   "source": [
    "from sklearn.model_selection import GridSearchCV\n",
    "\n",
    "gridsearch = GridSearchCV(\n",
    "    pipe_svm,\n",
    "    pipe_svm_params,\n",
    "    scoring='f1_macro',\n",
    "    verbose=1,\n",
    "    n_jobs=-1)"
   ]
  },
  {
   "cell_type": "code",
   "execution_count": null,
   "metadata": {},
   "outputs": [],
   "source": [
    "gridsearch.fit(df_p1.text, df_p1.genre.to_numpy())"
   ]
  },
  {
   "cell_type": "code",
   "execution_count": null,
   "metadata": {},
   "outputs": [],
   "source": [
    "gridsearch.best_params_, gridsearch.best_score_"
   ]
  },
  {
   "cell_type": "code",
   "execution_count": null,
   "metadata": {},
   "outputs": [],
   "source": [
    "svm_results = pd.DataFrame.from_dict(gridsearch.cv_results_)\n",
    "svm_results"
   ]
  },
  {
   "cell_type": "code",
   "execution_count": null,
   "metadata": {},
   "outputs": [],
   "source": []
  }
 ],
 "metadata": {
  "kernelspec": {
   "display_name": "Python [conda env:nlp]",
   "language": "python",
   "name": "conda-env-nlp-py"
  },
  "language_info": {
   "codemirror_mode": {
    "name": "ipython",
    "version": 3
   },
   "file_extension": ".py",
   "mimetype": "text/x-python",
   "name": "python",
   "nbconvert_exporter": "python",
   "pygments_lexer": "ipython3",
   "version": "3.7.5"
  }
 },
 "nbformat": 4,
 "nbformat_minor": 2
}
