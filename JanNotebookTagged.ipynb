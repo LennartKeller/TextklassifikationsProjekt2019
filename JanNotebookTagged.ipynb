{
 "cells": [
  {
   "cell_type": "code",
   "execution_count": 9,
   "metadata": {},
   "outputs": [
    {
     "data": {
      "text/plain": [
       "(638, 10)"
      ]
     },
     "execution_count": 9,
     "metadata": {},
     "output_type": "execute_result"
    }
   ],
   "source": [
    "import pandas as pd\n",
    "import numpy as np\n",
    "#from sklearn.utils import shuffle\n",
    "\n",
    "df = pd.read_csv('tagged_dataset.csv')\n",
    "#df = shuffle(df, random_state=42)\n",
    "df.shape"
   ]
  },
  {
   "cell_type": "code",
   "execution_count": 10,
   "metadata": {},
   "outputs": [
    {
     "data": {
      "text/html": [
       "<div>\n",
       "<style scoped>\n",
       "    .dataframe tbody tr th:only-of-type {\n",
       "        vertical-align: middle;\n",
       "    }\n",
       "\n",
       "    .dataframe tbody tr th {\n",
       "        vertical-align: top;\n",
       "    }\n",
       "\n",
       "    .dataframe thead th {\n",
       "        text-align: right;\n",
       "    }\n",
       "</style>\n",
       "<table border=\"1\" class=\"dataframe\">\n",
       "  <thead>\n",
       "    <tr style=\"text-align: right;\">\n",
       "      <th></th>\n",
       "      <th>Unnamed: 0</th>\n",
       "      <th>tokens</th>\n",
       "      <th>pos_tags</th>\n",
       "      <th>lemmas</th>\n",
       "      <th>title</th>\n",
       "      <th>genre</th>\n",
       "      <th>period</th>\n",
       "      <th>region</th>\n",
       "      <th>year</th>\n",
       "      <th>corpus</th>\n",
       "    </tr>\n",
       "  </thead>\n",
       "  <tbody>\n",
       "    <tr>\n",
       "      <td>0</td>\n",
       "      <td>0</td>\n",
       "      <td>Erster Aufzug . Erster Auftritt . Ion . Sieh ,...</td>\n",
       "      <td>ADJA NN $. ADJA NN $. NN $. VVIMP $, ADV NN AR...</td>\n",
       "      <td>erst Aufzug . erst Auftritt . Ion . sehen , sc...</td>\n",
       "      <td>Ion</td>\n",
       "      <td>DRAM</td>\n",
       "      <td>P4</td>\n",
       "      <td>NoD</td>\n",
       "      <td>1803</td>\n",
       "      <td>NaN</td>\n",
       "    </tr>\n",
       "    <tr>\n",
       "      <td>1</td>\n",
       "      <td>1</td>\n",
       "      <td>Scene : Die Gerichtsstube . Erster Auftritt . ...</td>\n",
       "      <td>NN $. ART NN $. ADJA NN $. NE $( VVFIN KON VVF...</td>\n",
       "      <td>Scene : die Gerichtsstube . erst Auftritt . Ad...</td>\n",
       "      <td>Krug</td>\n",
       "      <td>DRAM</td>\n",
       "      <td>P4</td>\n",
       "      <td>NoD</td>\n",
       "      <td>1811</td>\n",
       "      <td>NaN</td>\n",
       "    </tr>\n",
       "    <tr>\n",
       "      <td>2</td>\n",
       "      <td>2</td>\n",
       "      <td>Erster Aufzug . Scene : Die Wohnung der alten ...</td>\n",
       "      <td>ADJA NN $. NN $. ART NN ART ADJA NN $. ADJA NN...</td>\n",
       "      <td>erst Aufzug . Scene : die Wohnung die alt Bruͤ...</td>\n",
       "      <td>DerMüller</td>\n",
       "      <td>DRAM</td>\n",
       "      <td>P4</td>\n",
       "      <td>NOD</td>\n",
       "      <td>1835</td>\n",
       "      <td>NaN</td>\n",
       "    </tr>\n",
       "    <tr>\n",
       "      <td>3</td>\n",
       "      <td>3</td>\n",
       "      <td>Erster Act . ( Saal im Schloß . Siegfried mit ...</td>\n",
       "      <td>ADJA NE $. $( NN APPRART NN $. NE APPR PPOSAT ...</td>\n",
       "      <td>erst act . ( Saal in+die Schloss . Siegfried m...</td>\n",
       "      <td>Genoveva</td>\n",
       "      <td>DRAM</td>\n",
       "      <td>P4</td>\n",
       "      <td>NOD</td>\n",
       "      <td>1843</td>\n",
       "      <td>NaN</td>\n",
       "    </tr>\n",
       "    <tr>\n",
       "      <td>4</td>\n",
       "      <td>4</td>\n",
       "      <td>Erster Akt. Erster Auftritt . Garten am Hause ...</td>\n",
       "      <td>ADJA NN NN NN $. NN APPRART NN ART NE $. NE $,...</td>\n",
       "      <td>erst Akt. Erste Auftritt . Garten an+die Haus ...</td>\n",
       "      <td>Geisterbeschwörer</td>\n",
       "      <td>DRAM</td>\n",
       "      <td>P4</td>\n",
       "      <td>OMD</td>\n",
       "      <td>1808</td>\n",
       "      <td>NaN</td>\n",
       "    </tr>\n",
       "  </tbody>\n",
       "</table>\n",
       "</div>"
      ],
      "text/plain": [
       "   Unnamed: 0                                             tokens  \\\n",
       "0           0  Erster Aufzug . Erster Auftritt . Ion . Sieh ,...   \n",
       "1           1  Scene : Die Gerichtsstube . Erster Auftritt . ...   \n",
       "2           2  Erster Aufzug . Scene : Die Wohnung der alten ...   \n",
       "3           3  Erster Act . ( Saal im Schloß . Siegfried mit ...   \n",
       "4           4  Erster Akt. Erster Auftritt . Garten am Hause ...   \n",
       "\n",
       "                                            pos_tags  \\\n",
       "0  ADJA NN $. ADJA NN $. NN $. VVIMP $, ADV NN AR...   \n",
       "1  NN $. ART NN $. ADJA NN $. NE $( VVFIN KON VVF...   \n",
       "2  ADJA NN $. NN $. ART NN ART ADJA NN $. ADJA NN...   \n",
       "3  ADJA NE $. $( NN APPRART NN $. NE APPR PPOSAT ...   \n",
       "4  ADJA NN NN NN $. NN APPRART NN ART NE $. NE $,...   \n",
       "\n",
       "                                              lemmas              title genre  \\\n",
       "0  erst Aufzug . erst Auftritt . Ion . sehen , sc...                Ion  DRAM   \n",
       "1  Scene : die Gerichtsstube . erst Auftritt . Ad...               Krug  DRAM   \n",
       "2  erst Aufzug . Scene : die Wohnung die alt Bruͤ...          DerMüller  DRAM   \n",
       "3  erst act . ( Saal in+die Schloss . Siegfried m...           Genoveva  DRAM   \n",
       "4  erst Akt. Erste Auftritt . Garten an+die Haus ...  Geisterbeschwörer  DRAM   \n",
       "\n",
       "  period region  year  corpus  \n",
       "0     P4    NoD  1803     NaN  \n",
       "1     P4    NoD  1811     NaN  \n",
       "2     P4    NOD  1835     NaN  \n",
       "3     P4    NOD  1843     NaN  \n",
       "4     P4    OMD  1808     NaN  "
      ]
     },
     "execution_count": 10,
     "metadata": {},
     "output_type": "execute_result"
    }
   ],
   "source": [
    "df.head()"
   ]
  },
  {
   "cell_type": "code",
   "execution_count": null,
   "metadata": {},
   "outputs": [],
   "source": []
  }
 ],
 "metadata": {
  "kernelspec": {
   "display_name": "Python 3",
   "language": "python",
   "name": "python3"
  },
  "language_info": {
   "codemirror_mode": {
    "name": "ipython",
    "version": 3
   },
   "file_extension": ".py",
   "mimetype": "text/x-python",
   "name": "python",
   "nbconvert_exporter": "python",
   "pygments_lexer": "ipython3",
   "version": "3.7.4"
  }
 },
 "nbformat": 4,
 "nbformat_minor": 2
}
