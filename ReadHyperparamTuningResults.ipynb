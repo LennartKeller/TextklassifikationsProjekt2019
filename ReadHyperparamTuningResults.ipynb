{
 "cells": [
  {
   "cell_type": "code",
   "execution_count": 1,
   "metadata": {},
   "outputs": [],
   "source": [
    "import pandas as pd\n",
    "import glob\n",
    "import matplotlib.pyplot as plt\n",
    "import numpy as np"
   ]
  },
  {
   "cell_type": "code",
   "execution_count": 2,
   "metadata": {},
   "outputs": [],
   "source": [
    "pd.set_option('display.max_colwidth', -1)"
   ]
  },
  {
   "cell_type": "markdown",
   "metadata": {},
   "source": [
    "# 1. Run"
   ]
  },
  {
   "cell_type": "markdown",
   "metadata": {},
   "source": [
    "## Params for 1. Run"
   ]
  },
  {
   "cell_type": "code",
   "execution_count": 3,
   "metadata": {},
   "outputs": [],
   "source": [
    "from sklearn.feature_extraction.text import TfidfVectorizer\n",
    "\n",
    "from sklearn.linear_model import LogisticRegression\n",
    "from sklearn.svm import LinearSVC\n",
    "from sklearn.naive_bayes import MultinomialNB\n",
    "from sklearn.tree import DecisionTreeClassifier\n",
    "from sklearn.ensemble import RandomForestClassifier\n",
    "\n",
    "from sklearn.pipeline import make_pipeline\n",
    "\n",
    "from stop_words import get_stop_words\n",
    "\n",
    "pipe_logreg = make_pipeline(TfidfVectorizer(), LogisticRegression())\n",
    "pipe_logreg_params = {\n",
    "\n",
    "    'logisticregression__C': [0.1, 0.5, 1, 3, 7, 10],\n",
    "    'logisticregression__penalty': ['l2', 'l1'],\n",
    "    'logisticregression__solver': ['liblinear', 'lbfgs']\n",
    "    \n",
    "}\n",
    "\n",
    "logreg = [pipe_logreg, pipe_logreg_params]\n",
    "\n",
    "pipe_svm = make_pipeline(TfidfVectorizer(), LinearSVC())\n",
    "pipe_svm_params = {\n",
    "    'linearsvc__C': [0.1, 0.5, 1, 3, 7, 10],\n",
    "    'linearsvc__penalty': ['l2', 'l1']\n",
    "    \n",
    "}\n",
    "\n",
    "svm = [pipe_svm, pipe_svm_params]\n",
    "\n",
    "pipe_naivebayes = make_pipeline(TfidfVectorizer(), MultinomialNB())\n",
    "nb = [pipe_naivebayes, {}]\n",
    "\n",
    "pipe_dectree = make_pipeline(TfidfVectorizer(), DecisionTreeClassifier())\n",
    "pipe_dectree_params = {\n",
    "    'decisiontreeclassifier__max_features': [\"auto\", \"sqrt\", \"log2\"],\n",
    "    'decisiontreeclassifier__max_depth': [None, 100, 125, 150, 175, 200],\n",
    "    'decisiontreeclassifier__min_samples_split': [2, 5, 10, 20], \n",
    "}\n",
    "\n",
    "dectree = [pipe_dectree, pipe_dectree_params]\n",
    "\n",
    "\n",
    "pipe_randomforest = make_pipeline(TfidfVectorizer(), RandomForestClassifier())\n",
    "pipe_randomforest_params = {\n",
    "    'randomforestclassifier__n_estimators': [5, 100, 400, 1000],\n",
    "}\n",
    "\n",
    "randomforest = [pipe_randomforest, pipe_randomforest_params]\n",
    "\n",
    "\n",
    "all_pipes_params = [logreg, svm, dectree, randomforest, nb]"
   ]
  },
  {
   "cell_type": "code",
   "execution_count": 4,
   "metadata": {},
   "outputs": [
    {
     "data": {
      "text/plain": [
       "['hyperparam_results/FirstRun\\\\decisiontreeclassifier_P1.csv',\n",
       " 'hyperparam_results/FirstRun\\\\linearsvc_P1.csv',\n",
       " 'hyperparam_results/FirstRun\\\\logisticregression_P1.csv',\n",
       " 'hyperparam_results/FirstRun\\\\multinomialnb_P1.csv',\n",
       " 'hyperparam_results/FirstRun\\\\randomforestclassifier_P1.csv']"
      ]
     },
     "execution_count": 4,
     "metadata": {},
     "output_type": "execute_result"
    }
   ],
   "source": [
    "tables_firstrun = glob.glob('hyperparam_results/FirstRun/*.csv')\n",
    "tables_firstrun"
   ]
  },
  {
   "cell_type": "code",
   "execution_count": 5,
   "metadata": {},
   "outputs": [],
   "source": [
    "logreg_results = pd.read_csv('hyperparam_results/FirstRun/logisticregression_P1.csv').dropna()\n",
    "nb_results = pd.read_csv('hyperparam_results/FirstRun/multinomialnb_P1.csv')\n",
    "svm_results = pd.read_csv('hyperparam_results/FirstRun/linearsvc_P1.csv').dropna()\n",
    "dectree_results = pd.read_csv('hyperparam_results/FirstRun/decisiontreeclassifier_P1.csv').dropna()\n",
    "randomforest_results = pd.read_csv('hyperparam_results/FirstRun/randomforestclassifier_P1.csv').dropna()"
   ]
  },
  {
   "cell_type": "markdown",
   "metadata": {},
   "source": [
    "# Logistic Regression"
   ]
  },
  {
   "cell_type": "code",
   "execution_count": 6,
   "metadata": {},
   "outputs": [
    {
     "data": {
      "text/html": [
       "<div>\n",
       "<style scoped>\n",
       "    .dataframe tbody tr th:only-of-type {\n",
       "        vertical-align: middle;\n",
       "    }\n",
       "\n",
       "    .dataframe tbody tr th {\n",
       "        vertical-align: top;\n",
       "    }\n",
       "\n",
       "    .dataframe thead th {\n",
       "        text-align: right;\n",
       "    }\n",
       "</style>\n",
       "<table border=\"1\" class=\"dataframe\">\n",
       "  <thead>\n",
       "    <tr style=\"text-align: right;\">\n",
       "      <th></th>\n",
       "      <th>params</th>\n",
       "      <th>mean_test_score</th>\n",
       "    </tr>\n",
       "  </thead>\n",
       "  <tbody>\n",
       "    <tr>\n",
       "      <td>21</td>\n",
       "      <td>{'logisticregression__C': 10, 'logisticregression__penalty': 'l2', 'logisticregression__solver': 'lbfgs'}</td>\n",
       "      <td>0.713492</td>\n",
       "    </tr>\n",
       "    <tr>\n",
       "      <td>17</td>\n",
       "      <td>{'logisticregression__C': 7, 'logisticregression__penalty': 'l2', 'logisticregression__solver': 'lbfgs'}</td>\n",
       "      <td>0.709921</td>\n",
       "    </tr>\n",
       "    <tr>\n",
       "      <td>12</td>\n",
       "      <td>{'logisticregression__C': 3, 'logisticregression__penalty': 'l2', 'logisticregression__solver': 'liblinear'}</td>\n",
       "      <td>0.693968</td>\n",
       "    </tr>\n",
       "    <tr>\n",
       "      <td>20</td>\n",
       "      <td>{'logisticregression__C': 10, 'logisticregression__penalty': 'l2', 'logisticregression__solver': 'liblinear'}</td>\n",
       "      <td>0.691984</td>\n",
       "    </tr>\n",
       "    <tr>\n",
       "      <td>16</td>\n",
       "      <td>{'logisticregression__C': 7, 'logisticregression__penalty': 'l2', 'logisticregression__solver': 'liblinear'}</td>\n",
       "      <td>0.689048</td>\n",
       "    </tr>\n",
       "    <tr>\n",
       "      <td>13</td>\n",
       "      <td>{'logisticregression__C': 3, 'logisticregression__penalty': 'l2', 'logisticregression__solver': 'lbfgs'}</td>\n",
       "      <td>0.685159</td>\n",
       "    </tr>\n",
       "    <tr>\n",
       "      <td>22</td>\n",
       "      <td>{'logisticregression__C': 10, 'logisticregression__penalty': 'l1', 'logisticregression__solver': 'liblinear'}</td>\n",
       "      <td>0.673651</td>\n",
       "    </tr>\n",
       "    <tr>\n",
       "      <td>9</td>\n",
       "      <td>{'logisticregression__C': 1, 'logisticregression__penalty': 'l2', 'logisticregression__solver': 'lbfgs'}</td>\n",
       "      <td>0.667619</td>\n",
       "    </tr>\n",
       "    <tr>\n",
       "      <td>8</td>\n",
       "      <td>{'logisticregression__C': 1, 'logisticregression__penalty': 'l2', 'logisticregression__solver': 'liblinear'}</td>\n",
       "      <td>0.665159</td>\n",
       "    </tr>\n",
       "    <tr>\n",
       "      <td>4</td>\n",
       "      <td>{'logisticregression__C': 0.5, 'logisticregression__penalty': 'l2', 'logisticregression__solver': 'liblinear'}</td>\n",
       "      <td>0.656587</td>\n",
       "    </tr>\n",
       "  </tbody>\n",
       "</table>\n",
       "</div>"
      ],
      "text/plain": [
       "                                                                                                            params  \\\n",
       "21  {'logisticregression__C': 10, 'logisticregression__penalty': 'l2', 'logisticregression__solver': 'lbfgs'}        \n",
       "17  {'logisticregression__C': 7, 'logisticregression__penalty': 'l2', 'logisticregression__solver': 'lbfgs'}         \n",
       "12  {'logisticregression__C': 3, 'logisticregression__penalty': 'l2', 'logisticregression__solver': 'liblinear'}     \n",
       "20  {'logisticregression__C': 10, 'logisticregression__penalty': 'l2', 'logisticregression__solver': 'liblinear'}    \n",
       "16  {'logisticregression__C': 7, 'logisticregression__penalty': 'l2', 'logisticregression__solver': 'liblinear'}     \n",
       "13  {'logisticregression__C': 3, 'logisticregression__penalty': 'l2', 'logisticregression__solver': 'lbfgs'}         \n",
       "22  {'logisticregression__C': 10, 'logisticregression__penalty': 'l1', 'logisticregression__solver': 'liblinear'}    \n",
       "9   {'logisticregression__C': 1, 'logisticregression__penalty': 'l2', 'logisticregression__solver': 'lbfgs'}         \n",
       "8   {'logisticregression__C': 1, 'logisticregression__penalty': 'l2', 'logisticregression__solver': 'liblinear'}     \n",
       "4   {'logisticregression__C': 0.5, 'logisticregression__penalty': 'l2', 'logisticregression__solver': 'liblinear'}   \n",
       "\n",
       "    mean_test_score  \n",
       "21  0.713492         \n",
       "17  0.709921         \n",
       "12  0.693968         \n",
       "20  0.691984         \n",
       "16  0.689048         \n",
       "13  0.685159         \n",
       "22  0.673651         \n",
       "9   0.667619         \n",
       "8   0.665159         \n",
       "4   0.656587         "
      ]
     },
     "execution_count": 6,
     "metadata": {},
     "output_type": "execute_result"
    }
   ],
   "source": [
    "logreg_results.sort_values('mean_test_score', ascending=False)[['params', 'mean_test_score']][:10]"
   ]
  },
  {
   "cell_type": "code",
   "execution_count": 7,
   "metadata": {},
   "outputs": [
    {
     "data": {
      "image/png": "[encoded data removed]",
      "text/plain": [
       "<Figure size 432x288 with 1 Axes>"
      ]
     },
     "metadata": {
      "needs_background": "light"
     },
     "output_type": "display_data"
    }
   ],
   "source": [
    "plot_df = logreg_results.sort_values('mean_test_score', ascending=True)\n",
    "plt.plot(list(range(len(plot_df))), plot_df.mean_test_score)\n",
    "plt.xticks(list(range(len(plot_df))), list(map(str, plot_df.params)), rotation=90)\n",
    "plt.ylim(0,1)\n",
    "plt.show()"
   ]
  },
  {
   "cell_type": "markdown",
   "metadata": {},
   "source": [
    "### Logreg Results:\n",
    "\n",
    "1. With increasing C-Value Scores improve. => Next run with C-Values in range 10-20\n",
    "2. Solver lbfgs works best => remove other solver (liblinear)\n",
    "3. Remove l1-reg"
   ]
  },
  {
   "cell_type": "markdown",
   "metadata": {},
   "source": [
    "# MultinomialNB"
   ]
  },
  {
   "cell_type": "code",
   "execution_count": 8,
   "metadata": {},
   "outputs": [
    {
     "data": {
      "text/html": [
       "<div>\n",
       "<style scoped>\n",
       "    .dataframe tbody tr th:only-of-type {\n",
       "        vertical-align: middle;\n",
       "    }\n",
       "\n",
       "    .dataframe tbody tr th {\n",
       "        vertical-align: top;\n",
       "    }\n",
       "\n",
       "    .dataframe thead th {\n",
       "        text-align: right;\n",
       "    }\n",
       "</style>\n",
       "<table border=\"1\" class=\"dataframe\">\n",
       "  <thead>\n",
       "    <tr style=\"text-align: right;\">\n",
       "      <th></th>\n",
       "      <th>params</th>\n",
       "      <th>mean_test_score</th>\n",
       "    </tr>\n",
       "  </thead>\n",
       "  <tbody>\n",
       "    <tr>\n",
       "      <td>0</td>\n",
       "      <td>{}</td>\n",
       "      <td>0.652937</td>\n",
       "    </tr>\n",
       "  </tbody>\n",
       "</table>\n",
       "</div>"
      ],
      "text/plain": [
       "  params  mean_test_score\n",
       "0  {}     0.652937       "
      ]
     },
     "execution_count": 8,
     "metadata": {},
     "output_type": "execute_result"
    }
   ],
   "source": [
    "nb_results.sort_values('mean_test_score', ascending=False)[['params', 'mean_test_score']][:10]"
   ]
  },
  {
   "cell_type": "code",
   "execution_count": 9,
   "metadata": {},
   "outputs": [
    {
     "data": {
      "image/png": "[encoded data removed]",
      "text/plain": [
       "<Figure size 432x288 with 1 Axes>"
      ]
     },
     "metadata": {
      "needs_background": "light"
     },
     "output_type": "display_data"
    }
   ],
   "source": [
    "plot_df = nb_results.sort_values('mean_test_score', ascending=True)\n",
    "plt.plot(list(range(len(plot_df))), plot_df.mean_test_score)\n",
    "plt.xticks(list(range(len(plot_df))), list(map(str, plot_df.params)), rotation=90)\n",
    "plt.ylim(0,1)\n",
    "plt.show()"
   ]
  },
  {
   "cell_type": "code",
   "execution_count": 10,
   "metadata": {
    "scrolled": true
   },
   "outputs": [
    {
     "data": {
      "text/html": [
       "<div>\n",
       "<style scoped>\n",
       "    .dataframe tbody tr th:only-of-type {\n",
       "        vertical-align: middle;\n",
       "    }\n",
       "\n",
       "    .dataframe tbody tr th {\n",
       "        vertical-align: top;\n",
       "    }\n",
       "\n",
       "    .dataframe thead th {\n",
       "        text-align: right;\n",
       "    }\n",
       "</style>\n",
       "<table border=\"1\" class=\"dataframe\">\n",
       "  <thead>\n",
       "    <tr style=\"text-align: right;\">\n",
       "      <th></th>\n",
       "      <th>params</th>\n",
       "      <th>mean_test_score</th>\n",
       "    </tr>\n",
       "  </thead>\n",
       "  <tbody>\n",
       "    <tr>\n",
       "      <td>6</td>\n",
       "      <td>{'linearsvc__C': 3, 'linearsvc__penalty': 'l2'}</td>\n",
       "      <td>0.716905</td>\n",
       "    </tr>\n",
       "    <tr>\n",
       "      <td>8</td>\n",
       "      <td>{'linearsvc__C': 7, 'linearsvc__penalty': 'l2'}</td>\n",
       "      <td>0.705317</td>\n",
       "    </tr>\n",
       "    <tr>\n",
       "      <td>10</td>\n",
       "      <td>{'linearsvc__C': 10, 'linearsvc__penalty': 'l2'}</td>\n",
       "      <td>0.705317</td>\n",
       "    </tr>\n",
       "    <tr>\n",
       "      <td>4</td>\n",
       "      <td>{'linearsvc__C': 1, 'linearsvc__penalty': 'l2'}</td>\n",
       "      <td>0.695794</td>\n",
       "    </tr>\n",
       "    <tr>\n",
       "      <td>2</td>\n",
       "      <td>{'linearsvc__C': 0.5, 'linearsvc__penalty': 'l2'}</td>\n",
       "      <td>0.664921</td>\n",
       "    </tr>\n",
       "    <tr>\n",
       "      <td>0</td>\n",
       "      <td>{'linearsvc__C': 0.1, 'linearsvc__penalty': 'l2'}</td>\n",
       "      <td>0.662857</td>\n",
       "    </tr>\n",
       "  </tbody>\n",
       "</table>\n",
       "</div>"
      ],
      "text/plain": [
       "                                               params  mean_test_score\n",
       "6   {'linearsvc__C': 3, 'linearsvc__penalty': 'l2'}    0.716905       \n",
       "8   {'linearsvc__C': 7, 'linearsvc__penalty': 'l2'}    0.705317       \n",
       "10  {'linearsvc__C': 10, 'linearsvc__penalty': 'l2'}   0.705317       \n",
       "4   {'linearsvc__C': 1, 'linearsvc__penalty': 'l2'}    0.695794       \n",
       "2   {'linearsvc__C': 0.5, 'linearsvc__penalty': 'l2'}  0.664921       \n",
       "0   {'linearsvc__C': 0.1, 'linearsvc__penalty': 'l2'}  0.662857       "
      ]
     },
     "execution_count": 10,
     "metadata": {},
     "output_type": "execute_result"
    }
   ],
   "source": [
    "svm_results.sort_values('mean_test_score', ascending=False)[['params', 'mean_test_score']][:10]"
   ]
  },
  {
   "cell_type": "code",
   "execution_count": 11,
   "metadata": {},
   "outputs": [
    {
     "data": {
      "image/png": "[encoded data removed]",
      "text/plain": [
       "<Figure size 432x288 with 1 Axes>"
      ]
     },
     "metadata": {
      "needs_background": "light"
     },
     "output_type": "display_data"
    }
   ],
   "source": [
    "plot_df = svm_results.sort_values('mean_test_score', ascending=True)\n",
    "plt.plot(list(range(len(plot_df))), plot_df.mean_test_score)\n",
    "plt.xticks(list(range(len(plot_df))), list(map(str, plot_df.params)), rotation=90)\n",
    "plt.ylim(0,1)\n",
    "plt.show()"
   ]
  },
  {
   "cell_type": "markdown",
   "metadata": {},
   "source": [
    "### LinearSVC Results:\n",
    "\n",
    "1. C Values 3,7 work best => Try with alues in that range\n",
    "2. L1-Reg does not work => remove it"
   ]
  },
  {
   "cell_type": "markdown",
   "metadata": {},
   "source": [
    "# Decision Tree"
   ]
  },
  {
   "cell_type": "code",
   "execution_count": 12,
   "metadata": {},
   "outputs": [
    {
     "data": {
      "text/html": [
       "<div>\n",
       "<style scoped>\n",
       "    .dataframe tbody tr th:only-of-type {\n",
       "        vertical-align: middle;\n",
       "    }\n",
       "\n",
       "    .dataframe tbody tr th {\n",
       "        vertical-align: top;\n",
       "    }\n",
       "\n",
       "    .dataframe thead th {\n",
       "        text-align: right;\n",
       "    }\n",
       "</style>\n",
       "<table border=\"1\" class=\"dataframe\">\n",
       "  <thead>\n",
       "    <tr style=\"text-align: right;\">\n",
       "      <th></th>\n",
       "      <th>params</th>\n",
       "      <th>mean_test_score</th>\n",
       "    </tr>\n",
       "  </thead>\n",
       "  <tbody>\n",
       "    <tr>\n",
       "      <td>64</td>\n",
       "      <td>{'decisiontreeclassifier__max_depth': 200, 'decisiontreeclassifier__max_features': 'sqrt', 'decisiontreeclassifier__min_samples_split': 2}</td>\n",
       "      <td>0.404180</td>\n",
       "    </tr>\n",
       "    <tr>\n",
       "      <td>31</td>\n",
       "      <td>{'decisiontreeclassifier__max_depth': 125, 'decisiontreeclassifier__max_features': 'sqrt', 'decisiontreeclassifier__min_samples_split': 20}</td>\n",
       "      <td>0.392275</td>\n",
       "    </tr>\n",
       "    <tr>\n",
       "      <td>69</td>\n",
       "      <td>{'decisiontreeclassifier__max_depth': 200, 'decisiontreeclassifier__max_features': 'log2', 'decisiontreeclassifier__min_samples_split': 5}</td>\n",
       "      <td>0.380084</td>\n",
       "    </tr>\n",
       "    <tr>\n",
       "      <td>24</td>\n",
       "      <td>{'decisiontreeclassifier__max_depth': 125, 'decisiontreeclassifier__max_features': 'auto', 'decisiontreeclassifier__min_samples_split': 2}</td>\n",
       "      <td>0.375000</td>\n",
       "    </tr>\n",
       "    <tr>\n",
       "      <td>43</td>\n",
       "      <td>{'decisiontreeclassifier__max_depth': 150, 'decisiontreeclassifier__max_features': 'sqrt', 'decisiontreeclassifier__min_samples_split': 20}</td>\n",
       "      <td>0.372871</td>\n",
       "    </tr>\n",
       "    <tr>\n",
       "      <td>14</td>\n",
       "      <td>{'decisiontreeclassifier__max_depth': 100, 'decisiontreeclassifier__max_features': 'auto', 'decisiontreeclassifier__min_samples_split': 10}</td>\n",
       "      <td>0.370298</td>\n",
       "    </tr>\n",
       "    <tr>\n",
       "      <td>65</td>\n",
       "      <td>{'decisiontreeclassifier__max_depth': 200, 'decisiontreeclassifier__max_features': 'sqrt', 'decisiontreeclassifier__min_samples_split': 5}</td>\n",
       "      <td>0.369315</td>\n",
       "    </tr>\n",
       "    <tr>\n",
       "      <td>66</td>\n",
       "      <td>{'decisiontreeclassifier__max_depth': 200, 'decisiontreeclassifier__max_features': 'sqrt', 'decisiontreeclassifier__min_samples_split': 10}</td>\n",
       "      <td>0.362566</td>\n",
       "    </tr>\n",
       "    <tr>\n",
       "      <td>41</td>\n",
       "      <td>{'decisiontreeclassifier__max_depth': 150, 'decisiontreeclassifier__max_features': 'sqrt', 'decisiontreeclassifier__min_samples_split': 5}</td>\n",
       "      <td>0.355847</td>\n",
       "    </tr>\n",
       "    <tr>\n",
       "      <td>44</td>\n",
       "      <td>{'decisiontreeclassifier__max_depth': 150, 'decisiontreeclassifier__max_features': 'log2', 'decisiontreeclassifier__min_samples_split': 2}</td>\n",
       "      <td>0.353102</td>\n",
       "    </tr>\n",
       "  </tbody>\n",
       "</table>\n",
       "</div>"
      ],
      "text/plain": [
       "                                                                                                                                         params  \\\n",
       "64  {'decisiontreeclassifier__max_depth': 200, 'decisiontreeclassifier__max_features': 'sqrt', 'decisiontreeclassifier__min_samples_split': 2}    \n",
       "31  {'decisiontreeclassifier__max_depth': 125, 'decisiontreeclassifier__max_features': 'sqrt', 'decisiontreeclassifier__min_samples_split': 20}   \n",
       "69  {'decisiontreeclassifier__max_depth': 200, 'decisiontreeclassifier__max_features': 'log2', 'decisiontreeclassifier__min_samples_split': 5}    \n",
       "24  {'decisiontreeclassifier__max_depth': 125, 'decisiontreeclassifier__max_features': 'auto', 'decisiontreeclassifier__min_samples_split': 2}    \n",
       "43  {'decisiontreeclassifier__max_depth': 150, 'decisiontreeclassifier__max_features': 'sqrt', 'decisiontreeclassifier__min_samples_split': 20}   \n",
       "14  {'decisiontreeclassifier__max_depth': 100, 'decisiontreeclassifier__max_features': 'auto', 'decisiontreeclassifier__min_samples_split': 10}   \n",
       "65  {'decisiontreeclassifier__max_depth': 200, 'decisiontreeclassifier__max_features': 'sqrt', 'decisiontreeclassifier__min_samples_split': 5}    \n",
       "66  {'decisiontreeclassifier__max_depth': 200, 'decisiontreeclassifier__max_features': 'sqrt', 'decisiontreeclassifier__min_samples_split': 10}   \n",
       "41  {'decisiontreeclassifier__max_depth': 150, 'decisiontreeclassifier__max_features': 'sqrt', 'decisiontreeclassifier__min_samples_split': 5}    \n",
       "44  {'decisiontreeclassifier__max_depth': 150, 'decisiontreeclassifier__max_features': 'log2', 'decisiontreeclassifier__min_samples_split': 2}    \n",
       "\n",
       "    mean_test_score  \n",
       "64  0.404180         \n",
       "31  0.392275         \n",
       "69  0.380084         \n",
       "24  0.375000         \n",
       "43  0.372871         \n",
       "14  0.370298         \n",
       "65  0.369315         \n",
       "66  0.362566         \n",
       "41  0.355847         \n",
       "44  0.353102         "
      ]
     },
     "execution_count": 12,
     "metadata": {},
     "output_type": "execute_result"
    }
   ],
   "source": [
    "dectree_results.sort_values('mean_test_score', ascending=False)[['params', 'mean_test_score']][['params', 'mean_test_score']][:10]"
   ]
  },
  {
   "cell_type": "code",
   "execution_count": 13,
   "metadata": {},
   "outputs": [
    {
     "data": {
      "image/png": "[encoded data removed]",
      "text/plain": [
       "<Figure size 432x288 with 1 Axes>"
      ]
     },
     "metadata": {
      "needs_background": "light"
     },
     "output_type": "display_data"
    }
   ],
   "source": [
    "plot_df = dectree_results.sort_values('mean_test_score', ascending=True)\n",
    "plt.plot(list(range(len(plot_df)))[::2], plot_df.mean_test_score[::2])\n",
    "plt.xticks(list(range(len(plot_df)))[::2], list(map(str, plot_df.params))[::2], rotation=90)\n",
    "plt.ylim(0,1)\n",
    "plt.show()"
   ]
  },
  {
   "cell_type": "markdown",
   "metadata": {},
   "source": [
    "### DecTree Results:\n",
    "1. Does not work will in general\n",
    "2. Try min_samples split greateer than 10"
   ]
  },
  {
   "cell_type": "markdown",
   "metadata": {},
   "source": [
    "# RandomForest"
   ]
  },
  {
   "cell_type": "code",
   "execution_count": 14,
   "metadata": {},
   "outputs": [
    {
     "data": {
      "text/html": [
       "<div>\n",
       "<style scoped>\n",
       "    .dataframe tbody tr th:only-of-type {\n",
       "        vertical-align: middle;\n",
       "    }\n",
       "\n",
       "    .dataframe tbody tr th {\n",
       "        vertical-align: top;\n",
       "    }\n",
       "\n",
       "    .dataframe thead th {\n",
       "        text-align: right;\n",
       "    }\n",
       "</style>\n",
       "<table border=\"1\" class=\"dataframe\">\n",
       "  <thead>\n",
       "    <tr style=\"text-align: right;\">\n",
       "      <th></th>\n",
       "      <th>params</th>\n",
       "      <th>mean_test_score</th>\n",
       "    </tr>\n",
       "  </thead>\n",
       "  <tbody>\n",
       "    <tr>\n",
       "      <td>3</td>\n",
       "      <td>{'randomforestclassifier__n_estimators': 1000}</td>\n",
       "      <td>0.785635</td>\n",
       "    </tr>\n",
       "    <tr>\n",
       "      <td>2</td>\n",
       "      <td>{'randomforestclassifier__n_estimators': 400}</td>\n",
       "      <td>0.767460</td>\n",
       "    </tr>\n",
       "    <tr>\n",
       "      <td>1</td>\n",
       "      <td>{'randomforestclassifier__n_estimators': 100}</td>\n",
       "      <td>0.708333</td>\n",
       "    </tr>\n",
       "    <tr>\n",
       "      <td>0</td>\n",
       "      <td>{'randomforestclassifier__n_estimators': 5}</td>\n",
       "      <td>0.320404</td>\n",
       "    </tr>\n",
       "  </tbody>\n",
       "</table>\n",
       "</div>"
      ],
      "text/plain": [
       "                                           params  mean_test_score\n",
       "3  {'randomforestclassifier__n_estimators': 1000}  0.785635       \n",
       "2  {'randomforestclassifier__n_estimators': 400}   0.767460       \n",
       "1  {'randomforestclassifier__n_estimators': 100}   0.708333       \n",
       "0  {'randomforestclassifier__n_estimators': 5}     0.320404       "
      ]
     },
     "execution_count": 14,
     "metadata": {},
     "output_type": "execute_result"
    }
   ],
   "source": [
    "randomforest_results.sort_values('mean_test_score', ascending=False)[['params', 'mean_test_score']][:10]"
   ]
  },
  {
   "cell_type": "code",
   "execution_count": 15,
   "metadata": {},
   "outputs": [
    {
     "data": {
      "image/png": "[encoded data removed]",
      "text/plain": [
       "<Figure size 432x288 with 1 Axes>"
      ]
     },
     "metadata": {
      "needs_background": "light"
     },
     "output_type": "display_data"
    }
   ],
   "source": [
    "plot_df = randomforest_results.sort_values('mean_test_score', ascending=True)\n",
    "plt.plot(list(range(len(plot_df))), plot_df.mean_test_score)\n",
    "plt.xticks(list(range(len(plot_df))), list(map(str, plot_df.params)), rotation=90)\n",
    "plt.ylim(0,1)\n",
    "plt.show()"
   ]
  },
  {
   "cell_type": "markdown",
   "metadata": {},
   "source": [
    "### Randomforest-Results:\n",
    "\n",
    "1. Performance increases with number of estimators => Try with more than thousand estimators and values between 400, 1000"
   ]
  },
  {
   "cell_type": "markdown",
   "metadata": {},
   "source": [
    "# 2. Run"
   ]
  },
  {
   "cell_type": "markdown",
   "metadata": {},
   "source": [
    "## Params for Second Run"
   ]
  },
  {
   "cell_type": "code",
   "execution_count": 16,
   "metadata": {},
   "outputs": [],
   "source": [
    "from sklearn.feature_extraction.text import TfidfVectorizer\n",
    "\n",
    "from sklearn.linear_model import LogisticRegression\n",
    "from sklearn.svm import LinearSVC\n",
    "from sklearn.naive_bayes import MultinomialNB\n",
    "from sklearn.tree import DecisionTreeClassifier\n",
    "from sklearn.ensemble import RandomForestClassifier\n",
    "\n",
    "from sklearn.pipeline import make_pipeline\n",
    "\n",
    "from stop_words import get_stop_words\n",
    "\n",
    "pipe_logreg = make_pipeline(TfidfVectorizer(), LogisticRegression())\n",
    "pipe_logreg_params = {\n",
    "\n",
    "    'logisticregression__C': list(range(10,21)),\n",
    "    'logisticregression__penalty': ['l2'],\n",
    "    'logisticregression__solver': ['lbfgs']\n",
    "    \n",
    "}\n",
    "\n",
    "logreg = [pipe_logreg, pipe_logreg_params]\n",
    "\n",
    "pipe_svm = make_pipeline(TfidfVectorizer(), LinearSVC())\n",
    "pipe_svm_params = {\n",
    "    'linearsvc__C': [3, 4, 5, 6, 7,],\n",
    "    'linearsvc__penalty': ['l2']\n",
    "    \n",
    "}\n",
    "\n",
    "svm = [pipe_svm, pipe_svm_params]\n",
    "\n",
    "pipe_naivebayes = make_pipeline(TfidfVectorizer(), MultinomialNB())\n",
    "nb = [pipe_naivebayes, {'multinomialnb__alpha': [list(range(1,10))]}]\n",
    "\n",
    "pipe_dectree = make_pipeline(TfidfVectorizer(), DecisionTreeClassifier())\n",
    "pipe_dectree_params = {\n",
    "    'decisiontreeclassifier__max_features': [\"auto\"],\n",
    "    'decisiontreeclassifier__max_depth': [None],\n",
    "    'decisiontreeclassifier__min_samples_split': [10, 15, 20, 25, 30], \n",
    "}\n",
    "\n",
    "dectree = [pipe_dectree, pipe_dectree_params]\n",
    "\n",
    "\n",
    "pipe_randomforest = make_pipeline(TfidfVectorizer(), RandomForestClassifier())\n",
    "pipe_randomforest_params = {\n",
    "    'randomforestclassifier__n_estimators': [400, 500, 750, 1000, 1250, 1500, 1750, 2000],\n",
    "}\n",
    "\n",
    "randomforest = [pipe_randomforest, pipe_randomforest_params]\n",
    "\n",
    "\n",
    "all_pipes_params = [logreg, svm, dectree, randomforest, nb]"
   ]
  },
  {
   "cell_type": "code",
   "execution_count": 17,
   "metadata": {},
   "outputs": [
    {
     "data": {
      "text/plain": [
       "['hyperparam_results/SecondRun\\\\decisiontreeclassifier_P1.csv',\n",
       " 'hyperparam_results/SecondRun\\\\linearsvc_P1.csv',\n",
       " 'hyperparam_results/SecondRun\\\\logisticregression_P1.csv',\n",
       " 'hyperparam_results/SecondRun\\\\multinomialnb_P1.csv',\n",
       " 'hyperparam_results/SecondRun\\\\randomforestclassifier_P1.csv']"
      ]
     },
     "execution_count": 17,
     "metadata": {},
     "output_type": "execute_result"
    }
   ],
   "source": [
    "tables_secondrun = glob.glob('hyperparam_results/SecondRun/*.csv')\n",
    "tables_secondrun"
   ]
  },
  {
   "cell_type": "code",
   "execution_count": 18,
   "metadata": {},
   "outputs": [],
   "source": [
    "logreg_results2 = pd.read_csv('hyperparam_results/SecondRun/logisticregression_P1.csv').dropna()\n",
    "nb_results2 = pd.read_csv('hyperparam_results/SecondRun/multinomialnb_P1.csv')\n",
    "svm_results2 = pd.read_csv('hyperparam_results/SecondRun/linearsvc_P1.csv').dropna()\n",
    "dectree_results2 = pd.read_csv('hyperparam_results/SecondRun/decisiontreeclassifier_P1.csv')\n",
    "randomforest_results2 = pd.read_csv('hyperparam_results/SecondRun/randomforestclassifier_P1.csv').dropna()"
   ]
  },
  {
   "cell_type": "markdown",
   "metadata": {},
   "source": [
    "# Logistic Regression"
   ]
  },
  {
   "cell_type": "code",
   "execution_count": 46,
   "metadata": {},
   "outputs": [
    {
     "data": {
      "text/html": [
       "<div>\n",
       "<style scoped>\n",
       "    .dataframe tbody tr th:only-of-type {\n",
       "        vertical-align: middle;\n",
       "    }\n",
       "\n",
       "    .dataframe tbody tr th {\n",
       "        vertical-align: top;\n",
       "    }\n",
       "\n",
       "    .dataframe thead th {\n",
       "        text-align: right;\n",
       "    }\n",
       "</style>\n",
       "<table border=\"1\" class=\"dataframe\">\n",
       "  <thead>\n",
       "    <tr style=\"text-align: right;\">\n",
       "      <th></th>\n",
       "      <th>params</th>\n",
       "      <th>mean_test_score</th>\n",
       "    </tr>\n",
       "  </thead>\n",
       "  <tbody>\n",
       "    <tr>\n",
       "      <td>2</td>\n",
       "      <td>{'logisticregression__C': 12, 'logisticregression__penalty': 'l2', 'logisticregression__solver': 'lbfgs'}</td>\n",
       "      <td>0.715212</td>\n",
       "    </tr>\n",
       "    <tr>\n",
       "      <td>3</td>\n",
       "      <td>{'logisticregression__C': 13, 'logisticregression__penalty': 'l2', 'logisticregression__solver': 'lbfgs'}</td>\n",
       "      <td>0.715212</td>\n",
       "    </tr>\n",
       "    <tr>\n",
       "      <td>4</td>\n",
       "      <td>{'logisticregression__C': 14, 'logisticregression__penalty': 'l2', 'logisticregression__solver': 'lbfgs'}</td>\n",
       "      <td>0.715212</td>\n",
       "    </tr>\n",
       "  </tbody>\n",
       "</table>\n",
       "</div>"
      ],
      "text/plain": [
       "                                                                                                      params  \\\n",
       "2  {'logisticregression__C': 12, 'logisticregression__penalty': 'l2', 'logisticregression__solver': 'lbfgs'}   \n",
       "3  {'logisticregression__C': 13, 'logisticregression__penalty': 'l2', 'logisticregression__solver': 'lbfgs'}   \n",
       "4  {'logisticregression__C': 14, 'logisticregression__penalty': 'l2', 'logisticregression__solver': 'lbfgs'}   \n",
       "\n",
       "   mean_test_score  \n",
       "2  0.715212         \n",
       "3  0.715212         \n",
       "4  0.715212         "
      ]
     },
     "execution_count": 46,
     "metadata": {},
     "output_type": "execute_result"
    }
   ],
   "source": [
    "logreg_results2.sort_values('mean_test_score', ascending=False)[['params', 'mean_test_score']][:3]"
   ]
  },
  {
   "cell_type": "code",
   "execution_count": 47,
   "metadata": {},
   "outputs": [
    {
     "data": {
      "image/png": "[encoded data removed]",
      "text/plain": [
       "<Figure size 432x288 with 1 Axes>"
      ]
     },
     "metadata": {
      "needs_background": "light"
     },
     "output_type": "display_data"
    }
   ],
   "source": [
    "plot_df = logreg_results2.sort_values('mean_test_score', ascending=True)\n",
    "plt.plot(list(range(len(plot_df))), plot_df.mean_test_score)\n",
    "#plt.xticks(list(range(len(plot_df))), list(map(str, plot_df.params)), rotation=90)\n",
    "plt.ylim(0,1)\n",
    "plt.show()"
   ]
  },
  {
   "cell_type": "markdown",
   "metadata": {},
   "source": [
    "### Logreg Results:\n",
    "\n",
    "1. Ab C-Wert von 12 keine Verbesserung mehr\n",
    "2. Wo ist der C-Wert 11? :D Im Graph ist er da, in der Tabelle unter den Params aber nicht..\n"
   ]
  },
  {
   "cell_type": "markdown",
   "metadata": {},
   "source": [
    "# MultinomialNB"
   ]
  },
  {
   "cell_type": "code",
   "execution_count": 21,
   "metadata": {},
   "outputs": [
    {
     "data": {
      "text/html": [
       "<div>\n",
       "<style scoped>\n",
       "    .dataframe tbody tr th:only-of-type {\n",
       "        vertical-align: middle;\n",
       "    }\n",
       "\n",
       "    .dataframe tbody tr th {\n",
       "        vertical-align: top;\n",
       "    }\n",
       "\n",
       "    .dataframe thead th {\n",
       "        text-align: right;\n",
       "    }\n",
       "</style>\n",
       "<table border=\"1\" class=\"dataframe\">\n",
       "  <thead>\n",
       "    <tr style=\"text-align: right;\">\n",
       "      <th></th>\n",
       "      <th>params</th>\n",
       "      <th>mean_test_score</th>\n",
       "    </tr>\n",
       "  </thead>\n",
       "  <tbody>\n",
       "    <tr>\n",
       "      <td>0</td>\n",
       "      <td>{'multinomialnb__alpha': 0.1}</td>\n",
       "      <td>0.759603</td>\n",
       "    </tr>\n",
       "    <tr>\n",
       "      <td>1</td>\n",
       "      <td>{'multinomialnb__alpha': 0.2}</td>\n",
       "      <td>0.731349</td>\n",
       "    </tr>\n",
       "    <tr>\n",
       "      <td>2</td>\n",
       "      <td>{'multinomialnb__alpha': 0.3}</td>\n",
       "      <td>0.722619</td>\n",
       "    </tr>\n",
       "    <tr>\n",
       "      <td>3</td>\n",
       "      <td>{'multinomialnb__alpha': 0.4}</td>\n",
       "      <td>0.691667</td>\n",
       "    </tr>\n",
       "    <tr>\n",
       "      <td>4</td>\n",
       "      <td>{'multinomialnb__alpha': 0.5}</td>\n",
       "      <td>0.682063</td>\n",
       "    </tr>\n",
       "    <tr>\n",
       "      <td>5</td>\n",
       "      <td>{'multinomialnb__alpha': 0.6}</td>\n",
       "      <td>0.663175</td>\n",
       "    </tr>\n",
       "    <tr>\n",
       "      <td>6</td>\n",
       "      <td>{'multinomialnb__alpha': 1.0}</td>\n",
       "      <td>0.652937</td>\n",
       "    </tr>\n",
       "    <tr>\n",
       "      <td>7</td>\n",
       "      <td>{'multinomialnb__alpha': 2.0}</td>\n",
       "      <td>0.584206</td>\n",
       "    </tr>\n",
       "    <tr>\n",
       "      <td>8</td>\n",
       "      <td>{'multinomialnb__alpha': 3.0}</td>\n",
       "      <td>0.545967</td>\n",
       "    </tr>\n",
       "    <tr>\n",
       "      <td>9</td>\n",
       "      <td>{'multinomialnb__alpha': 10.0}</td>\n",
       "      <td>0.405856</td>\n",
       "    </tr>\n",
       "  </tbody>\n",
       "</table>\n",
       "</div>"
      ],
      "text/plain": [
       "                           params  mean_test_score\n",
       "0  {'multinomialnb__alpha': 0.1}   0.759603       \n",
       "1  {'multinomialnb__alpha': 0.2}   0.731349       \n",
       "2  {'multinomialnb__alpha': 0.3}   0.722619       \n",
       "3  {'multinomialnb__alpha': 0.4}   0.691667       \n",
       "4  {'multinomialnb__alpha': 0.5}   0.682063       \n",
       "5  {'multinomialnb__alpha': 0.6}   0.663175       \n",
       "6  {'multinomialnb__alpha': 1.0}   0.652937       \n",
       "7  {'multinomialnb__alpha': 2.0}   0.584206       \n",
       "8  {'multinomialnb__alpha': 3.0}   0.545967       \n",
       "9  {'multinomialnb__alpha': 10.0}  0.405856       "
      ]
     },
     "execution_count": 21,
     "metadata": {},
     "output_type": "execute_result"
    }
   ],
   "source": [
    "nb_results2.sort_values('mean_test_score', ascending=False)[['params', 'mean_test_score']][:10]"
   ]
  },
  {
   "cell_type": "code",
   "execution_count": 22,
   "metadata": {},
   "outputs": [
    {
     "data": {
      "image/png": "[encoded data removed]",
      "text/plain": [
       "<Figure size 432x288 with 1 Axes>"
      ]
     },
     "metadata": {
      "needs_background": "light"
     },
     "output_type": "display_data"
    }
   ],
   "source": [
    "plot_df = nb_results2.sort_values('mean_test_score', ascending=True)\n",
    "plt.plot(list(range(len(plot_df))), plot_df.mean_test_score)\n",
    "plt.xticks(list(range(len(plot_df))), list(map(str, plot_df.params)), rotation=90)\n",
    "plt.ylim(0,1)\n",
    "plt.show()"
   ]
  },
  {
   "cell_type": "markdown",
   "metadata": {},
   "source": [
    "### Naive Bayes Result mit unterschiedlichem Laplace Smoothing\n",
    "1. Tatsächlich ein besseres Ergebnis mit kleineren Werten\n",
    "2. dritten Run mit noch kleineren Werten Testen 0.1 bis 0.01"
   ]
  },
  {
   "cell_type": "markdown",
   "metadata": {},
   "source": [
    "### SVM"
   ]
  },
  {
   "cell_type": "code",
   "execution_count": 51,
   "metadata": {},
   "outputs": [
    {
     "data": {
      "text/html": [
       "<div>\n",
       "<style scoped>\n",
       "    .dataframe tbody tr th:only-of-type {\n",
       "        vertical-align: middle;\n",
       "    }\n",
       "\n",
       "    .dataframe tbody tr th {\n",
       "        vertical-align: top;\n",
       "    }\n",
       "\n",
       "    .dataframe thead th {\n",
       "        text-align: right;\n",
       "    }\n",
       "</style>\n",
       "<table border=\"1\" class=\"dataframe\">\n",
       "  <thead>\n",
       "    <tr style=\"text-align: right;\">\n",
       "      <th></th>\n",
       "      <th>params</th>\n",
       "      <th>mean_test_score</th>\n",
       "    </tr>\n",
       "  </thead>\n",
       "  <tbody>\n",
       "    <tr>\n",
       "      <td>0</td>\n",
       "      <td>{'linearsvc__C': 3, 'linearsvc__penalty': 'l2'}</td>\n",
       "      <td>0.716905</td>\n",
       "    </tr>\n",
       "    <tr>\n",
       "      <td>1</td>\n",
       "      <td>{'linearsvc__C': 4, 'linearsvc__penalty': 'l2'}</td>\n",
       "      <td>0.716905</td>\n",
       "    </tr>\n",
       "    <tr>\n",
       "      <td>2</td>\n",
       "      <td>{'linearsvc__C': 5, 'linearsvc__penalty': 'l2'}</td>\n",
       "      <td>0.716905</td>\n",
       "    </tr>\n",
       "    <tr>\n",
       "      <td>4</td>\n",
       "      <td>{'linearsvc__C': 7, 'linearsvc__penalty': 'l2'}</td>\n",
       "      <td>0.705317</td>\n",
       "    </tr>\n",
       "  </tbody>\n",
       "</table>\n",
       "</div>"
      ],
      "text/plain": [
       "                                            params  mean_test_score\n",
       "0  {'linearsvc__C': 3, 'linearsvc__penalty': 'l2'}  0.716905       \n",
       "1  {'linearsvc__C': 4, 'linearsvc__penalty': 'l2'}  0.716905       \n",
       "2  {'linearsvc__C': 5, 'linearsvc__penalty': 'l2'}  0.716905       \n",
       "4  {'linearsvc__C': 7, 'linearsvc__penalty': 'l2'}  0.705317       "
      ]
     },
     "execution_count": 51,
     "metadata": {},
     "output_type": "execute_result"
    }
   ],
   "source": [
    "svm_results2.sort_values('mean_test_score', ascending=False)[['params', 'mean_test_score']].iloc[[0,1,2,-1]]"
   ]
  },
  {
   "cell_type": "code",
   "execution_count": 24,
   "metadata": {},
   "outputs": [
    {
     "data": {
      "image/png": "[encoded data removed]",
      "text/plain": [
       "<Figure size 432x288 with 1 Axes>"
      ]
     },
     "metadata": {
      "needs_background": "light"
     },
     "output_type": "display_data"
    }
   ],
   "source": [
    "plot_df = svm_results2.sort_values('mean_test_score', ascending=True)\n",
    "plt.plot(list(range(len(plot_df))), plot_df.mean_test_score)\n",
    "plt.xticks(list(range(len(plot_df))), list(map(str, plot_df.params)), rotation=90)\n",
    "plt.ylim(0,1)\n",
    "plt.show()"
   ]
  },
  {
   "cell_type": "markdown",
   "metadata": {},
   "source": [
    "### LinearSVC Results:\n",
    "\n",
    "1. Beste Ergebnisse mit einem C-Wert von 3, 4 oder 5, jeweils 0,716905. Daher kann ich mir nicht vorstellen, dass irgendein Wert zwischen 3 und 4 bzw. 4 und 5 noch besser sein wird."
   ]
  },
  {
   "cell_type": "markdown",
   "metadata": {},
   "source": [
    "# Desicion Trees"
   ]
  },
  {
   "cell_type": "code",
   "execution_count": 25,
   "metadata": {},
   "outputs": [
    {
     "data": {
      "text/html": [
       "<div>\n",
       "<style scoped>\n",
       "    .dataframe tbody tr th:only-of-type {\n",
       "        vertical-align: middle;\n",
       "    }\n",
       "\n",
       "    .dataframe tbody tr th {\n",
       "        vertical-align: top;\n",
       "    }\n",
       "\n",
       "    .dataframe thead th {\n",
       "        text-align: right;\n",
       "    }\n",
       "</style>\n",
       "<table border=\"1\" class=\"dataframe\">\n",
       "  <thead>\n",
       "    <tr style=\"text-align: right;\">\n",
       "      <th></th>\n",
       "      <th>params</th>\n",
       "      <th>mean_test_score</th>\n",
       "    </tr>\n",
       "  </thead>\n",
       "  <tbody>\n",
       "    <tr>\n",
       "      <td>3</td>\n",
       "      <td>{'decisiontreeclassifier__max_depth': None, 'decisiontreeclassifier__max_features': 'auto', 'decisiontreeclassifier__min_samples_split': 25}</td>\n",
       "      <td>0.319740</td>\n",
       "    </tr>\n",
       "    <tr>\n",
       "      <td>2</td>\n",
       "      <td>{'decisiontreeclassifier__max_depth': None, 'decisiontreeclassifier__max_features': 'auto', 'decisiontreeclassifier__min_samples_split': 20}</td>\n",
       "      <td>0.302540</td>\n",
       "    </tr>\n",
       "    <tr>\n",
       "      <td>0</td>\n",
       "      <td>{'decisiontreeclassifier__max_depth': None, 'decisiontreeclassifier__max_features': 'auto', 'decisiontreeclassifier__min_samples_split': 10}</td>\n",
       "      <td>0.281539</td>\n",
       "    </tr>\n",
       "    <tr>\n",
       "      <td>4</td>\n",
       "      <td>{'decisiontreeclassifier__max_depth': None, 'decisiontreeclassifier__max_features': 'auto', 'decisiontreeclassifier__min_samples_split': 30}</td>\n",
       "      <td>0.259550</td>\n",
       "    </tr>\n",
       "    <tr>\n",
       "      <td>1</td>\n",
       "      <td>{'decisiontreeclassifier__max_depth': None, 'decisiontreeclassifier__max_features': 'auto', 'decisiontreeclassifier__min_samples_split': 15}</td>\n",
       "      <td>0.257448</td>\n",
       "    </tr>\n",
       "  </tbody>\n",
       "</table>\n",
       "</div>"
      ],
      "text/plain": [
       "                                                                                                                                         params  \\\n",
       "3  {'decisiontreeclassifier__max_depth': None, 'decisiontreeclassifier__max_features': 'auto', 'decisiontreeclassifier__min_samples_split': 25}   \n",
       "2  {'decisiontreeclassifier__max_depth': None, 'decisiontreeclassifier__max_features': 'auto', 'decisiontreeclassifier__min_samples_split': 20}   \n",
       "0  {'decisiontreeclassifier__max_depth': None, 'decisiontreeclassifier__max_features': 'auto', 'decisiontreeclassifier__min_samples_split': 10}   \n",
       "4  {'decisiontreeclassifier__max_depth': None, 'decisiontreeclassifier__max_features': 'auto', 'decisiontreeclassifier__min_samples_split': 30}   \n",
       "1  {'decisiontreeclassifier__max_depth': None, 'decisiontreeclassifier__max_features': 'auto', 'decisiontreeclassifier__min_samples_split': 15}   \n",
       "\n",
       "   mean_test_score  \n",
       "3  0.319740         \n",
       "2  0.302540         \n",
       "0  0.281539         \n",
       "4  0.259550         \n",
       "1  0.257448         "
      ]
     },
     "execution_count": 25,
     "metadata": {},
     "output_type": "execute_result"
    }
   ],
   "source": [
    "dectree_results2.sort_values('mean_test_score', ascending=False)[['params', 'mean_test_score']][['params', 'mean_test_score']][:10]"
   ]
  },
  {
   "cell_type": "code",
   "execution_count": 26,
   "metadata": {},
   "outputs": [
    {
     "data": {
      "image/png": "[encoded data removed]",
      "text/plain": [
       "<Figure size 432x288 with 1 Axes>"
      ]
     },
     "metadata": {
      "needs_background": "light"
     },
     "output_type": "display_data"
    }
   ],
   "source": [
    "plot_df = dectree_results2.sort_values('mean_test_score', ascending=True)\n",
    "plt.plot(list(range(len(plot_df))), plot_df.mean_test_score)\n",
    "plt.xticks(list(range(len(plot_df))), list(map(str, plot_df.params)), rotation=90)\n",
    "plt.ylim(0,1)\n",
    "plt.show()"
   ]
  },
  {
   "cell_type": "code",
   "execution_count": null,
   "metadata": {},
   "outputs": [],
   "source": []
  },
  {
   "cell_type": "markdown",
   "metadata": {},
   "source": [
    "# Random Forest"
   ]
  },
  {
   "cell_type": "code",
   "execution_count": 27,
   "metadata": {},
   "outputs": [
    {
     "data": {
      "text/html": [
       "<div>\n",
       "<style scoped>\n",
       "    .dataframe tbody tr th:only-of-type {\n",
       "        vertical-align: middle;\n",
       "    }\n",
       "\n",
       "    .dataframe tbody tr th {\n",
       "        vertical-align: top;\n",
       "    }\n",
       "\n",
       "    .dataframe thead th {\n",
       "        text-align: right;\n",
       "    }\n",
       "</style>\n",
       "<table border=\"1\" class=\"dataframe\">\n",
       "  <thead>\n",
       "    <tr style=\"text-align: right;\">\n",
       "      <th></th>\n",
       "      <th>params</th>\n",
       "      <th>mean_test_score</th>\n",
       "    </tr>\n",
       "  </thead>\n",
       "  <tbody>\n",
       "    <tr>\n",
       "      <td>6</td>\n",
       "      <td>{'randomforestclassifier__n_estimators': 1750}</td>\n",
       "      <td>0.785873</td>\n",
       "    </tr>\n",
       "    <tr>\n",
       "      <td>7</td>\n",
       "      <td>{'randomforestclassifier__n_estimators': 2000}</td>\n",
       "      <td>0.772143</td>\n",
       "    </tr>\n",
       "    <tr>\n",
       "      <td>5</td>\n",
       "      <td>{'randomforestclassifier__n_estimators': 1500}</td>\n",
       "      <td>0.769444</td>\n",
       "    </tr>\n",
       "    <tr>\n",
       "      <td>2</td>\n",
       "      <td>{'randomforestclassifier__n_estimators': 750}</td>\n",
       "      <td>0.764127</td>\n",
       "    </tr>\n",
       "    <tr>\n",
       "      <td>1</td>\n",
       "      <td>{'randomforestclassifier__n_estimators': 500}</td>\n",
       "      <td>0.762857</td>\n",
       "    </tr>\n",
       "    <tr>\n",
       "      <td>3</td>\n",
       "      <td>{'randomforestclassifier__n_estimators': 1000}</td>\n",
       "      <td>0.762143</td>\n",
       "    </tr>\n",
       "    <tr>\n",
       "      <td>4</td>\n",
       "      <td>{'randomforestclassifier__n_estimators': 1250}</td>\n",
       "      <td>0.751349</td>\n",
       "    </tr>\n",
       "    <tr>\n",
       "      <td>0</td>\n",
       "      <td>{'randomforestclassifier__n_estimators': 400}</td>\n",
       "      <td>0.694610</td>\n",
       "    </tr>\n",
       "  </tbody>\n",
       "</table>\n",
       "</div>"
      ],
      "text/plain": [
       "                                           params  mean_test_score\n",
       "6  {'randomforestclassifier__n_estimators': 1750}  0.785873       \n",
       "7  {'randomforestclassifier__n_estimators': 2000}  0.772143       \n",
       "5  {'randomforestclassifier__n_estimators': 1500}  0.769444       \n",
       "2  {'randomforestclassifier__n_estimators': 750}   0.764127       \n",
       "1  {'randomforestclassifier__n_estimators': 500}   0.762857       \n",
       "3  {'randomforestclassifier__n_estimators': 1000}  0.762143       \n",
       "4  {'randomforestclassifier__n_estimators': 1250}  0.751349       \n",
       "0  {'randomforestclassifier__n_estimators': 400}   0.694610       "
      ]
     },
     "execution_count": 27,
     "metadata": {},
     "output_type": "execute_result"
    }
   ],
   "source": [
    "randomforest_results2.sort_values('mean_test_score', ascending=False)[['params', 'mean_test_score']][:10]"
   ]
  },
  {
   "cell_type": "code",
   "execution_count": 28,
   "metadata": {},
   "outputs": [
    {
     "data": {
      "image/png": "[encoded data removed]",
      "text/plain": [
       "<Figure size 432x288 with 1 Axes>"
      ]
     },
     "metadata": {
      "needs_background": "light"
     },
     "output_type": "display_data"
    }
   ],
   "source": [
    "plot_df = randomforest_results2.sort_values('mean_test_score', ascending=True)\n",
    "plt.plot(list(range(len(plot_df))), plot_df.mean_test_score)\n",
    "plt.xticks(list(range(len(plot_df))), list(map(str, plot_df.params)), rotation=90)\n",
    "plt.ylim(0,1)\n",
    "plt.show()"
   ]
  },
  {
   "cell_type": "markdown",
   "metadata": {},
   "source": [
    "### Randomforest-Results:\n",
    "Momentanes Maximum bei 1750 Estimators mit einem Score von 0,785873, 1500 und 2000 Estimators weichen zwischen 0,01 und 0,015 nur ab"
   ]
  },
  {
   "cell_type": "markdown",
   "metadata": {},
   "source": [
    "# 3.Run"
   ]
  },
  {
   "cell_type": "markdown",
   "metadata": {},
   "source": [
    "## Parameter für den dritten Run"
   ]
  },
  {
   "cell_type": "code",
   "execution_count": 29,
   "metadata": {},
   "outputs": [],
   "source": [
    "from sklearn.feature_extraction.text import TfidfVectorizer\n",
    "\n",
    "from sklearn.linear_model import LogisticRegression\n",
    "from sklearn.svm import LinearSVC\n",
    "from sklearn.naive_bayes import MultinomialNB\n",
    "from sklearn.tree import DecisionTreeClassifier\n",
    "from sklearn.ensemble import RandomForestClassifier\n",
    "\n",
    "from sklearn.pipeline import make_pipeline\n",
    "\n",
    "from stop_words import get_stop_words\n",
    "\n",
    "\n",
    "# Logreg gibt bereits nur noch konstante Werte, Wenn Überhaupt würde ich mal einen viel größeren C-Wert\n",
    "# nehmen um zu schauen, ob sich da noch irgendwann was tut\n",
    "pipe_logreg = make_pipeline(TfidfVectorizer(), LogisticRegression())\n",
    "pipe_logreg_params = {\n",
    "    'logisticregression__C': [50],\n",
    "    'logisticregression__penalty': ['l2'],\n",
    "    'logisticregression__solver': ['lbfgs']    \n",
    "}\n",
    "logreg = [pipe_logreg, pipe_logreg_params]\n",
    "\n",
    "\n",
    "\n",
    "# SVM haben wir bereits ein MAximum über die C-Werte 3, 4 und 5\n",
    "\n",
    "\n",
    "\n",
    "# Naive Bayes hat momentan bei Alpha 0.1 den besten Score, daher noch kleinere Werte\n",
    "pipe_naivebayes = make_pipeline(TfidfVectorizer(), MultinomialNB())\n",
    "nb = [pipe_naivebayes, {'multinomialnb__alpha': []}]\n",
    "\n",
    "\n",
    "\n",
    "# Decision Trees nochmal mit versch. Max_Depth Werten\n",
    "pipe_dectree = make_pipeline(TfidfVectorizer(), DecisionTreeClassifier())\n",
    "pipe_dectree_params = {\n",
    "    'decisiontreeclassifier__max_features': [\"auto\"],\n",
    "    'decisiontreeclassifier__max_depth': [75, 100, 125, 150, 175],\n",
    "    'decisiontreeclassifier__min_samples_split': [10, 15, 20, 25, 30], \n",
    "}\n",
    "dectree = [pipe_dectree, pipe_dectree_params]\n",
    "\n",
    "\n",
    "# RAndom Forests nochmal genauere Estimator Werte, vielleicht werden wir dann auch schon zu genau und overfitten..\n",
    "pipe_randomforest = make_pipeline(TfidfVectorizer(), RandomForestClassifier())\n",
    "pipe_randomforest_params = {\n",
    "    'randomforestclassifier__n_estimators': [1650, 1700, 1800, 1850], # Das aktuelle Maximum liegt bei 1750 Estimators\n",
    "}\n",
    "randomforest = [pipe_randomforest, pipe_randomforest_params]\n",
    "\n",
    "all_pipes_params = [logreg, dectree, randomforest, nb]"
   ]
  },
  {
   "cell_type": "code",
   "execution_count": null,
   "metadata": {},
   "outputs": [],
   "source": []
  },
  {
   "cell_type": "code",
   "execution_count": 30,
   "metadata": {},
   "outputs": [
    {
     "data": {
      "text/plain": [
       "['hyperparam_results/ThirdRun\\\\decisiontreeclassifier_P1.csv',\n",
       " 'hyperparam_results/ThirdRun\\\\logisticregression_P1.csv',\n",
       " 'hyperparam_results/ThirdRun\\\\multinomialnb_P1.csv',\n",
       " 'hyperparam_results/ThirdRun\\\\randomforestclassifier_P1.csv']"
      ]
     },
     "execution_count": 30,
     "metadata": {},
     "output_type": "execute_result"
    }
   ],
   "source": [
    "tables_secondrun = glob.glob('hyperparam_results/ThirdRun/*.csv')\n",
    "tables_secondrun"
   ]
  },
  {
   "cell_type": "code",
   "execution_count": 31,
   "metadata": {},
   "outputs": [],
   "source": [
    "logreg_results3 = pd.read_csv('hyperparam_results/ThirdRun/logisticregression_P1.csv').dropna()\n",
    "nb_results3 = pd.read_csv('hyperparam_results/ThirdRun/multinomialnb_P1.csv')\n",
    "dectree_results3 = pd.read_csv('hyperparam_results/ThirdRun/decisiontreeclassifier_P1.csv')\n",
    "randomforest_results3 = pd.read_csv('hyperparam_results/ThirdRun/randomforestclassifier_P1.csv').dropna()"
   ]
  },
  {
   "cell_type": "markdown",
   "metadata": {},
   "source": [
    "# Auswertung 3. Run\n",
    "# Logistic Regression"
   ]
  },
  {
   "cell_type": "code",
   "execution_count": 32,
   "metadata": {},
   "outputs": [
    {
     "data": {
      "text/html": [
       "<div>\n",
       "<style scoped>\n",
       "    .dataframe tbody tr th:only-of-type {\n",
       "        vertical-align: middle;\n",
       "    }\n",
       "\n",
       "    .dataframe tbody tr th {\n",
       "        vertical-align: top;\n",
       "    }\n",
       "\n",
       "    .dataframe thead th {\n",
       "        text-align: right;\n",
       "    }\n",
       "</style>\n",
       "<table border=\"1\" class=\"dataframe\">\n",
       "  <thead>\n",
       "    <tr style=\"text-align: right;\">\n",
       "      <th></th>\n",
       "      <th>params</th>\n",
       "      <th>mean_test_score</th>\n",
       "    </tr>\n",
       "  </thead>\n",
       "  <tbody>\n",
       "    <tr>\n",
       "      <td>0</td>\n",
       "      <td>{'logisticregression__C': 50, 'logisticregression__penalty': 'l2', 'logisticregression__solver': 'lbfgs'}</td>\n",
       "      <td>0.725397</td>\n",
       "    </tr>\n",
       "  </tbody>\n",
       "</table>\n",
       "</div>"
      ],
      "text/plain": [
       "                                                                                                      params  \\\n",
       "0  {'logisticregression__C': 50, 'logisticregression__penalty': 'l2', 'logisticregression__solver': 'lbfgs'}   \n",
       "\n",
       "   mean_test_score  \n",
       "0  0.725397         "
      ]
     },
     "execution_count": 32,
     "metadata": {},
     "output_type": "execute_result"
    }
   ],
   "source": [
    "logreg_results3.sort_values('mean_test_score', ascending=False)[['params', 'mean_test_score']][:10]"
   ]
  },
  {
   "cell_type": "code",
   "execution_count": 33,
   "metadata": {},
   "outputs": [
    {
     "data": {
      "image/png": "[encoded data removed]",
      "text/plain": [
       "<Figure size 432x288 with 1 Axes>"
      ]
     },
     "metadata": {
      "needs_background": "light"
     },
     "output_type": "display_data"
    }
   ],
   "source": [
    "plot_df = logreg_results3.sort_values('mean_test_score', ascending=True)\n",
    "plt.plot(list(range(len(plot_df))), plot_df.mean_test_score, marker='o')\n",
    "plt.xticks(list(range(len(plot_df))), list(map(str, plot_df.params)), rotation=90)\n",
    "plt.ylim(0,1)\n",
    "plt.show()"
   ]
  },
  {
   "cell_type": "markdown",
   "metadata": {},
   "source": [
    "## Auswertung\n",
    "Tatsächlich wird das Ergebnis noch besser bei noch höheren C-Werten"
   ]
  },
  {
   "cell_type": "markdown",
   "metadata": {},
   "source": [
    "# Naive Bayes"
   ]
  },
  {
   "cell_type": "code",
   "execution_count": 48,
   "metadata": {},
   "outputs": [
    {
     "data": {
      "text/html": [
       "<div>\n",
       "<style scoped>\n",
       "    .dataframe tbody tr th:only-of-type {\n",
       "        vertical-align: middle;\n",
       "    }\n",
       "\n",
       "    .dataframe tbody tr th {\n",
       "        vertical-align: top;\n",
       "    }\n",
       "\n",
       "    .dataframe thead th {\n",
       "        text-align: right;\n",
       "    }\n",
       "</style>\n",
       "<table border=\"1\" class=\"dataframe\">\n",
       "  <thead>\n",
       "    <tr style=\"text-align: right;\">\n",
       "      <th></th>\n",
       "      <th>params</th>\n",
       "      <th>mean_test_score</th>\n",
       "    </tr>\n",
       "  </thead>\n",
       "  <tbody>\n",
       "    <tr>\n",
       "      <td>0</td>\n",
       "      <td>{'multinomialnb__alpha': 0.01}</td>\n",
       "      <td>0.776746</td>\n",
       "    </tr>\n",
       "    <tr>\n",
       "      <td>1</td>\n",
       "      <td>{'multinomialnb__alpha': 0.015}</td>\n",
       "      <td>0.776746</td>\n",
       "    </tr>\n",
       "    <tr>\n",
       "      <td>2</td>\n",
       "      <td>{'multinomialnb__alpha': 0.019999999999999997}</td>\n",
       "      <td>0.776746</td>\n",
       "    </tr>\n",
       "  </tbody>\n",
       "</table>\n",
       "</div>"
      ],
      "text/plain": [
       "                                           params  mean_test_score\n",
       "0  {'multinomialnb__alpha': 0.01}                  0.776746       \n",
       "1  {'multinomialnb__alpha': 0.015}                 0.776746       \n",
       "2  {'multinomialnb__alpha': 0.019999999999999997}  0.776746       "
      ]
     },
     "execution_count": 48,
     "metadata": {},
     "output_type": "execute_result"
    }
   ],
   "source": [
    "nb_results3.sort_values('mean_test_score', ascending=False)[['params', 'mean_test_score']][:3]"
   ]
  },
  {
   "cell_type": "code",
   "execution_count": 49,
   "metadata": {},
   "outputs": [
    {
     "data": {
      "image/png": "[encoded data removed]",
      "text/plain": [
       "<Figure size 432x288 with 1 Axes>"
      ]
     },
     "metadata": {
      "needs_background": "light"
     },
     "output_type": "display_data"
    }
   ],
   "source": [
    "plot_df = nb_results3.sort_values('mean_test_score', ascending=True)\n",
    "plt.plot(list(range(len(plot_df))), plot_df.mean_test_score)\n",
    "#plt.xticks(list(range(len(plot_df))), list(map(str, plot_df.params)), rotation=90)\n",
    "plt.ylim(0,1)\n",
    "plt.show()"
   ]
  },
  {
   "cell_type": "markdown",
   "metadata": {},
   "source": [
    "### Auswertung:\n",
    "je kleiner das Alpha desto besser, selber Trend wie in Run 2, wobei es sich langsam einzupendeln scheint\n",
    "\n",
    "# Decision Trees"
   ]
  },
  {
   "cell_type": "code",
   "execution_count": 36,
   "metadata": {},
   "outputs": [
    {
     "data": {
      "text/html": [
       "<div>\n",
       "<style scoped>\n",
       "    .dataframe tbody tr th:only-of-type {\n",
       "        vertical-align: middle;\n",
       "    }\n",
       "\n",
       "    .dataframe tbody tr th {\n",
       "        vertical-align: top;\n",
       "    }\n",
       "\n",
       "    .dataframe thead th {\n",
       "        text-align: right;\n",
       "    }\n",
       "</style>\n",
       "<table border=\"1\" class=\"dataframe\">\n",
       "  <thead>\n",
       "    <tr style=\"text-align: right;\">\n",
       "      <th></th>\n",
       "      <th>params</th>\n",
       "      <th>mean_test_score</th>\n",
       "    </tr>\n",
       "  </thead>\n",
       "  <tbody>\n",
       "    <tr>\n",
       "      <td>5</td>\n",
       "      <td>{'decisiontreeclassifier__max_depth': 100, 'decisiontreeclassifier__max_features': 'auto', 'decisiontreeclassifier__min_samples_split': 10}</td>\n",
       "      <td>0.350767</td>\n",
       "    </tr>\n",
       "    <tr>\n",
       "      <td>11</td>\n",
       "      <td>{'decisiontreeclassifier__max_depth': 125, 'decisiontreeclassifier__max_features': 'auto', 'decisiontreeclassifier__min_samples_split': 15}</td>\n",
       "      <td>0.346720</td>\n",
       "    </tr>\n",
       "    <tr>\n",
       "      <td>15</td>\n",
       "      <td>{'decisiontreeclassifier__max_depth': 150, 'decisiontreeclassifier__max_features': 'auto', 'decisiontreeclassifier__min_samples_split': 10}</td>\n",
       "      <td>0.339418</td>\n",
       "    </tr>\n",
       "    <tr>\n",
       "      <td>22</td>\n",
       "      <td>{'decisiontreeclassifier__max_depth': 175, 'decisiontreeclassifier__max_features': 'auto', 'decisiontreeclassifier__min_samples_split': 20}</td>\n",
       "      <td>0.329339</td>\n",
       "    </tr>\n",
       "    <tr>\n",
       "      <td>0</td>\n",
       "      <td>{'decisiontreeclassifier__max_depth': 75, 'decisiontreeclassifier__max_features': 'auto', 'decisiontreeclassifier__min_samples_split': 10}</td>\n",
       "      <td>0.327293</td>\n",
       "    </tr>\n",
       "    <tr>\n",
       "      <td>7</td>\n",
       "      <td>{'decisiontreeclassifier__max_depth': 100, 'decisiontreeclassifier__max_features': 'auto', 'decisiontreeclassifier__min_samples_split': 20}</td>\n",
       "      <td>0.320317</td>\n",
       "    </tr>\n",
       "    <tr>\n",
       "      <td>12</td>\n",
       "      <td>{'decisiontreeclassifier__max_depth': 125, 'decisiontreeclassifier__max_features': 'auto', 'decisiontreeclassifier__min_samples_split': 20}</td>\n",
       "      <td>0.310640</td>\n",
       "    </tr>\n",
       "    <tr>\n",
       "      <td>16</td>\n",
       "      <td>{'decisiontreeclassifier__max_depth': 150, 'decisiontreeclassifier__max_features': 'auto', 'decisiontreeclassifier__min_samples_split': 15}</td>\n",
       "      <td>0.307011</td>\n",
       "    </tr>\n",
       "    <tr>\n",
       "      <td>3</td>\n",
       "      <td>{'decisiontreeclassifier__max_depth': 75, 'decisiontreeclassifier__max_features': 'auto', 'decisiontreeclassifier__min_samples_split': 25}</td>\n",
       "      <td>0.304074</td>\n",
       "    </tr>\n",
       "    <tr>\n",
       "      <td>2</td>\n",
       "      <td>{'decisiontreeclassifier__max_depth': 75, 'decisiontreeclassifier__max_features': 'auto', 'decisiontreeclassifier__min_samples_split': 20}</td>\n",
       "      <td>0.302915</td>\n",
       "    </tr>\n",
       "  </tbody>\n",
       "</table>\n",
       "</div>"
      ],
      "text/plain": [
       "                                                                                                                                         params  \\\n",
       "5   {'decisiontreeclassifier__max_depth': 100, 'decisiontreeclassifier__max_features': 'auto', 'decisiontreeclassifier__min_samples_split': 10}   \n",
       "11  {'decisiontreeclassifier__max_depth': 125, 'decisiontreeclassifier__max_features': 'auto', 'decisiontreeclassifier__min_samples_split': 15}   \n",
       "15  {'decisiontreeclassifier__max_depth': 150, 'decisiontreeclassifier__max_features': 'auto', 'decisiontreeclassifier__min_samples_split': 10}   \n",
       "22  {'decisiontreeclassifier__max_depth': 175, 'decisiontreeclassifier__max_features': 'auto', 'decisiontreeclassifier__min_samples_split': 20}   \n",
       "0   {'decisiontreeclassifier__max_depth': 75, 'decisiontreeclassifier__max_features': 'auto', 'decisiontreeclassifier__min_samples_split': 10}    \n",
       "7   {'decisiontreeclassifier__max_depth': 100, 'decisiontreeclassifier__max_features': 'auto', 'decisiontreeclassifier__min_samples_split': 20}   \n",
       "12  {'decisiontreeclassifier__max_depth': 125, 'decisiontreeclassifier__max_features': 'auto', 'decisiontreeclassifier__min_samples_split': 20}   \n",
       "16  {'decisiontreeclassifier__max_depth': 150, 'decisiontreeclassifier__max_features': 'auto', 'decisiontreeclassifier__min_samples_split': 15}   \n",
       "3   {'decisiontreeclassifier__max_depth': 75, 'decisiontreeclassifier__max_features': 'auto', 'decisiontreeclassifier__min_samples_split': 25}    \n",
       "2   {'decisiontreeclassifier__max_depth': 75, 'decisiontreeclassifier__max_features': 'auto', 'decisiontreeclassifier__min_samples_split': 20}    \n",
       "\n",
       "    mean_test_score  \n",
       "5   0.350767         \n",
       "11  0.346720         \n",
       "15  0.339418         \n",
       "22  0.329339         \n",
       "0   0.327293         \n",
       "7   0.320317         \n",
       "12  0.310640         \n",
       "16  0.307011         \n",
       "3   0.304074         \n",
       "2   0.302915         "
      ]
     },
     "execution_count": 36,
     "metadata": {},
     "output_type": "execute_result"
    }
   ],
   "source": [
    "dectree_results3.sort_values('mean_test_score', ascending=False)[['params', 'mean_test_score']][['params', 'mean_test_score']][:10]"
   ]
  },
  {
   "cell_type": "code",
   "execution_count": 37,
   "metadata": {},
   "outputs": [
    {
     "data": {
      "image/png": "[encoded data removed]",
      "text/plain": [
       "<Figure size 432x288 with 1 Axes>"
      ]
     },
     "metadata": {
      "needs_background": "light"
     },
     "output_type": "display_data"
    }
   ],
   "source": [
    "plot_df = dectree_results3.sort_values('mean_test_score', ascending=True)\n",
    "plt.plot(list(range(len(plot_df)))[::6], plot_df.mean_test_score[::6])\n",
    "plt.xticks(list(range(len(plot_df)))[::6], list(map(str, plot_df.params))[::6], rotation=90)\n",
    "plt.ylim(0,1)\n",
    "plt.show()"
   ]
  },
  {
   "cell_type": "markdown",
   "metadata": {},
   "source": [
    "## Auswertung:\n",
    "kleiner Fehler in Run 1, Laben an Graph sind inkorrekt, Max_Depth 200 ist besser als 100"
   ]
  },
  {
   "cell_type": "markdown",
   "metadata": {},
   "source": [
    "# Random Forest"
   ]
  },
  {
   "cell_type": "code",
   "execution_count": 38,
   "metadata": {},
   "outputs": [
    {
     "data": {
      "text/html": [
       "<div>\n",
       "<style scoped>\n",
       "    .dataframe tbody tr th:only-of-type {\n",
       "        vertical-align: middle;\n",
       "    }\n",
       "\n",
       "    .dataframe tbody tr th {\n",
       "        vertical-align: top;\n",
       "    }\n",
       "\n",
       "    .dataframe thead th {\n",
       "        text-align: right;\n",
       "    }\n",
       "</style>\n",
       "<table border=\"1\" class=\"dataframe\">\n",
       "  <thead>\n",
       "    <tr style=\"text-align: right;\">\n",
       "      <th></th>\n",
       "      <th>params</th>\n",
       "      <th>mean_test_score</th>\n",
       "    </tr>\n",
       "  </thead>\n",
       "  <tbody>\n",
       "    <tr>\n",
       "      <td>3</td>\n",
       "      <td>{'randomforestclassifier__n_estimators': 1850}</td>\n",
       "      <td>0.792381</td>\n",
       "    </tr>\n",
       "    <tr>\n",
       "      <td>2</td>\n",
       "      <td>{'randomforestclassifier__n_estimators': 1800}</td>\n",
       "      <td>0.758413</td>\n",
       "    </tr>\n",
       "    <tr>\n",
       "      <td>0</td>\n",
       "      <td>{'randomforestclassifier__n_estimators': 1650}</td>\n",
       "      <td>0.755238</td>\n",
       "    </tr>\n",
       "    <tr>\n",
       "      <td>1</td>\n",
       "      <td>{'randomforestclassifier__n_estimators': 1700}</td>\n",
       "      <td>0.749603</td>\n",
       "    </tr>\n",
       "  </tbody>\n",
       "</table>\n",
       "</div>"
      ],
      "text/plain": [
       "                                           params  mean_test_score\n",
       "3  {'randomforestclassifier__n_estimators': 1850}  0.792381       \n",
       "2  {'randomforestclassifier__n_estimators': 1800}  0.758413       \n",
       "0  {'randomforestclassifier__n_estimators': 1650}  0.755238       \n",
       "1  {'randomforestclassifier__n_estimators': 1700}  0.749603       "
      ]
     },
     "execution_count": 38,
     "metadata": {},
     "output_type": "execute_result"
    }
   ],
   "source": [
    "randomforest_results3.sort_values('mean_test_score', ascending=False)[['params', 'mean_test_score']][:10]"
   ]
  },
  {
   "cell_type": "code",
   "execution_count": 39,
   "metadata": {},
   "outputs": [
    {
     "data": {
      "image/png": "[encoded data removed]",
      "text/plain": [
       "<Figure size 432x288 with 1 Axes>"
      ]
     },
     "metadata": {
      "needs_background": "light"
     },
     "output_type": "display_data"
    }
   ],
   "source": [
    "plot_df = randomforest_results3.sort_values('mean_test_score', ascending=True)\n",
    "plt.plot(list(range(len(plot_df))), plot_df.mean_test_score)\n",
    "plt.xticks(list(range(len(plot_df))), list(map(str, plot_df.params)), rotation=90)\n",
    "plt.ylim(0,1)\n",
    "plt.show()"
   ]
  },
  {
   "cell_type": "markdown",
   "metadata": {},
   "source": [
    "## Auswertung:\n",
    "1850 Estimators ergeben ein noch besseres Ergebnis -> Maximum zwischen 1800 und 2000"
   ]
  },
  {
   "cell_type": "markdown",
   "metadata": {},
   "source": [
    "# 4. Run"
   ]
  },
  {
   "cell_type": "code",
   "execution_count": 40,
   "metadata": {},
   "outputs": [],
   "source": [
    "from sklearn.feature_extraction.text import TfidfVectorizer\n",
    "\n",
    "from sklearn.linear_model import LogisticRegression\n",
    "from sklearn.svm import LinearSVC\n",
    "from sklearn.naive_bayes import MultinomialNB\n",
    "from sklearn.tree import DecisionTreeClassifier\n",
    "from sklearn.ensemble import RandomForestClassifier\n",
    "\n",
    "from sklearn.pipeline import make_pipeline\n",
    "\n",
    "from stop_words import get_stop_words\n",
    "\n",
    "\n",
    "# Kleine Verbesserungen durch C-Wert von 50 im Run 3\n",
    "pipe_logreg = make_pipeline(TfidfVectorizer(), LogisticRegression())\n",
    "pipe_logreg_params = {\n",
    "    'logisticregression__C': [75, 100, 300, 1000],\n",
    "    'logisticregression__penalty': ['l2'],\n",
    "    'logisticregression__solver': ['lbfgs']    \n",
    "}\n",
    "logreg = [pipe_logreg, pipe_logreg_params]\n",
    "\n",
    "\n",
    "\n",
    "# SVM haben wir bereits ein MAximum über die C-Werte 3, 4 und 5\n",
    "\n",
    "# Naive Bayes pendelt sich ein und nimmt konstante Werte an\n",
    "\n",
    "\n",
    "\n",
    "# Decision Trees nochmal mit versch. Max_Depth Werten\n",
    "# zusätzlich wurden auch ein paar kleinere und größere Werte gewählt\n",
    "pipe_dectree = make_pipeline(TfidfVectorizer(), DecisionTreeClassifier())\n",
    "pipe_dectree_params = {\n",
    "    'decisiontreeclassifier__max_features': [\"auto\"],\n",
    "    'decisiontreeclassifier__max_depth': [175, 200, 250, 300 ,500],\n",
    "    'decisiontreeclassifier__min_samples_split': [2, 5, 10, 20, 25, 30, 40], \n",
    "}\n",
    "dectree = [pipe_dectree, pipe_dectree_params]\n",
    "\n",
    "\n",
    "# RAndom Forests nochmal genauere Estimator Werte\n",
    "pipe_randomforest = make_pipeline(TfidfVectorizer(), RandomForestClassifier())\n",
    "pipe_randomforest_params = {\n",
    "    'randomforestclassifier__n_estimators': [1825, 1875, 1900, 1925, 1950, 1975], # Das aktuelle Maximum liegt bei 1850 Estimators\n",
    "}\n",
    "randomforest = [pipe_randomforest, pipe_randomforest_params]\n",
    "\n",
    "all_pipes_params = [logreg, dectree, randomforest]"
   ]
  },
  {
   "cell_type": "code",
   "execution_count": 41,
   "metadata": {},
   "outputs": [
    {
     "data": {
      "text/plain": [
       "['hyperparam_results/FourthRun\\\\decisiontreeclassifier_P1.csv',\n",
       " 'hyperparam_results/FourthRun\\\\decisiontreeclassifier_P2.csv',\n",
       " 'hyperparam_results/FourthRun\\\\decisiontreeclassifier_P3.csv',\n",
       " 'hyperparam_results/FourthRun\\\\decisiontreeclassifier_P4.csv',\n",
       " 'hyperparam_results/FourthRun\\\\decisiontreeclassifier_P5.csv',\n",
       " 'hyperparam_results/FourthRun\\\\decisiontreeclassifier_P6.csv']"
      ]
     },
     "execution_count": 41,
     "metadata": {},
     "output_type": "execute_result"
    }
   ],
   "source": [
    "tables_fourthrun = glob.glob('hyperparam_results/FourthRun/*.csv')\n",
    "tables_fourthrun"
   ]
  },
  {
   "cell_type": "code",
   "execution_count": 42,
   "metadata": {},
   "outputs": [],
   "source": [
    "\n",
    "dectree_results4 = pd.read_csv('hyperparam_results/FourthRun/decisiontreeclassifier_P1.csv').dropna()\n"
   ]
  },
  {
   "cell_type": "code",
   "execution_count": 43,
   "metadata": {},
   "outputs": [
    {
     "data": {
      "text/html": [
       "<div>\n",
       "<style scoped>\n",
       "    .dataframe tbody tr th:only-of-type {\n",
       "        vertical-align: middle;\n",
       "    }\n",
       "\n",
       "    .dataframe tbody tr th {\n",
       "        vertical-align: top;\n",
       "    }\n",
       "\n",
       "    .dataframe thead th {\n",
       "        text-align: right;\n",
       "    }\n",
       "</style>\n",
       "<table border=\"1\" class=\"dataframe\">\n",
       "  <thead>\n",
       "    <tr style=\"text-align: right;\">\n",
       "      <th></th>\n",
       "      <th>params</th>\n",
       "      <th>mean_test_score</th>\n",
       "    </tr>\n",
       "  </thead>\n",
       "  <tbody>\n",
       "    <tr>\n",
       "      <td>8</td>\n",
       "      <td>{'decisiontreeclassifier__max_depth': 200, 'decisiontreeclassifier__max_features': 'auto', 'decisiontreeclassifier__min_samples_split': 5}</td>\n",
       "      <td>0.407143</td>\n",
       "    </tr>\n",
       "    <tr>\n",
       "      <td>1</td>\n",
       "      <td>{'decisiontreeclassifier__max_depth': 175, 'decisiontreeclassifier__max_features': 'auto', 'decisiontreeclassifier__min_samples_split': 5}</td>\n",
       "      <td>0.387566</td>\n",
       "    </tr>\n",
       "    <tr>\n",
       "      <td>7</td>\n",
       "      <td>{'decisiontreeclassifier__max_depth': 200, 'decisiontreeclassifier__max_features': 'auto', 'decisiontreeclassifier__min_samples_split': 2}</td>\n",
       "      <td>0.386931</td>\n",
       "    </tr>\n",
       "    <tr>\n",
       "      <td>21</td>\n",
       "      <td>{'decisiontreeclassifier__max_depth': 300, 'decisiontreeclassifier__max_features': 'auto', 'decisiontreeclassifier__min_samples_split': 2}</td>\n",
       "      <td>0.386248</td>\n",
       "    </tr>\n",
       "    <tr>\n",
       "      <td>15</td>\n",
       "      <td>{'decisiontreeclassifier__max_depth': 250, 'decisiontreeclassifier__max_features': 'auto', 'decisiontreeclassifier__min_samples_split': 5}</td>\n",
       "      <td>0.376720</td>\n",
       "    </tr>\n",
       "    <tr>\n",
       "      <td>16</td>\n",
       "      <td>{'decisiontreeclassifier__max_depth': 250, 'decisiontreeclassifier__max_features': 'auto', 'decisiontreeclassifier__min_samples_split': 10}</td>\n",
       "      <td>0.356349</td>\n",
       "    </tr>\n",
       "    <tr>\n",
       "      <td>24</td>\n",
       "      <td>{'decisiontreeclassifier__max_depth': 300, 'decisiontreeclassifier__max_features': 'auto', 'decisiontreeclassifier__min_samples_split': 20}</td>\n",
       "      <td>0.352679</td>\n",
       "    </tr>\n",
       "    <tr>\n",
       "      <td>22</td>\n",
       "      <td>{'decisiontreeclassifier__max_depth': 300, 'decisiontreeclassifier__max_features': 'auto', 'decisiontreeclassifier__min_samples_split': 5}</td>\n",
       "      <td>0.345556</td>\n",
       "    </tr>\n",
       "    <tr>\n",
       "      <td>23</td>\n",
       "      <td>{'decisiontreeclassifier__max_depth': 300, 'decisiontreeclassifier__max_features': 'auto', 'decisiontreeclassifier__min_samples_split': 10}</td>\n",
       "      <td>0.336481</td>\n",
       "    </tr>\n",
       "    <tr>\n",
       "      <td>10</td>\n",
       "      <td>{'decisiontreeclassifier__max_depth': 200, 'decisiontreeclassifier__max_features': 'auto', 'decisiontreeclassifier__min_samples_split': 20}</td>\n",
       "      <td>0.318492</td>\n",
       "    </tr>\n",
       "  </tbody>\n",
       "</table>\n",
       "</div>"
      ],
      "text/plain": [
       "                                                                                                                                         params  \\\n",
       "8   {'decisiontreeclassifier__max_depth': 200, 'decisiontreeclassifier__max_features': 'auto', 'decisiontreeclassifier__min_samples_split': 5}    \n",
       "1   {'decisiontreeclassifier__max_depth': 175, 'decisiontreeclassifier__max_features': 'auto', 'decisiontreeclassifier__min_samples_split': 5}    \n",
       "7   {'decisiontreeclassifier__max_depth': 200, 'decisiontreeclassifier__max_features': 'auto', 'decisiontreeclassifier__min_samples_split': 2}    \n",
       "21  {'decisiontreeclassifier__max_depth': 300, 'decisiontreeclassifier__max_features': 'auto', 'decisiontreeclassifier__min_samples_split': 2}    \n",
       "15  {'decisiontreeclassifier__max_depth': 250, 'decisiontreeclassifier__max_features': 'auto', 'decisiontreeclassifier__min_samples_split': 5}    \n",
       "16  {'decisiontreeclassifier__max_depth': 250, 'decisiontreeclassifier__max_features': 'auto', 'decisiontreeclassifier__min_samples_split': 10}   \n",
       "24  {'decisiontreeclassifier__max_depth': 300, 'decisiontreeclassifier__max_features': 'auto', 'decisiontreeclassifier__min_samples_split': 20}   \n",
       "22  {'decisiontreeclassifier__max_depth': 300, 'decisiontreeclassifier__max_features': 'auto', 'decisiontreeclassifier__min_samples_split': 5}    \n",
       "23  {'decisiontreeclassifier__max_depth': 300, 'decisiontreeclassifier__max_features': 'auto', 'decisiontreeclassifier__min_samples_split': 10}   \n",
       "10  {'decisiontreeclassifier__max_depth': 200, 'decisiontreeclassifier__max_features': 'auto', 'decisiontreeclassifier__min_samples_split': 20}   \n",
       "\n",
       "    mean_test_score  \n",
       "8   0.407143         \n",
       "1   0.387566         \n",
       "7   0.386931         \n",
       "21  0.386248         \n",
       "15  0.376720         \n",
       "16  0.356349         \n",
       "24  0.352679         \n",
       "22  0.345556         \n",
       "23  0.336481         \n",
       "10  0.318492         "
      ]
     },
     "execution_count": 43,
     "metadata": {},
     "output_type": "execute_result"
    }
   ],
   "source": [
    "dectree_results4.sort_values('mean_test_score', ascending=False)[['params', 'mean_test_score']][['params', 'mean_test_score']][:10]"
   ]
  },
  {
   "cell_type": "markdown",
   "metadata": {},
   "source": [
    "# Feature Tuning\n"
   ]
  },
  {
   "cell_type": "code",
   "execution_count": 44,
   "metadata": {},
   "outputs": [],
   "source": [
    "feature_df = pd.read_csv('hyperparam_results/FeatRun/linearsvc_P1.csv').dropna()"
   ]
  },
  {
   "cell_type": "code",
   "execution_count": 45,
   "metadata": {},
   "outputs": [
    {
     "data": {
      "text/html": [
       "<div>\n",
       "<style scoped>\n",
       "    .dataframe tbody tr th:only-of-type {\n",
       "        vertical-align: middle;\n",
       "    }\n",
       "\n",
       "    .dataframe tbody tr th {\n",
       "        vertical-align: top;\n",
       "    }\n",
       "\n",
       "    .dataframe thead th {\n",
       "        text-align: right;\n",
       "    }\n",
       "</style>\n",
       "<table border=\"1\" class=\"dataframe\">\n",
       "  <thead>\n",
       "    <tr style=\"text-align: right;\">\n",
       "      <th></th>\n",
       "      <th>param_tfidfvectorizer__lowercase</th>\n",
       "      <th>param_tfidfvectorizer__max_features</th>\n",
       "      <th>param_tfidfvectorizer__ngram_range</th>\n",
       "      <th>mean_test_score</th>\n",
       "    </tr>\n",
       "  </thead>\n",
       "  <tbody>\n",
       "    <tr>\n",
       "      <td>926</td>\n",
       "      <td>False</td>\n",
       "      <td>5000</td>\n",
       "      <td>(1, 3)</td>\n",
       "      <td>0.769048</td>\n",
       "    </tr>\n",
       "    <tr>\n",
       "      <td>1030</td>\n",
       "      <td>False</td>\n",
       "      <td>10000</td>\n",
       "      <td>(1, 5)</td>\n",
       "      <td>0.769048</td>\n",
       "    </tr>\n",
       "    <tr>\n",
       "      <td>1022</td>\n",
       "      <td>False</td>\n",
       "      <td>10000</td>\n",
       "      <td>(1, 3)</td>\n",
       "      <td>0.769048</td>\n",
       "    </tr>\n",
       "    <tr>\n",
       "      <td>974</td>\n",
       "      <td>False</td>\n",
       "      <td>7500</td>\n",
       "      <td>(1, 3)</td>\n",
       "      <td>0.769048</td>\n",
       "    </tr>\n",
       "    <tr>\n",
       "      <td>1126</td>\n",
       "      <td>False</td>\n",
       "      <td>15000</td>\n",
       "      <td>(1, 5)</td>\n",
       "      <td>0.769048</td>\n",
       "    </tr>\n",
       "    <tr>\n",
       "      <td>982</td>\n",
       "      <td>False</td>\n",
       "      <td>7500</td>\n",
       "      <td>(1, 5)</td>\n",
       "      <td>0.769048</td>\n",
       "    </tr>\n",
       "    <tr>\n",
       "      <td>886</td>\n",
       "      <td>False</td>\n",
       "      <td>2500</td>\n",
       "      <td>(1, 5)</td>\n",
       "      <td>0.768175</td>\n",
       "    </tr>\n",
       "    <tr>\n",
       "      <td>1166</td>\n",
       "      <td>False</td>\n",
       "      <td>17500</td>\n",
       "      <td>(1, 3)</td>\n",
       "      <td>0.765952</td>\n",
       "    </tr>\n",
       "    <tr>\n",
       "      <td>1070</td>\n",
       "      <td>False</td>\n",
       "      <td>12500</td>\n",
       "      <td>(1, 3)</td>\n",
       "      <td>0.765952</td>\n",
       "    </tr>\n",
       "    <tr>\n",
       "      <td>1222</td>\n",
       "      <td>False</td>\n",
       "      <td>20000</td>\n",
       "      <td>(1, 5)</td>\n",
       "      <td>0.765952</td>\n",
       "    </tr>\n",
       "  </tbody>\n",
       "</table>\n",
       "</div>"
      ],
      "text/plain": [
       "      param_tfidfvectorizer__lowercase  param_tfidfvectorizer__max_features  \\\n",
       "926   False                             5000                                  \n",
       "1030  False                             10000                                 \n",
       "1022  False                             10000                                 \n",
       "974   False                             7500                                  \n",
       "1126  False                             15000                                 \n",
       "982   False                             7500                                  \n",
       "886   False                             2500                                  \n",
       "1166  False                             17500                                 \n",
       "1070  False                             12500                                 \n",
       "1222  False                             20000                                 \n",
       "\n",
       "     param_tfidfvectorizer__ngram_range  mean_test_score  \n",
       "926   (1, 3)                             0.769048         \n",
       "1030  (1, 5)                             0.769048         \n",
       "1022  (1, 3)                             0.769048         \n",
       "974   (1, 3)                             0.769048         \n",
       "1126  (1, 5)                             0.769048         \n",
       "982   (1, 5)                             0.769048         \n",
       "886   (1, 5)                             0.768175         \n",
       "1166  (1, 3)                             0.765952         \n",
       "1070  (1, 3)                             0.765952         \n",
       "1222  (1, 5)                             0.765952         "
      ]
     },
     "execution_count": 45,
     "metadata": {},
     "output_type": "execute_result"
    }
   ],
   "source": [
    "feature_df.sort_values('mean_test_score', ascending=False)[['param_tfidfvectorizer__lowercase','param_tfidfvectorizer__max_features','param_tfidfvectorizer__ngram_range','mean_test_score']][:10]"
   ]
  },
  {
   "cell_type": "code",
   "execution_count": null,
   "metadata": {},
   "outputs": [],
   "source": []
  }
 ],
 "metadata": {
  "kernelspec": {
   "display_name": "Python 3",
   "language": "python",
   "name": "python3"
  },
  "language_info": {
   "codemirror_mode": {
    "name": "ipython",
    "version": 3
   },
   "file_extension": ".py",
   "mimetype": "text/x-python",
   "name": "python",
   "nbconvert_exporter": "python",
   "pygments_lexer": "ipython3",
   "version": "3.7.4"
  }
 },
 "nbformat": 4,
 "nbformat_minor": 2
}
